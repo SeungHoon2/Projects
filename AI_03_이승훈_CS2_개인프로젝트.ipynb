{
  "nbformat": 4,
  "nbformat_minor": 0,
  "metadata": {
    "colab": {
      "name": "Untitled26.ipynb의 사본",
      "provenance": [],
      "collapsed_sections": [
        "uSKdArG6rOPX",
        "XipbzaxXphvK",
        "bkls2ax8qXkM",
        "9q80P9ijqlIe",
        "cRMpp14bqvqf",
        "s0xon18wq3-B",
        "uIBqCWXZsUbT",
        "JKTrp3cc7GwW",
        "RuNa9HS6tsuf",
        "HF5SIMvb05Q7"
      ]
    },
    "kernelspec": {
      "name": "python3",
      "display_name": "Python 3"
    },
    "language_info": {
      "name": "python"
    }
  },
  "cells": [
    {
      "cell_type": "markdown",
      "metadata": {
        "id": "uSKdArG6rOPX"
      },
      "source": [
        "## 감정분석\n"
      ]
    },
    {
      "cell_type": "markdown",
      "metadata": {
        "id": "XipbzaxXphvK"
      },
      "source": [
        "# 데이터 불러오기"
      ]
    },
    {
      "cell_type": "code",
      "metadata": {
        "colab": {
          "base_uri": "https://localhost:8080/"
        },
        "id": "P-0OSNNnpXb-",
        "outputId": "172ee41e-2654-4229-ef24-ee6c0c59ece6"
      },
      "source": [
        "!set -x \\\n",
        "&& pip install konlpy \\\n",
        "&& curl -s https://raw.githubusercontent.com/konlpy/konlpy/master/scripts/mecab.sh | bash -x"
      ],
      "execution_count": 5,
      "outputs": [
        {
          "output_type": "stream",
          "name": "stdout",
          "text": [
            "+ pip install konlpy\n",
            "Requirement already satisfied: konlpy in /usr/local/lib/python3.7/dist-packages (0.5.2)\n",
            "Requirement already satisfied: numpy>=1.6 in /usr/local/lib/python3.7/dist-packages (from konlpy) (1.19.5)\n",
            "Requirement already satisfied: beautifulsoup4==4.6.0 in /usr/local/lib/python3.7/dist-packages (from konlpy) (4.6.0)\n",
            "Requirement already satisfied: JPype1>=0.7.0 in /usr/local/lib/python3.7/dist-packages (from konlpy) (1.3.0)\n",
            "Requirement already satisfied: colorama in /usr/local/lib/python3.7/dist-packages (from konlpy) (0.4.4)\n",
            "Requirement already satisfied: tweepy>=3.7.0 in /usr/local/lib/python3.7/dist-packages (from konlpy) (3.10.0)\n",
            "Requirement already satisfied: lxml>=4.1.0 in /usr/local/lib/python3.7/dist-packages (from konlpy) (4.2.6)\n",
            "Requirement already satisfied: typing-extensions in /usr/local/lib/python3.7/dist-packages (from JPype1>=0.7.0->konlpy) (3.10.0.2)\n",
            "Requirement already satisfied: six>=1.10.0 in /usr/local/lib/python3.7/dist-packages (from tweepy>=3.7.0->konlpy) (1.15.0)\n",
            "Requirement already satisfied: requests-oauthlib>=0.7.0 in /usr/local/lib/python3.7/dist-packages (from tweepy>=3.7.0->konlpy) (1.3.0)\n",
            "Requirement already satisfied: requests[socks]>=2.11.1 in /usr/local/lib/python3.7/dist-packages (from tweepy>=3.7.0->konlpy) (2.23.0)\n",
            "Requirement already satisfied: oauthlib>=3.0.0 in /usr/local/lib/python3.7/dist-packages (from requests-oauthlib>=0.7.0->tweepy>=3.7.0->konlpy) (3.1.1)\n",
            "Requirement already satisfied: idna<3,>=2.5 in /usr/local/lib/python3.7/dist-packages (from requests[socks]>=2.11.1->tweepy>=3.7.0->konlpy) (2.10)\n",
            "Requirement already satisfied: urllib3!=1.25.0,!=1.25.1,<1.26,>=1.21.1 in /usr/local/lib/python3.7/dist-packages (from requests[socks]>=2.11.1->tweepy>=3.7.0->konlpy) (1.24.3)\n",
            "Requirement already satisfied: certifi>=2017.4.17 in /usr/local/lib/python3.7/dist-packages (from requests[socks]>=2.11.1->tweepy>=3.7.0->konlpy) (2021.10.8)\n",
            "Requirement already satisfied: chardet<4,>=3.0.2 in /usr/local/lib/python3.7/dist-packages (from requests[socks]>=2.11.1->tweepy>=3.7.0->konlpy) (3.0.4)\n",
            "Requirement already satisfied: PySocks!=1.5.7,>=1.5.6 in /usr/local/lib/python3.7/dist-packages (from requests[socks]>=2.11.1->tweepy>=3.7.0->konlpy) (1.7.1)\n",
            "+ curl -s https://raw.githubusercontent.com/konlpy/konlpy/master/scripts/mecab.sh\n",
            "+ bash -x\n",
            "+ mecab_dicdir=/usr/local/lib/mecab/dic/mecab-ko-dic\n",
            "+ set -e\n",
            "++ uname\n",
            "+ os=Linux\n",
            "+ [[ ! Linux == \\L\\i\\n\\u\\x ]]\n",
            "+ hash sudo\n",
            "+ sudo=sudo\n",
            "+ python=python3\n",
            "+ hash pyenv\n",
            "+ at_user_site=\n",
            "++ check_python_site_location_is_writable\n",
            "++ python3 -\n",
            "+ [[ 1 == \\0 ]]\n",
            "+ hash automake\n",
            "+ hash mecab\n",
            "+ echo 'mecab-ko is already installed'\n",
            "mecab-ko is already installed\n",
            "+ [[ -d /usr/local/lib/mecab/dic/mecab-ko-dic ]]\n",
            "+ echo 'mecab-ko-dic is already installed'\n",
            "mecab-ko-dic is already installed\n",
            "++ python3 -c 'import pkgutil; print(1 if pkgutil.find_loader(\"MeCab\") else 0)'\n",
            "+ [[ 1 == \\1 ]]\n",
            "+ echo 'mecab-python is already installed'\n",
            "mecab-python is already installed\n",
            "+ echo Done.\n",
            "Done.\n"
          ]
        }
      ]
    },
    {
      "cell_type": "code",
      "metadata": {
        "id": "rwkMJEvppaj8"
      },
      "source": [
        "import re\n",
        "import urllib.request\n",
        "import numpy as np\n",
        "import pandas as pd\n",
        "import matplotlib.pyplot as plt\n",
        "plt.style.use('seaborn-white')\n",
        "\n",
        "from konlpy.tag import Mecab\n",
        "from tensorflow.keras.preprocessing.text import Tokenizer\n",
        "from tensorflow.keras.preprocessing.sequence import pad_sequences"
      ],
      "execution_count": 6,
      "outputs": []
    },
    {
      "cell_type": "code",
      "metadata": {
        "colab": {
          "base_uri": "https://localhost:8080/"
        },
        "id": "-XyB4Wb_gUxY",
        "outputId": "7c1300ca-1ae7-4745-a949-989fbd886c97"
      },
      "source": [
        "import pandas as pd\n",
        "import numpy as np\n",
        "\n",
        "# 구글드라이브로 불러오기\n",
        "from google.colab import drive\n",
        "drive.mount('/content/drive')"
      ],
      "execution_count": 7,
      "outputs": [
        {
          "output_type": "stream",
          "name": "stdout",
          "text": [
            "Drive already mounted at /content/drive; to attempt to forcibly remount, call drive.mount(\"/content/drive\", force_remount=True).\n"
          ]
        }
      ]
    },
    {
      "cell_type": "code",
      "metadata": {
        "colab": {
          "base_uri": "https://localhost:8080/",
          "height": 0
        },
        "id": "KN7uouQagmiR",
        "outputId": "afbf4951-f650-4d25-949e-cc9fbe382a17"
      },
      "source": [
        "url = '/content/감정대화.xlsx'\n",
        "df = pd.read_excel(url)\n",
        "\n",
        "url2 = '/content/감정라벨.xlsx'\n",
        "df2 = pd.read_excel(url2)\n",
        "\n",
        "df"
      ],
      "execution_count": 8,
      "outputs": [
        {
          "output_type": "execute_result",
          "data": {
            "text/html": [
              "<div>\n",
              "<style scoped>\n",
              "    .dataframe tbody tr th:only-of-type {\n",
              "        vertical-align: middle;\n",
              "    }\n",
              "\n",
              "    .dataframe tbody tr th {\n",
              "        vertical-align: top;\n",
              "    }\n",
              "\n",
              "    .dataframe thead th {\n",
              "        text-align: right;\n",
              "    }\n",
              "</style>\n",
              "<table border=\"1\" class=\"dataframe\">\n",
              "  <thead>\n",
              "    <tr style=\"text-align: right;\">\n",
              "      <th></th>\n",
              "      <th>감정</th>\n",
              "      <th>대화</th>\n",
              "      <th>label</th>\n",
              "    </tr>\n",
              "  </thead>\n",
              "  <tbody>\n",
              "    <tr>\n",
              "      <th>0</th>\n",
              "      <td>신이 난</td>\n",
              "      <td>지금 난 기분이 너무 좋아.</td>\n",
              "      <td>23</td>\n",
              "    </tr>\n",
              "    <tr>\n",
              "      <th>1</th>\n",
              "      <td>신이 난</td>\n",
              "      <td>나도 조카가 생겨! 너무 기뻐.</td>\n",
              "      <td>23</td>\n",
              "    </tr>\n",
              "    <tr>\n",
              "      <th>2</th>\n",
              "      <td>불안</td>\n",
              "      <td>거래처와의 다음 계약이 무산될까봐 불안해.</td>\n",
              "      <td>45</td>\n",
              "    </tr>\n",
              "    <tr>\n",
              "      <th>3</th>\n",
              "      <td>염세적인</td>\n",
              "      <td>당뇨로 고생 중인데 아내가 이혼하자더군. 아내가 날 버리면 병은 더 악화될 텐데 세...</td>\n",
              "      <td>16</td>\n",
              "    </tr>\n",
              "    <tr>\n",
              "      <th>4</th>\n",
              "      <td>마비된</td>\n",
              "      <td>노년에 재정적으로 이루어 놓은게 없어서 걱정이야.</td>\n",
              "      <td>24</td>\n",
              "    </tr>\n",
              "    <tr>\n",
              "      <th>...</th>\n",
              "      <td>...</td>\n",
              "      <td>...</td>\n",
              "      <td>...</td>\n",
              "    </tr>\n",
              "    <tr>\n",
              "      <th>130216</th>\n",
              "      <td>느긋</td>\n",
              "      <td>부동산 임대 소득으로 현재 여유롭게 살 수 있어서 좋단다.</td>\n",
              "      <td>31</td>\n",
              "    </tr>\n",
              "    <tr>\n",
              "      <th>130217</th>\n",
              "      <td>회의적인</td>\n",
              "      <td>폐결핵은 이미 완치된 것 같은데 약을 한 달이나 더 먹으라고 하네? 아직 안 나은 ...</td>\n",
              "      <td>19</td>\n",
              "    </tr>\n",
              "    <tr>\n",
              "      <th>130218</th>\n",
              "      <td>좌절한</td>\n",
              "      <td>연애하고 싶은데 소개팅만 나가면 꽝이야. 이러다가 난 결혼 못 하고 늙어 죽을 거야.</td>\n",
              "      <td>20</td>\n",
              "    </tr>\n",
              "    <tr>\n",
              "      <th>130219</th>\n",
              "      <td>안달하는</td>\n",
              "      <td>은행 대출이 막혀서 생활비를 구할 수가 없어. 이제 어떻게 살아야 하나 막막해.</td>\n",
              "      <td>37</td>\n",
              "    </tr>\n",
              "    <tr>\n",
              "      <th>130220</th>\n",
              "      <td>짜증내는</td>\n",
              "      <td>자식들은 키워 준 은혜도 모르고 내게 오지도 않네. 너무 외롭고 슬퍼.</td>\n",
              "      <td>8</td>\n",
              "    </tr>\n",
              "  </tbody>\n",
              "</table>\n",
              "<p>130221 rows × 3 columns</p>\n",
              "</div>"
            ],
            "text/plain": [
              "          감정                                                 대화  label\n",
              "0       신이 난                                    지금 난 기분이 너무 좋아.     23\n",
              "1       신이 난                                  나도 조카가 생겨! 너무 기뻐.     23\n",
              "2         불안                            거래처와의 다음 계약이 무산될까봐 불안해.     45\n",
              "3       염세적인  당뇨로 고생 중인데 아내가 이혼하자더군. 아내가 날 버리면 병은 더 악화될 텐데 세...     16\n",
              "4        마비된                        노년에 재정적으로 이루어 놓은게 없어서 걱정이야.     24\n",
              "...      ...                                                ...    ...\n",
              "130216    느긋                   부동산 임대 소득으로 현재 여유롭게 살 수 있어서 좋단다.     31\n",
              "130217  회의적인  폐결핵은 이미 완치된 것 같은데 약을 한 달이나 더 먹으라고 하네? 아직 안 나은 ...     19\n",
              "130218   좌절한    연애하고 싶은데 소개팅만 나가면 꽝이야. 이러다가 난 결혼 못 하고 늙어 죽을 거야.     20\n",
              "130219  안달하는       은행 대출이 막혀서 생활비를 구할 수가 없어. 이제 어떻게 살아야 하나 막막해.     37\n",
              "130220  짜증내는            자식들은 키워 준 은혜도 모르고 내게 오지도 않네. 너무 외롭고 슬퍼.      8\n",
              "\n",
              "[130221 rows x 3 columns]"
            ]
          },
          "metadata": {},
          "execution_count": 8
        }
      ]
    },
    {
      "cell_type": "code",
      "metadata": {
        "colab": {
          "base_uri": "https://localhost:8080/",
          "height": 0
        },
        "id": "PyiMj6Z_XJUG",
        "outputId": "fc6d1027-7230-4b48-af6d-c161a3e02433"
      },
      "source": [
        "df2"
      ],
      "execution_count": 9,
      "outputs": [
        {
          "output_type": "execute_result",
          "data": {
            "text/html": [
              "<div>\n",
              "<style scoped>\n",
              "    .dataframe tbody tr th:only-of-type {\n",
              "        vertical-align: middle;\n",
              "    }\n",
              "\n",
              "    .dataframe tbody tr th {\n",
              "        vertical-align: top;\n",
              "    }\n",
              "\n",
              "    .dataframe thead th {\n",
              "        text-align: right;\n",
              "    }\n",
              "</style>\n",
              "<table border=\"1\" class=\"dataframe\">\n",
              "  <thead>\n",
              "    <tr style=\"text-align: right;\">\n",
              "      <th></th>\n",
              "      <th>label</th>\n",
              "      <th>감정</th>\n",
              "    </tr>\n",
              "  </thead>\n",
              "  <tbody>\n",
              "    <tr>\n",
              "      <th>0</th>\n",
              "      <td>0</td>\n",
              "      <td>혼란스러운</td>\n",
              "    </tr>\n",
              "    <tr>\n",
              "      <th>1</th>\n",
              "      <td>1</td>\n",
              "      <td>고립된</td>\n",
              "    </tr>\n",
              "    <tr>\n",
              "      <th>2</th>\n",
              "      <td>2</td>\n",
              "      <td>가난한, 불우한</td>\n",
              "    </tr>\n",
              "    <tr>\n",
              "      <th>3</th>\n",
              "      <td>3</td>\n",
              "      <td>상처</td>\n",
              "    </tr>\n",
              "    <tr>\n",
              "      <th>4</th>\n",
              "      <td>4</td>\n",
              "      <td>버려진</td>\n",
              "    </tr>\n",
              "    <tr>\n",
              "      <th>5</th>\n",
              "      <td>5</td>\n",
              "      <td>괴로워하는</td>\n",
              "    </tr>\n",
              "    <tr>\n",
              "      <th>6</th>\n",
              "      <td>6</td>\n",
              "      <td>걱정스러운</td>\n",
              "    </tr>\n",
              "    <tr>\n",
              "      <th>7</th>\n",
              "      <td>7</td>\n",
              "      <td>충격 받은</td>\n",
              "    </tr>\n",
              "    <tr>\n",
              "      <th>8</th>\n",
              "      <td>8</td>\n",
              "      <td>짜증내는</td>\n",
              "    </tr>\n",
              "    <tr>\n",
              "      <th>9</th>\n",
              "      <td>9</td>\n",
              "      <td>우울한</td>\n",
              "    </tr>\n",
              "    <tr>\n",
              "      <th>10</th>\n",
              "      <td>10</td>\n",
              "      <td>질투하는</td>\n",
              "    </tr>\n",
              "    <tr>\n",
              "      <th>11</th>\n",
              "      <td>11</td>\n",
              "      <td>만족스러운</td>\n",
              "    </tr>\n",
              "    <tr>\n",
              "      <th>12</th>\n",
              "      <td>12</td>\n",
              "      <td>눈물이 나는</td>\n",
              "    </tr>\n",
              "    <tr>\n",
              "      <th>13</th>\n",
              "      <td>13</td>\n",
              "      <td>낙담한</td>\n",
              "    </tr>\n",
              "    <tr>\n",
              "      <th>14</th>\n",
              "      <td>14</td>\n",
              "      <td>희생된</td>\n",
              "    </tr>\n",
              "    <tr>\n",
              "      <th>15</th>\n",
              "      <td>15</td>\n",
              "      <td>배신당한</td>\n",
              "    </tr>\n",
              "    <tr>\n",
              "      <th>16</th>\n",
              "      <td>16</td>\n",
              "      <td>염세적인</td>\n",
              "    </tr>\n",
              "    <tr>\n",
              "      <th>17</th>\n",
              "      <td>17</td>\n",
              "      <td>툴툴대는</td>\n",
              "    </tr>\n",
              "    <tr>\n",
              "      <th>18</th>\n",
              "      <td>18</td>\n",
              "      <td>한심한</td>\n",
              "    </tr>\n",
              "    <tr>\n",
              "      <th>19</th>\n",
              "      <td>19</td>\n",
              "      <td>회의적인</td>\n",
              "    </tr>\n",
              "    <tr>\n",
              "      <th>20</th>\n",
              "      <td>20</td>\n",
              "      <td>좌절한</td>\n",
              "    </tr>\n",
              "    <tr>\n",
              "      <th>21</th>\n",
              "      <td>21</td>\n",
              "      <td>슬픔</td>\n",
              "    </tr>\n",
              "    <tr>\n",
              "      <th>22</th>\n",
              "      <td>22</td>\n",
              "      <td>노여워하는</td>\n",
              "    </tr>\n",
              "    <tr>\n",
              "      <th>23</th>\n",
              "      <td>23</td>\n",
              "      <td>신이 난</td>\n",
              "    </tr>\n",
              "    <tr>\n",
              "      <th>24</th>\n",
              "      <td>24</td>\n",
              "      <td>마비된</td>\n",
              "    </tr>\n",
              "    <tr>\n",
              "      <th>25</th>\n",
              "      <td>25</td>\n",
              "      <td>감사하는</td>\n",
              "    </tr>\n",
              "    <tr>\n",
              "      <th>26</th>\n",
              "      <td>26</td>\n",
              "      <td>스트레스 받는</td>\n",
              "    </tr>\n",
              "    <tr>\n",
              "      <th>27</th>\n",
              "      <td>27</td>\n",
              "      <td>실망한</td>\n",
              "    </tr>\n",
              "    <tr>\n",
              "      <th>28</th>\n",
              "      <td>28</td>\n",
              "      <td>기쁨</td>\n",
              "    </tr>\n",
              "    <tr>\n",
              "      <th>29</th>\n",
              "      <td>29</td>\n",
              "      <td>후회되는</td>\n",
              "    </tr>\n",
              "    <tr>\n",
              "      <th>30</th>\n",
              "      <td>30</td>\n",
              "      <td>비통한</td>\n",
              "    </tr>\n",
              "    <tr>\n",
              "      <th>31</th>\n",
              "      <td>31</td>\n",
              "      <td>느긋</td>\n",
              "    </tr>\n",
              "    <tr>\n",
              "      <th>32</th>\n",
              "      <td>32</td>\n",
              "      <td>안도</td>\n",
              "    </tr>\n",
              "    <tr>\n",
              "      <th>33</th>\n",
              "      <td>33</td>\n",
              "      <td>구역질 나는</td>\n",
              "    </tr>\n",
              "    <tr>\n",
              "      <th>34</th>\n",
              "      <td>34</td>\n",
              "      <td>죄책감의</td>\n",
              "    </tr>\n",
              "    <tr>\n",
              "      <th>35</th>\n",
              "      <td>35</td>\n",
              "      <td>편안한</td>\n",
              "    </tr>\n",
              "    <tr>\n",
              "      <th>36</th>\n",
              "      <td>36</td>\n",
              "      <td>당혹스러운</td>\n",
              "    </tr>\n",
              "    <tr>\n",
              "      <th>37</th>\n",
              "      <td>37</td>\n",
              "      <td>안달하는</td>\n",
              "    </tr>\n",
              "    <tr>\n",
              "      <th>38</th>\n",
              "      <td>38</td>\n",
              "      <td>두려운</td>\n",
              "    </tr>\n",
              "    <tr>\n",
              "      <th>39</th>\n",
              "      <td>39</td>\n",
              "      <td>혐오스러운</td>\n",
              "    </tr>\n",
              "    <tr>\n",
              "      <th>40</th>\n",
              "      <td>40</td>\n",
              "      <td>흥분</td>\n",
              "    </tr>\n",
              "    <tr>\n",
              "      <th>41</th>\n",
              "      <td>41</td>\n",
              "      <td>부끄러운</td>\n",
              "    </tr>\n",
              "    <tr>\n",
              "      <th>42</th>\n",
              "      <td>42</td>\n",
              "      <td>성가신</td>\n",
              "    </tr>\n",
              "    <tr>\n",
              "      <th>43</th>\n",
              "      <td>43</td>\n",
              "      <td>신뢰하는</td>\n",
              "    </tr>\n",
              "    <tr>\n",
              "      <th>44</th>\n",
              "      <td>44</td>\n",
              "      <td>악의적인</td>\n",
              "    </tr>\n",
              "    <tr>\n",
              "      <th>45</th>\n",
              "      <td>45</td>\n",
              "      <td>불안</td>\n",
              "    </tr>\n",
              "    <tr>\n",
              "      <th>46</th>\n",
              "      <td>46</td>\n",
              "      <td>분노</td>\n",
              "    </tr>\n",
              "    <tr>\n",
              "      <th>47</th>\n",
              "      <td>47</td>\n",
              "      <td>억울한</td>\n",
              "    </tr>\n",
              "    <tr>\n",
              "      <th>48</th>\n",
              "      <td>48</td>\n",
              "      <td>환멸을 느끼는</td>\n",
              "    </tr>\n",
              "    <tr>\n",
              "      <th>49</th>\n",
              "      <td>49</td>\n",
              "      <td>취약한</td>\n",
              "    </tr>\n",
              "    <tr>\n",
              "      <th>50</th>\n",
              "      <td>50</td>\n",
              "      <td>방어적인</td>\n",
              "    </tr>\n",
              "    <tr>\n",
              "      <th>51</th>\n",
              "      <td>51</td>\n",
              "      <td>조심스러운</td>\n",
              "    </tr>\n",
              "    <tr>\n",
              "      <th>52</th>\n",
              "      <td>52</td>\n",
              "      <td>자신하는</td>\n",
              "    </tr>\n",
              "    <tr>\n",
              "      <th>53</th>\n",
              "      <td>53</td>\n",
              "      <td>초조한</td>\n",
              "    </tr>\n",
              "    <tr>\n",
              "      <th>54</th>\n",
              "      <td>54</td>\n",
              "      <td>남의 시선을 의식하는</td>\n",
              "    </tr>\n",
              "    <tr>\n",
              "      <th>55</th>\n",
              "      <td>55</td>\n",
              "      <td>당황</td>\n",
              "    </tr>\n",
              "    <tr>\n",
              "      <th>56</th>\n",
              "      <td>56</td>\n",
              "      <td>열등감</td>\n",
              "    </tr>\n",
              "    <tr>\n",
              "      <th>57</th>\n",
              "      <td>57</td>\n",
              "      <td>외로운</td>\n",
              "    </tr>\n",
              "  </tbody>\n",
              "</table>\n",
              "</div>"
            ],
            "text/plain": [
              "    label           감정\n",
              "0       0        혼란스러운\n",
              "1       1          고립된\n",
              "2       2     가난한, 불우한\n",
              "3       3           상처\n",
              "4       4          버려진\n",
              "5       5        괴로워하는\n",
              "6       6        걱정스러운\n",
              "7       7        충격 받은\n",
              "8       8         짜증내는\n",
              "9       9          우울한\n",
              "10     10         질투하는\n",
              "11     11        만족스러운\n",
              "12     12       눈물이 나는\n",
              "13     13          낙담한\n",
              "14     14          희생된\n",
              "15     15         배신당한\n",
              "16     16         염세적인\n",
              "17     17         툴툴대는\n",
              "18     18          한심한\n",
              "19     19         회의적인\n",
              "20     20          좌절한\n",
              "21     21           슬픔\n",
              "22     22        노여워하는\n",
              "23     23         신이 난\n",
              "24     24          마비된\n",
              "25     25         감사하는\n",
              "26     26      스트레스 받는\n",
              "27     27          실망한\n",
              "28     28           기쁨\n",
              "29     29         후회되는\n",
              "30     30          비통한\n",
              "31     31           느긋\n",
              "32     32           안도\n",
              "33     33       구역질 나는\n",
              "34     34         죄책감의\n",
              "35     35          편안한\n",
              "36     36        당혹스러운\n",
              "37     37         안달하는\n",
              "38     38          두려운\n",
              "39     39        혐오스러운\n",
              "40     40           흥분\n",
              "41     41         부끄러운\n",
              "42     42          성가신\n",
              "43     43         신뢰하는\n",
              "44     44         악의적인\n",
              "45     45           불안\n",
              "46     46           분노\n",
              "47     47          억울한\n",
              "48     48      환멸을 느끼는\n",
              "49     49          취약한\n",
              "50     50         방어적인\n",
              "51     51        조심스러운\n",
              "52     52         자신하는\n",
              "53     53          초조한\n",
              "54     54  남의 시선을 의식하는\n",
              "55     55           당황\n",
              "56     56          열등감\n",
              "57     57          외로운"
            ]
          },
          "metadata": {},
          "execution_count": 9
        }
      ]
    },
    {
      "cell_type": "code",
      "metadata": {
        "id": "eWGYbYqEqKDG"
      },
      "source": [
        "train = df.sample(frac=0.8, random_state=1)\n",
        "test = df.drop(train.index)"
      ],
      "execution_count": 10,
      "outputs": []
    },
    {
      "cell_type": "markdown",
      "metadata": {
        "id": "bkls2ax8qXkM"
      },
      "source": [
        "# 데이터 정제\n",
        "데이터에서 한글과 공백을 제외하고 모두 제거"
      ]
    },
    {
      "cell_type": "code",
      "metadata": {
        "colab": {
          "base_uri": "https://localhost:8080/",
          "height": 419
        },
        "id": "E1lDJfl-qZ7K",
        "outputId": "d9374189-1e4d-428d-aae8-a02ec7351fa4"
      },
      "source": [
        "train['대화'] = train['대화'].str.replace('[^ㄱ-ㅎ ㅏ-ㅣ 가-힣]', '')\n",
        "train"
      ],
      "execution_count": 11,
      "outputs": [
        {
          "output_type": "execute_result",
          "data": {
            "text/html": [
              "<div>\n",
              "<style scoped>\n",
              "    .dataframe tbody tr th:only-of-type {\n",
              "        vertical-align: middle;\n",
              "    }\n",
              "\n",
              "    .dataframe tbody tr th {\n",
              "        vertical-align: top;\n",
              "    }\n",
              "\n",
              "    .dataframe thead th {\n",
              "        text-align: right;\n",
              "    }\n",
              "</style>\n",
              "<table border=\"1\" class=\"dataframe\">\n",
              "  <thead>\n",
              "    <tr style=\"text-align: right;\">\n",
              "      <th></th>\n",
              "      <th>감정</th>\n",
              "      <th>대화</th>\n",
              "      <th>label</th>\n",
              "    </tr>\n",
              "  </thead>\n",
              "  <tbody>\n",
              "    <tr>\n",
              "      <th>40996</th>\n",
              "      <td>혐오스러운</td>\n",
              "      <td>뉴스를 보았는데 이기적인 사람이 많은 것 같아</td>\n",
              "      <td>39</td>\n",
              "    </tr>\n",
              "    <tr>\n",
              "      <th>5401</th>\n",
              "      <td>질투하는</td>\n",
              "      <td>환갑 넘은 그 친구들이 돈이 많아 참 부럽고 질투나더라</td>\n",
              "      <td>10</td>\n",
              "    </tr>\n",
              "    <tr>\n",
              "      <th>8200</th>\n",
              "      <td>노여워하는</td>\n",
              "      <td>성적때문에 화가 치솟아</td>\n",
              "      <td>22</td>\n",
              "    </tr>\n",
              "    <tr>\n",
              "      <th>50802</th>\n",
              "      <td>좌절한</td>\n",
              "      <td>난 글렀어 우리 학교에 벌써 음반을 내서 돈을 버는 애도 있는데 난 뭔가 이룬게 없어</td>\n",
              "      <td>20</td>\n",
              "    </tr>\n",
              "    <tr>\n",
              "      <th>115618</th>\n",
              "      <td>좌절한</td>\n",
              "      <td>요즘 환절기라 감기 기운이 있어 안 그래도 코로나 때문에 불안한 시기인데 말이야</td>\n",
              "      <td>20</td>\n",
              "    </tr>\n",
              "    <tr>\n",
              "      <th>...</th>\n",
              "      <td>...</td>\n",
              "      <td>...</td>\n",
              "      <td>...</td>\n",
              "    </tr>\n",
              "    <tr>\n",
              "      <th>8001</th>\n",
              "      <td>우울한</td>\n",
              "      <td>건강 검진 결과가 나쁘게 나와서 우울해</td>\n",
              "      <td>9</td>\n",
              "    </tr>\n",
              "    <tr>\n",
              "      <th>77523</th>\n",
              "      <td>툴툴대는</td>\n",
              "      <td>은행에 가서 일을 보는데 너무 시간이 오래 걸렸어 짜증이 났네</td>\n",
              "      <td>17</td>\n",
              "    </tr>\n",
              "    <tr>\n",
              "      <th>6950</th>\n",
              "      <td>성가신</td>\n",
              "      <td>결혼 준비를 하는데 자꾸 친구가 참견하네</td>\n",
              "      <td>42</td>\n",
              "    </tr>\n",
              "    <tr>\n",
              "      <th>39294</th>\n",
              "      <td>고립된</td>\n",
              "      <td>나 어제 친구한테 고백했다가 차였어</td>\n",
              "      <td>1</td>\n",
              "    </tr>\n",
              "    <tr>\n",
              "      <th>108990</th>\n",
              "      <td>감사하는</td>\n",
              "      <td>취업을 위해 자기소개서를 쓰고 있는데 선배가 정성스럽게 첨삭을 해 주셔서 아주 감사해</td>\n",
              "      <td>25</td>\n",
              "    </tr>\n",
              "  </tbody>\n",
              "</table>\n",
              "<p>104177 rows × 3 columns</p>\n",
              "</div>"
            ],
            "text/plain": [
              "           감정                                               대화  label\n",
              "40996   혐오스러운                        뉴스를 보았는데 이기적인 사람이 많은 것 같아     39\n",
              "5401     질투하는                   환갑 넘은 그 친구들이 돈이 많아 참 부럽고 질투나더라     10\n",
              "8200    노여워하는                                     성적때문에 화가 치솟아     22\n",
              "50802     좌절한  난 글렀어 우리 학교에 벌써 음반을 내서 돈을 버는 애도 있는데 난 뭔가 이룬게 없어     20\n",
              "115618    좌절한     요즘 환절기라 감기 기운이 있어 안 그래도 코로나 때문에 불안한 시기인데 말이야     20\n",
              "...       ...                                              ...    ...\n",
              "8001      우울한                            건강 검진 결과가 나쁘게 나와서 우울해      9\n",
              "77523    툴툴대는               은행에 가서 일을 보는데 너무 시간이 오래 걸렸어 짜증이 났네     17\n",
              "6950      성가신                           결혼 준비를 하는데 자꾸 친구가 참견하네     42\n",
              "39294     고립된                             나 어제 친구한테 고백했다가 차였어       1\n",
              "108990   감사하는  취업을 위해 자기소개서를 쓰고 있는데 선배가 정성스럽게 첨삭을 해 주셔서 아주 감사해     25\n",
              "\n",
              "[104177 rows x 3 columns]"
            ]
          },
          "metadata": {},
          "execution_count": 11
        }
      ]
    },
    {
      "cell_type": "code",
      "metadata": {
        "colab": {
          "base_uri": "https://localhost:8080/"
        },
        "id": "HstBV2utqa87",
        "outputId": "ffd3d1e1-e099-43bd-8fab-d539e3c33fac"
      },
      "source": [
        "train['대화'].replace('', np.nan, inplace = True)\n",
        "print(len(train))\n",
        "print(train.isnull().sum())"
      ],
      "execution_count": 12,
      "outputs": [
        {
          "output_type": "stream",
          "name": "stdout",
          "text": [
            "104177\n",
            "감정       0\n",
            "대화       0\n",
            "label    0\n",
            "dtype: int64\n"
          ]
        }
      ]
    },
    {
      "cell_type": "code",
      "metadata": {
        "colab": {
          "base_uri": "https://localhost:8080/"
        },
        "id": "vKSaGst1qa2d",
        "outputId": "ce9bdabf-c469-45eb-ade3-1b9bfa3e0f08"
      },
      "source": [
        "train = train.dropna(how = 'any')\n",
        "print(len(train))"
      ],
      "execution_count": 13,
      "outputs": [
        {
          "output_type": "stream",
          "name": "stdout",
          "text": [
            "104177\n"
          ]
        }
      ]
    },
    {
      "cell_type": "code",
      "metadata": {
        "id": "vP1xgWr0qavP"
      },
      "source": [
        "test.drop_duplicates(subset=['대화'], inplace=True)\n",
        "test['대화'] = test['대화'].str.replace('[^ㄱ-ㅎ ㅏ-ㅣ 가-힣]', '')\n",
        "test['대화'].replace('', np.nan, inplace = True)\n",
        "test = train.dropna(how = 'any')"
      ],
      "execution_count": 14,
      "outputs": []
    },
    {
      "cell_type": "markdown",
      "metadata": {
        "id": "9q80P9ijqlIe"
      },
      "source": [
        "# 토큰화 및 불용어 제거\n",
        "\n",
        "단어들을 분리하고 불용어를 제거함\n",
        "\n",
        "불용어 사전: '의', '가' , '이', '은', '들', '는', '좀', '잘', '걍', '과', '도', '을', '를', '으로','자', '에', '와', '한', '하다'"
      ]
    },
    {
      "cell_type": "code",
      "metadata": {
        "id": "UU2SVEg4qpa8"
      },
      "source": [
        "stopwords = ['의','가','이','은','들','는','좀','잘','걍','과','도','를','으로','자','에','와','한','하다',\n",
        "           '로써','으로써','에서','에게서','부터','까지','과','에서','을','로서','으로서','로','뭔','왠','웬','왠지']"
      ],
      "execution_count": 15,
      "outputs": []
    },
    {
      "cell_type": "code",
      "metadata": {
        "id": "7xzJCByFqrZk"
      },
      "source": [
        "from konlpy.tag import Mecab\n",
        "mecab = Mecab()\n",
        "\n",
        "X_train = []\n",
        "for sentence in train['대화'] :\n",
        "  X_train.append([word for word in mecab.morphs(sentence) if not word in stopwords])"
      ],
      "execution_count": 16,
      "outputs": []
    },
    {
      "cell_type": "code",
      "metadata": {
        "id": "roK3T06eqrUs"
      },
      "source": [
        "X_test = []\n",
        "for sentence in train['대화'] :\n",
        "  X_test.append([word for word in mecab.morphs(sentence) if not word in stopwords])"
      ],
      "execution_count": 17,
      "outputs": []
    },
    {
      "cell_type": "code",
      "metadata": {
        "colab": {
          "base_uri": "https://localhost:8080/"
        },
        "id": "lwgG3Kj3qrPA",
        "outputId": "6435ce47-fd24-4f36-a3e7-168a6e9694ab"
      },
      "source": [
        "torkenizer = Tokenizer()\n",
        "torkenizer.fit_on_texts(X_train)\n",
        "print(torkenizer.word_index)"
      ],
      "execution_count": 18,
      "outputs": [
        {
          "output_type": "stream",
          "name": "stdout",
          "text": [
            "{'어': 1, '하': 2, '나': 3, '고': 4, '는데': 5, '내': 6, '너무': 7, '친구': 8, '아': 9, '있': 10, '해': 11, '지': 12, '했': 13, '게': 14, '것': 15, '같': 16, '야': 17, '없': 18, '안': 19, '좋': 20, '었': 21, '않': 22, '일': 23, '만': 24, '네': 25, '해서': 26, '되': 27, '받': 28, '다': 29, '사람': 30, '았': 31, '어서': 32, '오늘': 33, '요즘': 34, '에게': 35, '보': 36, '회사': 37, '기': 38, '겠': 39, '돈': 40, '말': 41, '아서': 42, '님': 43, '건강': 44, '거': 45, '면': 46, '할': 47, '던': 48, '정말': 49, '걱정': 50, '다고': 51, '수': 52, '때문': 53, '싶': 54, '못': 55, '주': 56, '이번': 57, '생각': 58, '스러워': 59, '한테': 60, '우리': 61, '니': 62, '남편': 63, '아내': 64, '결혼': 65, '많이': 66, '힘들': 67, '직장': 68, '때': 69, '집': 70, '서': 71, '학교': 72, '라고': 73, '화': 74, '많': 75, '기분': 76, '적': 77, '나이': 78, '모르': 79, '돼': 80, '해야': 81, '아들': 82, '마음': 83, '준비': 84, '엄마': 85, '이제': 86, '살': 87, '가족': 88, '먹': 89, '남자': 90, '난': 91, '랑': 92, '부모': 93, '봐': 94, '취업': 95, '데': 96, '자꾸': 97, '더': 98, '당황': 99, '아이': 100, '자식': 101, '은퇴': 102, '날': 103, '알': 104, '인데': 105, '짜증': 106, '불안': 107, '노후': 108, '대': 109, '애': 110, '슬퍼': 111, '그': 112, '왜': 113, '싫': 114, '걸': 115, '병원': 116, '인': 117, '다는': 118, '딸': 119, '전': 120, '다른': 121, '보다': 122, '어떻게': 123, '사': 124, '여자': 125, '지금': 126, '다니': 127, '어제': 128, '공부': 129, '혼자': 130, '갑자기': 131, '몸': 132, '은데': 133, '죽': 134, '면서': 135, '스트레스': 136, '지만': 137, '줄': 138, '됐': 139, '아직': 140, '오': 141, '달': 142, '업무': 143, '더니': 144, '성적': 145, '아빠': 146, '왔': 147, '남': 148, '된': 149, '갔': 150, '연락': 151, '다가': 152, '라': 153, '시험': 154, '같이': 155, '니까': 156, '상사': 157, '는지': 158, '만나': 159, '계속': 160, '기뻐': 161, '할지': 162, '중': 163, '속상해': 164, '아무': 165, '병': 166, '선생': 167, '열심히': 168, '하나': 169, '려고': 170, '시간': 171, '관계': 172, '으면': 173, '년': 174, '십': 175, '당하': 176, '얼마': 177, '고민': 178, '셨': 179, '따돌림': 180, '대학': 181, '줬': 182, '이랑': 183, '참': 184, '뭐': 185, '후': 186, '검진': 187, '봤': 188, '직원': 189, '이렇게': 190, '믿': 191, '혼란': 192, '앞': 193, '한심': 194, '시': 195, '자신': 196, '큰': 197, '생활': 198, '아니': 199, '을까': 200, '동생': 201, '해도': 202, '후회': 203, '질': 204, '항상': 205, '맞': 206, '면접': 207, '동료': 208, '마다': 209, '매일': 210, '연애': 211, '라는': 212, '반': 213, '폭력': 214, '이상': 215, '또': 216, '친한': 217, '문제': 218, '스럽': 219, '없이': 220, '다행': 221, '결과': 222, '우울해': 223, '주변': 224, '상처': 225, '났': 226, '억울': 227, '나가': 228, '얘기': 229, '실망': 230, '술': 231, '모두': 232, '아프': 233, '원': 234, '충격': 235, '드디어': 236, '버렸': 237, '곳': 238, '운동': 239, '더라': 240, '돼서': 241, '나왔': 242, '느낌': 243, '세상': 244, '암': 245, '눈물': 246, '진로': 247, '코로나': 248, '못하': 249, '셔서': 250, '자기': 251, '러': 252, '두려워': 253, '으니': 254, '더라고': 255, '번': 256, '두': 257, '잘못': 258, '놓': 259, '께': 260, '재정': 261, '자고': 262, '이야기': 263, '생겼': 264, '요새': 265, '진짜': 266, '당했': 267, '대해': 268, '내일': 269, '쓰': 270, '한다고': 271, '위해': 272, '시작': 273, '괴로워': 274, '길': 275, '여행': 276, '될': 277, '승진': 278, '괴롭히': 279, '의사': 280, '실수': 281, '이나': 282, '신경': 283, '대화': 284, '몇': 285, '사이': 286, '점점': 287, '오래': 288, '관리': 289, '합격': 290, '사실': 291, '벌써': 292, '언니': 293, '수술': 294, '치료': 295, '드': 296, '모임': 297, '그래서': 298, '곧': 299, '미안': 300, '놀': 301, '조심': 302, '귀찮': 303, '전화': 304, '외로워': 305, '프로젝트': 306, '건': 307, '질환': 308, '젊': 309, '아주': 310, '무시': 311, '아파': 312, '와서': 313, '함께': 314, '도와': 315, '출산': 316, '떨어졌': 317, '조금': 318, '동기': 319, '할까': 320, '행복': 321, '거든': 322, '감사': 323, '지내': 324, '줘서': 325, '아픈': 326, '투자': 327, '노인': 328, '필요': 329, '자주': 330, '며': 331, '모아': 332, '싸웠': 333, '무슨': 334, '동안': 335, '을지': 336, '초조': 337, '입원': 338, '빨리': 339, '크': 340, '듣': 341, '갈': 342, '보내': 343, '주식': 344, '언제': 345, '걸까': 346, '냐고': 347, '이혼': 348, '모습': 349, '가지': 350, '나와': 351, '대인': 352, '이런': 353, '취직': 354, '상태': 355, '처럼': 356, '새로운': 357, '김': 358, '어야': 359, '처음': 360, '나오': 361, '원비': 362, '늦': 363, '넘': 364, '상황': 365, '벌': 366, '답답': 367, '삼': 368, '할머니': 369, '예전': 370, '신': 371, '어떤': 372, '께서': 373, '빌려': 374, '부장': 375, '아야': 376, '만성': 377, '자금': 378, '였': 379, '편안': 380, '약': 381, '어떡': 382, '사업': 383, '졌': 384, '느껴': 385, '부끄러워': 386, '간': 387, '다시': 388, '밥': 389, '물': 390, '당혹': 391, '별로': 392, '낳': 393, '슬프': 394, '나와서': 395, '늘': 396, '부부': 397, '준': 398, '느껴져': 399, '바람': 400, '가난': 401, '꼭': 402, '먼저': 403, '보여': 404, '질투': 405, '구역': 406, '고립': 407, '내게': 408, '아파서': 409, '감': 410, '최근': 411, '당뇨': 412, '부서': 413, '생일': 414, '이유': 415, '임신': 416, '못했': 417, '그런': 418, '인지': 419, '관심': 420, '꿈': 421, '지원': 422, '우울': 423, '옆집': 424, '늙': 425, '출근': 426, '입사': 427, '부족': 428, '그렇게': 429, '용돈': 430, '명': 431, '느라': 432, '소리': 433, '선물': 434, '그러': 435, '약속': 436, '온': 437, '져서': 438, '몰래': 439, '만족': 440, '그런데': 441, '싸우': 442, '사장': 443, '고생': 444, '배신': 445, '무서워': 446, '노력': 447, '신입': 448, '어도': 449, '새로': 450, '아침': 451, '팀장': 452, '도움': 453, '제대로': 454, '형': 455, '뒤': 456, '사랑': 457, '스러웠': 458, '오랜만': 459, '제일': 460, '그냥': 461, '씨': 462, '엔': 463, '며칠': 464, '차': 465, '건지': 466, '마비': 467, '선배': 468, '들어가': 469, '자리': 470, '당한': 471, '둘': 472, '셔': 473, '큰일': 474, '혈압': 475, '퇴직': 476, '주말': 477, '다음': 478, '이젠': 479, '째': 480, '성공': 481, '대학교': 482, '보험': 483, '모든': 484, '냈': 485, '혐오': 486, '하루': 487, '사귀': 488, '결혼식': 489, '챙겨': 490, '옆': 491, '머리': 492, '뭘': 493, '불편': 494, '정도': 495, '발표': 496, '만났': 497, '그만두': 498, '야근': 499, '라서': 500, '잔소리': 501, '죄책감': 502, '노인정': 503, '볼': 504, '여유': 505, '찾': 506, '감정': 507, '가장': 508, '둔': 509, '라도': 510, '눈치': 511, '평생': 512, '잠': 513, '보고': 514, '본': 515, '재산': 516, '소식': 517, '대한': 518, '보이': 519, '해고': 520, '경제': 521, '갚': 522, '외롭': 523, '죽음': 524, '끝': 525, '환멸': 526, '고등학교': 527, '인생': 528, '평소': 529, '눈': 530, '연금': 531, '결국': 532, '걸렸': 533, '밖': 534, '사고': 535, '거짓말': 536, '졸업': 537, '빼': 538, '스러운': 539, '음식': 540, '못해서': 541, '얼굴': 542, '등': 543, '담배': 544, '기대': 545, '입': 546, '퇴근': 547, '올해': 548, '높': 549, '방': 550, '어려워': 551, '래': 552, '당해서': 553, '화나': 554, '학원': 555, '척': 556, '한데': 557, '엄청': 558, '검사': 559, '삶': 560, '어디': 561, '시키': 562, '속상하': 563, '자녀': 564, '돌아가': 565, '상담': 566, '성가셔': 567, '누나': 568, '비': 569, '팀': 570, '다녀왔': 571, '얼마나': 572, '옷': 573, '아무것': 574, '이해': 575, '한다는': 576, '쉬': 577, '아버지': 578, '분': 579, '욕': 580, '만큼': 581, '가해자': 582, '그런지': 583, '버려진': 584, '속': 585, '쉽': 586, '애인': 587, '서로': 588, '져': 589, '따돌리': 590, '손자': 591, '후배': 592, '그동안': 593, '회의': 594, '막막': 595, '잃': 596, '몰라': 597, '비교': 598, '친하': 599, '기업': 600, '중요': 601, '열': 602, '힘든': 603, '손': 604, '대로': 605, '끊': 606, '자랑': 607, '떠나': 608, '점수': 609, '괜찮': 610, '못한': 611, '만들': 612, '인간': 613, '떨어져서': 614, '사원': 615, '아기': 616, '월급': 617, '매우': 618, '왕따': 619, '이러': 620, '오빠': 621, '심하': 622, '고백': 623, '울': 624, '생겨서': 625, '씩': 626, '생기': 627, '편': 628, '퇴사': 629, '몰랐': 630, '집안': 631, '과장': 632, '매번': 633, '치': 634, '다가오': 635, '힘': 636, '희생': 637, '아무리': 638, '맡': 639, '퇴직금': 640, '계획': 641, '진': 642, '나빠': 643, '될까': 644, '그랬': 645, '마시': 646, '부담': 647, '괴롭힘': 648, '텐데': 649, '샀': 650, '잡': 651, '어렵': 652, '실패': 653, '처리': 654, '허리': 655, '가게': 656, '치매': 657, '행동': 658, '전혀': 659, '이사': 660, '거절': 661, '맨날': 662, '낮': 663, '성격': 664, '사기': 665, '줘': 666, '끼리': 667, '회식': 668, '시선': 669, '빚': 670, '지인': 671, '육': 672, '멀': 673, '떨어지': 674, '아닌': 675, '다며': 676, '배신감': 677, '포기': 678, '치료비': 679, '느긋': 680, '피곤': 681, '진단': 682, '가끔': 683, '오랫동안': 684, '나갔': 685, '첫': 686, '힘드': 687, '비통': 688, '작': 689, '창피': 690, '라니': 691, '어요': 692, '근데': 693, '만날': 694, '팀원': 695, '누구': 696, '우울증': 697, '그만': 698, '등산': 699, '놀랐': 700, '박': 701, '동네': 702, '그럴': 703, '팔': 704, '했었': 705, '밖에': 706, '갖': 707, '괜히': 708, '덕분': 709, '말씀': 710, '어쩌': 711, '배': 712, '타': 713, '인사': 714, '이후': 715, '화가': 716, '아닌데': 717, '뿐': 718, '부하': 719, '그렇': 720, '대출': 721, '대해서': 722, '물건': 723, '세': 724, '기쁘': 725, '칭찬': 726, '일찍': 727, '아무래도': 728, '인가': 729, '퇴원': 730, '수업': 731, '해졌': 732, '주위': 733, '못해': 734, '교통사고': 735, '통장': 736, '오해': 737, '든': 738, '동창': 739, '위해서': 740, '밤': 741, '와이프': 742, '도록': 743, '이직': 744, '정신': 745, '다리': 746, '결정': 747, '헤어지': 748, '넣': 749, '저번': 750, '소문': 751, '손주': 752, '기다리': 753, '버리': 754, '가입': 755, '헤어졌': 756, '성': 757, '신뢰': 758, '하고': 759, '아픈데': 760, '무엇': 761, '정년퇴직': 762, '정리': 763, '생활비': 764, '산': 765, '붙': 766, '백': 767, '실': 768, '흥분': 769, '항암': 770, '열등': 771, '의견': 772, '해결': 773, '챙기': 774, '어려운': 775, '진행': 776, '불': 777, '사정': 778, '만난': 779, '서류': 780, '명절': 781, '부러워': 782, '싸워서': 783, '이야': 784, '으니까': 785, '그게': 786, '반대': 787, '어머니': 788, '저축': 789, '된다고': 790, '사과': 791, '이럴': 792, '키우': 793, '신나': 794, '이게': 795, '해져': 796, '스스로': 797, '부탁': 798, '능력': 799, '떠났': 800, '여러': 801, '전학': 802, '직업': 803, '축하': 804, '실적': 805, '며느리': 806, '소개': 807, '적금': 808, '저녁': 809, '생': 810, '저': 811, '선택': 812, '앞두': 813, '일자리': 814, '다네': 815, '아도': 816, '험담': 817, '통보': 818, '공무원': 819, '분위기': 820, '봐서': 821, '오랜': 822, '취약': 823, '이래': 824, '으면서': 825, '무릎': 826, '분명': 827, '탈락': 828, '친했': 829, '그래도': 830, '나쁜': 831, '찾아오': 832, '서운': 833, '들어왔': 834, '게임': 835, '마련': 836, '심해': 837, '꾸준히': 838, '걸리': 839, '군': 840, '올랐': 841, '따라': 842, '바로': 843, '새': 844, '과제': 845, '대하': 846, '버려서': 847, '걸린': 848, '갱년기': 849, '뻔': 850, '대신': 851, '당첨': 852, '형편': 853, '걸려서': 854, '대리': 855, '어울리': 856, '느끼': 857, '시켜': 858, '휴가': 859, '쓰여': 860, '편하': 861, '건데': 862, '커': 863, '쓸쓸': 864, '수학': 865, '시기': 866, '신고': 867, '전부': 868, '맘': 869, '친척': 870, '낙담': 871, '영양제': 872, '의심': 873, '생겨': 874, '써': 875, '피하': 876, '오르': 877, '진학': 878, '려니': 879, '어릴': 880, '순간': 881, '노년': 882, '인해': 883, '걔': 884, '미래': 885, '의식': 886, '일부러': 887, '수능': 888, '점심': 889, '바쁘': 890, '가슴': 891, '은행': 892, '장': 893, '들어오': 894, '취소': 895, '거의': 896, '수치': 897, '도대체': 898, '작년': 899, '수술비': 900, '내년': 901, '안달': 902, '정년': 903, '려': 904, '다행히': 905, '혼났': 906, '고마워': 907, '뭔가': 908, '주일': 909, '소개팅': 910, '긴': 911, '여': 912, '아파트': 913, '판정': 914, '가정': 915, '집안일': 916, '보여서': 917, '요구': 918, '안정': 919, '혹시': 920, '좌절': 921, '근무': 922, '앓': 923, '일까': 924, '편해': 925, '단': 926, '일어나': 927, '중년': 928, '으려고': 929, '던데': 930, '부끄럽': 931, '사회': 932, '혼': 933, '무척': 934, '탓': 935, '지네': 936, '제출': 937, '구하': 938, '점': 939, '동호회': 940, '기억': 941, '최종': 942, '부동산': 943, '얻': 944, '악화': 945, '될지': 946, '쓸': 947, '녀석': 948, '당장': 949, '올라서': 950, '좌절감': 951, '으러': 952, '피해': 953, '아르바이트': 954, '강요': 955, '무리': 956, '숙제': 957, '완전': 958, '길래': 959, '알려': 960, '누가': 961, '유산': 962, '계약': 963, '학생': 964, '비싼': 965, '긴장': 966, '앉': 967, '모은': 968, '풀': 969, '별': 970, '종일': 971, '려면': 972, '좋아하': 973, '딸아이': 974, '심한': 975, '듯': 976, '발령': 977, '환갑': 978, '어느': 979, '미리': 980, '심해서': 981, '걷': 982, '기간': 983, '유학': 984, '폐암': 985, '들어온': 986, '화장실': 987, '네요': 988, '썼': 989, '미치': 990, '연봉': 991, '화해': 992, '올': 993, '친해': 994, '요양원': 995, '봐야': 996, '안심': 997, '체력': 998, '막': 999, '회의감': 1000, '다닐': 1001, '피우': 1002, '나중': 1003, '다녔': 1004, '악의': 1005, '따돌려': 1006, '떨어져': 1007, '꼴': 1008, '황당': 1009, '겪': 1010, '때렸': 1011, '관련': 1012, '오히려': 1013, '란': 1014, '집중': 1015, '병문안': 1016, '대비': 1017, '쳤': 1018, '가진': 1019, '영감': 1020, '거래처': 1021, '지나': 1022, '까': 1023, '바라': 1024, '완치': 1025, '는다고': 1026, '발견': 1027, '어떻': 1028, '그걸': 1029, '사춘기': 1030, '성과': 1031, '드렸': 1032, '다투': 1033, '준다고': 1034, '심장': 1035, '아끼': 1036, '못할': 1037, '너무나': 1038, '비해': 1039, '무섭': 1040, '할아버지': 1041, '한지': 1042, '어렸': 1043, '부끄러웠': 1044, '집사람': 1045, '취급': 1046, '관절염': 1047, '어린': 1048, '월세': 1049, '난다': 1050, '시절': 1051, '담임': 1052, '생긴': 1053, '잖아': 1054, '방법': 1055, '한대': 1056, '원하': 1057, '된다': 1058, '허무': 1059, '응원': 1060, '문자': 1061, '효과': 1062, '난리': 1063, '훨씬': 1064, '신청': 1065, '피': 1066, '데이트': 1067, '컴퓨터': 1068, '싸움': 1069, '지난': 1070, '수록': 1071, '땅': 1072, '더군': 1073, '적응': 1074, '전공': 1075, '완전히': 1076, '다르': 1077, '태도': 1078, '괴롭': 1079, '복지': 1080, '채용': 1081, '여기저기': 1082, '배우': 1083, '힘든데': 1084, '확인': 1085, '으라고': 1086, '슬픈': 1087, '뉴스': 1088, '롭': 1089, '비용': 1090, '함': 1091, '끝나': 1092, '괴롭혔': 1093, '문': 1094, '다퉜': 1095, '굉장히': 1096, '역시': 1097, '여기': 1098, '누워': 1099, '바뀌': 1100, '나올': 1101, '위': 1102, '부분': 1103, '시어머니': 1104, '유지': 1105, '빠지': 1106, '시켰': 1107, '우연히': 1108, '급하': 1109, '채': 1110, '비밀': 1111, '펀드': 1112, '육아': 1113, '비참': 1114, '모른': 1115, '분노': 1116, '아무런': 1117, '때리': 1118, '건가': 1119, '사진': 1120, '절대': 1121, '권유': 1122, '청소': 1123, '어쩔': 1124, '두렵': 1125, '뿌듯': 1126, '군요': 1127, '짓': 1128, '부럽': 1129, '버': 1130, '대답': 1131, '원래': 1132, '망쳤': 1133, '성적표': 1134, '이름': 1135, '질문': 1136, '지긋지긋': 1137, '지각': 1138, '핸드폰': 1139, '출장': 1140, '학업': 1141, '의지': 1142, '시댁': 1143, '자격증': 1144, '구나': 1145, '추천': 1146, '간암': 1147, '동창회': 1148, '지시': 1149, '숨': 1150, '가능': 1151, '보냈': 1152, '조별': 1153, '섭섭': 1154, '써서': 1155, '상대': 1156, '어이없': 1157, '현실': 1158, '웃': 1159, '평가': 1160, '알아보': 1161, '어려워서': 1162, '부르': 1163, '사무실': 1164, '하루하루': 1165, '꽤': 1166, '그녀': 1167, '장사': 1168, '쓰러졌': 1169, '비싸': 1170, '갈수록': 1171, '나쁘': 1172, '몰라서': 1173, '이제야': 1174, '디스크': 1175, '나름': 1176, '바빠서': 1177, '통': 1178, '들어갔': 1179, '외식': 1180, '본인': 1181, '막상': 1182, '죄송': 1183, '무': 1184, '환자': 1185, '체육': 1186, '걸려': 1187, '중학교': 1188, '나라': 1189, '해져서': 1190, '당해': 1191, '다녀': 1192, '손해': 1193, '조차': 1194, '간다고': 1195, '니깐': 1196, '지난번': 1197, '따로': 1198, '털어놓': 1199, '식사': 1200, '데리': 1201, '정하': 1202, '지방': 1203, '군대': 1204, '합병증': 1205, '사귄': 1206, '지났': 1207, '여서': 1208, '허락': 1209, '관': 1210, '관절': 1211, '지갑': 1212, '깜짝': 1213, '나갈': 1214, '혼내': 1215, '다쳤': 1216, '대회': 1217, '개월': 1218, '비웃': 1219, '개': 1220, '나온': 1221, '은지': 1222, '위로': 1223, '카드': 1224, '초라': 1225, '살아가': 1226, '슬펐': 1227, '그래': 1228, '최고': 1229, '주인': 1230, '가방': 1231, '아이디어': 1232, '감기': 1233, '겨우': 1234, '위암': 1235, '영어': 1236, '교수': 1237, '상': 1238, '마지막': 1239, '꺼내': 1240, '차이': 1241, '엄청나': 1242, '사용': 1243, '말기': 1244, '해외': 1245, '의미': 1246, '시골': 1247, '라며': 1248, '거나': 1249, '줘야': 1250, '살아왔': 1251, '은근히': 1252, '요': 1253, '프러포즈': 1254, '교육': 1255, '명예퇴직': 1256, '희망': 1257, '즐기': 1258, '다이어트': 1259, '버린': 1260, '방금': 1261, '자마자': 1262, '장난': 1263, '마을': 1264, '넉넉': 1265, '칠': 1266, '적성': 1267, '기회': 1268, '당뇨병': 1269, '복권': 1270, '산책': 1271, '맛있': 1272, '멀리': 1273, '제': 1274, '수입': 1275, '마흔': 1276, '볼까': 1277, '고맙': 1278, '망했': 1279, '사소': 1280, '활동': 1281, '해진': 1282, '예민': 1283, '불합격': 1284, '괴롭혀': 1285, '부인': 1286, '요양': 1287, '지병': 1288, '든든': 1289, '재미': 1290, '어쩌면': 1291, '미루': 1292, '강아지': 1293, '심해져서': 1294, '회장': 1295, '쳐다보': 1296, '돌보': 1297, '냄새': 1298, '아닐까': 1299, '툴툴': 1300, '라네': 1301, '그것': 1302, '말다툼': 1303, '드리': 1304, '뒷바라지': 1305, '간호사': 1306, '불우': 1307, '친절': 1308, '미워': 1309, '식품': 1310, '조급': 1311, '엉망': 1312, '회복': 1313, '거래': 1314, '부리': 1315, '재': 1316, '보태': 1317, '겁': 1318, '천식': 1319, '외출': 1320, '지치': 1321, '떨려': 1322, '진급': 1323, '지난주': 1324, '깨': 1325, '올라': 1326, '자는': 1327, '식단': 1328, '그대로': 1329, '로부터': 1330, '소용': 1331, '치밀': 1332, '피웠': 1333, '버스': 1334, '다면': 1335, '잦': 1336, '이력서': 1337, '하늘': 1338, '기쁜': 1339, '묻': 1340, '인정': 1341, '똑같': 1342, '자살': 1343, '추석': 1344, '일구': 1345, '입학': 1346, '잃어버렸': 1347, '달리': 1348, '몹시': 1349, '학과': 1350, '수익': 1351, '부정': 1352, '센터': 1353, '찍': 1354, '옛날': 1355, '무조건': 1356, '개인': 1357, '다녀서': 1358, '중간고사': 1359, '시장': 1360, '마무리': 1361, '이미': 1362, '짝': 1363, '끝내': 1364, '방어': 1365, '량': 1366, '지경': 1367, '경로당': 1368, '영': 1369, '작성': 1370, '정상': 1371, '곁': 1372, '내내': 1373, '놈': 1374, '당할': 1375, '어찌': 1376, '자료': 1377, '즐겁': 1378, '경력': 1379, '낫': 1380, '솔직히': 1381, '외로운': 1382, '신랑': 1383, '대표': 1384, '차별': 1385, '기침': 1386, '누군가': 1387, '여태': 1388, '성가신': 1389, '발': 1390, '그런가': 1391, '이대로': 1392, '땐': 1393, '어차피': 1394, '대체': 1395, '손녀': 1396, '운영': 1397, '매달': 1398, '감당': 1399, '잊': 1400, '맛': 1401, '괴롭혀서': 1402, '기계': 1403, '동아리': 1404, '쯤': 1405, '반응': 1406, '아닌지': 1407, '뽑': 1408, '등급': 1409, '취미': 1410, '낸': 1411, '병실': 1412, '기운': 1413, '성가시': 1414, '글쎄': 1415, '태어나': 1416, '지쳐': 1417, '마치': 1418, '값': 1419, '학기': 1420, '지키': 1421, '느꼈': 1422, '덜': 1423, '요청': 1424, '라면': 1425, '절망': 1426, '경찰': 1427, '재촉': 1428, '기사': 1429, '제안': 1430, '들으니': 1431, '괴롭힌': 1432, '예정': 1433, '혼나': 1434, '커서': 1435, '짐': 1436, '빠져': 1437, '으시': 1438, '탈모': 1439, '고향': 1440, '거리': 1441, '과연': 1442, '통화': 1443, '언젠가': 1444, '장례식': 1445, '서러워': 1446, '물어봐서': 1447, '열등감': 1448, '만기': 1449, '장례식장': 1450, '신혼': 1451, '따돌렸': 1452, '학': 1453, '명품': 1454, '서울': 1455, '식당': 1456, '보고서': 1457, '막내': 1458, '던지': 1459, '독립': 1460, '나요': 1461, '새벽': 1462, '초기': 1463, '헬스': 1464, '아플': 1465, '조절': 1466, '온몸': 1467, '서른': 1468, '다녀야': 1469, '한참': 1470, '아까': 1471, '기뻤': 1472, '들어와서': 1473, '정기': 1474, '올려': 1475, '놀라': 1476, '사수': 1477, '구': 1478, '고지혈증': 1479, '기말고사': 1480, '친정': 1481, '보험금': 1482, '지적': 1483, '줄어들': 1484, '백수': 1485, '주사': 1486, '불러': 1487, '시켜서': 1488, '백만': 1489, '확신': 1490, '우': 1491, '정보': 1492, '폭행': 1493, '대출금': 1494, '일상': 1495, '쪽': 1496, '신대': 1497, '지하철': 1498, '움직이': 1499, '이기': 1500, '마감': 1501, '위험': 1502, '음': 1503, '모으': 1504, '낼': 1505, '심각': 1506, '다는데': 1507, '세대': 1508, '기획': 1509, '이용': 1510, '마음대로': 1511, '한숨': 1512, '도박': 1513, '되게': 1514, '담당': 1515, '아요': 1516, '해외여행': 1517, '참석': 1518, '달라서': 1519, '유방암': 1520, '닫': 1521, '도저히': 1522, '전교': 1523, '직': 1524, '숨기': 1525, '커피': 1526, '시대': 1527, '금방': 1528, '비슷': 1529, '체중': 1530, '폭위': 1531, '참여': 1532, '투나': 1533, '달래': 1534, '써야': 1535, '에요': 1536, '날짜': 1537, '이별': 1538, '투병': 1539, '귀': 1540, '에선': 1541, '모았': 1542, '어른': 1543, '바': 1544, '어려울': 1545, '고등학생': 1546, '이거': 1547, '돌': 1548, '쓰이': 1549, '다면서': 1550, '재미있': 1551, '무서워서': 1552, '고혈압': 1553, '잔고': 1554, '뭔지': 1555, '화내': 1556, '상의': 1557, '기력': 1558, '믿기': 1559, '돌아오': 1560, '최': 1561, '바보': 1562, '내용': 1563, '곤': 1564, '꺼': 1565, '책임': 1566, '목표': 1567, '들어갈': 1568, '경우': 1569, '신체': 1570, '쇼핑': 1571, '슬슬': 1572, '어깨': 1573, '산부인과': 1574, '척하': 1575, '궁금': 1576, '시력': 1577, '반복': 1578, '려는': 1579, '부쩍': 1580, '증상': 1581, '쓴': 1582, '장기': 1583, '입시': 1584, '키워': 1585, '방문': 1586, '려는데': 1587, '고객': 1588, '간섭': 1589, '부': 1590, '질병': 1591, '불만': 1592, '표정': 1593, '화목': 1594, '책': 1595, '압박': 1596, '마누라': 1597, '노': 1598, '파티': 1599, '미칠': 1600, '반장': 1601, '풀리': 1602, '신세': 1603, '지출': 1604, '원서': 1605, '매출': 1606, '보증': 1607, '조건': 1608, '식': 1609, '심정': 1610, '현재': 1611, '학년': 1612, '안도': 1613, '사라졌': 1614, '민망': 1615, '쪄서': 1616, '신장': 1617, '이걸': 1618, '차려': 1619, '그때': 1620, '운전': 1621, '대상': 1622, '마스크': 1623, '스러워서': 1624, '언제나': 1625, '재테크': 1626, '복잡': 1627, '이동': 1628, '나빠져서': 1629, '권고사직': 1630, '통증': 1631, '고서': 1632, '통하': 1633, '한가': 1634, '다가가': 1635, '굴': 1636, '창업': 1637, '지낼': 1638, '충분': 1639, '부끄러운': 1640, '무사히': 1641, '위한': 1642, '계산': 1643, '무서운': 1644, '한다': 1645, '정작': 1646, '재발': 1647, '고통': 1648, '식구': 1649, '사내': 1650, '직접': 1651, '카페': 1652, '갑작스럽': 1653, '계': 1654, '지나가': 1655, '과외': 1656, '텔레비전': 1657, '어색': 1658, '목격': 1659, '청년': 1660, '소홀': 1661, '불쌍': 1662, '넘어가': 1663, '시킨': 1664, '당할까': 1665, '여전히': 1666, '뺏': 1667, '생각나': 1668, '싫어하': 1669, '정': 1670, '덕': 1671, '질까': 1672, '늘어나': 1673, '답': 1674, '경기': 1675, '대서': 1676, '초등': 1677, '존재': 1678, '떨리': 1679, '당분간': 1680, '처지': 1681, '그리': 1682, '금액': 1683, '모의고사': 1684, '다녀오': 1685, '원망': 1686, '짝사랑': 1687, '소외': 1688, '생길': 1689, '인원': 1690, '예상': 1691, '온종일': 1692, '또래': 1693, '아팠': 1694, '파혼': 1695, '과거': 1696, '경험': 1697, '요즈음': 1698, '된다는': 1699, '예약': 1700, '헤어진': 1701, '쓰러져서': 1702, '세요': 1703, '내려가': 1704, '불행': 1705, '상대방': 1706, '방학': 1707, '든지': 1708, '약값': 1709, '자퇴': 1710, '닮': 1711, '외모': 1712, '한잔': 1713, '곤란': 1714, '갔었': 1715, '영화': 1716, '급여': 1717, '표현': 1718, '둘째': 1719, '코': 1720, '맡기': 1721, '장애': 1722, '물어봐': 1723, '느껴져서': 1724, '외국': 1725, '내장': 1726, '한마디': 1727, '얼른': 1728, '보너스': 1729, '지냈': 1730, '마저': 1731, '고기': 1732, '권': 1733, '날씨': 1734, '함부로': 1735, '부끄러워서': 1736, '속상했': 1737, '중반': 1738, '시도': 1739, '따': 1740, '들어도': 1741, '사건': 1742, '단절': 1743, '배우자': 1744, '간호': 1745, '다쳐서': 1746, '국민': 1747, '알아주': 1748, '폐': 1749, '천만': 1750, '익숙': 1751, '달라': 1752, '노래': 1753, '로또': 1754, '이것': 1755, '영업': 1756, '아닌가': 1757, '이웃': 1758, '도전': 1759, '날아갈': 1760, '마땅': 1761, '편지': 1762, '살아온': 1763, '기한': 1764, '보낼': 1765, '양보': 1766, '된대': 1767, '골프': 1768, '이리': 1769, '떨어진': 1770, '배려': 1771, '바꾸': 1772, '나아지': 1773, '구박': 1774, '빠져서': 1775, '부자': 1776, '빠졌': 1777, '나누': 1778, '처벌': 1779, '나빠졌': 1780, '잘렸': 1781, '자라': 1782, '어찌나': 1783, '올리': 1784, '시부모': 1785, '모자라': 1786, '으셔서': 1787, '대학원': 1788, '이식': 1789, '노트': 1790, '심부름': 1791, '휴직': 1792, '사회생활': 1793, '끔찍': 1794, '신경질': 1795, '제도': 1796, '잔뜩': 1797, '충분히': 1798, '라는데': 1799, '금연': 1800, '종종': 1801, '일어났': 1802, '구조': 1803, '한결': 1804, '태어났': 1805, '조언': 1806, '버릴': 1807, '봐도': 1808, '집값': 1809, '가격': 1810, '이것저것': 1811, '뛰': 1812, '용기': 1813, '방송': 1814, '가져가': 1815, '결혼기념일': 1816, '날렸': 1817, '냐는': 1818, '환경': 1819, '그만뒀': 1820, '맡겼': 1821, '속상한': 1822, '나눠': 1823, '번호': 1824, '잠깐': 1825, '모아서': 1826, '마셨': 1827, '거기': 1828, '빌리': 1829, '찾아와서': 1830, '자전거': 1831, '진심': 1832, '재수': 1833, '키': 1834, '역겨워': 1835, '푼': 1836, '일정': 1837, '률': 1838, '설레': 1839, '조정': 1840, '등록금': 1841, '단체': 1842, '끼': 1843, '과목': 1844, '최선': 1845, '어젯밤': 1846, '대충': 1847, '은가': 1848, '인정받': 1849, '이성': 1850, '온다고': 1851, '즐거워': 1852, '들어간': 1853, '어려움': 1854, '연예인': 1855, '초대': 1856, '소용없': 1857, '통해': 1858, '까먹': 1859, '고마운': 1860, '서글퍼': 1861, '편해졌': 1862, '중소기업': 1863, '직무': 1864, '불려': 1865, '차라리': 1866, '인상': 1867, '고장': 1868, '뇌졸중': 1869, '서럽': 1870, '하지만': 1871, '실력': 1872, '자산': 1873, '싸운': 1874, '놔서': 1875, '홀로': 1876, '아줌마': 1877, '지난달': 1878, '솔직': 1879, '모이': 1880, '쳐서': 1881, '청혼': 1882, '으신': 1883, '프로': 1884, '는군': 1885, '골다공증': 1886, '아파도': 1887, '듯이': 1888, '재혼': 1889, '수학여행': 1890, '맞벌이': 1891, '꺼려': 1892, '모양': 1893, '피해자': 1894, '다닌': 1895, '심해졌': 1896, '벗어나': 1897, '절교': 1898, '존경': 1899, '더라도': 1900, '여성': 1901, '완벽': 1902, '도망갔': 1903, '탔': 1904, '얘': 1905, '살림': 1906, '지속': 1907, '시달리': 1908, '지겨워': 1909, '뚱뚱': 1910, '상품': 1911, '밤새': 1912, '자니': 1913, '버림': 1914, '으셔': 1915, '쓸모없': 1916, '다니까': 1917, '응': 1918, '깊': 1919, '는다는': 1920, '동반': 1921, '세월': 1922, '딱': 1923, '군데': 1924, '천천히': 1925, '넘어졌': 1926, '빌린': 1927, '심심': 1928, '따르': 1929, '한두': 1930, '모여서': 1931, '슬퍼서': 1932, '임': 1933, '교실': 1934, '더라구': 1935, '현장': 1936, '중간': 1937, '틈': 1938, '인기': 1939, '징계': 1940, '지낸': 1941, '컸': 1942, '감동': 1943, '에겐': 1944, '분명히': 1945, '인턴': 1946, '냐': 1947, '전체': 1948, '방해': 1949, '처방': 1950, '시비': 1951, '도착': 1952, '필기': 1953, '미워하': 1954, '약간': 1955, '성인': 1956, '으셨': 1957, '가졌': 1958, '실까': 1959, '한다니': 1960, '재밌': 1961, '핑계': 1962, '쏟': 1963, '임원': 1964, '만만': 1965, '종양': 1966, '문화': 1967, '젊은이': 1968, '다섯': 1969, '싸워': 1970, '억지로': 1971, '씁쓸': 1972, '통과': 1973, '키웠': 1974, '이자': 1975, '중학생': 1976, '놀리': 1977, '금전': 1978, '만드': 1979, '목돈': 1980, '혹시나': 1981, '전염병': 1982, '요리': 1983, '급식': 1984, '수시': 1985, '명단': 1986, '바닥': 1987, '심근': 1988, '경색': 1989, '인해서': 1990, '계시': 1991, '축구': 1992, '훔쳐': 1993, '급한': 1994, '떨': 1995, '더욱': 1996, '잔치': 1997, '반찬': 1998, '주택': 1999, '버려': 2000, '확실': 2001, '신발': 2002, '간병': 2003, '가만히': 2004, '심란': 2005, '재취업': 2006, '멀쩡': 2007, '못할까': 2008, '대단': 2009, '바이러스': 2010, '아냐': 2011, '요번': 2012, '부당': 2013, '간대': 2014, '저런': 2015, '인슐린': 2016, '복수': 2017, '부질없': 2018, '정했': 2019, '확실히': 2020, '잠적': 2021, '술자리': 2022, '내시경': 2023, '위원회': 2024, '들켰': 2025, '마디': 2026, '음식점': 2027, '이만저만': 2028, '염세': 2029, '아마': 2030, '전세': 2031, '설명': 2032, '약해': 2033, '정말로': 2034, '취해서': 2035, '더러': 2036, '가까워': 2037, '사촌': 2038, '작업': 2039, '진정': 2040, '물려주': 2041, '읽': 2042, '여름': 2043, '바빠': 2044, '잠시': 2045, '똑같이': 2046, '할까봐': 2047, '쌓이': 2048, '찾아왔': 2049, '소심': 2050, '냐며': 2051, '예쁜': 2052, '대박': 2053, '자부': 2054, '보람': 2055, '도중': 2056, '뱃살': 2057, '편히': 2058, '커닝': 2059, '진지': 2060, '날까': 2061, '했을까': 2062, '만든': 2063, '탈': 2064, '나서': 2065, '잘난': 2066, '안도감': 2067, '이전': 2068, '회비': 2069, '조마조마': 2070, '로워': 2071, '돌아왔': 2072, '핀잔': 2073, '후임': 2074, '근처': 2075, '찾아와': 2076, '이건': 2077, '바라보': 2078, '가르쳐': 2079, '빠듯': 2080, '쉴': 2081, '잔': 2082, '예쁘': 2083, '습관': 2084, '맞추': 2085, '힘내': 2086, '피부': 2087, '위축': 2088, '공원': 2089, '업체': 2090, '인터넷': 2091, '착한': 2092, '빌렸': 2093, '당연': 2094, '성화': 2095, '아무렇': 2096, '해야지': 2097, '키운': 2098, '정부': 2099, '스러울': 2100, '치킨': 2101, '아이돌': 2102, '봉사': 2103, '달하': 2104, '조카': 2105, '보였': 2106, '행사': 2107, '대장암': 2108, '당연히': 2109, '사귈': 2110, '휴대폰': 2111, '외로움': 2112, '부양': 2113, '소화': 2114, '예요': 2115, '부도': 2116, '아예': 2117, '구매': 2118, '법': 2119, '치과': 2120, '고집': 2121, '맞춰': 2122, '유명': 2123, '이루': 2124, '해요': 2125, '지르': 2126, '한편': 2127, '조만간': 2128, '참견': 2129, '새롭': 2130, '유일': 2131, '그리고': 2132, '거부': 2133, '뼈': 2134, '일부': 2135, '어려워져서': 2136, '시집': 2137, '실직': 2138, '다정': 2139, '마주치': 2140, '사표': 2141, '청첩장': 2142, '버티': 2143, '코앞': 2144, '먼': 2145, '로운': 2146, '재택근무': 2147, '스터디': 2148, '준대': 2149, '갈지': 2150, '보장': 2151, '근육': 2152, '서먹': 2153, '선고': 2154, '아저씨': 2155, '죄': 2156, '돌봐': 2157, '따라가': 2158, '단짝': 2159, '상하': 2160, '뇌': 2161, '꾼': 2162, '구해': 2163, '바꿔': 2164, '한창': 2165, '답장': 2166, '소통': 2167, '국어': 2168, '발생': 2169, '신용': 2170, '이민': 2171, '다지': 2172, '상상': 2173, '정해야': 2174, '믿음': 2175, '난감': 2176, '사망': 2177, '소중': 2178, '실기': 2179, '비난': 2180, '아쉬워': 2181, '지원금': 2182, '날려': 2183, '장면': 2184, '정규직': 2185, '프로그램': 2186, '연인': 2187, '미술': 2188, '불러서': 2189, '한테서': 2190, '동갑': 2191, '았었': 2192, '초': 2193, '예뻐': 2194, '줄이': 2195, '고과': 2196, '알려준': 2197, '헤어져서': 2198, '독감': 2199, '와도': 2200, '트집': 2201, '목소리': 2202, '카톡': 2203, '구만': 2204, '고치': 2205, '도둑': 2206, '외': 2207, '목': 2208, '다퉈서': 2209, '겠어': 2210, '너': 2211, '외톨이': 2212, '티브이': 2213, '빼놓': 2214, '매사': 2215, '기미': 2216, '금리': 2217, '병문': 2218, '내신': 2219, '찌': 2220, '대학생': 2221, '매년': 2222, '가수': 2223, '조직': 2224, '자존심': 2225, '종합': 2226, '좁': 2227, '여직': 2228, '지켜': 2229, '외로웠': 2230, '허전': 2231, '건물': 2232, '피운': 2233, '분야': 2234, '차였': 2235, '쓰러지': 2236, '시끄럽': 2237, '변하': 2238, '친': 2239, '요실금': 2240, '룸메이트': 2241, '진료': 2242, '떠나가': 2243, '둬서': 2244, '발목': 2245, '약한': 2246, '이겨': 2247, '일진': 2248, '형제': 2249, '견디': 2250, '학비': 2251, '퇴학': 2252, '가을': 2253, '싸울': 2254, '조기': 2255, '경비': 2256, '마셔서': 2257, '그림': 2258, '여동생': 2259, '기다려': 2260, '저러': 2261, '미국': 2262, '조사': 2263, '달라졌': 2264, '잡히': 2265, '아쉽': 2266, '멋진': 2267, '용서': 2268, '무능': 2269, '마라톤': 2270, '당할까봐': 2271, '지역': 2272, '들으면': 2273, '안쓰러워': 2274, '차장': 2275, '하필': 2276, '차례': 2277, '까봐': 2278, '바쁜데': 2279, '모른다는': 2280, '남동생': 2281, '금융': 2282, '사사건건': 2283, '녹내장': 2284, '각지': 2285, '걸로': 2286, '단계': 2287, '그만둬야': 2288, '성희롱': 2289, '들어와': 2290, '소원': 2291, '접': 2292, '생계': 2293, '거려': 2294, '공고': 2295, '모여': 2296, '쌓여': 2297, '잤': 2298, '공감': 2299, '검': 2300, '늦잠': 2301, '데려다': 2302, '톡': 2303, '가출': 2304, '지금껏': 2305, '티': 2306, '밀리': 2307, '비상금': 2308, '강제': 2309, '는대': 2310, '으려': 2311, '전환': 2312, '기술': 2313, '가질': 2314, '욕하': 2315, '뜨': 2316, '아껴': 2317, '대놓고': 2318, '짜': 2319, '해낼': 2320, '투석': 2321, '청약': 2322, '불쾌': 2323, '선임': 2324, '도무지': 2325, '다툼': 2326, '떼': 2327, '예비': 2328, '됬': 2329, '빠르': 2330, '무너지': 2331, '조': 2332, '어쩜': 2333, '밝': 2334, '특히': 2335, '음악': 2336, '틀렸': 2337, '이틀': 2338, '신난다': 2339, '예방': 2340, '기부': 2341, '주문': 2342, '귀농': 2343, '미팅': 2344, '고시': 2345, '자유': 2346, '버릇': 2347, '부려': 2348, '으니깐': 2349, '영향': 2350, '착잡': 2351, '떨어질': 2352, '국가': 2353, '병상': 2354, '살까': 2355, '편한': 2356, '학창': 2357, '놀이': 2358, '선': 2359, '할수록': 2360, '고마웠': 2361, '한동안': 2362, '가까운': 2363, '상견례': 2364, '명의': 2365, '지쳤': 2366, '메시지': 2367, '어느새': 2368, '억': 2369, '을수록': 2370, '장래': 2371, '싸': 2372, '인연': 2373, '자체': 2374, '가까이': 2375, '보인다고': 2376, '약해서': 2377, '뜻대로': 2378, '손가락': 2379, '제외': 2380, '침대': 2381, '옮겼': 2382, '혼날': 2383, '병들': 2384, '단순': 2385, '어려서': 2386, '의문': 2387, '혼수': 2388, '면목': 2389, '넘어져서': 2390, '대접': 2391, '회': 2392, '흉': 2393, '그저': 2394, '펑펑': 2395, '밉': 2396, '소외감': 2397, '아들놈': 2398, '교육비': 2399, '성가': 2400, '수군거리': 2401, '그럴까': 2402, '으며': 2403, '될까봐': 2404, '어버이날': 2405, '밀려': 2406, '봐요': 2407, '공모전': 2408, '시한부': 2409, '조용': 2410, '구먼': 2411, '잘릴': 2412, '눈앞': 2413, '상했': 2414, '구할': 2415, '주가': 2416, '얘길': 2417, '금': 2418, '연차': 2419, '거울': 2420, '기념': 2421, '평균': 2422, '산다고': 2423, '경찰서': 2424, '대책': 2425, '드라마': 2426, '혜택': 2427, '하래': 2428, '쪘': 2429, '견딜': 2430, '별일': 2431, '떨어질까': 2432, '한번': 2433, '놀림': 2434, '쉬운': 2435, '노트북': 2436, '좋아해': 2437, '위기': 2438, '예정일': 2439, '보이스': 2440, '피싱': 2441, '후련': 2442, '씻': 2443, '감축': 2444, '외면': 2445, '떠난': 2446, '걸릴': 2447, '알리': 2448, '윗집': 2449, '했는데도': 2450, '컨디션': 2451, '어야지': 2452, '유행': 2453, '결심': 2454, '벌이': 2455, '욕심': 2456, '진작': 2457, '오를': 2458, '바쁜': 2459, '신다고': 2460, '방귀': 2461, '들킬까': 2462, '결제': 2463, '고양이': 2464, '폭락': 2465, '대할': 2466, '철': 2467, '들켜': 2468, '믿음직': 2469, '어머님': 2470, '살아갈': 2471, '도통': 2472, '지도': 2473, '망해서': 2474, '기다렸': 2475, '그리워': 2476, '경쟁': 2477, '전형': 2478, '괘씸': 2479, '주민': 2480, '환멸감': 2481, '자괴감': 2482, '퇴임': 2483, '후반': 2484, '총각': 2485, '등록': 2486, '들리': 2487, '편의점': 2488, '거실': 2489, '옳': 2490, '구직': 2491, '가져': 2492, '키울': 2493, '장소': 2494, '유독': 2495, '협상': 2496, '책임지': 2497, '병간호': 2498, '반항': 2499, '취해': 2500, '시네': 2501, '문득': 2502, '저렇게': 2503, '도망가': 2504, '일어날': 2505, '세우': 2506, '책상': 2507, '놀려서': 2508, '갈등': 2509, '망설여': 2510, '짧': 2511, '반갑': 2512, '입원비': 2513, '예의': 2514, '수정': 2515, '포함': 2516, '물려받': 2517, '기특': 2518, '가져갔': 2519, '넘기': 2520, '비리': 2521, '외박': 2522, '통해서': 2523, '앞날': 2524, '안부': 2525, '무언가': 2526, '옮기': 2527, '동성애자': 2528, '길거리': 2529, '괴로운': 2530, '겁나': 2531, '누락': 2532, '수행평가': 2533, '맞이': 2534, '데려왔': 2535, '가로채': 2536, '만남': 2537, '모시': 2538, '느라고': 2539, '밀렸': 2540, '망쳐서': 2541, '놨는데': 2542, '때려': 2543, '멈추': 2544, '정시': 2545, '성실': 2546, '무료': 2547, '막내딸': 2548, '운': 2549, '돌렸': 2550, '강의': 2551, '마트': 2552, '연기': 2553, '할게요': 2554, '신규': 2555, '몸살': 2556, '미혼': 2557, '막혀': 2558, '이놈': 2559, '혹': 2560, '다녀온': 2561, '계단': 2562, '좋아해서': 2563, '외로워서': 2564, '협박': 2565, '공채': 2566, '복': 2567, '폐지': 2568, '낭비': 2569, '고소': 2570, '떠': 2571, '불구': 2572, '이곳저곳': 2573, '내버렸': 2574, '지켜보': 2575, '려나': 2576, '정밀': 2577, '폐렴': 2578, '시술': 2579, '심해져': 2580, '으론': 2581, '다친': 2582, '분해': 2583, '난다고': 2584, '조용히': 2585, '막히': 2586, '별거': 2587, '제의': 2588, '제한': 2589, '폐경': 2590, '시험지': 2591, '살짝': 2592, '빈': 2593, '안마': 2594, '훔쳤': 2595, '떠넘기': 2596, '뇌출혈': 2597, '몸무게': 2598, '매주': 2599, '스펙': 2600, '마쳤': 2601, '저질렀': 2602, '느껴졌': 2603, '내성': 2604, '안타까워': 2605, '으려니': 2606, '마냥': 2607, '틀': 2608, '돌려': 2609, '마셔': 2610, '꺼냈': 2611, '답안지': 2612, '뒤처지': 2613, '내기': 2614, '홀가분': 2615, '수험': 2616, '정체': 2617, '느냐고': 2618, '나빠서': 2619, '체': 2620, '말래': 2621, '끝낼': 2622, '반려': 2623, '뒷말': 2624, '은사': 2625, '입양': 2626, '바랄': 2627, '나간': 2628, '오전': 2629, '무산': 2630, '괴롭힐': 2631, '라면서': 2632, '차도': 2633, '제때': 2634, '당당': 2635, '처': 2636, '공평': 2637, '뒷담화': 2638, '응급실': 2639, '무거워': 2640, '걸어서': 2641, '소득': 2642, '피워서': 2643, '각자': 2644, '입대': 2645, '바람피우': 2646, '아부': 2647, '이벤트': 2648, '캠핑': 2649, '이제껏': 2650, '꾸준': 2651, '포즈': 2652, '의도': 2653, '학습': 2654, '의자': 2655, '온갖': 2656, '확': 2657, '자연': 2658, '흘리': 2659, '때려서': 2660, '교무실': 2661, '일방': 2662, '수영': 2663, '콜레스테롤': 2664, '전증': 2665, '성장': 2666, '구역질': 2667, '존중': 2668, '고독': 2669, '개발': 2670, '추가': 2671, '주동자': 2672, '현금': 2673, '따뜻': 2674, '재미없': 2675, '우승': 2676, '깜빡': 2677, '어리': 2678, '순': 2679, '학자금': 2680, '앞둔': 2681, '약점': 2682, '착하': 2683, '배달': 2684, '사별': 2685, '교과서': 2686, '집착': 2687, '허망': 2688, '인공': 2689, '놓여': 2690, '특별': 2691, '내렸': 2692, '으라는': 2693, '올렸': 2694, '을까요': 2695, '휠체어': 2696, '빌려간': 2697, '선수': 2698, '계약직': 2699, '속도': 2700, '태어난': 2701, '명예': 2702, '연습': 2703, '휴': 2704, '파산': 2705, '방향': 2706, '상해': 2707, '생명': 2708, '장난감': 2709, '입장': 2710, '돌아다니': 2711, '겨울': 2712, '교회': 2713, '이익': 2714, '달째': 2715, '의료': 2716, '출퇴근': 2717, '품': 2718, '철수': 2719, '합격자': 2720, '느껴서': 2721, '특별히': 2722, '끝난': 2723, '혈당': 2724, '바래': 2725, '보낸': 2726, '갈까': 2727, '불황': 2728, '전달': 2729, '맡겨': 2730, '찾아보': 2731, '끊겼': 2732, '한국': 2733, '슬퍼져': 2734, '두려운': 2735, '변경': 2736, '케이크': 2737, '쌍둥이': 2738, '콘서트': 2739, '이라도': 2740, '선거': 2741, '심사': 2742, '다닌다고': 2743, '학점': 2744, '파일': 2745, '질렀': 2746, '겉': 2747, '성사': 2748, '끝냈': 2749, '게요': 2750, '아등바등': 2751, '투정': 2752, '방식': 2753, '나눌': 2754, '폈': 2755, '변화': 2756, '떠날': 2757, '보상': 2758, '치우': 2759, '비위': 2760, '직급': 2761, '머리카락': 2762, '해온': 2763, '깜깜': 2764, '몰': 2765, '제주': 2766, '자취': 2767, '툭하면': 2768, '빵': 2769, '미뤄': 2770, '불륜': 2771, '뒀': 2772, '되찾': 2773, '불안감': 2774, '직장인': 2775, '전해': 2776, '플란트': 2777, '비만': 2778, '내외': 2779, '구입': 2780, '무기력': 2781, '흥미': 2782, '해질': 2783, '외제': 2784, '온라인': 2785, '해지': 2786, '어딜': 2787, '납부': 2788, '속상해서': 2789, '대들': 2790, '불렀': 2791, '벗어날': 2792, '학벌': 2793, '재활': 2794, '농사': 2795, '세금': 2796, '정치': 2797, '애정': 2798, '굳이': 2799, '신부': 2800, '손실': 2801, '준다는': 2802, '쓸모': 2803, '의대': 2804, '상여금': 2805, '자존': 2806, '소변': 2807, '여태껏': 2808, '서글프': 2809, '온통': 2810, '면담': 2811, '슬픔': 2812, '나타나': 2813, '투명': 2814, '목적': 2815, '엊그제': 2816, '적자': 2817, '올라오': 2818, '좀처럼': 2819, '생리': 2820, '려니까': 2821, '무거운': 2822, '울적': 2823, '토할': 2824, '차리': 2825, '만약': 2826, '먹여': 2827, '전원주택': 2828, '관한': 2829, '우선': 2830, '장례': 2831, '구했': 2832, '파': 2833, '토막': 2834, '기기': 2835, '반말': 2836, '트': 2837, '침침': 2838, '대우': 2839, '모욕': 2840, '문서': 2841, '프레젠테이션': 2842, '라더니': 2843, '깼': 2844, '쓸데없': 2845, '다던': 2846, '인맥': 2847, '양가': 2848, '택시': 2849, '신문': 2850, '연': 2851, '날리': 2852, '벌리': 2853, '놀려': 2854, '첫째': 2855, '착각': 2856, '조르': 2857, '여간': 2858, '제자리': 2859, '다가와': 2860, '염려': 2861, '챙겨야': 2862, '지지': 2863, '는구나': 2864, '돌아보': 2865, '맺': 2866, '부러워서': 2867, '주름': 2868, '공장': 2869, '타지': 2870, '옮긴': 2871, '줄까': 2872, '려던': 2873, '망하': 2874, '죠': 2875, '살리': 2876, '즐거운': 2877, '급격히': 2878, '졸업식': 2879, '지저분': 2880, '간단': 2881, '간식': 2882, '보험료': 2883, '변했': 2884, '다치': 2885, '성별': 2886, '나올까': 2887, '붙잡': 2888, '소극': 2889, '차렸': 2890, '속이': 2891, '이럴까': 2892, '세계': 2893, '푹': 2894, '먹이': 2895, '소개서': 2896, '우린': 2897, '무서웠': 2898, '출신': 2899, '밑': 2900, '떠들': 2901, '영희': 2902, '비하': 2903, '계셔': 2904, '불면증': 2905, '보약': 2906, '지겹': 2907, '요통': 2908, '양': 2909, '사라져서': 2910, '불평': 2911, '화려': 2912, '영상': 2913, '병동': 2914, '백화점': 2915, '판단': 2916, '돕': 2917, '산다는': 2918, '된다면': 2919, '발언': 2920, '낯': 2921, '부려서': 2922, '왔었': 2923, '정책': 2924, '수행': 2925, '쓰레기': 2926, '전문': 2927, '한다며': 2928, '배드민턴': 2929, '갑': 2930, '예순': 2931, '문과': 2932, '저기': 2933, '사항': 2934, '후유증': 2935, '적극': 2936, '비해서': 2937, '처분': 2938, '어떠': 2939, '재능': 2940, '줄어드': 2941, '풀려서': 2942, '소음': 2943, '주제': 2944, '수준': 2945, '이끌': 2946, '아주머니': 2947, '사라지': 2948, '일흔': 2949, '말리': 2950, '후면': 2951, '당한다는': 2952, '고쳐': 2953, '실감': 2954, '나올지': 2955, '스타': 2956, '노인회': 2957, '관두': 2958, '물론': 2959, '변기': 2960, '원했': 2961, '손님': 2962, '이겼': 2963, '터져': 2964, '성추행': 2965, '가득': 2966, '직속': 2967, '동성애': 2968, '지쳐서': 2969, '마주쳤': 2970, '질까봐': 2971, '치질': 2972, '지켜야': 2973, '공개': 2974, '권고': 2975, '대해야': 2976, '독촉': 2977, '제발': 2978, '망치': 2979, '원인': 2980, '때린': 2981, '서울대': 2982, '희망퇴직': 2983, '휴일': 2984, '그럼': 2985, '남겨': 2986, '내주': 2987, '지목': 2988, '브랜드': 2989, '살날': 2990, '온대': 2991, '들어줄': 2992, '끝났': 2993, '상당히': 2994, '동업': 2995, '차인데': 2996, '누명': 2997, '지급': 2998, '털': 2999, '하도': 3000, '정해': 3001, '가발': 3002, '이장': 3003, '가볍': 3004, '드릴': 3005, '일등': 3006, '그건': 3007, '건가요': 3008, '애교': 3009, '독서실': 3010, '화풀이': 3011, '걸릴까': 3012, '교제': 3013, '마음껏': 3014, '기복': 3015, '절친': 3016, '기념일': 3017, '벗': 3018, '비염': 3019, '과정': 3020, '형편없': 3021, '우유': 3022, '증': 3023, '부러졌': 3024, '놨': 3025, '배정': 3026, '사위': 3027, '대장': 3028, '다더라': 3029, '개선': 3030, '직전': 3031, '해내': 3032, '접근': 3033, '탐내': 3034, '바꿔서': 3035, '스마트폰': 3036, '노름': 3037, '어려운데': 3038, '시세': 3039, '숨겨': 3040, '경쟁사': 3041, '정한': 3042, '배치': 3043, '시원': 3044, '주임': 3045, '커플': 3046, '노여워': 3047, '인한': 3048, '야단': 3049, '가로챘': 3050, '잃어버린': 3051, '미련': 3052, '노약': 3053, '못한다고': 3054, '일단': 3055, '통지': 3056, '기본': 3057, '최악': 3058, '웃음': 3059, '절약': 3060, '범인': 3061, '공기': 3062, '거짓': 3063, '기뻐서': 3064, '때로': 3065, '꾸': 3066, '가져다': 3067, '폭언': 3068, '관해': 3069, '불량': 3070, '걸어도': 3071, '도망': 3072, '쓰러진': 3073, '목숨': 3074, '못난': 3075, '화장품': 3076, '뒤집': 3077, '남겨진': 3078, '헛소문': 3079, '기준': 3080, '담당자': 3081, '망친': 3082, '미쳐': 3083, '도시': 3084, '담보': 3085, '심해진': 3086, '기능': 3087, '자영업': 3088, '설거지': 3089, '얄미워': 3090, '이웃집': 3091, '여겨': 3092, '물리': 3093, '식탁': 3094, '내리': 3095, '간병인': 3096, '완성': 3097, '아래': 3098, '지기': 3099, '마이너스': 3100, '몽땅': 3101, '교사': 3102, '워낙': 3103, '어르신': 3104, '상위': 3105, '주도': 3106, '작가': 3107, '넘겨': 3108, '두려움': 3109, '올까': 3110, '정답': 3111, '난처': 3112, '미리미리': 3113, '장가': 3114, '퍼센트': 3115, '급': 3116, '하소연': 3117, '빼앗': 3118, '건망증': 3119, '하나하나': 3120, '된다니': 3121, '중풍': 3122, '돌려주': 3123, '댁': 3124, '느낄': 3125, '자석': 3126, '나아질': 3127, '썩': 3128, '물가': 3129, '심': 3130, '올라가': 3131, '속마음': 3132, '한다니까': 3133, '구해야': 3134, '내심': 3135, '달성': 3136, '기억력': 3137, '수상': 3138, '뻔뻔': 3139, '임금': 3140, '공기업': 3141, '렸': 3142, '살아오': 3143, '판매': 3144, '과도': 3145, '연말': 3146, '화장': 3147, '쑤시': 3148, '넓': 3149, '이과': 3150, '서비스': 3151, '호감': 3152, '예금': 3153, '한쪽': 3154, '만점': 3155, '자동차': 3156, '이간질': 3157, '잡혀': 3158, '대부분': 3159, '앞서': 3160, '편애': 3161, '늦둥이': 3162, '태어날': 3163, '출근길': 3164, '데려가': 3165, '멋있': 3166, '산후': 3167, '나았': 3168, '스러워져': 3169, '노안': 3170, '간다': 3171, '질책': 3172, '장학금': 3173, '승인': 3174, '첫날': 3175, '리': 3176, '만사': 3177, '권하': 3178, '소홀히': 3179, '글': 3180, '성질': 3181, '지루': 3182, '그토록': 3183, '따라서': 3184, '모범': 3185, '겠지': 3186, '채팅': 3187, '시스템': 3188, '챙길': 3189, '건네': 3190, '피로': 3191, '거슬려': 3192, '폐업': 3193, '손목': 3194, '사태': 3195, '허탈': 3196, '시누이': 3197, '꾸중': 3198, '컨': 3199, '대처': 3200, '는구먼': 3201, '독서': 3202, '쌓': 3203, '심지어': 3204, '영원히': 3205, '수당': 3206, '걱정거리': 3207, '계셔서': 3208, '주년': 3209, '빌려갔': 3210, '트라우마': 3211, '결혼식장': 3212, '정산': 3213, '어려웠': 3214, '자취방': 3215, '곗돈': 3216, '교복': 3217, '쏙': 3218, '옛': 3219, '열리': 3220, '스타일': 3221, '급히': 3222, '토익': 3223, '저지르': 3224, '발전': 3225, '판': 3226, '뒤통수': 3227, '조원': 3228, '등교': 3229, '몰라주': 3230, '자율': 3231, '입덧': 3232, '슬퍼하': 3233, '노망': 3234, '실장': 3235, '섰': 3236, '다던데': 3237, '침': 3238, '수중': 3239, '기초': 3240, '그거': 3241, '등수': 3242, '다가왔': 3243, '칠까': 3244, '중단': 3245, '그만큼': 3246, '헛살': 3247, '지불': 3248, '다툰': 3249, '아버님': 3250, '부작용': 3251, '여생': 3252, '확진': 3253, '으로부터': 3254, '회원': 3255, '당신': 3256, '참담': 3257, '광고': 3258, '취하': 3259, '잊어버리': 3260, '가요': 3261, '고용': 3262, '복용': 3263, '할텐데': 3264, '사직서': 3265, '끝날': 3266, '규칙': 3267, '활력': 3268, '외도': 3269, '는가': 3270, '타박': 3271, '놀렸': 3272, '가깝': 3273, '터놓': 3274, '날씬': 3275, '호전': 3276, '매': 3277, '극복': 3278, '외근': 3279, '요법': 3280, '한다면': 3281, '잠들': 3282, '알아들': 3283, '쌀쌀맞': 3284, '떠올라': 3285, '가르치': 3286, '그램': 3287, '홍삼': 3288, '졸': 3289, '줍': 3290, '고독사': 3291, '은근': 3292, '다가와서': 3293, '시국': 3294, '고자': 3295, '따라잡': 3296, '거동': 3297, '놀이공원': 3298, '미세먼지': 3299, '치료제': 3300, '율': 3301, '깨달': 3302, '진절머리': 3303, '웨딩': 3304, '떠넘겨': 3305, '비록': 3306, '대중교통': 3307, '신데': 3308, '수령': 3309, '시각': 3310, '우수': 3311, '버거워': 3312, '당': 3313, '자세': 3314, '말투': 3315, '틀니': 3316, '자궁': 3317, '다더니': 3318, '고발': 3319, '찾아갔': 3320, '들려': 3321, '태풍': 3322, '가족력': 3323, '지긋지긋하': 3324, '결재': 3325, '칠순': 3326, '이모': 3327, '실려': 3328, '야간': 3329, '버틸': 3330, '최대한': 3331, '서러운데': 3332, '증세': 3333, '막혀서': 3334, '했으니': 3335, '설계': 3336, '중독': 3337, '드려야': 3338, '치가': 3339, '당선': 3340, '상관': 3341, '하객': 3342, '외로울': 3343, '말싸움': 3344, '과자': 3345, '가담': 3346, '소견': 3347, '바꿨': 3348, '임용': 3349, '대견': 3350, '들키': 3351, '직종': 3352, '엄청난': 3353, '뒤늦': 3354, '다짜고짜': 3355, '물려줄': 3356, '안타깝': 3357, '하교': 3358, '계주': 3359, '머릿속': 3360, '병세': 3361, '원만': 3362, '전문가': 3363, '성형': 3364, '부턴가': 3365, '여름휴가': 3366, '커지': 3367, '한텐': 3368, '완주': 3369, '끌': 3370, '꽃': 3371, '도시락': 3372, '동결': 3373, '저혈압': 3374, '쉰': 3375, '주눅': 3376, '안과': 3377, '채택': 3378, '비타민': 3379, '떠넘겨서': 3380, '밀린': 3381, '스무': 3382, '농담': 3383, '과로': 3384, '펴': 3385, '차마': 3386, '위내시경': 3387, '남성': 3388, '이렇': 3389, '낙': 3390, '뇌종양': 3391, '이룰': 3392, '택배': 3393, '몰라도': 3394, '전세금': 3395, '닝': 3396, '보단': 3397, '밝히': 3398, '부러우': 3399, '잘나': 3400, '범위': 3401, '고는': 3402, '그랬을까': 3403, '유부남': 3404, '멍청': 3405, '어라': 3406, '복학': 3407, '따돌린': 3408, '징그러워': 3409, '뺐': 3410, '촬영': 3411, '신기': 3412, '악': 3413, '지나치': 3414, '굳': 3415, '변호사': 3416, '접어들': 3417, '췌장암': 3418, '나눴': 3419, '보호자': 3420, '별것': 3421, '조퇴': 3422, '무겁': 3423, '고민거리': 3424, '밀려서': 3425, '맞춰서': 3426, '혼주': 3427, '커녕': 3428, '낚시': 3429, '전날': 3430, '틀려서': 3431, '넘겼': 3432, '여섯': 3433, '평온': 3434, '나온다고': 3435, '돌리': 3436, '탄': 3437, '실업': 3438, '용': 3439, '었었': 3440, '시켜야': 3441, '동년배': 3442, '닦달': 3443, '스카우트': 3444, '질투심': 3445, '수시로': 3446, '쓰레기통': 3447, '노리': 3448, '뜻': 3449, '전이': 3450, '벽': 3451, '부렸': 3452, '위염': 3453, '치이': 3454, '퇴근길': 3455, '중환자실': 3456, '틀린': 3457, '사치': 3458, '공': 3459, '장만': 3460, '임종': 3461, '나빠진': 3462, '사놓': 3463, '오후': 3464, '상관없': 3465, '넘어지': 3466, '턱없이': 3467, '유능': 3468, '쳐': 3469, '합리': 3470, '빈혈': 3471, '했으면': 3472, '거려서': 3473, '차질': 3474, '동시': 3475, '보도': 3476, '과중': 3477, '꼼짝': 3478, '악성': 3479, '빌릴': 3480, '더라니까': 3481, '는다': 3482, '가시': 3483, '각종': 3484, '동거': 3485, '횡령': 3486, '욱': 3487, '반겨': 3488, '감시': 3489, '애기': 3490, '평': 3491, '댔': 3492, '나아졌': 3493, '처남': 3494, '선뜻': 3495, '에이': 3496, '상쾌': 3497, '숨겼': 3498, '딴': 3499, '이곳': 3500, '홈': 3501, '따지': 3502, '일억': 3503, '겸': 3504, '계신': 3505, '꼬투리': 3506, '체크': 3507, '즐길': 3508, '운명': 3509, '쟤': 3510, '증거': 3511, '가리': 3512, '망한': 3513, '열받': 3514, '테': 3515, '잊어버렸': 3516, '저금': 3517, '밀': 3518, '제주도': 3519, '남기': 3520, '담': 3521, '오토바이': 3522, '바랐': 3523, '미용실': 3524, '내색': 3525, '날아가': 3526, '눈치채': 3527, '설계사': 3528, '연속': 3529, '약하': 3530, '서랍': 3531, '실망감': 3532, '생일날': 3533, '더라면': 3534, '긍정': 3535, '기관지염': 3536, '역겹': 3537, '어린데': 3538, '오류': 3539, '선정': 3540, '가식': 3541, '불법': 3542, '떠날까': 3543, '범죄': 3544, '지향': 3545, '상무': 3546, '가져왔': 3547, '지친다': 3548, '지나쳤': 3549, '정해서': 3550, '충돌': 3551, '마주': 3552, '내놓': 3553, '덮': 3554, '재무': 3555, '섞': 3556, '심부': 3557, '보조': 3558, '뽑혔': 3559, '오랫만': 3560, '옷차림': 3561, '으나': 3562, '헤어질': 3563, '고작': 3564, '망쳐': 3565, '넘어져': 3566, '명문': 3567, '다더군': 3568, '성과급': 3569, '깎': 3570, '날아갔': 3571, '괴로워서': 3572, '구해서': 3573, '으래': 3574, '관해서': 3575, '턱': 3576, '적적': 3577, '내려서': 3578, '이겨낼': 3579, '역할': 3580, '텅': 3581, '무급': 3582, '끼워': 3583, '친해진': 3584, '연수': 3585, '체육복': 3586, '모아뒀': 3587, '제대': 3588, '내려': 3589, '절대로': 3590, '한약': 3591, '수다': 3592, '앞집': 3593, '공허': 3594, '졸업반': 3595, '주고받': 3596, '효율': 3597, '단어': 3598, '온다': 3599, '적당히': 3600, '기뻐하': 3601, '월': 3602, '아닐지': 3603, '황': 3604, '불리': 3605, '내게는': 3606, '뒷담': 3607, '쓰러져': 3608, '구속': 3609, '한다는데': 3610, '원금': 3611, '도망쳤': 3612, '라니까': 3613, '엘리베이터': 3614, '빠짐없이': 3615, '월요일': 3616, '후원': 3617, '가라앉': 3618, '은커녕': 3619, '원해서': 3620, '식은땀': 3621, '김부장': 3622, '인스턴트': 3623, '못나': 3624, '접수': 3625, '몇몇': 3626, '세입자': 3627, '시킬': 3628, '자며': 3629, '했어도': 3630, '나빴': 3631, '소비': 3632, '완쾌': 3633, '슬퍼지': 3634, '돼지': 3635, '망신': 3636, '실제': 3637, '배워야': 3638, '그분': 3639, '실습': 3640, '인수인계': 3641, '성향': 3642, '강도': 3643, '치아': 3644, '기저귀': 3645, '접촉': 3646, '지식': 3647, '뛰어나': 3648, '달라져서': 3649, '준비물': 3650, '내려오': 3651, '심했': 3652, '제자': 3653, '편찮': 3654, '죄다': 3655, '소질': 3656, '순위': 3657, '워크숍': 3658, '매니저': 3659, '이래서': 3660, '가려': 3661, '만지': 3662, '살갑': 3663, '심리': 3664, '마찰': 3665, '하반기': 3666, '결핵': 3667, '이달': 3668, '큰딸': 3669, '학부모': 3670, '시계': 3671, '투': 3672, '일일이': 3673, '넘치': 3674, '찾아가': 3675, '난동': 3676, '술집': 3677, '격려': 3678, '탕': 3679, '쫓기': 3680, '연장': 3681, '인제': 3682, '불치병': 3683, '네트워크': 3684, '꾸미': 3685, '매력': 3686, '라지만': 3687, '자랐': 3688, '알코올': 3689, '우습': 3690, '넘어갔': 3691, '갔다왔': 3692, '강사': 3693, '불임': 3694, '교내': 3695, '몸매': 3696, '친해질': 3697, '어휴': 3698, '나빠져': 3699, '텃세': 3700, '제품': 3701, '기숙사': 3702, '수월': 3703, '고마워서': 3704, '따돌릴': 3705, '경시대회': 3706, '이따금': 3707, '느리': 3708, '근력': 3709, '뜸': 3710, '민폐': 3711, '물어볼': 3712, '실지': 3713, '슈퍼': 3714, '집단': 3715, '층간': 3716, '욕설': 3717, '체질': 3718, '한다네': 3719, '소문나': 3720, '절': 3721, '낙하산': 3722, '낯선': 3723, '마땅히': 3724, '잔병치레': 3725, '한대서': 3726, '급해': 3727, '헌신': 3728, '암담': 3729, '오지': 3730, '경영': 3731, '맥주': 3732, '괴로웠': 3733, '즙': 3734, '도와줘': 3735, '들켜서': 3736, '헷갈려': 3737, '겉도': 3738, '이중': 3739, '예식장': 3740, '어떨지': 3741, '돌아와서': 3742, '말썽': 3743, '면박': 3744, '문제집': 3745, '어떨': 3746, '지만은': 3747, '프로게이머': 3748, '원해': 3749, '관리사': 3750, '삼촌': 3751, '가계': 3752, '빼앗겼': 3753, '래서': 3754, '휴식': 3755, '끊긴': 3756, '부잣집': 3757, '는다니': 3758, '파견': 3759, '괜한': 3760, '동떨어진': 3761, '계획서': 3762, '관뒀': 3763, '휴학': 3764, '채점': 3765, '처량': 3766, '삭감': 3767, '치러': 3768, '과일': 3769, '약사': 3770, '방관': 3771, '보일까': 3772, '서서히': 3773, '식이': 3774, '당일': 3775, '심장병': 3776, '드려요': 3777, '전역': 3778, '청춘': 3779, '망해버렸': 3780, '수고': 3781, '하찮': 3782, '주머니': 3783, '어떨까': 3784, '골치': 3785, '모였': 3786, '여력': 3787, '수급': 3788, '끓여': 3789, '다녀와서': 3790, '멈춰': 3791, '단칸방': 3792, '놀림거리': 3793, '지원서': 3794, '바르': 3795, '모처럼': 3796, '좋아할': 3797, '소릴': 3798, '미대': 3799, '입상': 3800, '때려치우': 3801, '바빴': 3802, '새엄마': 3803, '바뀐': 3804, '바다': 3805, '뭘까': 3806, '불량자': 3807, '염증': 3808, '극단': 3809, '생신': 3810, '엉뚱': 3811, '마실': 3812, '감각': 3813, '부유': 3814, '수습': 3815, '곧바로': 3816, '맘대로': 3817, '한시름': 3818, '푸': 3819, '유튜브': 3820, '어지러워서': 3821, '매월': 3822, '부상': 3823, '꿈꾸': 3824, '장거리': 3825, '플': 3826, '다양': 3827, '동업자': 3828, '뺨': 3829, '옮': 3830, '대상자': 3831, '화분': 3832, '누굴': 3833, '꾸짖': 3834, '부고': 3835, '액수': 3836, '돌려받': 3837, '얼어붙': 3838, '기피': 3839, '차린': 3840, '제시': 3841, '충당': 3842, '자네': 3843, '기립성': 3844, '꼴등': 3845, '호흡기': 3846, '다루': 3847, '늘어놓': 3848, '흡연': 3849, '코골이': 3850, '가망': 3851, '허약': 3852, '한계': 3853, '어울릴': 3854, '납품': 3855, '메뉴': 3856, '개념': 3857, '매달리': 3858, '장모님': 3859, '따라다니': 3860, '캄캄': 3861, '깨끗': 3862, '어쩌다': 3863, '보채': 3864, '예산': 3865, '교통': 3866, '보호': 3867, '생길까': 3868, '약국': 3869, '놀랬': 3870, '지기가': 3871, '다가올수록': 3872, '이르': 3873, '굶': 3874, '나타났': 3875, '세웠': 3876, '움직일': 3877, '땅값': 3878, '유': 3879, '느니': 3880, '동물': 3881, '손잡': 3882, '올라와서': 3883, '토': 3884, '즐거웠': 3885, '압류': 3886, '음주운전': 3887, '증후군': 3888, '정확히': 3889, '교류': 3890, '가사': 3891, '평범': 3892, '든다고': 3893, '빌': 3894, '정신없': 3895, '대기': 3896, '헬스클럽': 3897, '석': 3898, '달라진': 3899, '잦아졌': 3900, '가만두': 3901, '폭': 3902, '주체': 3903, '분배': 3904, '어울려': 3905, '가져야': 3906, '해버렸': 3907, '뇌경색': 3908, '목욕탕': 3909, '터지': 3910, '올려서': 3911, '소풍': 3912, '받아들이': 3913, '막내아들': 3914, '타령': 3915, '공유': 3916, '방치': 3917, '주사기': 3918, '나온다': 3919, '회계사': 3920, '망칠': 3921, '망가진': 3922, '상가': 3923, '건강히': 3924, '깁스': 3925, '노릇': 3926, '데려와서': 3927, '지방대': 3928, '뀌': 3929, '어딘가': 3930, '독거': 3931, '감격': 3932, '굽': 3933, '이때': 3934, '가벼운': 3935, '빈곤': 3936, '닿': 3937, '냉장고': 3938, '대했': 3939, '맡겨서': 3940, '볼지': 3941, '너무너무': 3942, '미역국': 3943, '모자란': 3944, '징그럽': 3945, '가치관': 3946, '모를': 3947, '보복': 3948, '퇴직자': 3949, '튼튼': 3950, '는군요': 3951, '알아봐': 3952, '주의': 3953, '빠진': 3954, '낡': 3955, '피아노': 3956, '자신감': 3957, '정지': 3958, '저렇': 3959, '구토': 3960, '어떻하': 3961, '빈털터리': 3962, '그만둘까': 3963, '설득': 3964, '꼬박꼬박': 3965, '깨어나': 3966, '동의': 3967, '면허': 3968, '물혹': 3969, '나인데': 3970, '들어갈수록': 3971, '더워서': 3972, '지나갔': 3973, '채소': 3974, '놀랍': 3975, '수많': 3976, '허': 3977, '늘렸': 3978, '찢': 3979, '방과': 3980, '미움': 3981, '비행기': 3982, '문병': 3983, '주네': 3984, '이룬': 3985, '내쫓': 3986, '늙은이': 3987, '노래방': 3988, '들어올': 3989, '권태기': 3990, '폭발': 3991, '조치': 3992, '모른다고': 3993, '인센티브': 3994, '챙겼': 3995, '다닌다는': 3996, '꾸지람': 3997, '바닥나': 3998, '날려서': 3999, '주장': 4000, '당구': 4001, '쓰러질': 4002, '꽃다발': 4003, '염색': 4004, '확정': 4005, '가계부': 4006, '알려질까': 4007, '미친': 4008, '수십': 4009, '선언': 4010, '졌으면': 4011, '외국인': 4012, '애쓰': 4013, '절반': 4014, '볼일': 4015, '분담': 4016, '올린': 4017, '부서장': 4018, '야구': 4019, '수면': 4020, '과하': 4021, '으려나': 4022, '부러진': 4023, '라곤': 4024, '자란': 4025, '게다가': 4026, '남친': 4027, '데뷔': 4028, '가뜩이나': 4029, '높이': 4030, '풍족': 4031, '깨졌': 4032, '똑똑': 4033, '설': 4034, '부를': 4035, '엠티': 4036, '뻔히': 4037, '옮겨': 4038, '틀리': 4039, '답안': 4040, '고모': 4041, '실컷': 4042, '질러서': 4043, '그나마': 4044, '가벼워': 4045, '얻어먹': 4046, '매점': 4047, '주선': 4048, '위급': 4049, '젊음': 4050, '해놨': 4051, '임대': 4052, '데려오': 4053, '승낙': 4054, '와중': 4055, '갑갑': 4056, '대입': 4057, '상환': 4058, '돌아갈': 4059, '홧김': 4060, '피했': 4061, '걸어가': 4062, '유출': 4063, '인하': 4064, '처가': 4065, '반지': 4066, '해야할까': 4067, '살아갈지': 4068, '주저앉': 4069, '는커녕': 4070, '어려워하': 4071, '그룹': 4072, '재판': 4073, '보증금': 4074, '하마터면': 4075, '점검': 4076, '기증자': 4077, '쌓였': 4078, '뚝': 4079, '무심': 4080, '제안서': 4081, '공격': 4082, '면역력': 4083, '설마': 4084, '놓이': 4085, '벌레': 4086, '준다는데': 4087, '신혼집': 4088, '보통': 4089, '물품': 4090, '거두': 4091, '뱉': 4092, '느': 4093, '바쳤': 4094, '때릴': 4095, '학급': 4096, '단다': 4097, '검토': 4098, '불려갔': 4099, '준다': 4100, '물러나': 4101, '고르': 4102, '유언장': 4103, '아가씨': 4104, '예물': 4105, '간질': 4106, '떡': 4107, '필라테스': 4108, '깔끔': 4109, '마신': 4110, '양말': 4111, '불공평': 4112, '잃어버려서': 4113, '잔액': 4114, '에다': 4115, '폐결핵': 4116, '머리숱': 4117, '대꾸': 4118, '기구': 4119, '실까봐': 4120, '인력': 4121, '어느덧': 4122, '달라지': 4123, '오래오래': 4124, '약해졌': 4125, '챙긴': 4126, '참가': 4127, '끄': 4128, '클럽': 4129, '꼴찌': 4130, '낯설': 4131, '모레': 4132, '땀': 4133, '올라와': 4134, '잘리': 4135, '정직': 4136, '으려면': 4137, '드레스': 4138, '더럽': 4139, '그만둘': 4140, '들여다보': 4141, '각': 4142, '갑작': 4143, '경매': 4144, '덩달': 4145, '학력': 4146, '모집': 4147, '착실': 4148, '골': 4149, '끊임없이': 4150, '배웠': 4151, '원수': 4152, '버렸으면': 4153, '기쁨': 4154, '넘어질': 4155, '언성': 4156, '화재': 4157, '머': 4158, '모을': 4159, '아야지': 4160, '일지': 4161, '이란': 4162, '금주': 4163, '뮤지컬': 4164, '남녀': 4165, '민원': 4166, '연휴': 4167, '깨지': 4168, '천': 4169, '사채': 4170, '끊겨서': 4171, '소속': 4172, '대가': 4173, '말렸': 4174, '능률': 4175, '일거리': 4176, '지켜서': 4177, '종류': 4178, '전원': 4179, '차갑': 4180, '따라야': 4181, '퍼트리': 4182, '무뚝뚝': 4183, '계실': 4184, '상냥': 4185, '깜빡하': 4186, '구급차': 4187, '계좌': 4188, '어젠': 4189, '내려갔': 4190, '보인다는': 4191, '더러운': 4192, '그날': 4193, '승무원': 4194, '앞길': 4195, '반영': 4196, '틀림없': 4197, '공동': 4198, '느려서': 4199, '속상': 4200, '던져': 4201, '나머지': 4202, '아깝': 4203, '방역': 4204, '망가뜨렸': 4205, '단골': 4206, '무례': 4207, '디자인': 4208, '모금': 4209, '떠올라서': 4210, '서러워서': 4211, '동서': 4212, '신났': 4213, '어다': 4214, '약해져서': 4215, '여가': 4216, '훌륭': 4217, '잇몸': 4218, '다신': 4219, '합의': 4220, '부딪혀': 4221, '드라이브': 4222, '분하': 4223, '과학': 4224, '음직': 4225, '피워': 4226, '샤워': 4227, '땄': 4228, '이길': 4229, '축': 4230, '축복': 4231, '공간': 4232, '깜빡깜빡': 4233, '작품': 4234, '별다른': 4235, '키스': 4236, '든다': 4237, '비대': 4238, '경향': 4239, '늘어났': 4240, '고령': 4241, '요가': 4242, '통쾌': 4243, '간염': 4244, '고칠': 4245, '입맛': 4246, '툴툴거리': 4247, '안중': 4248, '연루': 4249, '수발': 4250, '문신': 4251, '비실': 4252, '유전': 4253, '쓴다고': 4254, '호텔': 4255, '긁': 4256, '탁구': 4257, '허세': 4258, '번듯': 4259, '치여서': 4260, '상속': 4261, '다운': 4262, '위협': 4263, '망설이': 4264, '귀가': 4265, '받아들여': 4266, '당한다고': 4267, '제거': 4268, '부서원': 4269, '받아들일': 4270, '말년': 4271, '산악회': 4272, '골절': 4273, '사생활': 4274, '유치원': 4275, '층': 4276, '다가올': 4277, '벅차': 4278, '탕진': 4279, '배울': 4280, '소셜': 4281, '그걸로': 4282, '누워서': 4283, '채우': 4284, '취득': 4285, '연체': 4286, '뵈': 4287, '희': 4288, '귀병': 4289, '올라갔': 4290, '깜박': 4291, '참으로': 4292, '발작': 4293, '놔두': 4294, '돌아와': 4295, '말대꾸': 4296, '위치': 4297, '입금': 4298, '시즌': 4299, '십년지기': 4300, '위층': 4301, '안경': 4302, '찼': 4303, '불화': 4304, '술주정': 4305, '걸음': 4306, '갑상선': 4307, '위해선': 4308, '노고': 4309, '전망': 4310, '알렸': 4311, '떴': 4312, '정정': 4313, '책임질': 4314, '주차': 4315, '버릴까': 4316, '딱히': 4317, '반년': 4318, '궁핍': 4319, '낼까': 4320, '김치': 4321, '봄': 4322, '줄지': 4323, '전담': 4324, '견제': 4325, '상심': 4326, '모인': 4327, '현관': 4328, '냐면서': 4329, '자동': 4330, '챙겨서': 4331, '그렇지만': 4332, '수막염': 4333, '유럽': 4334, '트림': 4335, '견': 4336, '귀촌': 4337, '알레르기': 4338, '간만에': 4339, '된다며': 4340, '병든': 4341, '환불': 4342, '스': 4343, '해둘': 4344, '투성이': 4345, '마음먹': 4346, '이래도': 4347, '무인도': 4348, '호스피스': 4349, '씀씀이': 4350, '햄버거': 4351, '속여': 4352, '서툴러서': 4353, '반드시': 4354, '가져서': 4355, '쏘': 4356, '생겨도': 4357, '경조사': 4358, '큰일날': 4359, '지수': 4360, '부러웠': 4361, '해코지': 4362, '왕래': 4363, '노크': 4364, '막말': 4365, '띄': 4366, '산후조리원': 4367, '당할지': 4368, '독박': 4369, '쓰려': 4370, '느낀': 4371, '협심증': 4372, '충고': 4373, '치마': 4374, '아토피': 4375, '신약': 4376, '낙방': 4377, '떠넘겼': 4378, '트러블': 4379, '체육관': 4380, '나날': 4381, '졸라서': 4382, '끊기': 4383, '살려': 4384, '어려워졌': 4385, '감옥': 4386, '풀렸': 4387, '추억': 4388, '영영': 4389, '아마도': 4390, '바깥': 4391, '생산': 4392, '지방간': 4393, '주부': 4394, '했으나': 4395, '일어난': 4396, '낙서': 4397, '여의치': 4398, '해라': 4399, '갑작스런': 4400, '쪽지': 4401, '들킨': 4402, '시험관': 4403, '지난해': 4404, '책임져야': 4405, '잠수': 4406, '전하': 4407, '관리자': 4408, '찬': 4409, '수영장': 4410, '걸려도': 4411, '종목': 4412, '편해서': 4413, '저리': 4414, '괴로워하': 4415, '점차': 4416, '담사': 4417, '끼니': 4418, '표': 4419, '졸였': 4420, '바지': 4421, '회관': 4422, '동영상': 4423, '식장': 4424, '부지런히': 4425, '쓰여서': 4426, '신가': 4427, '인사이동': 4428, '수술실': 4429, '자원': 4430, '실험': 4431, '예술': 4432, '혀': 4433, '액': 4434, '엄두': 4435, '혈액': 4436, '습니다': 4437, '방광염': 4438, '놀랄': 4439, '골라': 4440, '뵐': 4441, '언짢': 4442, '둥': 4443, '놔': 4444, '진다고': 4445, '메일': 4446, '사돈': 4447, '와야': 4448, '복도': 4449, '몰라라': 4450, '떠오르': 4451, '큰형': 4452, '선천': 4453, '마케팅': 4454, '흐르': 4455, '언쟁': 4456, '휘두르': 4457, '치르': 4458, '샘': 4459, '엄살': 4460, '지연': 4461, '그쪽': 4462, '감수': 4463, '숙취': 4464, '한꺼번에': 4465, '간경변증': 4466, '소일거리': 4467, '멍': 4468, '진통': 4469, '극심': 4470, '신중': 4471, '완벽히': 4472, '짝꿍': 4473, '풀려': 4474, '으려는': 4475, '화났': 4476, '파업': 4477, '음료수': 4478, '전기세': 4479, '피드백': 4480, '실명': 4481, '진도': 4482, '후원금': 4483, '출발': 4484, '내밀': 4485, '놀이터': 4486, '총무': 4487, '외톨': 4488, '아홉': 4489, '떨려서': 4490, '충원': 4491, '산더미': 4492, '편입': 4493, '국내': 4494, '연구': 4495, '아까워': 4496, '시설': 4497, '필수': 4498, '유리': 4499, '한평생': 4500, '이뤄': 4501, '위장': 4502, '터무니없이': 4503, '구두': 4504, '민간': 4505, '겉돌': 4506, '칸': 4507, '딸애': 4508, '퍼붓': 4509, '교차': 4510, '괴로울': 4511, '조롱': 4512, '새워': 4513, '가정폭력': 4514, '이걸로': 4515, '접대': 4516, '황혼': 4517, '최신': 4518, '엄격': 4519, '나섰': 4520, '자르': 4521, '변비': 4522, '임기': 4523, '틀어박혀': 4524, '해치': 4525, '했어야': 4526, '낯가림': 4527, '누리': 4528, '쫓겨나': 4529, '보일': 4530, '여윳돈': 4531, '힘든지': 4532, '자상': 4533, '잡아먹': 4534, '철저': 4535, '응대': 4536, '제멋대로': 4537, '수년': 4538, '월급날': 4539, '빨래': 4540, '돌려서': 4541, '어두워서': 4542, '위자료': 4543, '아랫집': 4544, '말없이': 4545, '비켜': 4546, '뒤쳐지': 4547, '증오': 4548, '차지': 4549, '재료': 4550, '돌변': 4551, '태산': 4552, '놀이동산': 4553, '만날까': 4554, '주어진': 4555, '로워서': 4556, '본가': 4557, '노여워하': 4558, '도서관': 4559, '양다리': 4560, '원한': 4561, '원피스': 4562, '과식': 4563, '할꺼': 4564, '또한': 4565, '찾아뵙': 4566, '쥐': 4567, '영순': 4568, '외부': 4569, '타인': 4570, '뽀뽀': 4571, '싱글': 4572, '경과': 4573, '터': 4574, '가져오': 4575, '한때': 4576, '진상': 4577, '남긴': 4578, '무난': 4579, '삐': 4580, '카네이션': 4581, '소리치': 4582, '시집가': 4583, '안다고': 4584, '도리어': 4585, '이루어지': 4586, '해봐도': 4587, '간절히': 4588, '지사': 4589, '점원': 4590, '이런지': 4591, '시점': 4592, '금요일': 4593, '그릇': 4594, '모함': 4595, '그간': 4596, '방지': 4597, '안절부절': 4598, '흘렸': 4599, '꾀병': 4600, '는다는데': 4601, '비서': 4602, '사니': 4603, '역사': 4604, '유치': 4605, '이뻐': 4606, '가짜': 4607, '오만': 4608, '본부': 4609, '갑작스레': 4610, '완료': 4611, '망해': 4612, '올릴': 4613, '규모': 4614, '지켜볼': 4615, '엎': 4616, '친동생': 4617, '통금': 4618, '쟁이': 4619, '수명': 4620, '열렸': 4621, '체계': 4622, '답변': 4623, '기도': 4624, '지친': 4625, '평판': 4626, '돌이켜': 4627, '맡긴': 4628, '몰려': 4629, '흡연자': 4630, '났었': 4631, '우산': 4632, '일으키': 4633, '반성': 4634, '소파': 4635, '오디션': 4636, '모자': 4637, '멍해': 4638, '맡길': 4639, '느려': 4640, '번다고': 4641, '기에': 4642, '잘생긴': 4643, '속인': 4644, '축가': 4645, '꾸리': 4646, '제법': 4647, '퇴행': 4648, '테스트': 4649, '도맡': 4650, '합의금': 4651, '요샌': 4652, '원통': 4653, '팔리': 4654, '분양': 4655, '죄지': 4656, '센': 4657, '눈빛': 4658, '뺏겼': 4659, '큰아이': 4660, '대수롭': 4661, '진찰': 4662, '내부': 4663, '염려증': 4664, '근속': 4665, '텃밭': 4666, '버럭': 4667, '난청': 4668, '멋대로': 4669, '들통': 4670, '어지러워': 4671, '챙겨줘': 4672, '이어지': 4673, '뛰어난': 4674, '조깅': 4675, '음주': 4676, '가꾸': 4677, '밥상': 4678, '출가': 4679, '바꾼': 4680, '특성': 4681, '어린애': 4682, '찢어질': 4683, '보살펴': 4684, '시달려': 4685, '청했': 4686, '혼날까': 4687, '조리': 4688, '절제': 4689, '안면': 4690, '들어야': 4691, '오줌': 4692, '강': 4693, '강남': 4694, '올라왔': 4695, '거지': 4696, '쭉': 4697, '최저': 4698, '류머티즘': 4699, '보조제': 4700, '사우나': 4701, '켜': 4702, '들려서': 4703, '돌연사': 4704, '아플까': 4705, '서글퍼져': 4706, '퍼뜨렸': 4707, '못생겼': 4708, '당해도': 4709, '맛없': 4710, '올바른': 4711, '스러우': 4712, '빼먹': 4713, '종교': 4714, '지망': 4715, '정색': 4716, '내일모레': 4717, '비전': 4718, '꿇': 4719, '외상': 4720, '춤': 4721, '지어서': 4722, '옛말': 4723, '대판': 4724, '각오': 4725, '어리석': 4726, '소수자': 4727, '약물': 4728, '뒷전': 4729, '이러다': 4730, '깨우': 4731, '어기': 4732, '즘': 4733, '마찬가지': 4734, '마구': 4735, '고정': 4736, '순서': 4737, '간다는': 4738, '죽이': 4739, '대소변': 4740, '고급': 4741, '미흡': 4742, '주웠': 4743, '아닐': 4744, '고지식': 4745, '구석구석': 4746, '뺑소니': 4747, '마당': 4748, '총': 4749, '접어드': 4750, '쌓인': 4751, '부위': 4752, '소문난': 4753, '개운': 4754, '초등학생': 4755, '건성': 4756, '정성껏': 4757, '쌀': 4758, '들이': 4759, '는다면': 4760, '암울': 4761, '관념': 4762, '주치의': 4763, '만취': 4764, '께선': 4765, '증언': 4766, '문턱': 4767, '퍼졌': 4768, '간절': 4769, '해방': 4770, '찾아올까': 4771, '속물': 4772, '저지른': 4773, '교환': 4774, '일반': 4775, '여친': 4776, '주방': 4777, '들어와도': 4778, '헤어져': 4779, '삭막': 4780, '티격태격': 4781, '열사병': 4782, '예쁨': 4783, '기일': 4784, '빨개졌': 4785, '전립선': 4786, '극구': 4787, '연세': 4788, '변변': 4789, '으신가': 4790, '철저히': 4791, '퇴식': 4792, '더운': 4793, '급전': 4794, '동참': 4795, '부산': 4796, '공황': 4797, '들으려': 4798, '몫': 4799, '환상': 4800, '학대': 4801, '오진': 4802, '창고': 4803, '데려온': 4804, '연령': 4805, '살길': 4806, '적용': 4807, '웃음거리': 4808, '해뒀': 4809, '뒤지': 4810, '들킬': 4811, '강한': 4812, '준다던': 4813, '든다는': 4814, '그만둔': 4815, '사돈댁': 4816, '팔팔': 4817, '가정부': 4818, '중국': 4819, '순식간': 4820, '뽑히': 4821, '뜬': 4822, '크리스마스': 4823, '쫓아다니': 4824, '할걸': 4825, '경쟁자': 4826, '비아냥대': 4827, '줬었': 4828, '손찌검': 4829, '못된': 4830, '주기': 4831, '뒤처진': 4832, '입찰': 4833, '경제력': 4834, '부린': 4835, '박람회': 4836, '한다면서': 4837, '협력': 4838, '숨겨서': 4839, '미워서': 4840, '그린': 4841, '잡일': 4842, '추진': 4843, '미뤘': 4844, '전기': 4845, '주먹': 4846, '들여서': 4847, '실례': 4848, '시끄러워서': 4849, '신부전': 4850, '코스': 4851, '터져서': 4852, '보유': 4853, '빚보증': 4854, '아껴서': 4855, '다녀도': 4856, '부린다고': 4857, '체험': 4858, '가스': 4859, '부러져서': 4860, '해서인지': 4861, '주간': 4862, '좌천': 4863, '제약': 4864, '해줘서': 4865, '왼쪽': 4866, '야호': 4867, '필': 4868, '신가요': 4869, '그러니까': 4870, '자면': 4871, '떠나보내': 4872, '적어지': 4873, '소송': 4874, '역겨운': 4875, '정장': 4876, '역겨웠': 4877, '본다고': 4878, '떨린다': 4879, '예단': 4880, '설사': 4881, '예고': 4882, '뒷': 4883, '누군지': 4884, '영정': 4885, '라더라': 4886, '험한': 4887, '카카오톡': 4888, '취향': 4889, '문제없': 4890, '아흔': 4891, '짤렸': 4892, '감싸': 4893, '알려줘': 4894, '멋지': 4895, '홍수': 4896, '활기': 4897, '스러웠어': 4898, '안마기': 4899, '정확': 4900, '믿겨': 4901, '고선': 4902, '추운': 4903, '서부터': 4904, '여겨서': 4905, '지장': 4906, '기다려야': 4907, '넘쳐': 4908, '늘어난': 4909, '꽉': 4910, '냉전': 4911, '치사': 4912, '전동': 4913, '발주': 4914, '정성': 4915, '성대': 4916, '양심': 4917, '지우': 4918, '실제로': 4919, '잊어버린': 4920, '만두': 4921, '인대': 4922, '성인병': 4923, '병행': 4924, '언행': 4925, '어쩐지': 4926, '튜버': 4927, '고개': 4928, '가져간': 4929, '공지': 4930, '유전병': 4931, '인복': 4932, '파킨슨병': 4933, '승승장구': 4934, '기름진': 4935, '훔치': 4936, '경고': 4937, '말문': 4938, '대뜸': 4939, '할래': 4940, '맑': 4941, '무좀': 4942, '식습관': 4943, '인수': 4944, '초반': 4945, '했잖아': 4946, '조바심': 4947, '합니다': 4948, '합병': 4949, '거둘': 4950, '기절': 4951, '은근슬쩍': 4952, '선글라스': 4953, '장난치': 4954, '내줬': 4955, '쑤셔': 4956, '배워': 4957, '핀': 4958, '야구장': 4959, '편두통': 4960, '자는데': 4961, '반가웠': 4962, '는다니까': 4963, '이만큼': 4964, '일본': 4965, '설날': 4966, '크기': 4967, '아파지': 4968, '유난히': 4969, '안전': 4970, '기대감': 4971, '베꼈': 4972, '음성': 4973, '애써': 4974, '털어놨': 4975, '채널': 4976, '모아야': 4977, '흐뭇': 4978, '투덜대': 4979, '부딪히': 4980, '흰': 4981, '베풀': 4982, '미뤄야': 4983, '아쉬운': 4984, '못할까봐': 4985, '세워': 4986, '성실히': 4987, '진실': 4988, '질러': 4989, '마주친': 4990, '환절기': 4991, '더러워서': 4992, '다녀올': 4993, '깔': 4994, '노년기': 4995, '평일': 4996, '모아도': 4997, '양반': 4998, '권했': 4999, '써버려서': 5000, '촉박': 5001, '밀치': 5002, '아픔': 5003, '태블릿': 5004, '옆구리': 5005, '결석': 5006, '선산': 5007, '착해': 5008, '신다': 5009, '두통': 5010, '동성': 5011, '다가온': 5012, '안쓰럽': 5013, '돈벌이': 5014, '하굣길': 5015, '시급': 5016, '유세': 5017, '논': 5018, '왕': 5019, '이등': 5020, '섬': 5021, '키워서': 5022, '고장나': 5023, '깨워': 5024, '아쉬웠': 5025, '구분': 5026, '한없이': 5027, '꼰대': 5028, '실시': 5029, '투기': 5030, '속옷': 5031, '곱': 5032, '보청기': 5033, '간경': 5034, '상승': 5035, '다짐': 5036, '환갑잔치': 5037, '뻐근': 5038, '을걸': 5039, '보낼까': 5040, '찾아올': 5041, '언젠간': 5042, '윗사람': 5043, '삐끗': 5044, '어려워져': 5045, '잊히': 5046, '성가셔서': 5047, '흔쾌히': 5048, '실종': 5049, '감흥': 5050, '여사원': 5051, '결혼반지': 5052, '지날수록': 5053, '집구석': 5054, '빨라': 5055, '산업': 5056, '잘려': 5057, '훈수': 5058, '깨닫': 5059, '자도': 5060, '다쳐': 5061, '뜸해': 5062, '평화': 5063, '열려': 5064, '입양아': 5065, '깨져': 5066, '힘든가': 5067, '인신공격': 5068, '번번이': 5069, '예뻐해서': 5070, '챙겨준': 5071, '독신': 5072, '꿈꿨': 5073, '파악': 5074, '거꾸로': 5075, '값비싼': 5076, '도난': 5077, '따라갈': 5078, '미': 5079, '부러운': 5080, '계셨': 5081, '싫어해서': 5082, '운동장': 5083, '무턱대고': 5084, '떠맡': 5085, '모델': 5086, '기러기': 5087, '괜스레': 5088, '기증': 5089, '욕했': 5090, '입술': 5091, '그다지': 5092, '라지': 5093, '연하': 5094, '웬만': 5095, '연명': 5096, '청소부': 5097, '경치': 5098, '스승': 5099, '더듬': 5100, '감염': 5101, '결리': 5102, '바이어': 5103, '어쩌다가': 5104, '호흡': 5105, '부끄러워하': 5106, '상담원': 5107, '개학': 5108, '잊어먹': 5109, '쓰였': 5110, '상장': 5111, '매입': 5112, '소문났': 5113, '도우미': 5114, '재직': 5115, '찬성': 5116, '기댈': 5117, '찢어지': 5118, '화만': 5119, '책임감': 5120, '정신과': 5121, '막무가내': 5122, '으세요': 5123, '배경': 5124, '스물': 5125, '망가져서': 5126, '재력': 5127, '뚜렷': 5128, '비추': 5129, '살맛': 5130, '나아진': 5131, '폰': 5132, '아낌없이': 5133, '피자': 5134, '문대': 5135, '닦': 5136, '꺼리': 5137, '따랐': 5138, '노부부': 5139, '혼전': 5140, '공사': 5141, '까다로운': 5142, '스킨십': 5143, '필통': 5144, '들어갈까': 5145, '병가': 5146, '상조': 5147, '번거로워': 5148, '음료': 5149, '어지럽': 5150, '아들딸': 5151, '프리랜서': 5152, '모른대': 5153, '무얼': 5154, '유난': 5155, '대머리': 5156, '어려': 5157, '뺏어가': 5158, '따졌': 5159, '악취': 5160, '축의금': 5161, '솜씨': 5162, '빈자리': 5163, '시아버지': 5164, '갑작스러운': 5165, '워킹': 5166, '백혈병': 5167, '메세지': 5168, '적막': 5169, '공사장': 5170, '나을': 5171, '시어머님': 5172, '이쁘': 5173, '시달려서': 5174, '어울린다고': 5175, '했어요': 5176, '업': 5177, '잦아지': 5178, '내줘서': 5179, '열정': 5180, '아이고': 5181, '대사': 5182, '됐었': 5183, '활발': 5184, '언급': 5185, '싸늘': 5186, '따위': 5187, '잖': 5188, '미처': 5189, '지나간': 5190, '줄여야': 5191, '권위': 5192, '약해진': 5193, '맞춘': 5194, '위주': 5195, '부진': 5196, '거액': 5197, '가져와서': 5198, '효도': 5199, '예뻐서': 5200, '겹쳐서': 5201, '자국': 5202, '떠나갔': 5203, '복귀': 5204, '어긋나': 5205, '들어간다고': 5206, '전국': 5207, '떠돌': 5208, '기형': 5209, '뒹굴': 5210, '식욕': 5211, '의논': 5212, '워': 5213, '위선': 5214, '야유회': 5215, '애매': 5216, '양수': 5217, '구경': 5218, '피로감': 5219, '숨겨놨': 5220, '해버려서': 5221, '두려웠': 5222, '재롱': 5223, '형식': 5224, '느껴질': 5225, '레스토랑': 5226, '이석': 5227, '이미지': 5228, '고마운지': 5229, '하한가': 5230, '마세요': 5231, '당구장': 5232, '갈피': 5233, '게이트볼': 5234, '연극': 5235, '밀어내': 5236, '꿨': 5237, '쫓겨날': 5238, '성한': 5239, '연고': 5240, '선호': 5241, '모욕감': 5242, '못한다는': 5243, '몰려와': 5244, '그래서인지': 5245, '친목': 5246, '간수': 5247, '나와야': 5248, '줘야지': 5249, '걸렸었': 5250, '노화': 5251, '찐': 5252, '근심': 5253, '바닥났': 5254, '뱀술': 5255, '핑': 5256, '황망': 5257, '아침밥': 5258, '일요일': 5259, '무대': 5260, '시행': 5261, '알아듣': 5262, '토가': 5263, '합류': 5264, '깎였': 5265, '세미나': 5266, '보답': 5267, '신통': 5268, '였으면': 5269, '여럿': 5270, '소름': 5271, '본사': 5272, '차여서': 5273, '장가가': 5274, '귀국': 5275, '의사소통': 5276, '진통제': 5277, '경화': 5278, '임산부': 5279, '진정한': 5280, '버려져': 5281, '갇혀': 5282, '구한': 5283, '깨어날': 5284, '돼도': 5285, '넘겨서': 5286, '희생양': 5287, '호통': 5288, '우대': 5289, '행운': 5290, '넘어진': 5291, '여건': 5292, '내편이': 5293, '특근': 5294, '피시': 5295, '전근': 5296, '빌려줄': 5297, '약했': 5298, '종이': 5299, '적절': 5300, '초초': 5301, '려다': 5302, '생일상': 5303, '웃긴': 5304, '훌쩍': 5305, '단속': 5306, '티비': 5307, '술잔': 5308, '끼치': 5309, '청할': 5310, '급해져': 5311, '나잇살': 5312, '위독': 5313, '따를': 5314, '간부': 5315, '인가요': 5316, '기밀': 5317, '주변인': 5318, '우유부단': 5319, '결과물': 5320, '버튼': 5321, '람': 5322, '공항': 5323, '마중': 5324, '일기장': 5325, '품절': 5326, '정신없이': 5327, '숨쉬기': 5328, '골탕': 5329, '유통': 5330, '낄': 5331, '미뤄졌': 5332, '외국어': 5333, '상반기': 5334, '분가': 5335, '코피': 5336, '외할머니': 5337, '업자': 5338, '그래야': 5339, '고약': 5340, '륜': 5341, '설쳤': 5342, '진다는': 5343, '용품': 5344, '프랜차이즈': 5345, '무서워졌': 5346, '주번': 5347, '오른다고': 5348, '뒷이야기': 5349, '신호': 5350, '단점': 5351, '솔로': 5352, '화난다': 5353, '안타까운': 5354, '정거장': 5355, '요점': 5356, '없애': 5357, '추천서': 5358, '야지': 5359, '처해': 5360, '마주쳐서': 5361, '메신저': 5362, '여행지': 5363, '영원': 5364, '빠져나가': 5365, '영심': 5366, '여부': 5367, '잉꼬부부': 5368, '보수': 5369, '채워': 5370, '뒤떨어지': 5371, '휴대': 5372, '멀리서': 5373, '건의': 5374, '오락가락': 5375, '주스': 5376, '아팠으면': 5377, '저려서': 5378, '소리쳤': 5379, '화상': 5380, '밤늦': 5381, '출석': 5382, '사둔': 5383, '변동': 5384, '대청소': 5385, '움큼': 5386, '턱걸이': 5387, '해산물': 5388, '귀엽': 5389, '복직': 5390, '회계': 5391, '비속어': 5392, '맞선': 5393, '만감': 5394, '마주칠': 5395, '저질러서': 5396, '틀어졌': 5397, '놔야': 5398, '비상': 5399, '던졌': 5400, '변해': 5401, '우려': 5402, '금지': 5403, '눈물나': 5404, '양육비': 5405, '싱숭생숭': 5406, '오른': 5407, '까진': 5408, '바꿔야': 5409, '씌웠': 5410, '아까운': 5411, '달려왔': 5412, '밀릴': 5413, '증권사': 5414, '오십견': 5415, '쑤셔서': 5416, '밟': 5417, '게시판': 5418, '에스': 5419, '져서인지': 5420, '양로원': 5421, '장모': 5422, '살피': 5423, '덩어리': 5424, '들였': 5425, '몰아가': 5426, '금상': 5427, '피폐': 5428, '우정': 5429, '이래저래': 5430, '호소': 5431, '허가': 5432, '지옥': 5433, '귀여운': 5434, '공공': 5435, '청구': 5436, '고갈': 5437, '이제서야': 5438, '기쁠': 5439, '확률': 5440, '골목': 5441, '으실': 5442, '딸내미': 5443, '끊이': 5444, '화냈': 5445, '친해졌': 5446, '놓인': 5447, '망쳐버렸': 5448, '언론': 5449, '혈관': 5450, '진술': 5451, '내지': 5452, '올려야': 5453, '피울': 5454, '실태': 5455, '발음': 5456, '변한': 5457, '게으르': 5458, '땜': 5459, '시끄러워': 5460, '알선': 5461, '낮잠': 5462, '운동회': 5463, '떠올리': 5464, '노여운': 5465, '남매': 5466, '악착같이': 5467, '이른': 5468, '말려서': 5469, '빛': 5470, '다닐까': 5471, '맞춤법': 5472, '혹사': 5473, '가뿐': 5474, '뜬금없이': 5475, '디자이너': 5476, '표시': 5477, '가로': 5478, '뱃속': 5479, '빠른': 5480, '드니': 5481, '지킬': 5482, '라던': 5483, '오더': 5484, '뵙': 5485, '커져서': 5486, '챙긴다고': 5487, '장인어른': 5488, '처했': 5489, '질투감': 5490, '아첨': 5491, '자극': 5492, '사물함': 5493, '들으면서': 5494, '팀워크': 5495, '보호사': 5496, '단풍': 5497, '친해져서': 5498, '옥상': 5499, '자격': 5500, '덜컥': 5501, '라던데': 5502, '중심': 5503, '기존': 5504, '국': 5505, '씹': 5506, '경비원': 5507, '교체': 5508, '초년생': 5509, '헛산': 5510, '베': 5511, '짜리': 5512, '놀란': 5513, '셋째': 5514, '깊이': 5515, '내버려': 5516, '꼼꼼': 5517, '터졌': 5518, '내력': 5519, '반납': 5520, '바꿀': 5521, '잡혀서': 5522, '노여움': 5523, '예체능': 5524, '산행': 5525, '예감': 5526, '성전환': 5527, '껄': 5528, '다시피': 5529, '민수': 5530, '화낼': 5531, '의원': 5532, '병마': 5533, '볶': 5534, '산재': 5535, '아셨': 5536, '계열사': 5537, '약한데': 5538, '노래자랑': 5539, '신분': 5540, '예뻐해': 5541, '질색': 5542, '감출': 5543, '나타날': 5544, '대형': 5545, '치울': 5546, '나려': 5547, '헤어': 5548, '잠자': 5549, '버겁': 5550, '일까봐': 5551, '세끼': 5552, '헷갈리': 5553, '엄하': 5554, '떨림': 5555, '떠드': 5556, '생전': 5557, '하루빨리': 5558, '음식물': 5559, '여러모로': 5560, '밥맛': 5561, '자제': 5562, '버텨': 5563, '공경': 5564, '작아지': 5565, '동조': 5566, '썩이': 5567, '달리기': 5568, '덥': 5569, '둘러보': 5570, '병치레': 5571, '부축': 5572, '방관자': 5573, '꼬박': 5574, '이명': 5575, '찜질방': 5576, '질타': 5577, '돌아올': 5578, '대응': 5579, '시합': 5580, '뒷모습': 5581, '위태': 5582, '정당': 5583, '구멍': 5584, '손발': 5585, '분통': 5586, '흥청망청': 5587, '해봐야': 5588, '변해서': 5589, '유급': 5590, '누웠': 5591, '두려워서': 5592, '기관지': 5593, '민지': 5594, '무단결근': 5595, '못살': 5596, '분만': 5597, '융통': 5598, '저금통': 5599, '곤두서': 5600, '극도': 5601, '해대서': 5602, '아름다운': 5603, '모질': 5604, '쓰리': 5605, '집세': 5606, '붓': 5607, '갑작스러워서': 5608, '횟수': 5609, '볼품없': 5610, '어린아이': 5611, '꿀': 5612, '연배': 5613, '빌미': 5614, '잡곡밥': 5615, '호르몬': 5616, '사귄다는': 5617, '접종': 5618, '심혈': 5619, '존재감': 5620, '제사': 5621, '쳐다봐서': 5622, '야식': 5623, '튀': 5624, '탈해': 5625, '할려고': 5626, '석차': 5627, '글렀': 5628, '교장': 5629, '응급': 5630, '사지': 5631, '멀쩡히': 5632, '퍼뜨리': 5633, '들으려고': 5634, '힘겹': 5635, '내려와': 5636, '키워놨': 5637, '아픈지': 5638, '베끼': 5639, '편치': 5640, '내방': 5641, '놨던': 5642, '으셔야': 5643, '지켰': 5644, '찾아온': 5645, '곤욕': 5646, '밥값': 5647, '말수': 5648, '옮겨야': 5649, '상식': 5650, '격': 5651, '여든': 5652, '으셨는데': 5653, '망할': 5654, '자던': 5655, '야채': 5656, '즐겨': 5657, '주목': 5658, '폭식': 5659, '파트너': 5660, '미운': 5661, '스러운데': 5662, '과로사': 5663, '과제물': 5664, '취약점': 5665, '눈초리': 5666, '내정자': 5667, '깨워서': 5668, '려다가': 5669, '형수': 5670, '깨어났': 5671, '슬퍼할': 5672, '스킨': 5673, '흘렀': 5674, '만났었': 5675, '흥': 5676, '말라': 5677, '슬픈데': 5678, '무서워하': 5679, '감소': 5680, '각각': 5681, '부끄러움': 5682, '공들여': 5683, '아들내미': 5684, '해당': 5685, '침체': 5686, '직위': 5687, '토요일': 5688, '복습': 5689, '울컥': 5690, '흙': 5691, '고교': 5692, '단호': 5693, '세뱃돈': 5694, '딱지': 5695, '구제': 5696, '살걸': 5697, '위반': 5698, '온전히': 5699, '기뻐했': 5700, '정학': 5701, '물려': 5702, '아까워하': 5703, '철회': 5704, '나빠질': 5705, '천만다행': 5706, '대상포진': 5707, '사직': 5708, '바친': 5709, '아퍼': 5710, '석류': 5711, '져야': 5712, '서툴': 5713, '하반신': 5714, '힘없': 5715, '부끄럼': 5716, '부업': 5717, '부드럽': 5718, '즐거울': 5719, '빵점': 5720, '도로': 5721, '자격지심': 5722, '협착증': 5723, '경미': 5724, '들어서': 5725, '짤릴': 5726, '양치질': 5727, '따끔': 5728, '댄스': 5729, '병드': 5730, '욕한': 5731, '환우': 5732, '노령': 5733, '피아니스트': 5734, '숨겨야': 5735, '둔해': 5736, '몰려서': 5737, '장염': 5738, '때우': 5739, '길동': 5740, '수집': 5741, '따름': 5742, '행패': 5743, '줘도': 5744, '나른': 5745, '숙소': 5746, '편해진': 5747, '해둔': 5748, '번거': 5749, '어금니': 5750, '역정': 5751, '궁리': 5752, '셔야': 5753, '내조': 5754, '들러붙': 5755, '착용': 5756, '정해진': 5757, '가치': 5758, '불경기': 5759, '고도': 5760, '다를': 5761, '꼬이': 5762, '명확': 5763, '밤낮': 5764, '새삼': 5765, '명퇴': 5766, '무력': 5767, '주인공': 5768, '싼': 5769, '의료진': 5770, '족구': 5771, '죽마고우': 5772, '빠져야': 5773, '간다는데': 5774, '내린': 5775, '격리': 5776, '연도': 5777, '아무거': 5778, '섞인': 5779, '척추': 5780, '틀려': 5781, '처참': 5782, '인재': 5783, '행색': 5784, '장수': 5785, '자세히': 5786, '기록': 5787, '인문': 5788, '커갈수록': 5789, '는대도': 5790, '단위': 5791, '체념': 5792, '벌어진': 5793, '이력': 5794, '한단': 5795, '낙이': 5796, '순산': 5797, '근로': 5798, '설립': 5799, '이겨냈': 5800, '물려줬': 5801, '강해': 5802, '줄였': 5803, '숨긴': 5804, '느린': 5805, '향수': 5806, '살찌': 5807, '열악': 5808, '훔쳐간': 5809, '철없': 5810, '불러내': 5811, '가구': 5812, '쳐다봐': 5813, '나쁠': 5814, '신물': 5815, '여도': 5816, '닥치': 5817, '불의': 5818, '더러워': 5819, '종업원': 5820, '히스테리': 5821, '그이': 5822, '제기': 5823, '복부': 5824, '일기': 5825, '사이즈': 5826, '내려왔': 5827, '다닌대': 5828, '놓쳐서': 5829, '구월': 5830, '업계': 5831, '상관없이': 5832, '풍요': 5833, '연로': 5834, '밭': 5835, '사적': 5836, '고사하고': 5837, '지난날': 5838, '빠질': 5839, '대드': 5840, '버려졌': 5841, '착오': 5842, '기껏': 5843, '큰소리': 5844, '전념': 5845, '헛': 5846, '안녕': 5847, '당직': 5848, '똥': 5849, '노숙': 5850, '끈질기': 5851, '향해': 5852, '조각': 5853, '형성': 5854, '축내': 5855, '이웃들이': 5856, '밤새워서': 5857, '양호': 5858, '안색': 5859, '오래가': 5860, '나약': 5861, '급해서': 5862, '붙임': 5863, '나날이': 5864, '취한': 5865, '손바닥': 5866, '철렁': 5867, '섣불리': 5868, '알려야': 5869, '와버렸': 5870, '거들떠': 5871, '특정': 5872, '발병': 5873, '실천': 5874, '엎어졌': 5875, '마취': 5876, '계모': 5877, '젖': 5878, '셋집': 5879, '증가': 5880, '친해서': 5881, '작정': 5882, '문학': 5883, '느낀다': 5884, '설정': 5885, '식판': 5886, '툭툭': 5887, '들으니까': 5888, '임시': 5889, '공연': 5890, '할멈': 5891, '생색': 5892, '빈손': 5893, '압박감': 5894, '새우': 5895, '강화': 5896, '어린이집': 5897, '산악': 5898, '싸운다': 5899, '위아래': 5900, '공로': 5901, '수강': 5902, '원치': 5903, '실내': 5904, '트레이너': 5905, '소아암': 5906, '즐겼': 5907, '보내왔': 5908, '끼어들': 5909, '무너져': 5910, '길가': 5911, '전폭': 5912, '그러면': 5913, '찬밥': 5914, '방안': 5915, '분장': 5916, '납골당': 5917, '넥타이': 5918, '상금': 5919, '촌스럽': 5920, '암투병': 5921, '할거': 5922, '무안': 5923, '해냈': 5924, '당해야': 5925, '악한': 5926, '시내': 5927, '붉': 5928, '중고': 5929, '오답': 5930, '막혔': 5931, '낙심': 5932, '지켜봐야': 5933, '준다니': 5934, '매정': 5935, '다퉈': 5936, '터무니없': 5937, '야한': 5938, '해약': 5939, '온천': 5940, '롤': 5941, '잡무': 5942, '기울여': 5943, '경품': 5944, '나타난': 5945, '전무': 5946, '껄끄러워': 5947, '겉모습': 5948, '유부녀': 5949, '가정사': 5950, '아낄': 5951, '산모': 5952, '효자': 5953, '속한': 5954, '탐색': 5955, '증이': 5956, '장점': 5957, '양복': 5958, '뛰어가': 5959, '곰팡이': 5960, '보살필': 5961, '칼': 5962, '외딴': 5963, '난폭': 5964, '친언니': 5965, '당했었': 5966, '셋': 5967, '주차장': 5968, '비아': 5969, '냥': 5970, '유전자': 5971, '나물': 5972, '그곳': 5973, '흉흉': 5974, '갑상선암': 5975, '해임': 5976, '평수': 5977, '측정': 5978, '비정규직': 5979, '축제': 5980, '랍시고': 5981, '고프': 5982, '진대': 5983, '주로': 5984, '끼쳤': 5985, '일터': 5986, '흘려': 5987, '차림': 5988, '해줘도': 5989, '전업주부': 5990, '회사원': 5991, '환승': 5992, '과실': 5993, '계발': 5994, '달려와': 5995, '및': 5996, '저조': 5997, '이득': 5998, '직후': 5999, '댓글': 6000, '도망치': 6001, '장기간': 6002, '떳떳': 6003, '전액': 6004, '부적': 6005, '출전': 6006, '부러워해': 6007, '별세': 6008, '그저께': 6009, '원룸': 6010, '부치': 6011, '온다는': 6012, '돌봐야': 6013, '속였': 6014, '가져갈': 6015, '착취': 6016, '시집보내': 6017, '볼펜': 6018, '마킹': 6019, '협조': 6020, '특강': 6021, '뺏기': 6022, '가해': 6023, '서툴러': 6024, '배고프': 6025, '산소': 6026, '경계': 6027, '잡혔': 6028, '타입': 6029, '삿': 6030, '뒷산': 6031, '고비': 6032, '기승': 6033, '얼': 6034, '휴지': 6035, '건축': 6036, '병환': 6037, '편했': 6038, '공백': 6039, '추워': 6040, '화낸': 6041, '치솟': 6042, '오가': 6043, '가까워졌': 6044, '매몰차': 6045, '버텨야': 6046, '매형': 6047, '미뤄서': 6048, '나쁜데': 6049, '똑바로': 6050, '하락세': 6051, '흘러': 6052, '묻힌': 6053, '위하': 6054, '무단': 6055, '주무시': 6056, '젤': 6057, '내뱉': 6058, '기어코': 6059, '아무튼': 6060, '조작': 6061, '조심히': 6062, '줄여': 6063, '저렴': 6064, '고요': 6065, '결산': 6066, '필름': 6067, '마늘': 6068, '경영학': 6069, '불쌍히': 6070, '머물': 6071, '실버타운': 6072, '어째': 6073, '미워져': 6074, '부임': 6075, '부사장': 6076, '어처구니없': 6077, '면회': 6078, '피시방': 6079, '어저께': 6080, '자만': 6081, '짠돌이': 6082, '설문': 6083, '의학': 6084, '낙오자': 6085, '번창': 6086, '춤추': 6087, '측': 6088, '진땀': 6089, '셈': 6090, '엉망진창': 6091, '곤혹': 6092, '끌려가': 6093, '관해선': 6094, '놀라운': 6095, '미경': 6096, '수저': 6097, '겠다는': 6098, '놀러왔': 6099, '뜨개': 6100, '교우': 6101, '만난다는': 6102, '반가워': 6103, '흔들': 6104, '연락처': 6105, '정돈': 6106, '비뇨기과': 6107, '벅찬데': 6108, '통풍': 6109, '그리워서': 6110, '드셨': 6111, '친자식': 6112, '불능': 6113, '떠올랐': 6114, '쏟아졌': 6115, '순조': 6116, '홍보': 6117, '놨더라': 6118, '바른': 6119, '여덟': 6120, '뜯': 6121, '아픈게': 6122, '지정': 6123, '정할': 6124, '현명': 6125, '커져': 6126, '들렸': 6127, '한층': 6128, '진다': 6129, '매스컴': 6130, '명상': 6131, '에어컨': 6132, '주관': 6133, '가벼워졌': 6134, '알츠하이머': 6135, '영양': 6136, '혼미': 6137, '흑자': 6138, '두절': 6139, '주병': 6140, '커플링': 6141, '기저': 6142, '자부심': 6143, '만료': 6144, '차서': 6145, '손대': 6146, '떠안': 6147, '다칠': 6148, '말동무': 6149, '작동': 6150, '모': 6151, '취': 6152, '엑스레이': 6153, '닳': 6154, '토하': 6155, '김할머니': 6156, '휴진': 6157, '모호': 6158, '차가운': 6159, '요리사': 6160, '건드리': 6161, '구석': 6162, '놀릴': 6163, '에어로빅': 6164, '기관': 6165, '억장': 6166, '본다': 6167, '분주': 6168, '태교': 6169, '몰골': 6170, '금메달': 6171, '알려졌': 6172, '배제': 6173, '뒤치다꺼리': 6174, '부정맥': 6175, '후기': 6176, '끝낸': 6177, '윗': 6178, '무너진': 6179, '해했': 6180, '숨겨왔': 6181, '어두운': 6182, '부담감': 6183, '약해져': 6184, '써도': 6185, '과체': 6186, '현': 6187, '부어서': 6188, '아무데': 6189, '밤낮없이': 6190, '집들이': 6191, '마': 6192, '회수': 6193, '단순히': 6194, '검증': 6195, '킬로': 6196, '출세': 6197, '매수': 6198, '재수생': 6199, '호들갑': 6200, '노예': 6201, '퍼트': 6202, '빚더미': 6203, '소서': 6204, '사이트': 6205, '거북': 6206, '싹': 6207, '꿈꿔': 6208, '침울': 6209, '못가': 6210, '사교': 6211, '논다': 6212, '모자랄': 6213, '기적': 6214, '우릴': 6215, '의외': 6216, '취객': 6217, '짠': 6218, '의기소침': 6219, '스런': 6220, '탄탄': 6221, '도우': 6222, '수석': 6223, '본의': 6224, '습득': 6225, '트레이닝': 6226, '어려우': 6227, '건조': 6228, '해줄지': 6229, '황급히': 6230, '얄밉': 6231, '도달': 6232, '호강': 6233, '창문': 6234, '고함': 6235, '정원': 6236, '항': 6237, '다더라고': 6238, '얽매이': 6239, '해명': 6240, '평등': 6241, '의존': 6242, '서슴없이': 6243, '머지않': 6244, '어울려서': 6245, '지켜줄': 6246, '일러서': 6247, '뚜껑': 6248, '달라붙': 6249, '간데': 6250, '퇴물': 6251, '드려도': 6252, '조장': 6253, '정반대': 6254, '훈계': 6255, '단벌': 6256, '신사': 6257, '쪽방': 6258, '연기자': 6259, '쥐구멍': 6260, '목걸이': 6261, '보건소': 6262, '전쟁': 6263, '화병': 6264, '관둬': 6265, '떨어질까봐': 6266, '점장': 6267, '온화': 6268, '살찐': 6269, '종식': 6270, '처우': 6271, '골라야': 6272, '클수록': 6273, '어가': 6274, '못생긴': 6275, '살렸': 6276, '맛집': 6277, '오래간만': 6278, '산골': 6279, '관광': 6280, '생활고': 6281, '분기': 6282, '흰머리': 6283, '학우': 6284, '팍팍': 6285, '한국어': 6286, '와줘서': 6287, '냈으면': 6288, '구네': 6289, '운용': 6290, '주재원': 6291, '차단': 6292, '평상시': 6293, '냉랭': 6294, '팬': 6295, '비꼬': 6296, '된통': 6297, '싸울까': 6298, '는걸': 6299, '내려갈': 6300, '소주': 6301, '이래라저래라': 6302, '져도': 6303, '즐거움': 6304, '계층': 6305, '몰랐었': 6306, '일머리': 6307, '빼돌리': 6308, '향상': 6309, '생존': 6310, '붙여': 6311, '수지': 6312, '패혈증': 6313, '사인': 6314, '이동한': 6315, '해줘': 6316, '모셨': 6317, '중식': 6318, '떡볶이': 6319, '억지': 6320, '될수록': 6321, '매너': 6322, '쑥스러워': 6323, '찢어졌': 6324, '더더욱': 6325, '걸릴지': 6326, '었잖': 6327, '캠프': 6328, '내게서': 6329, '꾸려': 6330, '든가': 6331, '일어': 6332, '동문': 6333, '구워': 6334, '달랑': 6335, '가하': 6336, '유도': 6337, '경력직': 6338, '하얗': 6339, '법원': 6340, '빤히': 6341, '달라져': 6342, '보여야': 6343, '예': 6344, '공휴일': 6345, '검소': 6346, '급급': 6347, '과잉': 6348, '태어날지': 6349, '잊어버려서': 6350, '감상': 6351, '막힌다': 6352, '전원생활': 6353, '등지': 6354, '돌아갔': 6355, '손녀딸': 6356, '기술직': 6357, '삼포': 6358, '휘둘렀': 6359, '잘라야': 6360, '할인': 6361, '내놨': 6362, '비법': 6363, '화고': 6364, '팔씨름': 6365, '영향력': 6366, '남겨졌': 6367, '두둑이': 6368, '허위': 6369, '서러운': 6370, '노환': 6371, '얄미워서': 6372, '갈까봐': 6373, '둘지': 6374, '구인': 6375, '캐묻': 6376, '바쁠': 6377, '스트레칭': 6378, '막힐': 6379, '붙이': 6380, '이러면': 6381, '모아놨': 6382, '수단': 6383, '일손': 6384, '할까요': 6385, '야속': 6386, '손톱': 6387, '징': 6388, '는다네': 6389, '배고파서': 6390, '저주': 6391, '중도': 6392, '선약': 6393, '놨더니': 6394, '살아남': 6395, '채식': 6396, '풍성': 6397, '쌓여서': 6398, '문의': 6399, '난이': 6400, '치여': 6401, '알바': 6402, '오로지': 6403, '해지지': 6404, '유산소': 6405, '완벽주의': 6406, '전자': 6407, '더치페이': 6408, '흘려서': 6409, '재채기': 6410, '치워': 6411, '과음': 6412, '우겨서': 6413, '현기증': 6414, '스카웃': 6415, '역': 6416, '아껴야': 6417, '야뇨증': 6418, '화난': 6419, '졸라': 6420, '소': 6421, '이빨': 6422, '꼼꼼히': 6423, '아쉬움': 6424, '안건': 6425, '박스': 6426, '다솜': 6427, '사래': 6428, '움직여': 6429, '수리비': 6430, '저항': 6431, '해줄까': 6432, '찝찝': 6433, '건드려': 6434, '외곽': 6435, '상한': 6436, '전철': 6437, '활용': 6438, '분만실': 6439, '에너지': 6440, '짤리': 6441, '구성': 6442, '항암제': 6443, '사후': 6444, '숫자': 6445, '멘토': 6446, '적당': 6447, '화기애애': 6448, '얇': 6449, '백세': 6450, '전신': 6451, '엉덩이': 6452, '죽여': 6453, '건너': 6454, '파리': 6455, '한바탕': 6456, '근교': 6457, '대폭': 6458, '바쁜지': 6459, '사라진': 6460, '글씨': 6461, '계곡': 6462, '속여서': 6463, '현상': 6464, '무임승차': 6465, '무작정': 6466, '더욱더': 6467, '틀어져서': 6468, '편안히': 6469, '주요': 6470, '지나쳐서': 6471, '낙인': 6472, '욕먹': 6473, '원장': 6474, '돌아가실': 6475, '멤버': 6476, '걸으면': 6477, '달려가': 6478, '혈액형': 6479, '뒤집어썼': 6480, '놓친': 6481, '홈페이지': 6482, '기러': 6483, '싱겁': 6484, '고가': 6485, '구타': 6486, '수용': 6487, '동': 6488, '사용법': 6489, '가습기': 6490, '포트폴리오': 6491, '끝났으면': 6492, '결핍': 6493, '물질': 6494, '뒤처리': 6495, '침착': 6496, '최신형': 6497, '쓸쓸히': 6498, '밀려와': 6499, '가져온': 6500, '상해서': 6501, '변명': 6502, '빌라': 6503, '여겼': 6504, '난데': 6505, '남겼': 6506, '그렸': 6507, '도태': 6508, '맞췄': 6509, '독차지': 6510, '주범': 6511, '줄래': 6512, '들렀': 6513, '가만': 6514, '사유': 6515, '그놈': 6516, '사라져': 6517, '불친절': 6518, '내게도': 6519, '핵심': 6520, '컵라면': 6521, '분리': 6522, '잠가': 6523, '망가졌': 6524, '얹혀': 6525, '팀플레이': 6526, '돌릴': 6527, '농촌': 6528, '미쳤': 6529, '사경': 6530, '헤매': 6531, '남다른': 6532, '다가갈': 6533, '안일': 6534, '고대': 6535, '범죄자': 6536, '벌려야': 6537, '쩝쩝': 6538, '자더군': 6539, '달랐': 6540, '데이터': 6541, '졸이': 6542, '먹먹': 6543, '몹쓸': 6544, '임하': 6545, '두기': 6546, '기타': 6547, '고심': 6548, '칠판': 6549, '유서': 6550, '혼난': 6551, '기억나': 6552, '헐뜯': 6553, '풍경': 6554, '비자금': 6555, '스러운지': 6556, '소리야': 6557, '돌아서': 6558, '전가': 6559, '기재': 6560, '베껴': 6561, '열흘': 6562, '의구심': 6563, '앱': 6564, '돼버렸': 6565, '민감': 6566, '툴툴거렸': 6567, '돋': 6568, '질렸': 6569, '자궁경부암': 6570, '봐라': 6571, '흐릿': 6572, '주최': 6573, '체하': 6574, '바뀔': 6575, '혐의': 6576, '절차': 6577, '질지': 6578, '국물': 6579, '부끄러울': 6580, '경사': 6581, '된다니까': 6582, '시큰둥': 6583, '앞당기': 6584, '참고': 6585, '킬로그램': 6586, '음반': 6587, '타격': 6588, '물으': 6589, '비웃음': 6590, '북받쳐': 6591, '신용도': 6592, '박힌': 6593, '충실하': 6594, '상당': 6595, '구내식당': 6596, '야구팀': 6597, '바쳐': 6598, '류': 6599, '협업': 6600, '알아볼까': 6601, '팔다리': 6602, '권해': 6603, '내과': 6604, '매달려서': 6605, '어처구니': 6606, '폭주': 6607, '근사': 6608, '으라': 6609, '슬쩍': 6610, '마음속': 6611, '걸핏하면': 6612, '월말': 6613, '윤': 6614, '트로트': 6615, '알뜰': 6616, '우연': 6617, '돌아온': 6618, '진액': 6619, '흔쾌': 6620, '정해져': 6621, '공들였': 6622, '환영': 6623, '술병': 6624, '야단맞': 6625, '두드러기': 6626, '폐질환': 6627, '인터뷰': 6628, '생소': 6629, '떼먹': 6630, '보직': 6631, '훔친': 6632, '보육원': 6633, '빌려서': 6634, '떨어뜨렸': 6635, '식물': 6636, '빌려야': 6637, '심해질까': 6638, '마음고생': 6639, '대놓': 6640, '잘랐': 6641, '보잘것없': 6642, '되레': 6643, '문제아': 6644, '몰려오': 6645, '퍼진': 6646, '숨겨둔': 6647, '약장수': 6648, '어지럼증': 6649, '소설': 6650, '사무직': 6651, '고되': 6652, '지극정성': 6653, '사전': 6654, '갈아입': 6655, '당번': 6656, '교대': 6657, '실은': 6658, '신다는': 6659, '시끄러운데': 6660, '마누': 6661, '게이머': 6662, '시말서': 6663, '베껴서': 6664, '볼래': 6665, '보상금': 6666, '돌려보내': 6667, '친밀': 6668, '체대': 6669, '이만': 6670, '적령기': 6671, '치수': 6672, '활기차': 6673, '절단': 6674, '찍혀서': 6675, '정류장': 6676, '학습지': 6677, '흔들렸': 6678, '졌었': 6679, '힘쓰': 6680, '밀쳐': 6681, '가중': 6682, '심성': 6683, '추태': 6684, '미납': 6685, '줄일': 6686, '걸치': 6687, '만류': 6688, '열린': 6689, '산물': 6690, '상팔자': 6691, '무사': 6692, '뱀': 6693, '되돌려': 6694, '매매': 6695, '일치': 6696, '하혈': 6697, '못했을까': 6698, '구질구질': 6699, '약혼자': 6700, '쇼크': 6701, '감원': 6702, '떨어졌으면': 6703, '쩔쩔매': 6704, '재처리': 6705, '준다네': 6706, '아프리카': 6707, '바가지': 6708, '할껄': 6709, '아웃': 6710, '고된': 6711, '감퇴': 6712, '허벅지': 6713, '사려': 6714, '나으라고': 6715, '쫓아냈': 6716, '감정싸움': 6717, '실에': 6718, '숨겨버렸': 6719, '시청': 6720, '늘어지': 6721, '사업체': 6722, '걸어오': 6723, '들으라고': 6724, '한건데': 6725, '살릴': 6726, '항의': 6727, '경운기': 6728, '박혀': 6729, '가면': 6730, '레': 6731, '역부족': 6732, '감독': 6733, '삽': 6734, '셀': 6735, '골프장': 6736, '기다려져': 6737, '시원찮': 6738, '깔보': 6739, '거슬리': 6740, '컸었': 6741, '실물': 6742, '바퀴': 6743, '고역': 6744, '덴': 6745, '태권': 6746, '던져서': 6747, '안주': 6748, '신가봐': 6749, '고졸': 6750, '뺏긴': 6751, '노하우': 6752, '모진': 6753, '서기': 6754, '궤양': 6755, '한정': 6756, '그립': 6757, '급작': 6758, '먼지': 6759, '강하': 6760, '어버이': 6761, '모유': 6762, '수유': 6763, '이나마': 6764, '가벼워진': 6765, '하위': 6766, '놀릴까': 6767, '내버려뒀': 6768, '팔찌': 6769, '삭제': 6770, '공문': 6771, '따라갔': 6772, '해야겠어': 6773, '일세': 6774, '어선지': 6775, '다지만': 6776, '라인': 6777, '만져': 6778, '넉넉히': 6779, '슬퍼졌': 6780, '뒤처져서': 6781, '다기': 6782, '살아났': 6783, '나눈': 6784, '마쳐야': 6785, '해왔': 6786, '집중력': 6787, '허리띠': 6788, '옮겨졌': 6789, '사진관': 6790, '이날': 6791, '따가워': 6792, '가엾': 6793, '가져와': 6794, '물놀이': 6795, '떠내려갔': 6796, '갇힌': 6797, '지킨': 6798, '가물가물': 6799, '항목': 6800, '쳐져': 6801, '고스톱': 6802, '마사지': 6803, '망설임': 6804, '거들': 6805, '다달이': 6806, '지팡이': 6807, '가까워져': 6808, '보인': 6809, '가래': 6810, '웃기': 6811, '멈춘': 6812, '헤': 6813, '노조': 6814, '정력': 6815, '덤벙대': 6816, '내키': 6817, '똑': 6818, '든다면서': 6819, '리모컨': 6820, '알람': 6821, '공방': 6822, '예매': 6823, '결근': 6824, '소신': 6825, '접했': 6826, '미식': 6827, '짝짝': 6828, '게이': 6829, '잊혀': 6830, '친정집': 6831, '떠난다고': 6832, '쫓겨날지': 6833, '부도나': 6834, '명령': 6835, '뒷돈': 6836, '서툰': 6837, '퍼': 6838, '교묘': 6839, '벨': 6840, '친아들': 6841, '헛구역': 6842, '언젠데': 6843, '안내': 6844, '빨라서': 6845, '요금': 6846, '토지': 6847, '미심쩍': 6848, '따른': 6849, '으리라': 6850, '다니깐': 6851, '중매': 6852, '앞가림': 6853, '생생': 6854, '심상': 6855, '서글픈': 6856, '전화기': 6857, '중퇴': 6858, '변변찮': 6859, '장인': 6860, '정전': 6861, '게을러서': 6862, '외로우': 6863, '잘사': 6864, '사방': 6865, '게임기': 6866, '충치': 6867, '간다면': 6868, '승소': 6869, '제공': 6870, '벌어졌': 6871, '넘보': 6872, '수련': 6873, '성가실': 6874, '늘그막': 6875, '통수': 6876, '여지껏': 6877, '급성': 6878, '돌볼': 6879, '미세': 6880, '회의실': 6881, '시킨다고': 6882, '다이아몬드': 6883, '성폭행': 6884, '잠자리': 6885, '못지않': 6886, '아이템': 6887, '복학생': 6888, '마인드': 6889, '아라': 6890, '난다니까': 6891, '불쑥': 6892, '도울': 6893, '균형': 6894, '을래': 6895, '스포츠': 6896, '가질까': 6897, '알려줘야': 6898, '영찬': 6899, '도용': 6900, '물어봐도': 6901, '갖추': 6902, '고스란히': 6903, '알츠하이머병': 6904, '여한': 6905, '시아버님': 6906, '제빵': 6907, '빵집': 6908, '효능': 6909, '맞이해': 6910, '봉양': 6911, '스러움': 6912, '밝혀졌': 6913, '확대': 6914, '제압': 6915, '일용직': 6916, '미쳐서': 6917, '드는데': 6918, '파스': 6919, '간혹': 6920, '수포': 6921, '도망갈': 6922, '살려서': 6923, '받자': 6924, '브런치': 6925, '건드렸': 6926, '패딩': 6927, '근거': 6928, '나셔': 6929, '계약서': 6930, '통지서': 6931, '부품': 6932, '달까': 6933, '둔갑': 6934, '복사': 6935, '간지': 6936, '인공수정': 6937, '더러워졌': 6938, '부끄러운지': 6939, '나올까봐': 6940, '나들이': 6941, '설렘': 6942, '마친': 6943, '저럴까': 6944, '진전': 6945, '겹치': 6946, '민': 6947, '세운': 6948, '생애': 6949, '수납': 6950, '진행할': 6951, '잠든': 6952, '고파서': 6953, '깰까': 6954, '급사': 6955, '치열': 6956, '졌어': 6957, '증진': 6958, '서술': 6959, '미워해서': 6960, '함정': 6961, '깰': 6962, '내려와서': 6963, '치렀': 6964, '차려줘도': 6965, '수리': 6966, '막대': 6967, '드린': 6968, '매장': 6969, '장마': 6970, '문책': 6971, '가증': 6972, '토했': 6973, '당근': 6974, '돌아와도': 6975, '됐으니': 6976, '구단': 6977, '다만': 6978, '써준': 6979, '퉁명': 6980, '의무': 6981, '눈감': 6982, '쉬웠': 6983, '인식': 6984, '정식': 6985, '표출': 6986, '부끄러워졌': 6987, '특이': 6988, '썰렁': 6989, '비관': 6990, '왜소': 6991, '내막': 6992, '곳곳': 6993, '어수선': 6994, '모일': 6995, '조처': 6996, '씌워서': 6997, '익사': 6998, '론가': 6999, '무직': 7000, '리포트': 7001, '애통': 7002, '분해서': 7003, '무게': 7004, '놨다고': 7005, '받아들였': 7006, '행위': 7007, '블로그': 7008, '비운': 7009, '수주': 7010, '가려서': 7011, '나눠서': 7012, '강박': 7013, '마침': 7014, '밝혀': 7015, '불평불만': 7016, '괴': 7017, '기나긴': 7018, '들들': 7019, '입히': 7020, '소꿉친구': 7021, '소형차': 7022, '올라도': 7023, '가까워져서': 7024, '산대': 7025, '사귈까': 7026, '영철': 7027, '상담소': 7028, '몰두': 7029, '간밤': 7030, '의외로': 7031, '알려져서': 7032, '둘러댔': 7033, '친근': 7034, '엎어져서': 7035, '꺼야': 7036, '일러': 7037, '학연': 7038, '물어볼까': 7039, '생긴다': 7040, '쫓아내': 7041, '아이스크림': 7042, '강인': 7043, '트랜스젠더': 7044, '끌려': 7045, '콜': 7046, '거칠': 7047, '서둘러야': 7048, '밀쳤': 7049, '부러져': 7050, '미칠까': 7051, '기말': 7052, '스마트': 7053, '넘어서': 7054, '공식': 7055, '업무상': 7056, '이해력': 7057, '말귀': 7058, '불어나': 7059, '공책': 7060, '자금난': 7061, '허덕이': 7062, '본받': 7063, '잔다고': 7064, '혈변': 7065, '컨설팅': 7066, '키운다고': 7067, '솟': 7068, '쌩쌩': 7069, '가두': 7070, '퍼뜨려': 7071, '고마움': 7072, '키워야': 7073, '분할': 7074, '맥': 7075, '유쾌': 7076, '들먹이': 7077, '장담': 7078, '더운데': 7079, '만화': 7080, '드릴까': 7081, '셨을까': 7082, '진출': 7083, '지른': 7084, '거뜬': 7085, '드셔서': 7086, '감회': 7087, '바꿀까': 7088, '논다고': 7089, '독단': 7090, '후임자': 7091, '마쳐서': 7092, '천사': 7093, '차비': 7094, '주어지': 7095, '참신': 7096, '정규': 7097, '드려': 7098, '꼬였': 7099, '점집': 7100, '전생': 7101, '난대': 7102, '천하태평': 7103, '걸까요': 7104, '말려': 7105, '동산': 7106, '발표회': 7107, '살펴보': 7108, '꾹': 7109, '최대': 7110, '돌잔치': 7111, '진저리': 7112, '립스틱': 7113, '조문': 7114, '꼬여': 7115, '저염식': 7116, '액정': 7117, '깨트렸': 7118, '재산세': 7119, '라식': 7120, '붕대': 7121, '아님': 7122, '양식': 7123, '해해': 7124, '대성공': 7125, '토로': 7126, '풀릴': 7127, '밤중': 7128, '개업': 7129, '재단': 7130, '나와도': 7131, '웬일': 7132, '통계': 7133, '골목길': 7134, '포토샵': 7135, '쓸까': 7136, '아꼈': 7137, '더니만': 7138, '떠서': 7139, '감쌌': 7140, '가네': 7141, '헤프': 7142, '특기': 7143, '일어서': 7144, '어마어마': 7145, '이루어진다는': 7146, '수감': 7147, '담배꽁초': 7148, '도입': 7149, '달려와서': 7150, '장비': 7151, '태평': 7152, '친화력': 7153, '방도': 7154, '무서움': 7155, '삼겹살': 7156, '나아가': 7157, '넘긴': 7158, '소방관': 7159, '이랬': 7160, '페이퍼': 7161, '유치원생': 7162, '썩인': 7163, '둬': 7164, '연일': 7165, '연애고': 7166, '해서라도': 7167, '오픈': 7168, '처녀': 7169, '찍힌': 7170, '쏟아지': 7171, '흔적': 7172, '업종': 7173, '사연': 7174, '화면': 7175, '대리점': 7176, '희귀': 7177, '지표': 7178, '무너졌': 7179, '다간': 7180, '호출': 7181, '내겐': 7182, '배탈': 7183, '비워': 7184, '헤어질까': 7185, '새해': 7186, '욕해': 7187, '기반': 7188, '피임': 7189, '소매치기': 7190, '피운다는': 7191, '넌': 7192, '무심코': 7193, '열불': 7194, '본지': 7195, '실행': 7196, '맡겨야': 7197, '무뎌': 7198, '외투': 7199, '먹일': 7200, '고른': 7201, '론': 7202, '태워': 7203, '빙판길': 7204, '미끄러져서': 7205, '위안': 7206, '쫓겨났': 7207, '저려': 7208, '상실감': 7209, '수군대': 7210, '차근차근': 7211, '돈독': 7212, '패': 7213, '머신': 7214, '때론': 7215, '백신': 7216, '짖': 7217, '공짜': 7218, '때렸었': 7219, '청각': 7220, '번갈': 7221, '기쁜지': 7222, '혼인': 7223, '폐경기': 7224, '무난히': 7225, '쌀쌀': 7226, '저희': 7227, '비친': 7228, '걸린다': 7229, '텃새': 7230, '세워야': 7231, '벌였': 7232, '갑상샘': 7233, '수평': 7234, '멍하니': 7235, '공단': 7236, '미끄러졌': 7237, '글짓기': 7238, '피울까': 7239, '지체': 7240, '업적': 7241, '피부염': 7242, '팔짱': 7243, '진영': 7244, '보살피': 7245, '둬야': 7246, '잔인': 7247, '느냐는': 7248, '온다는데': 7249, '진료비': 7250, '허비': 7251, '장기근속': 7252, '국사': 7253, '피크': 7254, '뜰': 7255, '은혜': 7256, '강조': 7257, '늘려': 7258, '축구공': 7259, '한태': 7260, '웃겨': 7261, '조상': 7262, '점잖': 7263, '배운': 7264, '스쳐': 7265, '투덜거려': 7266, '문제점': 7267, '목욕': 7268, '부딪치': 7269, '슬퍼할까': 7270, '아주버님': 7271, '게끔': 7272, '금식': 7273, '일관': 7274, '선명': 7275, '가져다주': 7276, '타고난': 7277, '깜빡했': 7278, '근절': 7279, '어려워진': 7280, '재수없': 7281, '편의': 7282, '동맥': 7283, '길고양이': 7284, '커뮤니티': 7285, '걸어왔': 7286, '구시대': 7287, '가르쳤': 7288, '주진': 7289, '외벌': 7290, '벌렁': 7291, '금세': 7292, '쌀밥': 7293, '베스트': 7294, '반기': 7295, '재수술': 7296, '갓난': 7297, '맞춰야': 7298, '체격': 7299, '적정': 7300, '혼쭐': 7301, '아팠었': 7302, '포상': 7303, '노출': 7304, '좋아했': 7305, '친분': 7306, '모은다고': 7307, '예뻐했': 7308, '맨': 7309, '안서': 7310, '임원진': 7311, '주삿바늘': 7312, '섞이': 7313, '결항': 7314, '잠그': 7315, '인큐베이터': 7316, '설치': 7317, '욕할': 7318, '이불': 7319, '이송': 7320, '분량': 7321, '부질': 7322, '망가뜨려': 7323, '에서부터': 7324, '파토': 7325, '퍼부': 7326, '경로': 7327, '부러워할': 7328, '체해서': 7329, '쳐도': 7330, '애타': 7331, '접어든': 7332, '일본어': 7333, '모조리': 7334, '헷갈려서': 7335, '절로': 7336, '회화': 7337, '지점': 7338, '밴드': 7339, '더부룩': 7340, '학식': 7341, '휘둘리': 7342, '지겨워서': 7343, '엉엉': 7344, '결과지': 7345, '클레임': 7346, '영화관': 7347, '사라졌으면': 7348, '간신히': 7349, '패스트푸드': 7350, '교활': 7351, '순진': 7352, '모자르': 7353, '펼치': 7354, '나쁜가': 7355, '벌금': 7356, '한강': 7357, '부딪쳐': 7358, '탄탄대로': 7359, '멎': 7360, '여길까': 7361, '동정': 7362, '해오': 7363, '금반지': 7364, '격해': 7365, '막바지': 7366, '주저': 7367, '뒤쳐진': 7368, '체면': 7369, '골골': 7370, '눌렀': 7371, '골골대': 7372, '말려도': 7373, '주전': 7374, '분과': 7375, '천국': 7376, '발달': 7377, '피부병': 7378, '성급': 7379, '슬그머니': 7380, '온데': 7381, '삐쳤': 7382, '가로챈': 7383, '인테리어': 7384, '냄새나': 7385, '페인트': 7386, '너그럽': 7387, '안하무인': 7388, '놀러': 7389, '호': 7390, '준다더니': 7391, '버텼': 7392, '먹였': 7393, '살림살이': 7394, '참나': 7395, '복통': 7396, '금수': 7397, '일절': 7398, '아랫사람': 7399, '실현': 7400, '중학': 7401, '할당': 7402, '어학': 7403, '암세포': 7404, '으네': 7405, '콩알': 7406, '저택': 7407, '몰렸': 7408, '돌봄': 7409, '술값': 7410, '랄까': 7411, '계기': 7412, '윤리': 7413, '사흘': 7414, '모아논': 7415, '학급비': 7416, '둔대': 7417, '틀린다': 7418, '눌러서': 7419, '박과장': 7420, '더구만': 7421, '띵': 7422, '서두르': 7423, '떨어졌었': 7424, '돼요': 7425, '차분': 7426, '어두워': 7427, '산다': 7428, '틀림없이': 7429, '회피': 7430, '활짝': 7431, '샌드위치': 7432, '영화배우': 7433, '인물': 7434, '빈둥거리': 7435, '걸레': 7436, '이쁜': 7437, '물려서': 7438, '벗어났': 7439, '힘써': 7440, '아름다워': 7441, '출처': 7442, '쏠쏠': 7443, '발버둥': 7444, '아랑곳': 7445, '거뒀': 7446, '야외': 7447, '보인대': 7448, '들어간다는': 7449, '구실': 7450, '순대': 7451, '골반': 7452, '페이': 7453, '씌우': 7454, '갈구': 7455, '자서': 7456, '장치': 7457, '스팸': 7458, '히': 7459, '해질까': 7460, '조율': 7461, '일차': 7462, '넋': 7463, '매진': 7464, '웠': 7465, '줌': 7466, '시니어': 7467, '라잖아': 7468, '뚝딱': 7469, '휴가비': 7470, '호의': 7471, '슈퍼마켓': 7472, '겨': 7473, '경영인': 7474, '빚쟁이': 7475, '큰소리쳤': 7476, '모른다더니': 7477, '개수': 7478, '배워서': 7479, '책임자': 7480, '반신불수': 7481, '하청': 7482, '들통나': 7483, '수건': 7484, '화학': 7485, '구별': 7486, '흐리': 7487, '흐름': 7488, '고구마': 7489, '기다려줄': 7490, '가격표': 7491, '일으켜': 7492, '고용주': 7493, '날린': 7494, '시려': 7495, '퍼져서': 7496, '여야': 7497, '문건': 7498, '밀려오': 7499, '음악가': 7500, '말벗': 7501, '비웠': 7502, '마셔버렸': 7503, '쫄쫄': 7504, '내달': 7505, '나온다는': 7506, '따라오': 7507, '여보': 7508, '용종': 7509, '임대료': 7510, '일곱': 7511, '성병': 7512, '안식처': 7513, '불안해하': 7514, '산지': 7515, '한국사': 7516, '논리': 7517, '맞은편': 7518, '계열': 7519, '영수증': 7520, '공백기': 7521, '스톡옵션': 7522, '몰아주': 7523, '유형': 7524, '지냈었': 7525, '흩어져': 7526, '콕': 7527, '급격': 7528, '따라했': 7529, '삐졌': 7530, '싹싹': 7531, '찌지': 7532, '국장': 7533, '가누': 7534, '만끽': 7535, '두터운': 7536, '기다려도': 7537, '익명': 7538, '부지런': 7539, '쓰러졌었': 7540, '뜨거워': 7541, '컵': 7542, '실려갔': 7543, '무표정': 7544, '부조': 7545, '금실': 7546, '치부': 7547, '남루': 7548, '일어난다고': 7549, '흡족': 7550, '느냐며': 7551, '험악': 7552, '캠퍼스': 7553, '영면': 7554, '가채점': 7555, '자해': 7556, '돌팔이': 7557, '댈': 7558, '여고': 7559, '인구': 7560, '살래': 7561, '마른': 7562, '내역': 7563, '신다니': 7564, '치주염': 7565, '스케일링': 7566, '과시': 7567, '위조품': 7568, '성분': 7569, '변기통': 7570, '낙태': 7571, '발끝': 7572, '노산': 7573, '중재': 7574, '쓰려서': 7575, '조교': 7576, '장학생': 7577, '폴더': 7578, '통째': 7579, '앞뒤': 7580, '이하': 7581, '못사': 7582, '못한다면': 7583, '원활': 7584, '화투': 7585, '그땐': 7586, '달해': 7587, '짐짝': 7588, '넘어와서': 7589, '봤었': 7590, '무덤': 7591, '기여': 7592, '얹혀사': 7593, '우편물': 7594, '허우적거리': 7595, '상해도': 7596, '싱글벙글': 7597, '팔목': 7598, '무신경': 7599, '유흥': 7600, '슬퍼했': 7601, '건강식': 7602, '반가운': 7603, '난장판': 7604, '줄어든': 7605, '몰라보': 7606, '다수': 7607, '상주': 7608, '투덜거리': 7609, '괴물': 7610, '빠': 7611, '나신': 7612, '꼬리': 7613, '쫓겨서': 7614, '극': 7615, '한약재': 7616, '눈곱': 7617, '어엿': 7618, '시집갈': 7619, '까다롭': 7620, '몸조리': 7621, '졸랐': 7622, '복구': 7623, '찢어져': 7624, '내려졌': 7625, '술김': 7626, '올림피아드': 7627, '헛되': 7628, '간판': 7629, '인기투표': 7630, '뇌척수막염': 7631, '어눌': 7632, '차릴': 7633, '가까워진': 7634, '이래라': 7635, '저래라': 7636, '신선': 7637, '따윈': 7638, '끊어진': 7639, '협회': 7640, '지워': 7641, '학예회': 7642, '일거수일투족': 7643, '잊혀질까': 7644, '물을까': 7645, '수군': 7646, '맘껏': 7647, '이어': 7648, '예절': 7649, '오래도록': 7650, '얼떨떨': 7651, '짓궂': 7652, '웃어넘기': 7653, '인기척': 7654, '식후': 7655, '느껴진다': 7656, '사고방식': 7657, '코웃음': 7658, '싸웠었': 7659, '놀러오': 7660, '싱거운': 7661, '고령자': 7662, '다행이': 7663, '가르칠': 7664, '공과': 7665, '이쁨': 7666, '칼퇴근': 7667, '한답시고': 7668, '호화': 7669, '옮길': 7670, '자자': 7671, '풍기': 7672, '개교기념일': 7673, '아까워서': 7674, '명회': 7675, '상종': 7676, '고야': 7677, '탁월': 7678, '뷔페': 7679, '뒤숭숭': 7680, '자다': 7681, '오피스텔': 7682, '소문내': 7683, '동사무소': 7684, '장가보내': 7685, '스킬': 7686, '끼칠까': 7687, '놓아주': 7688, '눈뜨': 7689, '텅텅': 7690, '무너질': 7691, '승급': 7692, '고마운데': 7693, '낮춰서': 7694, '달려갔': 7695, '넘어간': 7696, '이바지': 7697, '슬플': 7698, '겠다며': 7699, '수출': 7700, '소집': 7701, '퍼뜨린': 7702, '흩어지': 7703, '산길': 7704, '내려야': 7705, '별생각': 7706, '헛먹': 7707, '달라질': 7708, '가까스로': 7709, '서방': 7710, '계정': 7711, '충만': 7712, '도리': 7713, '깬': 7714, '혈육': 7715, '입김': 7716, '당당히': 7717, '과격': 7718, '대주': 7719, '부적절': 7720, '지끈지끈': 7721, '이주민': 7722, '취할': 7723, '안위': 7724, '영웅': 7725, '유연': 7726, '뭉치': 7727, '심경': 7728, '개편': 7729, '느껴본': 7730, '저절로': 7731, '잊힐': 7732, '석사': 7733, '푼돈': 7734, '시샘': 7735, '신뢰감': 7736, '뒷받침': 7737, '철없이': 7738, '신중히': 7739, '쥐꼬리': 7740, '쇼윈도': 7741, '용지': 7742, '하직': 7743, '소중히': 7744, '심한지': 7745, '팔순': 7746, '도자기': 7747, '식비': 7748, '시시콜콜': 7749, '데려올': 7750, '디지털': 7751, '어겨서': 7752, '화날': 7753, '들여': 7754, '얄미운': 7755, '찔': 7756, '그만둬': 7757, '아만': 7758, '흐려': 7759, '묵살': 7760, '담근': 7761, '추악': 7762, '즈': 7763, '출금': 7764, '다툴': 7765, '찰': 7766, '올라올': 7767, '대면': 7768, '챈': 7769, '대도': 7770, '지켜봐': 7771, '증인': 7772, '달려오': 7773, '몰리': 7774, '속해': 7775, '볼수록': 7776, '말주변': 7777, '보탬': 7778, '손재주': 7779, '잔심부름': 7780, '고달프': 7781, '근무지': 7782, '결코': 7783, '없앨': 7784, '염이': 7785, '피임약': 7786, '하얘지': 7787, '해준다': 7788, '부여': 7789, '퍼지': 7790, '속아': 7791, '였을': 7792, '눈시울': 7793, '성교육': 7794, '가렸': 7795, '소리지르': 7796, '공과금': 7797, '적합': 7798, '보낸다고': 7799, '쑥스럽': 7800, '살인': 7801, '들어섰': 7802, '가르침': 7803, '수전증': 7804, '찬스': 7805, '영식': 7806, '돋보기': 7807, '액자': 7808, '물량': 7809, '다름없': 7810, '쏠려서': 7811, '베이비': 7812, '이뤄서': 7813, '마신다고': 7814, '임원직': 7815, '윗몸': 7816, '전셋집': 7817, '드물': 7818, '가부장': 7819, '중이염': 7820, '납기': 7821, '창': 7822, '앞장섰': 7823, '더구나': 7824, '세력': 7825, '납입': 7826, '아우': 7827, '본격': 7828, '캐스팅': 7829, '이뤘': 7830, '이따가': 7831, '서먹서먹': 7832, '단지': 7833, '그려': 7834, '냉담': 7835, '새총': 7836, '눈가': 7837, '척척': 7838, '어떤지': 7839, '입지': 7840, '다급': 7841, '끼리끼리': 7842, '갖은': 7843, '들여다': 7844, '노니': 7845, '바라지': 7846, '저래': 7847, '변': 7848, '말세': 7849, '중대': 7850, '연체료': 7851, '목록': 7852, '두근두근': 7853, '근육통': 7854, '들어온다고': 7855, '쏟아부': 7856, '불참': 7857, '사신대': 7858, '마칠': 7859, '벌벌': 7860, '봉사자': 7861, '내게만': 7862, '웃겼': 7863, '지나쳐': 7864, '양육': 7865, '치장': 7866, '물리치료': 7867, '스카이': 7868, '는구만': 7869, '올가미': 7870, '처한': 7871, '저것': 7872, '추워서': 7873, '대중목욕탕': 7874, '머뭇': 7875, '야반도주': 7876, '무마': 7877, '애완견': 7878, '나무라': 7879, '뿌': 7880, '손댈': 7881, '자처': 7882, '스카프': 7883, '고사': 7884, '주연': 7885, '수락': 7886, '굽신거리': 7887, '파탄': 7888, '마르': 7889, '플래너': 7890, '시킬까': 7891, '되묻': 7892, '극진히': 7893, '연관': 7894, '프': 7895, '남겨져서': 7896, '증권': 7897, '도와줘도': 7898, '두어': 7899, '냉혹': 7900, '검정고시': 7901, '유언비어': 7902, '기색': 7903, '중증': 7904, '찔러': 7905, '막걸리': 7906, '고단': 7907, '채근': 7908, '유에스': 7909, '바뻐서': 7910, '입소': 7911, '구성원': 7912, '사모님': 7913, '착실히': 7914, '신음': 7915, '사귄다고': 7916, '일삼': 7917, '령기': 7918, '수도': 7919, '머무': 7920, '요금제': 7921, '독학': 7922, '훔쳐서': 7923, '이학년': 7924, '상향': 7925, '냉정': 7926, '개인사': 7927, '재건축': 7928, '저럴': 7929, '되려': 7930, '말끝': 7931, '시동생': 7932, '만화책': 7933, '목발': 7934, '피할': 7935, '패가망신': 7936, '스페인어': 7937, '뜻밖': 7938, '리모': 7939, '리스트': 7940, '도왔': 7941, '올지': 7942, '왈칵': 7943, '어려워질': 7944, '양파': 7945, '모야': 7946, '취했': 7947, '물어봐야': 7948, '투자처': 7949, '틱': 7950, '감추': 7951, '인적': 7952, '와이셔츠': 7953, '계란': 7954, '헛웃음': 7955, '쓸데없이': 7956, '육체': 7957, '구걸': 7958, '농구': 7959, '세트': 7960, '순수': 7961, '자질': 7962, '새웠': 7963, '심술': 7964, '나간다는': 7965, '볼까봐': 7966, '잊어버려': 7967, '으라네': 7968, '설렌다': 7969, '버릴까봐': 7970, '봐야지': 7971, '어지러운': 7972, '비율': 7973, '애서': 7974, '씌': 7975, '통원': 7976, '왜냐면': 7977, '맴돌': 7978, '돼버린': 7979, '서민': 7980, '외려': 7981, '귀여워': 7982, '무효': 7983, '연연': 7984, '끔뻑': 7985, '제날짜': 7986, '그지없': 7987, '물려줘서': 7988, '하락': 7989, '선가': 7990, '멸시': 7991, '들떠': 7992, '주무르': 7993, '허허': 7994, '피피티': 7995, '부케': 7996, '셔도': 7997, '뜯어내': 7998, '비명': 7999, '나갈까': 8000, '챙겼으면': 8001, '늘어져서': 8002, '다녀와야': 8003, '소아마비': 8004, '쩔뚝이': 8005, '루머': 8006, '이마': 8007, '측은': 8008, '지날': 8009, '어지러움': 8010, '작전': 8011, '처하': 8012, '깨뜨려서': 8013, '관대': 8014, '세상살이': 8015, '기르': 8016, '엄마야': 8017, '일부분': 8018, '조종사': 8019, '조울증': 8020, '창출': 8021, '소지품': 8022, '그러나': 8023, '혜인': 8024, '발휘': 8025, '체결': 8026, '라디오': 8027, '선포': 8028, '만족도': 8029, '저버리': 8030, '개천': 8031, '뜬금없': 8032, '빨개져서': 8033, '어때서': 8034, '살려야': 8035, '껴안': 8036, '찜찜': 8037, '놓치': 8038, '풀렸으면': 8039, '엮이': 8040, '대부': 8041, '사립': 8042, '춥': 8043, '천장': 8044, '끼쳐': 8045, '부추기': 8046, '문구점': 8047, '파손': 8048, '예기': 8049, '근소': 8050, '애프터': 8051, '걸어와서': 8052, '벌어지': 8053, '감량': 8054, '재작년': 8055, '한결같이': 8056, '나앉': 8057, '될까요': 8058, '지으려고': 8059, '운동화': 8060, '지니': 8061, '러닝': 8062, '겨울철': 8063, '어중간': 8064, '송년회': 8065, '곰곰이': 8066, '케어': 8067, '흉보': 8068, '놓였': 8069, '입니다': 8070, '정황': 8071, '천성': 8072, '더군다나': 8073, '스러워졌': 8074, '신경통': 8075, '가까워질수록': 8076, '치욕': 8077, '패턴': 8078, '플러스': 8079, '고관절': 8080, '삼수': 8081, '아려': 8082, '들인': 8083, '으': 8084, '되돌릴': 8085, '꺼져서': 8086, '맞서': 8087, '자증': 8088, '경리': 8089, '보여줘': 8090, '병약': 8091, '들려오': 8092, '쇠약': 8093, '말지': 8094, '고군분투': 8095, '바뀐다고': 8096, '치명': 8097, '기만': 8098, '간호인': 8099, '마려워': 8100, '심한데': 8101, '향후': 8102, '영업부': 8103, '불러도': 8104, '치료법': 8105, '으라며': 8106, '터질': 8107, '구두쇠': 8108, '들락날락': 8109, '주책': 8110, '그만한': 8111, '달이': 8112, '꼬여서': 8113, '과분': 8114, '갈라지': 8115, '추': 8116, '규제': 8117, '저녁때': 8118, '모바일': 8119, '빼앗기': 8120, '교습': 8121, '헤어져야': 8122, '슬리퍼': 8123, '뇌졸증': 8124, '날카롭': 8125, '서점': 8126, '큰데': 8127, '임박': 8128, '돋보기안경': 8129, '특목고': 8130, '미숙': 8131, '주우러': 8132, '환영회': 8133, '미더워': 8134, '떨렸': 8135, '쪄': 8136, '두근거려': 8137, '눈코': 8138, '토라져서': 8139, '부정행위': 8140, '고의': 8141, '살수록': 8142, '일시금': 8143, '부쳐': 8144, '사신': 8145, '기뻐요': 8146, '클라이언트': 8147, '겁먹': 8148, '는대서': 8149, '서양화': 8150, '흔들리': 8151, '배송': 8152, '사상': 8153, '신종': 8154, '밀가루': 8155, '균': 8156, '겹쳐': 8157, '돌린': 8158, '인성': 8159, '녀': 8160, '내후년': 8161, '칭얼대': 8162, '입력': 8163, '아인데': 8164, '빅': 8165, '명세서': 8166, '두꺼운': 8167, '빠져드': 8168, '혼낼': 8169, '공통': 8170, '달팽이관': 8171, '버섯': 8172, '박사': 8173, '이뻐서': 8174, '남학생': 8175, '맹세코': 8176, '상실': 8177, '쫓겨': 8178, '해결책': 8179, '자택': 8180, '약재': 8181, '오타': 8182, '와선': 8183, '간경변': 8184, '커리어': 8185, '손길': 8186, '애경사': 8187, '나잇값': 8188, '까마득': 8189, '다소': 8190, '자산관리': 8191, '캐비닛': 8192, '과신': 8193, '회감': 8194, '멈칫': 8195, '두들겨': 8196, '김장': 8197, '장어': 8198, '고시원': 8199, '방탄소년단': 8200, '피부과': 8201, '무려': 8202, '녹용': 8203, '어지르': 8204, '묘': 8205, '일거': 8206, '강좌': 8207, '체형': 8208, '고모부': 8209, '유동': 8210, '해져버렸': 8211, '휴업': 8212, '작업장': 8213, '연초': 8214, '하나님': 8215, '편치가': 8216, '연구원': 8217, '막노동': 8218, '놀린다': 8219, '해소': 8220, '모발': 8221, '체구': 8222, '낀': 8223, '인색': 8224, '성품': 8225, '맹장': 8226, '폐교': 8227, '옆자리': 8228, '울고불': 8229, '골인': 8230, '잉여': 8231, '자립': 8232, '팬클럽': 8233, '만족감': 8234, '느냐': 8235, '히터': 8236, '시집살이': 8237, '강압': 8238, '계서': 8239, '시원섭섭': 8240, '악순환': 8241, '날까봐': 8242, '염좌': 8243, '묘하': 8244, '은퇴자': 8245, '양쪽': 8246, '속임수': 8247, '느닷없이': 8248, '쪼': 8249, '망가지': 8250, '양육권': 8251, '저랬': 8252, '누르': 8253, '충성': 8254, '구려': 8255, '차인': 8256, '주거': 8257, '움직임': 8258, '울화통': 8259, '키위': 8260, '한눈': 8261, '시리': 8262, '줄려고': 8263, '종용': 8264, '예시': 8265, '다쳤으나': 8266, '방사선': 8267, '견뎌': 8268, '독': 8269, '쌀농사': 8270, '노동': 8271, '가까웠': 8272, '중병': 8273, '유복': 8274, '막심': 8275, '약통': 8276, '깎이': 8277, '돌려줬': 8278, '노랗': 8279, '가라': 8280, '나왔었': 8281, '근래': 8282, '사슴벌레': 8283, '어림': 8284, '수칙': 8285, '실패자': 8286, '옮겨서': 8287, '빠뜨렸': 8288, '놔라': 8289, '약혼': 8290, '솟구쳐': 8291, '탄력': 8292, '수만': 8293, '감염자': 8294, '딸리': 8295, '무식': 8296, '어딨': 8297, '마티스': 8298, '화환': 8299, '친절히': 8300, '졸졸': 8301, '중국어': 8302, '쉬울': 8303, '요로': 8304, '고이': 8305, '불입': 8306, '소유': 8307, '바빠도': 8308, '바랄지': 8309, '끄떡없': 8310, '명함': 8311, '지나갈': 8312, '떨떠름': 8313, '지나칠': 8314, '콜라': 8315, '숨겨진': 8316, '꽁초': 8317, '바늘': 8318, '미영': 8319, '비결': 8320, '웹툰': 8321, '가량': 8322, '억압': 8323, '차원': 8324, '방광암': 8325, '고파': 8326, '꼬라지': 8327, '건전지': 8328, '나온대': 8329, '직책': 8330, '차려져': 8331, '드세요': 8332, '받아쓰': 8333, '서가': 8334, '쉬워': 8335, '안방': 8336, '욕실': 8337, '트레': 8338, '사라': 8339, '난방': 8340, '횡설수설': 8341, '염두': 8342, '일주': 8343, '새아빠': 8344, '무력감': 8345, '비출': 8346, '실무자': 8347, '밑천': 8348, '탈출': 8349, '얕보': 8350, '몸집': 8351, '부풀려': 8352, '드린다': 8353, '대리운전': 8354, '염치없': 8355, '브리핑': 8356, '잘라버렸': 8357, '알몸': 8358, '집어던졌': 8359, '니스': 8360, '종살이': 8361, '남용': 8362, '걸쳐서': 8363, '청렴': 8364, '홀대': 8365, '막힌': 8366, '라더군': 8367, '분석': 8368, '어쩐': 8369, '망쳐놨': 8370, '줄넘기': 8371, '더럽혀': 8372, '끊겨': 8373, '문소리': 8374, '모실': 8375, '장차': 8376, '유망': 8377, '복합': 8378, '비싼데': 8379, '무당': 8380, '괴로우': 8381, '알차': 8382, '쪘었': 8383, '고려': 8384, '로워졌': 8385, '쉬엄쉬엄': 8386, '병명': 8387, '퍼져': 8388, '엎드려': 8389, '표준': 8390, '선후배': 8391, '길렀': 8392, '여사': 8393, '빠뜨리': 8394, '자판기': 8395, '방심': 8396, '부귀영화': 8397, '하녀': 8398, '인공지능': 8399, '가려먹': 8400, '하차': 8401, '니까요': 8402, '어지간': 8403, '백두산': 8404, '도래': 8405, '벌려서': 8406, '누': 8407, '몇일': 8408, '입국': 8409, '만료일': 8410, '사채업자': 8411, '청결': 8412, '부러움': 8413, '위원장': 8414, '용의자': 8415, '명절날': 8416, '연예': 8417, '댄': 8418, '예습': 8419, '외양': 8420, '서래': 8421, '시달렸': 8422, '췄': 8423, '토악질': 8424, '둘러봐도': 8425, '빨': 8426, '쳐다': 8427, '사이좋': 8428, '족': 8429, '청정기': 8430, '구비': 8431, '자진': 8432, '들어간다': 8433, '뒀었': 8434, '잠겼': 8435, '감기약': 8436, '기지개': 8437, '휘말려서': 8438, '처사': 8439, '희생자': 8440, '불길': 8441, '외침': 8442, '적어도': 8443, '하군': 8444, '정자': 8445, '별나': 8446, '만행': 8447, '훈련소': 8448, '스러': 8449, '섹스': 8450, '만능': 8451, '골수': 8452, '롯데월드': 8453, '사셔야': 8454, '개봉': 8455, '녹음': 8456, '국민연금': 8457, '연골': 8458, '나마': 8459, '물불': 8460, '엑': 8461, '해체': 8462, '틀어진': 8463, '귓속말': 8464, '티셔츠': 8465, '신경증': 8466, '원만히': 8467, '더러워져': 8468, '여전': 8469, '꽂': 8470, '신생': 8471, '해친': 8472, '단가': 8473, '유가족': 8474, '스텐': 8475, '배부르': 8476, '울화': 8477, '부끄러우': 8478, '천지': 8479, '산골짜기': 8480, '파격': 8481, '뛰어오': 8482, '야겠다': 8483, '안정제': 8484, '일환': 8485, '동고동락': 8486, '실속': 8487, '뭉클': 8488, '물컵': 8489, '매달릴': 8490, '막연': 8491, '신사업': 8492, '즉석식품': 8493, '입학식': 8494, '탑승': 8495, '외동딸': 8496, '구체': 8497, '빈둥대': 8498, '찬바람': 8499, '그치만': 8500, '징징대': 8501, '애먹': 8502, '술버릇': 8503, '쳇바퀴': 8504, '다람쥐': 8505, '대문': 8506, '비겁': 8507, '점포': 8508, '보미': 8509, '시려서': 8510, '검정': 8511, '전문직': 8512, '고마워할': 8513, '공신': 8514, '인격': 8515, '시신': 8516, '전전': 8517, '두근거리': 8518, '한다던데': 8519, '폐쇄': 8520, '화끈': 8521, '어때': 8522, '프리젠테이션': 8523, '전시': 8524, '재택': 8525, '잊어버릴까': 8526, '뺀': 8527, '알아봐야': 8528, '고운': 8529, '베개': 8530, '는다더니': 8531, '돌덩이': 8532, '지려': 8533, '버렸었': 8534, '분실': 8535, '긋': 8536, '피라미드': 8537, '의리': 8538, '몸서리': 8539, '헛구역질': 8540, '섭취': 8541, '청력': 8542, '회원권': 8543, '타이': 8544, '방황': 8545, '기혼': 8546, '경주': 8547, '매뉴얼': 8548, '놀라워': 8549, '기수': 8550, '군고구마': 8551, '저하': 8552, '보류': 8553, '장년층': 8554, '도라지': 8555, '좋아': 8556, '줄곧': 8557, '누런': 8558, '전해들': 8559, '끌어들인': 8560, '눈치보': 8561, '장롱': 8562, '독자': 8563, '우르르': 8564, '몰려가': 8565, '해버릴': 8566, '부딪혀서': 8567, '복장': 8568, '창작력': 8569, '웃겨서': 8570, '친딸': 8571, '김숙': 8572, '무병장수': 8573, '개방': 8574, '느껴질까': 8575, '동등': 8576, '솟아나': 8577, '엠아르아이': 8578, '망설였': 8579, '걸기': 8580, '체한': 8581, '귀담아듣': 8582, '없앴': 8583, '스몰': 8584, '베란다': 8585, '남겨줄': 8586, '지낼지': 8587, '옮긴다고': 8588, '공중': 8589, '과묵': 8590, '하얘': 8591, '참고서': 8592, '곤경': 8593, '양치': 8594, '걸음걸이': 8595, '부사수': 8596, '결론': 8597, '스러워진': 8598, '투덜거렸': 8599, '조그만': 8600, '몰아세우': 8601, '들어온다니': 8602, '할려면': 8603, '지겨운': 8604, '군상': 8605, '정나미': 8606, '독하': 8607, '울리': 8608, '샌가': 8609, '사법': 8610, '횡단보도': 8611, '부풀': 8612, '고쳐서': 8613, '협': 8614, '날라갔': 8615, '민정': 8616, '갈라놓': 8617, '지분': 8618, '시끄러운': 8619, '막차': 8620, '반대편': 8621, '무너진다': 8622, '말라버렸': 8623, '노심초사': 8624, '기간제': 8625, '횟감': 8626, '창자': 8627, '염': 8628, '잇속': 8629, '속상해할': 8630, '닥칠': 8631, '진척': 8632, '터널': 8633, '편협': 8634, '최저가': 8635, '탐탁': 8636, '알파벳': 8637, '중복': 8638, '뛰어놀': 8639, '물으면': 8640, '선천성': 8641, '빨라졌': 8642, '합동': 8643, '키운다는': 8644, '직설': 8645, '북한산': 8646, '통제': 8647, '장시간': 8648, '추락': 8649, '일과': 8650, '경황': 8651, '궁상맞': 8652, '사회인': 8653, '안사람': 8654, '세상일': 8655, '명동': 8656, '박탈감': 8657, '환급': 8658, '물어도': 8659, '는다며': 8660, '두려우': 8661, '본데': 8662, '집요': 8663, '뜨끔': 8664, '베트남': 8665, '아비규환': 8666, '얼굴색': 8667, '자연스레': 8668, '으셨던': 8669, '골랐': 8670, '전적': 8671, '더뎌서': 8672, '해진다': 8673, '오에이': 8674, '발짝': 8675, '두통약': 8676, '나갔었': 8677, '그런다고': 8678, '우쭐대': 8679, '제육볶음': 8680, '털어놔': 8681, '샵': 8682, '아찔': 8683, '받쳐': 8684, '대졸자': 8685, '관리인': 8686, '아래층': 8687, '전보': 8688, '들볶': 8689, '익히': 8690, '저질러도': 8691, '한도': 8692, '유입': 8693, '정해졌': 8694, '경쟁심': 8695, '불명예': 8696, '벌칙': 8697, '친부모': 8698, '뭘로': 8699, '실비': 8700, '변심': 8701, '따놓': 8702, '헛된': 8703, '급식비': 8704, '쪼잔': 8705, '만연': 8706, '고발자': 8707, '열심': 8708, '눌러': 8709, '드신': 8710, '반차': 8711, '몰릴': 8712, '낙찰': 8713, '얕': 8714, '모셔': 8715, '냐는데': 8716, '좋아한': 8717, '스토커': 8718, '술술': 8719, '기다릴': 8720, '속내': 8721, '외할아버지': 8722, '담긴': 8723, '동문회': 8724, '따져': 8725, '그만둔다는': 8726, '시가': 8727, '메': 8728, '바늘방석': 8729, '전년': 8730, '알릴': 8731, '끓이': 8732, '아파하': 8733, '넘겨야': 8734, '반항심': 8735, '놀러갔': 8736, '건만': 8737, '전염': 8738, '벤처': 8739, '만기일': 8740, '울려서': 8741, '햇살': 8742, '돌아간': 8743, '저거': 8744, '화끈거려': 8745, '줄어든다는': 8746, '대학가': 8747, '콜레': 8748, '트롤': 8749, '종': 8750, '자그마': 8751, '프린트': 8752, '덜렁대': 8753, '왔다갔다': 8754, '사들이': 8755, '보인다': 8756, '안기': 8757, '과학자': 8758, '별명': 8759, '초췌': 8760, '게서': 8761, '먹여서': 8762, '무기': 8763, '심해질': 8764, '짠해': 8765, '은행원': 8766, '따분': 8767, '부자지간': 8768, '반신': 8769, '이맘때': 8770, '어치': 8771, '노부모': 8772, '져버렸으면': 8773, '소비력': 8774, '둘러': 8775, '이겨서': 8776, '나아질까': 8777, '처신': 8778, '하얘졌': 8779, '밤하늘': 8780, '셌': 8781, '되도록': 8782, '아실까': 8783, '하트': 8784, '관심사': 8785, '엠알': 8786, '스크린': 8787, '단합': 8788, '잔업': 8789, '짠순이': 8790, '송두리': 8791, '듬직': 8792, '해할까': 8793, '입소문': 8794, '저놈': 8795, '걸쳐': 8796, '천재': 8797, '반품': 8798, '뛰어다니': 8799, '대대로': 8800, '얼만데': 8801, '휘둘러': 8802, '발가락': 8803, '두세': 8804, '앤': 8805, '전임자': 8806, '회사채': 8807, '서슴': 8808, '까닥': 8809, '다닌데': 8810, '어두우': 8811, '발길': 8812, '언어': 8813, '물려줘야': 8814, '가버리': 8815, '달려서': 8816, '으려니까': 8817, '메모': 8818, '시댄': 8819, '파도': 8820, '따가운': 8821, '넘쳤': 8822, '홀': 8823, '테스': 8824, '트기': 8825, '타협': 8826, '다녀온다고': 8827, '친형': 8828, '빨개져': 8829, '잔기침': 8830, '저장': 8831, '촌': 8832, '떠오를': 8833, '식약청': 8834, '검문': 8835, '콤플렉스': 8836, '내다보': 8837, '단정': 8838, '귤': 8839, '공돈': 8840, '별의별': 8841, '이런가': 8842, '상습': 8843, '비우': 8844, '밭일': 8845, '비치': 8846, '침묵': 8847, '으냐고': 8848, '애꿎': 8849, '테이블': 8850, '훼손': 8851, '갓': 8852, '얹': 8853, '추워져서': 8854, '추해': 8855, '괴롭혔으면': 8856, '속고': 8857, '참관': 8858, '번뜩': 8859, '로운가': 8860, '났거든': 8861, '세탁': 8862, '압력': 8863, '오른쪽': 8864, '타일러': 8865, '눕': 8866, '축소': 8867, '무지막지': 8868, '살아간다는': 8869, '아이폰': 8870, '나진': 8871, '피력': 8872, '쌈짓돈': 8873, '부도났': 8874, '자반': 8875, '살얼음판': 8876, '위기감': 8877, '상자': 8878, '아니면': 8879, '처방전': 8880, '궁한': 8881, '화폐': 8882, '내려놓': 8883, '운동복': 8884, '간다던': 8885, '존댓말': 8886, '받아들여야': 8887, '숙연': 8888, '느린데': 8889, '아랫': 8890, '휘둘려': 8891, '영구': 8892, '구청': 8893, '배고파도': 8894, '한구석': 8895, '고질병': 8896, '사체': 8897, '놓칠': 8898, '쿵쿵': 8899, '가품': 8900, '채워서': 8901, '빈약': 8902, '옷맵시': 8903, '팔려': 8904, '페스티벌': 8905, '허구': 8906, '창창': 8907, '침해': 8908, '아슬아슬': 8909, '악착같': 8910, '생리대': 8911, '헛소리': 8912, '건사': 8913, '후보': 8914, '빈곤층': 8915, '영숙': 8916, '걸친': 8917, '비로소': 8918, '급할': 8919, '빠진다': 8920, '동창생': 8921, '안쓰러운': 8922, '부근': 8923, '그룹웨어': 8924, '갈팡질팡': 8925, '만년': 8926, '목사': 8927, '유방': 8928, '납득': 8929, '스토킹': 8930, '더위': 8931, '뒤져': 8932, '택해야': 8933, '관여': 8934, '음란물': 8935, '제치': 8936, '천불': 8937, '거뜬히': 8938, '깨웠': 8939, '찌푸려': 8940, '우셨': 8941, '당기': 8942, '오피스': 8943, '감돌': 8944, '과한': 8945, '모니터': 8946, '까맣': 8947, '렌': 8948, '공포': 8949, '맞아': 8950, '바쁜가': 8951, '피나': 8952, '차올라': 8953, '아사코': 8954, '지하': 8955, '알려준다고': 8956, '자각': 8957, '문전': 8958, '박대': 8959, '녹즙': 8960, '가신': 8961, '하향': 8962, '묻히': 8963, '올려달라': 8964, '반주': 8965, '소희': 8966, '말려야': 8967, '근대': 8968, '주어져서': 8969, '껐': 8970, '원무': 8971, '수위': 8972, '골프채': 8973, '관문': 8974, '따질': 8975, '뒤떨어져': 8976, '분홍색': 8977, '을껄': 8978, '생각났': 8979, '면전': 8980, '왕년': 8981, '무리지': 8982, '투표': 8983, '이메일': 8984, '부조리': 8985, '지영': 8986, '꼈': 8987, '환호': 8988, '임상': 8989, '로비': 8990, '수빈': 8991, '라니깐': 8992, '아웃백': 8993, '지웠': 8994, '앨범': 8995, '힘드신데': 8996, '실업자': 8997, '소위': 8998, '섣부른': 8999, '재킷': 9000, '지켜줬': 9001, '다독여': 9002, '달랬': 9003, '간장': 9004, '게장': 9005, '로봇': 9006, '오르내릴': 9007, '투약': 9008, '비판': 9009, '포근': 9010, '살살': 9011, '으셨으면': 9012, '낼모레': 9013, '움직여서': 9014, '평안': 9015, '일전': 9016, '지나친': 9017, '미용': 9018, '라미': 9019, '네이트': 9020, '이관': 9021, '외아들': 9022, '외진': 9023, '사족': 9024, '힘썼': 9025, '데려와': 9026, '뇌리': 9027, '넘어뜨렸': 9028, '사업장': 9029, '뒷골': 9030, '편할': 9031, '보충': 9032, '박탈': 9033, '일주년': 9034, '주야장천': 9035, '보인다면': 9036, '남잔데': 9037, '유흥업소': 9038, '판사': 9039, '나아질지': 9040, '고래': 9041, '쓰다듬': 9042, '인형': 9043, '쉬워졌': 9044, '치료사': 9045, '윳': 9046, '에다가': 9047, '통합': 9048, '편한데': 9049, '난산': 9050, '쟀': 9051, '으쓱': 9052, '클': 9053, '붙여서': 9054, '감점': 9055, '외워': 9056, '추근': 9057, '나아야': 9058, '걸어야': 9059, '편파': 9060, '혈': 9061, '올라간': 9062, '얌체': 9063, '적립': 9064, '교도소': 9065, '하우스': 9066, '프라모델': 9067, '진솔': 9068, '차려져도': 9069, '숙이': 9070, '솟아날': 9071, '예외': 9072, '주시': 9073, '차려서': 9074, '위조': 9075, '보낸다는': 9076, '경식': 9077, '전산': 9078, '나진이': 9079, '코치': 9080, '번거롭': 9081, '대수': 9082, '흐느끼': 9083, '모회사': 9084, '간다니': 9085, '고속도로': 9086, '으름장': 9087, '으셨어요': 9088, '그제': 9089, '버거운데': 9090, '자면서': 9091, '들킬까봐': 9092, '합치': 9093, '자래': 9094, '간다네': 9095, '짚': 9096, '패키지여행': 9097, '좁히': 9098, '기원': 9099, '동갑내기': 9100, '입주': 9101, '묻혀': 9102, '끊어졌': 9103, '시킨다는': 9104, '클래스': 9105, '마마보이': 9106, '캐': 9107, '울렁증': 9108, '팔자': 9109, '조산': 9110, '버릇없이': 9111, '무소식': 9112, '항공': 9113, '우와': 9114, '계약금': 9115, '캐나다': 9116, '바람둥이': 9117, '수입원': 9118, '어땠을까': 9119, '알려져': 9120, '카풀': 9121, '저녁밥': 9122, '원액': 9123, '초음파': 9124, '탈퇴': 9125, '이따위': 9126, '커피믹스': 9127, '기선': 9128, '장암': 9129, '외과': 9130, '보조금': 9131, '갈려고': 9132, '경악': 9133, '쥐어짜': 9134, '키워왔': 9135, '어두워져': 9136, '겠다': 9137, '짠하': 9138, '돌림': 9139, '제보': 9140, '이윤': 9141, '부반장': 9142, '이끈다는': 9143, '밀도': 9144, '고기반찬': 9145, '터뜨린': 9146, '이성애자': 9147, '드러내': 9148, '이래야': 9149, '사라진다': 9150, '개설': 9151, '여우': 9152, '달아났': 9153, '외로울까': 9154, '다그치': 9155, '재결합': 9156, '풀이': 9157, '따라준': 9158, '친족': 9159, '얼버무려서': 9160, '해변': 9161, '둔다': 9162, '언젠지': 9163, '괴롭혀왔': 9164, '멍청이': 9165, '깨뜨린': 9166, '헤드헌터': 9167, '일감': 9168, '중개': 9169, '시름시름': 9170, '끈기': 9171, '차야': 9172, '절대음감': 9173, '비대증': 9174, '이억': 9175, '내려갈까': 9176, '점심때': 9177, '소모품': 9178, '무너져서': 9179, '응시': 9180, '찬다': 9181, '눈길': 9182, '예사': 9183, '공모주': 9184, '횡단': 9185, '안겨서': 9186, '벌떡': 9187, '핸드백': 9188, '과다': 9189, '믿음직스럽': 9190, '쓰러질까': 9191, '이율': 9192, '물밀': 9193, '첫인상': 9194, '거름': 9195, '둘까': 9196, '처가댁': 9197, '교정': 9198, '소수': 9199, '성취감': 9200, '언질': 9201, '래도': 9202, '조짐': 9203, '내서': 9204, '검수': 9205, '발등': 9206, '삭신': 9207, '사귈지': 9208, '물고기': 9209, '부둥켜': 9210, '배상금': 9211, '컴': 9212, '깨뜨렸': 9213, '운전자': 9214, '저게': 9215, '낙오': 9216, '들릴': 9217, '끄떡': 9218, '도구': 9219, '건드려서': 9220, '행태': 9221, '살뜰히': 9222, '껴': 9223, '돌아다녀': 9224, '기다려왔': 9225, '졸여서': 9226, '물러': 9227, '적혀': 9228, '조문객': 9229, '번복': 9230, '머리띠': 9231, '굵': 9232, '다쳤으면': 9233, '불러오': 9234, '되돌아보': 9235, '종신': 9236, '성적순': 9237, '팀웍': 9238, '뒤져서': 9239, '예쁠': 9240, '어둡': 9241, '농사지': 9242, '오랬': 9243, '흐려서': 9244, '수백': 9245, '설교': 9246, '아다': 9247, '꾸몄': 9248, '드립니다': 9249, '커졌': 9250, '들었었는데': 9251, '견뎌야': 9252, '뒷일': 9253, '외동': 9254, '시험장': 9255, '창밖': 9256, '컴컴': 9257, '제시간': 9258, '콘': 9259, '에스컬레이터': 9260, '표창장': 9261, '서글픈데': 9262, '발송': 9263, '열려도': 9264, '지점장': 9265, '도장': 9266, '보톡스': 9267, '소진': 9268, '새내기': 9269, '배신자': 9270, '움직여도': 9271, '경청': 9272, '엄만': 9273, '꼴불견': 9274, '만든다고': 9275, '저곳': 9276, '들어와야': 9277, '결벽증': 9278, '검색': 9279, '랴': 9280, '베낀': 9281, '패거리': 9282, '트럭': 9283, '무지': 9284, '애완': 9285, '오죽': 9286, '바닷가': 9287, '자소': 9288, '숨겨뒀': 9289, '광고주': 9290, '틈틈이': 9291, '구축': 9292, '디저트': 9293, '온전': 9294, '밥풀': 9295, '어이': 9296, '이해심': 9297, '젠더': 9298, '불룩': 9299, '혹여나': 9300, '내려진': 9301, '식중독': 9302, '아싸': 9303, '강점': 9304, '근면': 9305, '택': 9306, '흉한': 9307, '실용음악': 9308, '글자': 9309, '멋져': 9310, '찍혔': 9311, '호프집': 9312, '지원자': 9313, '가스레인지': 9314, '에워싸': 9315, '맛보': 9316, '유흥비': 9317, '등갈비': 9318, '공모': 9319, '신대서': 9320, '홱': 9321, '넘어갈까': 9322, '과해': 9323, '청년회': 9324, '여물': 9325, '고쳤': 9326, '버킷': 9327, '본능': 9328, '간이식': 9329, '팔려서': 9330, '덤덤': 9331, '납작': 9332, '재워서': 9333, '조심스레': 9334, '눕혔': 9335, '옥이': 9336, '지위': 9337, '다쳤었': 9338, '시야': 9339, '쳐다봤': 9340, '싫어해': 9341, '바빠졌': 9342, '주래': 9343, '순이': 9344, '까탈': 9345, '휘둥그레졌': 9346, '줄인': 9347, '노약자': 9348, '못한지': 9349, '휴게소': 9350, '험하': 9351, '투입': 9352, '최소': 9353, '궁둥이': 9354, '일확천금': 9355, '작업복': 9356, '수군거려서': 9357, '꾸며서': 9358, '환경미화원': 9359, '귓등': 9360, '답례': 9361, '데면데면': 9362, '히트': 9363, '방탄': 9364, '소년단': 9365, '열중': 9366, '빌려줘': 9367, '댄다고': 9368, '반점': 9369, '생길까봐': 9370, '확산': 9371, '덤': 9372, '문고': 9373, '날릴': 9374, '카레': 9375, '산속': 9376, '낸다': 9377, '짼데': 9378, '사그라지': 9379, '야자': 9380, '참내': 9381, '옥살이': 9382, '멱살잡이': 9383, '도둑맞': 9384, '압도': 9385, '날지': 9386, '차량': 9387, '자린데': 9388, '얽혀': 9389, '다름': 9390, '거니': 9391, '벌기': 9392, '연구실': 9393, '대립': 9394, '부숴': 9395, '이외': 9396, '껴서': 9397, '해졌으면': 9398, '기다려서': 9399, '부녀': 9400, '지간': 9401, '회서': 9402, '독일': 9403, '한적': 9404, '쫓아오': 9405, '한껏': 9406, '살쪘': 9407, '상할': 9408, '나설': 9409, '잠꼬대': 9410, '떠맡기': 9411, '깨진': 9412, '손수': 9413, '떠난다는': 9414, '설맞이': 9415, '순환': 9416, '찔려서': 9417, '치러야': 9418, '목도리': 9419, '얌전히': 9420, '댄다': 9421, '법률': 9422, '내칠': 9423, '형수님': 9424, '약초': 9425, '전세살이': 9426, '공직': 9427, '알아볼': 9428, '갈취': 9429, '활기찬': 9430, '무전취식': 9431, '축축': 9432, '빗': 9433, '역겨워서': 9434, '굉장': 9435, '프렌드': 9436, '마음씨': 9437, '쉬쉬': 9438, '나무': 9439, '등졌': 9440, '윗선': 9441, '불똥': 9442, '소소': 9443, '빠진다고': 9444, '내줄': 9445, '씌워': 9446, '호칭': 9447, '명목': 9448, '줄줄': 9449, '살인범': 9450, '올까봐': 9451, '엇갈린': 9452, '아쉬우': 9453, '생필품': 9454, '영입': 9455, '장마철': 9456, '절뚝거리': 9457, '지진': 9458, '좌석': 9459, '동요': 9460, '물으시는데': 9461, '통했': 9462, '꼬마': 9463, '일면식': 9464, '고깃집': 9465, '스케이트': 9466, '마약': 9467, '분칠': 9468, '부실': 9469, '따돌린다고': 9470, '어안': 9471, '벙벙': 9472, '챙피': 9473, '청소년': 9474, '장터': 9475, '돌연': 9476, '바치': 9477, '지능': 9478, '모른다니': 9479, '외교관': 9480, '광택': 9481, '지극': 9482, '반면': 9483, '수완': 9484, '최소한': 9485, '치워야': 9486, '영재': 9487, '조그마': 9488, '꺾': 9489, '캐물': 9490, '할미': 9491, '교태': 9492, '사칭': 9493, '수수료': 9494, '물회': 9495, '빨간': 9496, '받아들여서': 9497, '노름판': 9498, '정착': 9499, '뭐한': 9500, '다나': 9501, '나을까': 9502, '반쪽': 9503, '재학': 9504, '인사불성': 9505, '치웠': 9506, '조리사': 9507, '얻어맞': 9508, '성심': 9509, '으셨는지': 9510, '어질러': 9511, '수술대': 9512, '천하': 9513, '후송': 9514, '어린이': 9515, '회초리': 9516, '길바닥': 9517, '정맥류': 9518, '일으켰': 9519, '벼락치기': 9520, '합심': 9521, '그럴까봐': 9522, '할망정': 9523, '추구': 9524, '선선': 9525, '환': 9526, '몸살감기': 9527, '무의미': 9528, '지현': 9529, '질수록': 9530, '징그러운': 9531, '생색내': 9532, '돌발': 9533, '보일러': 9534, '부러지': 9535, '식도암': 9536, '광주': 9537, '괜시리': 9538, '질질': 9539, '끌어오': 9540, '상한가': 9541, '친할머니': 9542, '반성문': 9543, '옮길까': 9544, '떠나간': 9545, '근원': 9546, '붉어져서': 9547, '돈다고': 9548, '내려앉': 9549, '들으시고': 9550, '사달': 9551, '드시': 9552, '연주': 9553, '정해져서': 9554, '가눌': 9555, '치일': 9556, '더만': 9557, '무지하': 9558, '연결': 9559, '낸다고': 9560, '그제야': 9561, '어머': 9562, '현황': 9563, '벼르': 9564, '힘없이': 9565, '부턴': 9566, '번거로운': 9567, '사이클': 9568, '청소기': 9569, '호되': 9570, '질린다': 9571, '건다고': 9572, '전해야': 9573, '나을지': 9574, '사탕': 9575, '감염병': 9576, '무서운데': 9577, '노여': 9578, '뻔해': 9579, '재검사': 9580, '하지': 9581, '일솜씨': 9582, '곧장': 9583, '에세이': 9584, '보신탕': 9585, '수사': 9586, '돌아올까': 9587, '절실히': 9588, '던가': 9589, '덤벼들': 9590, '울음': 9591, '설움': 9592, '티끌': 9593, '당수': 9594, '엿들': 9595, '도덕': 9596, '타고나': 9597, '하나같이': 9598, '트릴': 9599, '이웃사촌': 9600, '역해': 9601, '버거워서': 9602, '낮추': 9603, '도망갈까': 9604, '고의로': 9605, '담도': 9606, '들뜬': 9607, '들뜨': 9608, '일찍이': 9609, '기숙': 9610, '백내장': 9611, '가졌었': 9612, '급증': 9613, '끈끈': 9614, '독촉장': 9615, '앞자리': 9616, '날릴까': 9617, '은연중': 9618, '시큰': 9619, '남남': 9620, '미워했': 9621, '껴도': 9622, '미화원': 9623, '파스타': 9624, '하인': 9625, '보탰': 9626, '어울림': 9627, '스페인': 9628, '높였': 9629, '잔디': 9630, '돗자리': 9631, '껍데기': 9632, '까불': 9633, '경찰관': 9634, '양호실': 9635, '자매': 9636, '속앓이': 9637, '인파': 9638, '시련': 9639, '생겼었': 9640, '겨를': 9641, '특유': 9642, '뻔질나게': 9643, '별말': 9644, '이상형': 9645, '돌이킬': 9646, '어미': 9647, '생선': 9648, '백조': 9649, '식충': 9650, '누더기': 9651, '격식': 9652, '차려야': 9653, '하네': 9654, '중간시험': 9655, '건장': 9656, '명성': 9657, '느낀다고': 9658, '지겨운지': 9659, '락': 9660, '건넬': 9661, '주워서': 9662, '헷갈린다': 9663, '송이': 9664, '신분증': 9665, '돌려보냈': 9666, '인심': 9667, '자습': 9668, '금지옥엽': 9669, '나고': 9670, '태우': 9671, '받아들여졌': 9672, '대비책': 9673, '사시': 9674, '시디': 9675, '생물학자': 9676, '자본금': 9677, '꿰': 9678, '시집와서': 9679, '닭': 9680, '흑': 9681, '따돌릴지': 9682, '대패': 9683, '빼돌린': 9684, '태': 9685, '드실': 9686, '혈기': 9687, '떨굴': 9688, '미옥': 9689, '어물쩍': 9690, '그럭저럭': 9691, '갇혔었': 9692, '올린다고': 9693, '무릅쓰': 9694, '허수아비': 9695, '허례허식': 9696, '생략': 9697, '꺼림칙': 9698, '나태': 9699, '치루': 9700, '기량': 9701, '입주민': 9702, '드러나': 9703, '면회실': 9704, '걸려온': 9705, '버럭버럭': 9706, '복사기': 9707, '까다로웠': 9708, '모인다고': 9709, '저마다': 9710, '엄청날': 9711, '쪽팔려서': 9712, '연발': 9713, '애지중지': 9714, '빼돌려서': 9715, '올려다보': 9716, '떠날지': 9717, '대외': 9718, '지어': 9719, '따른다면': 9720, '삼키': 9721, '라나': 9722, '형편없이': 9723, '빈틈': 9724, '활약': 9725, '합석': 9726, '생일잔치': 9727, '만져서': 9728, '피트': 9729, '야생': 9730, '형부': 9731, '초연': 9732, '숫기': 9733, '쫄딱': 9734, '패션': 9735, '중년층': 9736, '심한가': 9737, '송': 9738, '청천벽력': 9739, '뒷덜미': 9740, '천년만년': 9741, '돈대': 9742, '신비': 9743, '논하': 9744, '떠밀': 9745, '일만': 9746, '번졌': 9747, '연설': 9748, '자긴': 9749, '미쳤었': 9750, '앉혀': 9751, '사와': 9752, '승리': 9753, '꺼진': 9754, '거니와': 9755, '증명서': 9756, '바짓가랑이': 9757, '불어난': 9758, '게으를': 9759, '별도': 9760, '노려볼': 9761, '궁지': 9762, '사귄다': 9763, '과민': 9764, '두둑': 9765, '계획안': 9766, '코딩': 9767, '혁명': 9768, '원천': 9769, '날카로워져': 9770, '풍선': 9771, '개조': 9772, '뒷머리': 9773, '대기발령': 9774, '샀으면': 9775, '업보': 9776, '한의원': 9777, '놀래': 9778, '정당방위': 9779, '나으면': 9780, '카카오': 9781, '이긴다고': 9782, '배척': 9783, '엄한데': 9784, '모잘라서': 9785, '수요': 9786, '전립선암': 9787, '선다면': 9788, '성가신데': 9789, '사교육': 9790, '늘리': 9791, '아휴': 9792, '부으면': 9793, '푸대접': 9794, '메우': 9795, '고산': 9796, '지대': 9797, '백일': 9798, '온다니까': 9799, '땡볕': 9800, '닫혔': 9801, '이삿짐': 9802, '제왕': 9803, '절개': 9804, '로움': 9805, '공존': 9806, '눈독': 9807, '행운아': 9808, '드러누워': 9809, '주린': 9810, '얼음장': 9811, '불어야': 9812, '췌장': 9813, '연달': 9814, '더워도': 9815, '책장': 9816, '러지': 9817, '시산제': 9818, '차가워': 9819, '가사일': 9820, '밥투정': 9821, '더치': 9822, '강원랜드': 9823, '쪽팔려': 9824, '슬럼프': 9825, '빠졌었': 9826, '뛰쳐나가': 9827, '차감': 9828, '내가': 9829, '풀코스': 9830, '희소': 9831, '서너': 9832, '아닐까요': 9833, '끓였': 9834, '나기': 9835, '새로워': 9836, '덧나': 9837, '오월': 9838, '밝혀져': 9839, '깎일': 9840, '찮은': 9841, '개입': 9842, '엔지니어': 9843, '중도금': 9844, '우가': 9845, '장난삼': 9846, '진다는데': 9847, '폐병': 9848, '까다로워': 9849, '지나갈까': 9850, '지울': 9851, '도서실': 9852, '고마워하': 9853, '쫓아와서': 9854, '몰려다니': 9855, '맞혔': 9856, '사물': 9857, '비상근무': 9858, '앞당겨질': 9859, '향했': 9860, '버릇없': 9861, '오를지': 9862, '편견': 9863, '들러리': 9864, '울분': 9865, '성관': 9866, '흘러서': 9867, '일건': 9868, '매부': 9869, '영점': 9870, '삽입': 9871, '간부진': 9872, '고픈': 9873, '성능': 9874, '천근': 9875, '사투리': 9876, '표준어': 9877, '기회주의자': 9878, '친할아버지': 9879, '박부': 9880, '불장난': 9881, '은인': 9882, '흔들거려': 9883, '고를': 9884, '버젓': 9885, '우물쭈물': 9886, '손버릇': 9887, '학문': 9888, '빠른데': 9889, '가늠': 9890, '논의': 9891, '가불': 9892, '무서웠어': 9893, '누님': 9894, '푸딩': 9895, '폭로': 9896, '뜸해졌': 9897, '목장': 9898, '처치': 9899, '변함없': 9900, '용어': 9901, '한글': 9902, '간담회': 9903, '달가워하': 9904, '파란': 9905, '지낸다는': 9906, '건너편': 9907, '완화': 9908, '경위서': 9909, '조수석': 9910, '해진다고': 9911, '유리창': 9912, '상술': 9913, '얼떨결': 9914, '수속': 9915, '바리스타': 9916, '올수록': 9917, '찍소리': 9918, '키워도': 9919, '사각지대': 9920, '뿔뿔이': 9921, '동의서': 9922, '장식장': 9923, '트로피': 9924, '빠질까': 9925, '최저임금': 9926, '체감': 9927, '강탈': 9928, '조의금': 9929, '걸러': 9930, '애써서': 9931, '바닥난': 9932, '저탄고': 9933, '아서라도': 9934, '성숙': 9935, '수민': 9936, '어김없이': 9937, '굴러': 9938, '도감': 9939, '인생무상': 9940, '은밀': 9941, '이유로': 9942, '소금': 9943, '졸라맸': 9944, '홀수': 9945, '맛봤': 9946, '공동체': 9947, '일탈': 9948, '건강미': 9949, '기억났': 9950, '자기혐오': 9951, '장래희망': 9952, '유치장': 9953, '자태': 9954, '집어넣': 9955, '경직': 9956, '삔': 9957, '번다는데': 9958, '똘똘': 9959, '써야지': 9960, '무너져내릴': 9961, '편한지': 9962, '간별': 9963, '제어': 9964, '소동': 9965, '눈치껏': 9966, '매미': 9967, '밀려나': 9968, '지름길': 9969, '논밭': 9970, '샜': 9971, '가정일': 9972, '두텁': 9973, '애틋': 9974, '쪼금': 9975, '오냐오냐': 9976, '제조': 9977, '달린': 9978, '주소': 9979, '무분별': 9980, '편리': 9981, '실내화': 9982, '담가서': 9983, '살펴봤': 9984, '가군': 9985, '발급': 9986, '비타민제': 9987, '욜로': 9988, '역류': 9989, '식도염': 9990, '올인': 9991, '가르친': 9992, '멀뚱히': 9993, '만든다니까': 9994, '곯아떨어지': 9995, '대든': 9996, '결단력': 9997, '일어났었': 9998, '일수록': 9999, '초콜릿': 10000, '겠다고': 10001, '낄낄거리': 10002, '친다며': 10003, '공금': 10004, '질러도': 10005, '관심없': 10006, '고학력자': 10007, '가려워서': 10008, '칭얼댔': 10009, '내미': 10010, '예능': 10011, '앓아눕': 10012, '수근거리': 10013, '느낀다는': 10014, '쑥스러워서': 10015, '구구절절': 10016, '내려온다고': 10017, '신상품': 10018, '가전제품': 10019, '아유': 10020, '기다림': 10021, '닫혀': 10022, '챙겨오': 10023, '긴급': 10024, '지으면': 10025, '헀': 10026, '까칠': 10027, '뿌린': 10028, '제게': 10029, '유력': 10030, '랜덤': 10031, '들쑥날쑥': 10032, '교정기': 10033, '행실': 10034, '이니': 10035, '어찌하': 10036, '방송사': 10037, '통신문': 10038, '풀칠': 10039, '바래다주': 10040, '중추': 10041, '털털이': 10042, '자치': 10043, '자작극': 10044, '부아': 10045, '정수기': 10046, '믹스': 10047, '때웠': 10048, '중순': 10049, '배다른': 10050, '맺혀': 10051, '병이': 10052, '소액결제': 10053, '커피숍': 10054, '찾아뵈': 10055, '식한': 10056, '폐가': 10057, '호구': 10058, '아네': 10059, '빠져나왔': 10060, '하자': 10061, '자궁암': 10062, '에러': 10063, '순순히': 10064, '내릴까': 10065, '서둘러': 10066, '개미': 10067, '한정판': 10068, '여려': 10069, '설쳐서': 10070, '재현': 10071, '뽐내': 10072, '위함': 10073, '뺏겨': 10074, '커질': 10075, '노궁': 10076, '문중': 10077, '쇠퇴': 10078, '노선': 10079, '상한다고': 10080, '실까요': 10081, '깜깜무소식': 10082, '야동': 10083, '잔반': 10084, '지겨워하': 10085, '높인': 10086, '와전': 10087, '과할': 10088, '뻘쭘': 10089, '식겁': 10090, '저세상': 10091, '간다더니': 10092, '빼내': 10093, '선입견': 10094, '세포': 10095, '식자재': 10096, '뛰쳐나갔': 10097, '사과문': 10098, '이어진': 10099, '순수익': 10100, '불러냈': 10101, '반반': 10102, '넘네': 10103, '포교': 10104, '기어': 10105, '나면': 10106, '돌아다녀서': 10107, '작업자': 10108, '느려졌': 10109, '바람둥인': 10110, '대증': 10111, '농사일': 10112, '굴착': 10113, '최상': 10114, '순하': 10115, '권한': 10116, '이어져서': 10117, '유발': 10118, '큰지': 10119, '얼렁뚱땅': 10120, '떤다고': 10121, '파선': 10122, '위한다고': 10123, '꿀꿀': 10124, '구할까': 10125, '남들': 10126, '제목': 10127, '예상외': 10128, '얕잡아보': 10129, '거리감': 10130, '휴양지': 10131, '파란색': 10132, '내려온다': 10133, '모성애': 10134, '구강': 10135, '못산다고': 10136, '지질': 10137, '웃옷': 10138, '궁색': 10139, '겹겹이': 10140, '저승': 10141, '폐기': 10142, '생겨나': 10143, '노려보': 10144, '부러울': 10145, '힘겨워': 10146, '흠집': 10147, '상위권': 10148, '려도': 10149, '부비': 10150, '끔직': 10151, '잡티': 10152, '창작': 10153, '멈출': 10154, '웃음바다': 10155, '직렬': 10156, '싸워왔': 10157, '걸요': 10158, '떠내려가': 10159, '색시': 10160, '날려구': 10161, '뇌야': 10162, '하와이': 10163, '골머리': 10164, '놔도': 10165, '남부럽': 10166, '세쌍둥이': 10167, '채웠': 10168, '상대편': 10169, '미달': 10170, '탐방': 10171, '어쩔지': 10172, '알아맞혀서': 10173, '당부': 10174, '영지': 10175, '상철': 10176, '끝냈으니': 10177, '누군': 10178, '워크': 10179, '한주': 10180, '까치발': 10181, '싱거워서': 10182, '세워서': 10183, '파마': 10184, '진다면': 10185, '멘탈': 10186, '붕괴': 10187, '감개무량': 10188, '튼': 10189, '상대자': 10190, '귀금속': 10191, '조폭': 10192, '벌겋': 10193, '붙들': 10194, '저지를까': 10195, '덮어씌워서': 10196, '주거비': 10197, '부러워했': 10198, '쪼들리': 10199, '포대': 10200, '내편': 10201, '심신': 10202, '벌려': 10203, '어떠세요': 10204, '신상': 10205, '올려져': 10206, '쓴다며': 10207, '개성': 10208, '넘길까': 10209, '애칭': 10210, '투찰': 10211, '뒷얘기': 10212, '저명': 10213, '괴롭힌다': 10214, '과업': 10215, '사돈어른': 10216, '경솔': 10217, '눈여겨보': 10218, '뭣': 10219, '무용': 10220, '전과자': 10221, '등원': 10222, '그래선': 10223, '눈떠': 10224, '해준다면': 10225, '사양': 10226, '삐걱거리': 10227, '밸런스': 10228, '세심': 10229, '앰뷸런스': 10230, '철분제': 10231, '제작': 10232, '넷플릭스': 10233, '서프라이즈': 10234, '무너질까': 10235, '찾아볼': 10236, '심취': 10237, '걸려와서': 10238, '놓인다': 10239, '장남': 10240, '동행': 10241, '교': 10242, '수군거렸': 10243, '현관문': 10244, '딸려': 10245, '하여간': 10246, '이대론': 10247, '들러서': 10248, '등한시': 10249, '배웠으면': 10250, '격투기': 10251, '생생히': 10252, '난다며': 10253, '도망쳐야': 10254, '드나': 10255, '재물': 10256, '복이': 10257, '때려치': 10258, '스테이크': 10259, '한탄': 10260, '낙상': 10261, '관점': 10262, '수로': 10263, '완성도': 10264, '사업가': 10265, '출동': 10266, '혔': 10267, '아날로그': 10268, '일쑤': 10269, '한다더니': 10270, '팔아먹': 10271, '괴짜': 10272, '하늘나라': 10273, '소흘히': 10274, '다길래': 10275, '난단': 10276, '가져볼': 10277, '어려우세요': 10278, '혈중': 10279, '래미네이트': 10280, '반평생': 10281, '란다': 10282, '신장결석': 10283, 'ㅎㅎ': 10284, '대범': 10285, '오리엔테이션': 10286, '마주칠까': 10287, '베프': 10288, '술잔치': 10289, '굿': 10290, '방출': 10291, '의한': 10292, '번짼데': 10293, '두껍': 10294, '펜': 10295, '간호학': 10296, '슬며시': 10297, '태희': 10298, '얼룩': 10299, '포장': 10300, '칭하': 10301, '백발': 10302, '이단': 10303, '사량': 10304, '애초': 10305, '선출': 10306, '졸라매': 10307, '치고': 10308, '퀴즈쇼': 10309, '호언장담': 10310, '구독': 10311, '보살펴준': 10312, '모전': 10313, '새겨듣': 10314, '회신': 10315, '아선': 10316, '화끈거려서': 10317, '단층': 10318, '밥상머리': 10319, '뒤집어엎': 10320, '헉': 10321, '온찜질': 10322, '신호위': 10323, '부추긴': 10324, '피웠으면': 10325, '남겨져': 10326, '약그릇': 10327, '지던': 10328, '정형외과': 10329, '비어': 10330, '뭉쳤': 10331, '지어내': 10332, '모여들': 10333, '염치': 10334, '숟가락': 10335, '인솔자': 10336, '메마르': 10337, '백수인': 10338, '가르': 10339, '늦출': 10340, '풀풀': 10341, '빈다고': 10342, '떨어진다는': 10343, '응할': 10344, '대물려': 10345, '일러바치': 10346, '큰아버지': 10347, '악담': 10348, '호기': 10349, '사라진다는': 10350, '망중한': 10351, '조여오': 10352, '아깐': 10353, '예후': 10354, '관장': 10355, '꼬깃꼬깃': 10356, '가압류': 10357, '시집간': 10358, '천직': 10359, '여중생': 10360, '사기죄': 10361, '썼을까': 10362, '서바이벌': 10363, '공정': 10364, '형동': 10365, '효녀': 10366, '쫒아냈': 10367, '알린': 10368, '코빼기': 10369, '마녀': 10370, '사냥': 10371, '이를까': 10372, '힘드신': 10373, '꾸릴': 10374, '올꺼': 10375, '허니문': 10376, '구독자': 10377, '행각': 10378, '성심성의껏': 10379, '아트': 10380, '알아채': 10381, '문상': 10382, '안치': 10383, '살가워': 10384, '댈까': 10385, '굴려': 10386, '항공업': 10387, '들으려고도': 10388, '창구': 10389, '체야': 10390, '못썼': 10391, '곧잘': 10392, '보드게임': 10393, '인출': 10394, '해선': 10395, '객사': 10396, '배당': 10397, '무역': 10398, '안달복달': 10399, '지낸다고': 10400, '사비': 10401, '밉보였': 10402, '멍해졌': 10403, '입찰가': 10404, '명세': 10405, '동물원': 10406, '펼쳐': 10407, '그래야지': 10408, '와우': 10409, '지지부진': 10410, '구두창': 10411, '붉어졌': 10412, '사안': 10413, '굴릴': 10414, '불상사': 10415, '브로커': 10416, '월드컵': 10417, '줏대': 10418, '챘': 10419, '제각각': 10420, '위임장': 10421, '떼였': 10422, '령자': 10423, '영화제': 10424, '관람': 10425, '성형수술': 10426, '가상': 10427, '무용지물': 10428, '갔었잖': 10429, '아니야': 10430, '고부간': 10431, '다는구나': 10432, '돌리네': 10433, '친목회': 10434, '부친': 10435, '만병통치약': 10436, '사돈집': 10437, '튀어나오': 10438, '뻣뻣': 10439, '다뤄': 10440, '가라앉혀': 10441, '비오': 10442, '공감대': 10443, '마려워서': 10444, '옷가지': 10445, '잡아당겼': 10446, '병균': 10447, '돈줄': 10448, '심정지': 10449, '게으른지': 10450, '굽실거렸': 10451, '잃어버릴': 10452, '철민': 10453, '포스터': 10454, '치인': 10455, '능숙': 10456, '쓸데': 10457, '기록부': 10458, '자랑거리': 10459, '뒤돌': 10460, '우기': 10461, '엎친': 10462, '덮친': 10463, '연악': 10464, '폭풍우': 10465, '쾌적': 10466, '진증': 10467, '반증': 10468, '타일러도': 10469, '구애': 10470, '크루즈': 10471, '담낭': 10472, '쏟아져': 10473, '럭': 10474, '미룰': 10475, '제정신': 10476, '의료비': 10477, '승연': 10478, '놓쳤': 10479, '왕성': 10480, '김치전': 10481, '채현': 10482, '재차': 10483, '찌든': 10484, '우아': 10485, '할는지': 10486, '자가용': 10487, '올래': 10488, '쌓일': 10489, '랬자': 10490, '동정심': 10491, '씸': 10492, '기울였': 10493, '만날까봐': 10494, '해몽': 10495, '착했': 10496, '새로움': 10497, '알콜': 10498, '언': 10499, '로우': 10500, '격차': 10501, '성황리': 10502, '한국말': 10503, '학번': 10504, '몸조심': 10505, '함흥차사': 10506, '욕구': 10507, '걷힐': 10508, '관철': 10509, '기합': 10510, '자수성가': 10511, '해방감': 10512, '일으킬까': 10513, '뒤집어쓰': 10514, '궂': 10515, '만을': 10516, '둘러싸인': 10517, '면식': 10518, '보내온': 10519, '안다면': 10520, '횡재': 10521, '소설책': 10522, '냉면': 10523, '금이': 10524, '한문': 10525, '정오': 10526, '사라진다고': 10527, '초창기': 10528, '킥': 10529, '보드': 10530, '택할': 10531, '연신': 10532, '부결': 10533, '나대': 10534, '챙': 10535, '생길지': 10536, '햇빛': 10537, '쉬워서': 10538, '양립': 10539, '흘겨보': 10540, '헤어짐': 10541, '세속': 10542, '주워': 10543, '요만큼': 10544, '수도세': 10545, '남겨줄까': 10546, '쿠키': 10547, '워다': 10548, '환송회': 10549, '유골': 10550, '소실': 10551, '친해졌으면': 10552, '이견': 10553, '좁혀': 10554, '부주': 10555, '타깃': 10556, '떼우': 10557, '삼성': 10558, '친지': 10559, '가버려': 10560, '휴게실': 10561, '표했': 10562, '죗값': 10563, '당돌': 10564, '모형': 10565, '내거': 10566, '물정': 10567, '칠까봐': 10568, '열세': 10569, '출': 10570, '미션': 10571, '떠올려도': 10572, '온다더니': 10573, '이순': 10574, '산악자전거': 10575, '딸아': 10576, '장이': 10577, '좌지우지': 10578, '별관': 10579, '성당': 10580, '최우선': 10581, '근무처': 10582, '감사패': 10583, '볼링': 10584, '시더': 10585, '산다기': 10586, '나타날까': 10587, '별장': 10588, '급변': 10589, '가져다가': 10590, '리더십': 10591, '바랬': 10592, '민우': 10593, '미워해': 10594, '관람권': 10595, '목매': 10596, '건방져': 10597, '뒷자리': 10598, '도모': 10599, '끙끙대': 10600, '교외': 10601, '손꼽': 10602, '연애편지': 10603, '남탕': 10604, '실전': 10605, '말아먹': 10606, '묶여': 10607, '고배': 10608, '전등': 10609, '신청자': 10610, '통역사': 10611, '실로': 10612, '지가': 10613, '모피': 10614, '동떨어졌': 10615, '쓰래': 10616, '눌리': 10617, '쪼그라드': 10618, '우러러': 10619, '세제': 10620, '명시': 10621, '엄청났': 10622, '의젓': 10623, '원칙': 10624, '어째서': 10625, '모셔갔': 10626, '자업자득': 10627, '나간다고': 10628, '월액': 10629, '생계비': 10630, '소녀': 10631, '밝혔': 10632, '래퍼': 10633, '냉기': 10634, '덕담': 10635, '자본': 10636, '비수': 10637, '단골집': 10638, '가축': 10639, '어학연수': 10640, '하금': 10641, '뿌렸': 10642, '내보': 10643, '동일': 10644, '위궤양': 10645, '청바지': 10646, '매물': 10647, '깍듯이': 10648, '다큐': 10649, '다년간': 10650, '유머러스': 10651, '놔뒀': 10652, '뛰쳐나왔': 10653, '떨어뜨리': 10654, '단독': 10655, '씨방': 10656, '아빤': 10657, '친자': 10658, '델': 10659, '링': 10660, '중지': 10661, '외로워졌': 10662, '한탕': 10663, '딴청': 10664, '무지개': 10665, '건넜': 10666, '경멸': 10667, '겹쳤': 10668, '혼잣말': 10669, '부딪쳐도': 10670, '밤새워': 10671, '뒤바뀌': 10672, '숙면': 10673, '시리얼': 10674, '증여': 10675, '도우며': 10676, '맞아떨어져서': 10677, '들어갔었': 10678, '치미': 10679, '노나': 10680, '약관': 10681, '보잘것없이': 10682, '영문': 10683, '조부모': 10684, '서버': 10685, '생긴대': 10686, '저소득층': 10687, '겟': 10688, '빼돌려': 10689, '챙겨왔': 10690, '땡기': 10691, '경신': 10692, '묵묵히': 10693, '가차': 10694, '나이라': 10695, '갇혔': 10696, '심기': 10697, '시어른': 10698, '시골집': 10699, '한데도': 10700, '헛일': 10701, '뽑혀서': 10702, '면실': 10703, '권할': 10704, '에피소드': 10705, '다가온다는': 10706, '헤르페스': 10707, '노엽': 10708, '대거': 10709, '계원': 10710, '쥐어박': 10711, '큰다고': 10712, '무심결': 10713, '알약': 10714, '금산사': 10715, '누우': 10716, '찬물': 10717, '따끈': 10718, '랬': 10719, '엇나가': 10720, '흉터': 10721, '밥벌이': 10722, '내비치': 10723, '부속품': 10724, '아해': 10725, '중천': 10726, '찢어져서': 10727, '뒤돌아보': 10728, '타부': 10729, '전선': 10730, '케이스': 10731, '망가': 10732, '퍼마시': 10733, '약혼녀': 10734, '척한': 10735, '유기': 10736, '아비': 10737, '법석이': 10738, '염소': 10739, '드셔': 10740, '성하': 10741, '수치심': 10742, '몰려왔': 10743, '서예': 10744, '협의': 10745, '개장': 10746, '산불': 10747, '끄러': 10748, '뿌옇': 10749, '과일나무': 10750, '차차': 10751, '였었': 10752, '핀다는': 10753, '던가요': 10754, '지닌': 10755, '요사이': 10756, '확답': 10757, '선보': 10758, '신청서': 10759, '몰래카메라': 10760, '여론': 10761, '삭히': 10762, '한가득': 10763, '건실': 10764, '질서': 10765, '멀다하고': 10766, '쇠': 10767, '공학': 10768, '통탄': 10769, '복받쳐': 10770, '영업직': 10771, '잊혀질': 10772, '거린': 10773, '올라야': 10774, '존대': 10775, '세탁기': 10776, '돌아봐': 10777, '생인': 10778, '엇': 10779, '봉투': 10780, '뚫리': 10781, '사무': 10782, '배낭여행': 10783, '내세울': 10784, '툭': 10785, '따져서': 10786, '여행가': 10787, '총명': 10788, '못함': 10789, '오판': 10790, '순직': 10791, '먼가': 10792, '들어올까': 10793, '게재': 10794, '아역': 10795, '못했으니': 10796, '혼사': 10797, '신호등': 10798, '직속상관': 10799, '보인다면서': 10800, '나눠야': 10801, '하순': 10802, '집살이': 10803, '풋살': 10804, '어그러지': 10805, '고리타분': 10806, '단종': 10807, '꾀': 10808, '변성기': 10809, '근무자': 10810, '별걱정': 10811, '발인': 10812, '붙잡혀': 10813, '해로워': 10814, '죄인': 10815, '해질는지': 10816, '유명세': 10817, '소지': 10818, '체험학습': 10819, '한날한시': 10820, '주빈': 10821, '금값': 10822, '고아원': 10823, '부인과': 10824, '예민해': 10825, '리스': 10826, '티나': 10827, '써왔': 10828, '쎄': 10829, '제자리걸음': 10830, '매니큐어': 10831, '이직률': 10832, '탐': 10833, '알콩달콩': 10834, '꺼낸': 10835, '짱': 10836, '섬겨': 10837, '사도': 10838, '동원': 10839, '태어났으면': 10840, '문외한': 10841, '퇴소': 10842, '돌본다는': 10843, '건방지': 10844, '령': 10845, '심해도': 10846, '전반': 10847, '부풀려서': 10848, '색안경': 10849, '황천길': 10850, '수금': 10851, '내치': 10852, '납입금': 10853, '일교차': 10854, '호기심': 10855, '서보': 10856, '항문': 10857, '억만': 10858, '농사짓': 10859, '떨릴': 10860, '손등': 10861, '이상야릇': 10862, '맞춤': 10863, '금치': 10864, '당사자': 10865, '민낯': 10866, '세상만사': 10867, '밤바다': 10868, '아따': 10869, '종잣돈': 10870, '도와줄지': 10871, '알림': 10872, '터치': 10873, '기보단': 10874, '구순': 10875, '알려진다면': 10876, '소일': 10877, '서글펐': 10878, '발기부전': 10879, '편집자': 10880, '벼룩': 10881, '전과': 10882, '두들기': 10883, '죽였': 10884, '낯빛': 10885, '영서': 10886, '밝혀질': 10887, '매달렸': 10888, '삐뚤어질': 10889, '기울': 10890, '곗거리는': 10891, '이면지': 10892, '이때껏': 10893, '유니세프': 10894, '뛰어올라서': 10895, '손위': 10896, '토라지': 10897, '난데없이': 10898, '출력': 10899, '골병': 10900, '물감': 10901, '숨차': 10902, '정액': 10903, '당겼': 10904, '묵묵부답': 10905, '애달픈': 10906, '하룻밤': 10907, '거치': 10908, '싸구려': 10909, '선영': 10910, '암산': 10911, '특채': 10912, '뇌물': 10913, '마음가짐': 10914, '찌기': 10915, '하염없이': 10916, '찜질': 10917, '선인장': 10918, '박혔': 10919, '파상풍': 10920, '투철': 10921, '장년': 10922, '친부': 10923, '공인': 10924, '중개사': 10925, '보안': 10926, '토목': 10927, '불명확': 10928, '면역': 10929, '인내': 10930, '법대': 10931, '트렌드': 10932, '일로': 10933, '호주': 10934, '얼싸안': 10935, '부패': 10936, '걸려와': 10937, '쳐버렸': 10938, '근엄': 10939, '상임': 10940, '켰': 10941, '미진': 10942, '옹호': 10943, '봤으면': 10944, '굽히': 10945, '상투': 10946, '가겟세': 10947, '칠칠': 10948, '샛노랗': 10949, '결혼관': 10950, '작용': 10951, '부룩': 10952, '탕수육': 10953, '우등상': 10954, '으신지': 10955, '쥐어뜯': 10956, '말린다고': 10957, '모의': 10958, '제이': 10959, '태어났을까': 10960, '미투': 10961, '터야': 10962, '기물': 10963, '불어오': 10964, '동향': 10965, '고지': 10966, '발탁': 10967, '예식': 10968, '쓰린': 10969, '떠난다면': 10970, '실체': 10971, '이기주의': 10972, '발랐': 10973, '담담': 10974, '등산화': 10975, '단정히': 10976, '직무랑': 10977, '귀여운지': 10978, '내부자': 10979, '불이익': 10980, '이층집': 10981, '정문': 10982, '철인': 10983, '걸림돌': 10984, '비싼지': 10985, '골절상': 10986, '축농증': 10987, '정서': 10988, '맹세': 10989, '아이디': 10990, '짊어지': 10991, '바이크': 10992, '거역': 10993, '비극': 10994, '아껴둔': 10995, '미만': 10996, '이탈': 10997, '일급': 10998, '옹졸': 10999, '아쉬워서': 11000, '훔칠': 11001, '못났': 11002, '부끄러운가': 11003, '라구': 11004, '목감기': 11005, '소형': 11006, '삐딱': 11007, '어떠신가요': 11008, '삼가': 11009, '놓쳐': 11010, '크리에이터': 11011, '실언': 11012, '시달릴': 11013, '예보': 11014, '털모자': 11015, '구천': 11016, '악습': 11017, '경영자': 11018, '추하': 11019, '지킨다는': 11020, '귀여웠': 11021, '택하': 11022, '보여질까': 11023, '시킨다': 11024, '리라고': 11025, '하원': 11026, '비거': 11027, '성깔': 11028, '사나워서': 11029, '현성': 11030, '된다네': 11031, '친해져야': 11032, '비축': 11033, '덤벼서': 11034, '미향': 11035, '곤두세우': 11036, '밤잠': 11037, '나비': 11038, '반값': 11039, '욕구불만': 11040, '차남': 11041, '드문': 11042, '격하': 11043, '만수': 11044, '으래서': 11045, '폐활량': 11046, '마땅찮': 11047, '아름다움': 11048, '떠미': 11049, '안이': 11050, '목적지': 11051, '약수터': 11052, '힐링': 11053, '법정': 11054, '해할': 11055, '지지리': 11056, '궁상': 11057, '식상': 11058, '넌지시': 11059, '측면': 11060, '폭삭': 11061, '완고': 11062, '어떡할까': 11063, '헛디뎌서': 11064, '막역': 11065, '지소': 11066, '다고요': 11067, '흘려들': 11068, '돈다발': 11069, '그따위': 11070, '미룬다는': 11071, '걸쳤': 11072, '골탕먹이': 11073, '놀아났': 11074, '다이아': 11075, '헤어졌으면': 11076, '질는지': 11077, '빼앗겨': 11078, '봉지': 11079, '미끼': 11080, '라기에': 11081, '자더니': 11082, '건설업': 11083, '전남편': 11084, '가까운데': 11085, '학생회': 11086, '친환경': 11087, '연소': 11088, '업그레이드': 11089, '신지': 11090, '인사말': 11091, '기척': 11092, '센티미터': 11093, '빼돌렸': 11094, '찾아내': 11095, '채무': 11096, '반박': 11097, '역대': 11098, '굳기': 11099, '이어폰': 11100, '빠른지': 11101, '함량': 11102, '머리채': 11103, '진즉': 11104, '어울렸': 11105, '서서': 11106, '당시': 11107, '돌아온다고': 11108, '발리': 11109, '선지': 11110, '잃어버릴까': 11111, '신나고': 11112, '드럽': 11113, '영양사': 11114, '아이스': 11115, '재배치': 11116, '기독교': 11117, '차안': 11118, '올바른지': 11119, '끝자락': 11120, '엎드렸': 11121, '체불': 11122, '쳐지': 11123, '원가': 11124, '반가워하': 11125, '질리': 11126, '빠뜨려': 11127, '합숙': 11128, '새치': 11129, '바람나': 11130, '산산조각': 11131, '대나': 11132, '구상': 11133, '보살': 11134, '올림픽': 11135, '쩠는데': 11136, '생시': 11137, '톤': 11138, '무서워해서': 11139, '리스크': 11140, '험해서': 11141, '간다면서': 11142, '독극물': 11143, '외손주': 11144, '흘러가': 11145, '화두': 11146, '나타난다는': 11147, '빈번': 11148, '당해낼': 11149, '본전': 11150, '예쁜데': 11151, '말벌': 11152, '살아와서': 11153, '작은형': 11154, '삐쩍': 11155, '진탕': 11156, '해다': 11157, '떠든다고': 11158, '못한대': 11159, '파티시에': 11160, '이킹': 11161, '구했었': 11162, '연고지': 11163, '가져다줄': 11164, '대성통곡': 11165, '철썩': 11166, '두르': 11167, '군림': 11168, '펄펄': 11169, '그지': 11170, '잡혀가': 11171, '쫌': 11172, '와준': 11173, '동심': 11174, '도출': 11175, '밤사이': 11176, '입힌': 11177, '욕심내': 11178, '실연': 11179, '추워져': 11180, '걸어다니': 11181, '떠밀리': 11182, '뒤떨어져서': 11183, '응급차': 11184, '냉소': 11185, '애니메이션': 11186, '챌까': 11187, '그리울': 11188, '궁해서': 11189, '샤프': 11190, '렌스': 11191, '훨훨': 11192, '돌침대': 11193, '격렬': 11194, '그려진': 11195, '서빙': 11196, '개통': 11197, '흠': 11198, '이판사판': 11199, '왕복': 11200, '우리나라': 11201, '안경점': 11202, '우스꽝스러워': 11203, '난다는': 11204, '오목': 11205, '들여온': 11206, '위약금': 11207, '싸잡': 11208, '알토': 11209, '코끼리': 11210, '돈거래': 11211, '직서': 11212, '생태': 11213, '파괴': 11214, '게을리': 11215, '한량': 11216, '남산': 11217, '둘레길': 11218, '한물간': 11219, '설문지': 11220, '콱': 11221, '오락': 11222, '저으': 11223, '미뤄볼': 11224, '저질': 11225, '관객': 11226, '잘린': 11227, '들이닥쳐서': 11228, '이리저리': 11229, '늪': 11230, '곽': 11231, '카바레': 11232, '치유': 11233, '뭐야': 11234, '항생제': 11235, '투여': 11236, '게으름': 11237, '반수': 11238, '복날': 11239, '보양': 11240, '무호흡': 11241, '쫒': 11242, '들린': 11243, '상여': 11244, '뽐냈': 11245, '알려서': 11246, '짤려': 11247, '흘러도': 11248, '식사량': 11249, '몸보신': 11250, '다그쳤': 11251, '돈타령': 11252, '그른': 11253, '웅': 11254, '박봉': 11255, '이뤄낼': 11256, '얼만': 11257, '업소': 11258, '썩여': 11259, '촌스러운': 11260, '파마머리': 11261, '본대': 11262, '끊인': 11263, '해물탕': 11264, '아낀다고': 11265, '곤두박질쳐서': 11266, '적기': 11267, '트였': 11268, '문장': 11269, '결절': 11270, '항공사': 11271, '새된': 11272, '실정': 11273, '이장은': 11274, '재건': 11275, '고쳐야': 11276, '남겨질': 11277, '키워온': 11278, '벌서': 11279, '쩍': 11280, '흔들려': 11281, '숨통': 11282, '트여': 11283, '수업료': 11284, '계곡물': 11285, '태워서': 11286, '다야': 11287, '괴팍': 11288, '명쾌히': 11289, '고마워해서': 11290, '미역': 11291, '완도': 11292, '샘나': 11293, '근로계약서': 11294, '동무': 11295, '당상': 11296, '전조': 11297, '막돼먹': 11298, '덤볐': 11299, '미워져서': 11300, '알려왔': 11301, '커트라인': 11302, '치켜세우': 11303, '요금소': 11304, '유지비': 11305, '외워서': 11306, '끈': 11307, '소유물': 11308, '초경': 11309, '성치': 11310, '캠핑카': 11311, '필까': 11312, '마추': 11313, '아가': 11314, '씨름': 11315, '부끄러울까': 11316, '멍멍': 11317, '그새': 11318, '다혈질': 11319, '유용': 11320, '지칠': 11321, '체지': 11322, '못한단': 11323, '모를까': 11324, '낚싯대': 11325, '과소평가': 11326, '메말랐': 11327, '닫히': 11328, '꼬르륵': 11329, '그림자': 11330, '붙였': 11331, '놨어야': 11332, '부석': 11333, '무관': 11334, '변함없이': 11335, '두려워졌': 11336, '날카로워': 11337, '화제': 11338, '증오감': 11339, '레고': 11340, '깨어날지': 11341, '토닥이': 11342, '반사': 11343, '따온': 11344, '싫증': 11345, '직장암': 11346, '기금': 11347, '토론': 11348, '관리직': 11349, '긴축': 11350, '허겁지겁': 11351, '도로는': 11352, '만졌': 11353, '나돌': 11354, '갓난아기': 11355, '반딧불이': 11356, '외눈박이': 11357, '단번에': 11358, '정든': 11359, '알아본다고': 11360, '사교성': 11361, '북적이': 11362, '암흑': 11363, '화장대': 11364, '건넸': 11365, '사택': 11366, '사네': 11367, '넘어온': 11368, '아껴써야': 11369, '증원': 11370, '올바르': 11371, '불러낼까': 11372, '아파와서': 11373, '티켓': 11374, '훈육': 11375, '무덤덤': 11376, '들이받': 11377, '징징': 11378, '사나': 11379, '넘어갈': 11380, '엄포': 11381, '맞장구쳐': 11382, '부릴까': 11383, '들여놓': 11384, '품위': 11385, '다크서클': 11386, '뜨거운': 11387, '육촌': 11388, '졸려': 11389, '거친': 11390, '빌딩': 11391, '다름없이': 11392, '아셔서': 11393, '부쳐져': 11394, '금일': 11395, '휘': 11396, '중점': 11397, '정신병자': 11398, '도데체': 11399, '비형': 11400, '집사': 11401, '제쳐': 11402, '거릴': 11403, '산다면': 11404, '넘어간다는': 11405, '서의': 11406, '꿔': 11407, '라섹': 11408, '키워드': 11409, '마리': 11410, '늘씬': 11411, '전한': 11412, '팔렸': 11413, '컨설턴트': 11414, '해롭': 11415, '거용': 11416, '단단히': 11417, '격리실': 11418, '뒷골목': 11419, '더우': 11420, '덧없': 11421, '과부하': 11422, '코로': 11423, '대세': 11424, '멋쟁이': 11425, '현미': 11426, '백미': 11427, '창립': 11428, '마마': 11429, '무가': 11430, '이른바': 11431, '박수': 11432, '고마우': 11433, '현직': 11434, '공통점': 11435, '바라봐': 11436, '체제': 11437, '오른팔': 11438, '급작스레': 11439, '고물': 11440, '세집': 11441, '어질러진': 11442, '오를까': 11443, '경제학자': 11444, '오징어': 11445, '이리도': 11446, '참으': 11447, '떄문에': 11448, '휘말렸': 11449, '동반자': 11450, '일자': 11451, '그만둔다고': 11452, '오묘': 11453, '뚫어지': 11454, '골라서': 11455, '지어다': 11456, '가르쳐야': 11457, '약도': 11458, '골고루': 11459, '어만': 11460, '잡혀버렸': 11461, '세부': 11462, '치를': 11463, '뒤섞여': 11464, '심화': 11465, '합창': 11466, '재정난': 11467, '공약': 11468, '알맞': 11469, '천근만근': 11470, '인지라': 11471, '전광판': 11472, '항복': 11473, '여드름': 11474, '징그러웠': 11475, '겁쟁이': 11476, '하프마라톤': 11477, '탯줄': 11478, '머뭇거렸': 11479, '체지방': 11480, '시끌벅적': 11481, '성찬': 11482, '강북': 11483, '느껴진다고': 11484, '움츠러들': 11485, '두려운지': 11486, '손해나': 11487, '질려서': 11488, '국수': 11489, '떨어진다며': 11490, '분란': 11491, '접하': 11492, '주치': 11493, '멘': 11494, '권투': 11495, '부수': 11496, '내켜서': 11497, '행세': 11498, '내켜': 11499, '노름빚': 11500, '대여': 11501, '첨부': 11502, '덜렁거리': 11503, '설렁설렁': 11504, '지낸다면': 11505, '꿈꿔온': 11506, '유람선': 11507, '쏜살': 11508, '해준다고': 11509, '셨었': 11510, '매달려': 11511, '오직': 11512, '귀한': 11513, '고달플': 11514, '확충': 11515, '코코아': 11516, '음미': 11517, '넌덜머리': 11518, '뿔': 11519, '적어졌': 11520, '자문': 11521, '멘붕': 11522, '첨': 11523, '자유분방': 11524, '만난다니': 11525, '삐뚤어지': 11526, '담그': 11527, '과생': 11528, '채울': 11529, '미뤄질': 11530, '걸어온': 11531, '찾아다니': 11532, '농작물': 11533, '어땠': 11534, '셧': 11535, '받침': 11536, '시트': 11537, '진하': 11538, '그러게': 11539, '탑': 11540, '좋아한다는데': 11541, '이인': 11542, '흉측': 11543, '어지러울': 11544, '증조할아버지': 11545, '는다던데': 11546, '괴롭힌다는': 11547, '뉴저지': 11548, '위경련': 11549, '지안': 11550, '카트': 11551, '펜션': 11552, '눈여겨': 11553, '고등': 11554, '빗자루': 11555, '찌르': 11556, '나인': 11557, '자빠져': 11558, '국정': 11559, '버텨냈': 11560, '헌혈': 11561, '수목장': 11562, '물려준': 11563, '박동수': 11564, '들락거리': 11565, '새치기': 11566, '강력': 11567, '드려야할지': 11568, '밝아지': 11569, '수박': 11570, '비방': 11571, '판매자': 11572, '기안': 11573, '통학': 11574, '목덜미': 11575, '뭐였을까': 11576, '억제': 11577, '비행': 11578, '늘어난다': 11579, '하아': 11580, '피부색': 11581, '두피': 11582, '배꼽': 11583, '어우': 11584, '엎질렀': 11585, '비자': 11586, '걸린대': 11587, '좌골': 11588, '성낸': 11589, '한방': 11590, '초밥': 11591, '행정': 11592, '코노': 11593, '라이': 11594, '딩': 11595, '스위스': 11596, '발끈하': 11597, '꾸물거리': 11598, '된다면서': 11599, '선망': 11600, '루': 11601, '언서': 11602, '가릴': 11603, '갔다오': 11604, '온지': 11605, '효심': 11606, '부친상': 11607, '젠': 11608, '돌릴까': 11609, '교통비': 11610, '궁금해하': 11611, '획득': 11612, '국채': 11613, '찢긴': 11614, '훼방': 11615, '으셨다니': 11616, '그래그래': 11617, '쫓아가': 11618, '돋친': 11619, '띄웠': 11620, '해낼지': 11621, '튈까봐': 11622, '방조': 11623, '아사': 11624, '경영진': 11625, '줄여서': 11626, '따라간다고': 11627, '외로운가': 11628, '옛일': 11629, '사이비': 11630, '끌려갈': 11631, '프랜': 11632, '갑상샘암': 11633, '한발': 11634, '모셔왔': 11635, '헛딛': 11636, '깎아내렸': 11637, '먹먹해': 11638, '짜장면': 11639, '버네': 11640, '자습실': 11641, '부스럭': 11642, '은둔': 11643, '차키': 11644, '한통': 11645, '건설': 11646, '맘먹': 11647, '그죠': 11648, '일원': 11649, '건넨': 11650, '결함': 11651, '로펌': 11652, '병시중': 11653, '사겼': 11654, '쉼터': 11655, '권장': 11656, '못자': 11657, '담갔': 11658, '베테랑': 11659, '돌머리': 11660, '줄여도': 11661, '출시': 11662, '살균제': 11663, '내팽개쳐': 11664, '떠났으며': 11665, '희망찬': 11666, '멈췄': 11667, '대중': 11668, '바람직': 11669, '뇌사자': 11670, '내면': 11671, '느낄까': 11672, '막다른': 11673, '처자식': 11674, '건너간': 11675, '과체중': 11676, '몰린': 11677, '달걀말이': 11678, '겸손': 11679, '쫓아올': 11680, '광부': 11681, '산만': 11682, '걷기': 11683, '처갓집': 11684, '몸뚱이': 11685, '꿈꿔왔': 11686, '유비무환': 11687, '살아간다': 11688, '가벼워져': 11689, '출연': 11690, '통한다고': 11691, '군데군데': 11692, '공군': 11693, '북새통': 11694, '악명': 11695, '둥지': 11696, '냉동실': 11697, '처박': 11698, '나만': 11699, '굴하': 11700, '뿌려': 11701, '육류': 11702, '빌린다면': 11703, '하대': 11704, '무자비': 11705, '손절': 11706, '내려다': 11707, '좌불안석': 11708, '대만': 11709, '형제자매': 11710, '부끄러워져': 11711, '떼이': 11712, '상습범': 11713, '의과': 11714, '육군사관학교': 11715, '선행': 11716, '산책로': 11717, '요구르트': 11718, '여긴': 11719, '는데도': 11720, '왼': 11721, '불로': 11722, '시끌시끌': 11723, '간다던데': 11724, '다져온': 11725, '자연히': 11726, '들이닥치': 11727, '먹을거리': 11728, '반가우': 11729, '노동력': 11730, '유령': 11731, '괴리': 11732, '녹초': 11733, '책임져': 11734, '판촉': 11735, '차출': 11736, '들려왔': 11737, '튄': 11738, '핼쑥': 11739, '한식': 11740, '병수': 11741, '벽지': 11742, '한다던': 11743, '땅문서': 11744, '무언': 11745, '친자검사': 11746, '큰며느리': 11747, '앙상': 11748, '김치찌개': 11749, '빠져버린': 11750, '뾰족': 11751, '틈타': 11752, '칫솔': 11753, '혼담': 11754, '만진': 11755, '물주': 11756, '차일': 11757, '테니스': 11758, '학용품': 11759, '이복': 11760, '불과': 11761, '꺼려졌': 11762, '순탄': 11763, '증서': 11764, '조야': 11765, '근종': 11766, '소싯적': 11767, '널려': 11768, '러진': 11769, '생겼으면': 11770, '마침내': 11771, '물속': 11772, '짓누르': 11773, '보라': 11774, '간단히': 11775, '예뻐할': 11776, '못한다': 11777, '어쩔까': 11778, '휘청': 11779, '착상': 11780, '뒤섞여서': 11781, '못났을까': 11782, '느슨': 11783, '잔잔히': 11784, '심히': 11785, '릭': 11786, '갈아먹': 11787, '꾸린다': 11788, '혐오감': 11789, '내려간다고': 11790, '뉘': 11791, '치켜': 11792, '모독': 11793, '유익': 11794, '일렀': 11795, '엘': 11796, '초보': 11797, '줄기세포': 11798, '운전대': 11799, '괴롭힌다고': 11800, '떨어뜨려서': 11801, '국제': 11802, '처진': 11803, '무진': 11804, '흘릴': 11805, '만병': 11806, '면치': 11807, '부셨': 11808, '등진': 11809, '깃': 11810, '부스스': 11811, '따내': 11812, '자기소개': 11813, '고하': 11814, '다칠까': 11815, '허투루': 11816, '유투': 11817, '가라앉힐': 11818, '이끈': 11819, '차래': 11820, '안쓰러웠': 11821, '매슥': 11822, '양성': 11823, '콘테스트': 11824, '개최': 11825, '수개월': 11826, '양해': 11827, '감상문': 11828, '공용': 11829, '내참': 11830, '바로잡': 11831, '데려갔': 11832, '래야': 11833, '결렬': 11834, '군것질': 11835, '숙지': 11836, '외고': 11837, '런': 11838, '무르': 11839, '오르내리': 11840, '부딪혔': 11841, '을려고': 11842, '성의껏': 11843, '군소리': 11844, '마셔야': 11845, '비중': 11846, '전단지': 11847, '끝장': 11848, '뿌리': 11849, '격려금': 11850, '먹여살릴': 11851, '구지': 11852, '반등': 11853, '프로그래머': 11854, '교양': 11855, '국문': 11856, '어울릴지': 11857, '덩그러': 11858, '따돌려도': 11859, '토박이': 11860, '휩싸여': 11861, '더디': 11862, '건치': 11863, '탄탄히': 11864, '떠넘긴': 11865, '코드': 11866, '몸싸움': 11867, '부녀간': 11868, '나두': 11869, '일궈왔': 11870, '영민': 11871, '막강': 11872, '못한데': 11873, '옥': 11874, '진리': 11875, '써놨': 11876, '환전': 11877, '자본주의': 11878, '털털': 11879, '들춰내': 11880, '검버섯': 11881, '조였': 11882, '해드려야': 11883, '변할': 11884, '넓혀서': 11885, '넘어뜨려서': 11886, '풍부': 11887, '과잉보호': 11888, '깨보': 11889, '치러서': 11890, '난생': 11891, '대뇌': 11892, '가라앉히': 11893, '삼계탕': 11894, '헛바람': 11895, '스타트업': 11896, '멈춰서': 11897, '펑크': 11898, '사온': 11899, '닥달': 11900, '널': 11901, '그런다더라': 11902, '플레인': 11903, '빨랐': 11904, '음치': 11905, '블라인드': 11906, '도우려고': 11907, '어겼': 11908, '떠올려': 11909, '다스리': 11910, '자나': 11911, '숙련도': 11912, '회선': 11913, '송금': 11914, '헛디뎌': 11915, '할께요': 11916, '단정지': 11917, '내보냈': 11918, '위스키': 11919, '연료': 11920, '갈아엎': 11921, '돌아다닐': 11922, '메이커': 11923, '단골손님': 11924, '우편': 11925, '기절초풍': 11926, '영진': 11927, '난임': 11928, '였을까': 11929, '손익': 11930, '입실': 11931, '물어본': 11932, '반지하': 11933, '대해선': 11934, '어려울지': 11935, '디': 11936, '키즈': 11937, '든든히': 11938, '맹구': 11939, '야겠단': 11940, '무서울': 11941, '구할까봐': 11942, '숨소리': 11943, '쌍꺼풀': 11944, '월차': 11945, '품질': 11946, '혼기': 11947, '비로': 11948, '터진다는': 11949, '노모': 11950, '더럽혔': 11951, '교생': 11952, '안쓰러워하': 11953, '온다며': 11954, '애쓴': 11955, '청산': 11956, '굴렀': 11957, '금슬': 11958, '홍': 11959, '공로상': 11960, '옷장': 11961, '압수': 11962, '우신': 11963, '나몰라라': 11964, '전문의': 11965, '물배': 11966, '생겼을까': 11967, '장대': 11968, '주름살': 11969, '아픈가': 11970, '약용식물': 11971, '지낼까': 11972, '중성': 11973, '몸뚱아리': 11974, '싸고돌': 11975, '만회': 11976, '일러바쳤': 11977, '구해다': 11978, '부사': 11979, '진수': 11980, '룸': 11981, '라이드': 11982, '오르락내리락': 11983, '하루걸러': 11984, '삼교대': 11985, '졸린데': 11986, '대변': 11987, '헤서': 11988, '미숙아': 11989, '커뮤니케이션': 11990, '어는': 11991, '용접공': 11992, '바란': 11993, '고참': 11994, '배구': 11995, '난소': 11996, '위생': 11997, '데스크': 11998, '된지': 11999, '외숙모': 12000, '떠맡긴': 12001, '효': 12002, '놔두었': 12003, '진가': 12004, '내팽개쳐진': 12005, '머쓱': 12006, '나간다': 12007, '사실상': 12008, '뇌사': 12009, '옥자': 12010, '번져': 12011, '향한': 12012, '티오': 12013, '부딪힐': 12014, '아드': 12015, '주례': 12016, '클지': 12017, '옷자락': 12018, '내보내': 12019, '금괴': 12020, '세기': 12021, '뽑혀': 12022, '지우개': 12023, '태권도': 12024, '우스꽝': 12025, '불순': 12026, '부러워요': 12027, '실효': 12028, '내분': 12029, '원산지': 12030, '백해무익': 12031, '쳐야': 12032, '앞당겨져': 12033, '비상사태': 12034, '올라온': 12035, '쾌변': 12036, '대졸': 12037, '요건': 12038, '토해냈': 12039, '갑더라': 12040, '구조대': 12041, '놨지만': 12042, '다녀가': 12043, '소독': 12044, '버르장머리': 12045, '친해져': 12046, '고지서': 12047, '사시사철': 12048, '훤칠': 12049, '반병': 12050, '한다지': 12051, '아닌가요': 12052, '괴롭힌대': 12053, '들일': 12054, '십수': 12055, '헬기': 12056, '내려지': 12057, '껌': 12058, '치매증': 12059, '가만있': 12060, '이상향': 12061, '나갈지': 12062, '거처': 12063, '운운': 12064, '부전': 12065, '야윈': 12066, '잇': 12067, '졸라대': 12068, '드세': 12069, '뒤엎': 12070, '찾아봐': 12071, '벼슬': 12072, '이러실': 12073, '꼬치꼬치': 12074, '변태': 12075, '자장면': 12076, '자니까': 12077, '세워놨': 12078, '다느니': 12079, '고속': 12080, '전면': 12081, '속없': 12082, '예뻐졌': 12083, '떨어뜨린': 12084, '되돌': 12085, '예지': 12086, '몽': 12087, '더구먼': 12088, '호형호제': 12089, '빠트려': 12090, '보일지': 12091, '뒤쳐져': 12092, '려는가': 12093, '유행병': 12094, '한고비': 12095, '고정비': 12096, '쑥떡': 12097, '떨어진다고': 12098, '기둥': 12099, '매래': 12100, '슬퍼요': 12101, '쑥스러운': 12102, '끌려와': 12103, '열릴': 12104, '표기': 12105, '립식': 12106, '미화': 12107, '햄스터': 12108, '알뜰살뜰': 12109, '종친회': 12110, '매달려야': 12111, '생각난다': 12112, '퉁퉁': 12113, '유혹': 12114, '군인': 12115, '합쳐서': 12116, '보람찬': 12117, '친다': 12118, '틀릴까': 12119, '카메라': 12120, '부주의': 12121, '작심삼일': 12122, '울상': 12123, '관행': 12124, '밀어줬': 12125, '앞당겨졌': 12126, '설레이': 12127, '공포증': 12128, '사신다': 12129, '사자': 12130, '업고': 12131, '미관상': 12132, '노인네': 12133, '첨삭': 12134, '므로': 12135, '주군': 12136, '어려진': 12137, '무뎌진': 12138, '리니': 12139, '충전': 12140, '분별': 12141, '힐끔힐끔': 12142, '또는': 12143, '소박': 12144, '나변': 12145, '금지법': 12146, '줄줄이': 12147, '한라산': 12148, '연쇄': 12149, '들으러': 12150, '전쟁터': 12151, '그려지': 12152, '알린다고': 12153, '증명사진': 12154, '서러울': 12155, '안락사': 12156, '전한다면': 12157, '안쓰러워서': 12158, '계신데': 12159, '고인': 12160, '용납': 12161, '스러울까': 12162, '다정다감': 12163, '감사히': 12164, '발걸음': 12165, '애석': 12166, '절실': 12167, '편해야': 12168, '맞대응': 12169, '세련': 12170, '면했': 12171, '꽃향기': 12172, '거창': 12173, '표적': 12174, '내려올': 12175, '바람기': 12176, '친군데': 12177, '난지': 12178, '기워': 12179, '계절': 12180, '마티': 12181, '틀어지': 12182, '일위': 12183, '첩': 12184, '귀중': 12185, '지독': 12186, '외무': 12187, '휴양': 12188, '떵떵': 12189, '헉헉거리': 12190, '뒤죽박죽': 12191, '스러운가': 12192, '분업화': 12193, '가재': 12194, '들을까': 12195, '장기판': 12196, '후두암': 12197, '잡아가': 12198, '세태': 12199, '시들': 12200, '겁난다': 12201, '공업': 12202, '단식': 12203, '추웠': 12204, '모둠': 12205, '리원': 12206, '깨우쳤으면': 12207, '건드릴까': 12208, '소재': 12209, '개시': 12210, '재주': 12211, '포': 12212, '치려': 12213, '챙긴다는': 12214, '전했': 12215, '차가워서': 12216, '곤충': 12217, '세뇌': 12218, '해해서': 12219, '주동': 12220, '방구': 12221, '뒤떨어진': 12222, '단기간': 12223, '빈도': 12224, '윗분': 12225, '두드리': 12226, '무서워져': 12227, '흐른': 12228, '성우': 12229, '불문': 12230, '동전': 12231, '쌓았': 12232, '까막눈': 12233, '장성': 12234, '야무지': 12235, '사담': 12236, '올케': 12237, '남일': 12238, '학군': 12239, '천식약': 12240, '치도': 12241, '인천': 12242, '판명': 12243, '준다더라': 12244, '으실지': 12245, '옆방': 12246, '데려갈': 12247, '들려주': 12248, '짓누른다': 12249, '별별': 12250, '고친다고': 12251, '주먹다짐': 12252, '갑과': 12253, '살집': 12254, '되갚': 12255, '내려버렸': 12256, '왔어요': 12257, '매운': 12258, '귀감': 12259, '성찰': 12260, '가빠서': 12261, '기침약': 12262, '중개인': 12263, '귀담': 12264, '햊줬는데': 12265, '블라우스': 12266, '물증': 12267, '생가': 12268, '불통': 12269, '한패': 12270, '들먹여': 12271, '얼버무리': 12272, '단축키': 12273, '가르친다는': 12274, '흘러내려': 12275, '팔로우': 12276, '으라니까': 12277, '난다지': 12278, '분식집': 12279, '휴무': 12280, '찾아올지': 12281, '문젠지': 12282, '바빠져서': 12283, '연한': 12284, '부를까': 12285, '유년': 12286, '달력': 12287, '대찬': 12288, '도로공사': 12289, '희안': 12290, '큰처남': 12291, '어려운지': 12292, '푸념': 12293, '헤쳐': 12294, '둉료가': 12295, '퍼놨': 12296, '경위': 12297, '근육질': 12298, '자급': 12299, '중계': 12300, '공복': 12301, '외소': 12302, '화살': 12303, '통조림': 12304, '친정아버지': 12305, '흐를': 12306, '자글자글': 12307, '팔릴': 12308, '알아내': 12309, '장가들': 12310, '뷰': 12311, '찍혀': 12312, '쫒아오니': 12313, '수고비': 12314, '새언니': 12315, '흑인': 12316, '레포트': 12317, '소인배': 12318, '맞섰': 12319, '자분': 12320, '콜리': 12321, '스테롤': 12322, '쉬울까': 12323, '얽매여서': 12324, '지국': 12325, '은수저': 12326, '나지': 12327, '힘드실': 12328, '충실': 12329, '렷': 12330, '끊어져서': 12331, '단숨에': 12332, '정복': 12333, '무서운가': 12334, '광경': 12335, '탈려고': 12336, '머문': 12337, '비서실': 12338, '직정': 12339, '곱슬': 12340, '헛기침': 12341, '알바라': 12342, '하수구': 12343, '계비': 12344, '바람끼': 12345, '떠올릴': 12346, '좋아했었': 12347, '풀어놓': 12348, '짤린': 12349, '한달전': 12350, '닌지': 12351, '포상금': 12352, '서두': 12353, '더러워져서': 12354, '줄까봐': 12355, '상대측': 12356, '거도': 12357, '건다는': 12358, '그런지는': 12359, '악수': 12360, '버나': 12361, '오니': 12362, 'ㅡ또': 12363, '덤벼': 12364, '지쳤었': 12365, '수법': 12366, '뼈져리': 12367, '들러야': 12368, '료': 12369, '이럴지': 12370, '적신호': 12371, '물집': 12372, '염분': 12373, '잡곡': 12374, '캡슐': 12375, '꼼짝없이': 12376, '내실': 12377, '잡다': 12378, '나바': 12379, '대구': 12380, '프랑스': 12381, '안달증': 12382, '살빼': 12383, '햇볕': 12384, '밤샘': 12385, '파이': 12386, '흘러나와': 12387, '승질': 12388, '다가온다고': 12389, '무궁무진': 12390, '깨질까봐': 12391, '그런대로': 12392, '거뭇거뭇': 12393, '결강': 12394, '만난다고': 12395, '위력': 12396, '우지': 12397, '번다는': 12398, '왓': 12399, '줄까요': 12400, '펀트': 12401, '어하': 12402, '봉급생활자': 12403, '로망': 12404, '뉘우칠': 12405, '의탁': 12406, '시려워': 12407, '매해': 12408, '전업': 12409, '후각': 12410, '스러워져서': 12411, '수료생': 12412, '릴': 12413, '팔꿈치': 12414, '엘보': 12415, '털려': 12416, '건재': 12417, '논란': 12418, '사륜': 12419, '팽': 12420, '쳐진': 12421, '대해줘': 12422, '안다는': 12423, '치워도': 12424, '삼숭': 12425, '둘러볼': 12426, '정해야할지': 12427, '아실': 12428, '거느리': 12429, '색상': 12430, '뜨이': 12431, '매상': 12432, '아이패드': 12433, '이구동성': 12434, '송장': 12435, '이천년': 12436, '남발': 12437, '거참': 12438, '왜지': 12439, '총괄': 12440, '는지라': 12441, '파벌': 12442, '젋은데': 12443, '삼심': 12444, '주량': 12445, '천대': 12446, '날보고': 12447, '위중': 12448, '일시': 12449, '불효': 12450, '보살핌': 12451, '귀신': 12452, '배변': 12453, '무성': 12454, '새끼': 12455, '일정량': 12456, '소방': 12457, '황혼기': 12458, '유의': 12459, '그러지': 12460, '공터': 12461, '요지': 12462, '쉴까': 12463, '드라고': 12464, '회기': 12465, '만성위염': 12466, '당한다': 12467, '코털': 12468, '삐죽': 12469, '튀어나와': 12470, '금기어': 12471, '할라고': 12472, '고장났': 12473, '젔을까봐': 12474, '서투른': 12475, '시치미': 12476, '가져본': 12477, '제보자': 12478, '픈': 12479, '잔칫날': 12480, '봐주지도': 12481, '메꿀': 12482, '따라줘': 12483, '담가': 12484, '무서워했': 12485, '이어서': 12486, '바득바득': 12487, '우겨': 12488, '시끄러울': 12489, '막연히': 12490, '외래': 12491, '장가간': 12492, '분한': 12493, '도둑년': 12494, '넘어올': 12495, '중동': 12496, '감전': 12497, '굶기': 12498, '연다고': 12499, '완공': 12500, '맨발': 12501, '살만': 12502, '뭉쳐서': 12503, '허하': 12504, '주재료': 12505, '망': 12506, '맞출': 12507, '운증': 12508, '후군': 12509, '뱄': 12510, '안약': 12511, '민부': 12512, '장과': 12513, '끌어내렸': 12514, '경영난': 12515, '분도': 12516, '안우': 12517, '싫어할': 12518, '짐승': 12519, '육신': 12520, '특실': 12521, '챌까봐': 12522, '캔': 12523, '유렵': 12524, '독초': 12525, '오퍼': 12526, '운세': 12527, '만화가': 12528, '빈둥': 12529, '부지': 12530, '살펴본': 12531, '잔병': 12532, '밤샜': 12533, '웰빙': 12534, '그치': 12535, '홑벌': 12536, '윤택': 12537, '뜯겨야': 12538, '기획력': 12539, '밸런타인데이': 12540, '늘린다고': 12541, '뮬란': 12542, '문헌': 12543, '정보과': 12544, '신다면': 12545, '드려야지': 12546, '토라졌': 12547, '임할': 12548, '대담': 12549, '어필': 12550, '주점': 12551, '잠잠': 12552, '으니까요': 12553, '내림': 12554, '버려질': 12555, '쫒겨날까봐': 12556, '불발': 12557, '어지럽히': 12558, '워라': 12559, '안가': 12560, '횡': 12561, '실실': 12562, '얼음': 12563, '시월': 12564, '공설': 12565, '축구장': 12566, '기다렸으면': 12567, '할퀴': 12568, '전해서': 12569, '꼿꼿': 12570, '일생': 12571, '흉해': 12572, '혐료': 12573, '이본': 12574, '오매불망': 12575, '십시일반': 12576, '어쨋든': 12577, '하느님': 12578, '모로': 12579, '공주': 12580, '별론데': 12581, '파기': 12582, '바심': 12583, '이심': 12584, '패했': 12585, '작아졌': 12586, '꺼졌': 12587, '낌새': 12588, '싸여': 12589, '윈': 12590, '먹방': 12591, '찌질': 12592, '고주파': 12593, '온열': 12594, '탄다': 12595, '그늘': 12596, '발명': 12597, '숨막히': 12598, '차선': 12599, '어딘': 12600, '직선': 12601, '입혔': 12602, '우셔': 12603, '쉼': 12604, '보육': 12605, '치민': 12606, '야경': 12607, '예견': 12608, '주물러': 12609, '독수공방': 12610, '핏기': 12611, '쓰여요': 12612, '지어내어': 12613, '거둬들여': 12614, '간지러워서': 12615, '됄까봐': 12616, '영업력': 12617, '함꼐': 12618, '놀랐었': 12619, '다가서': 12620, '끝마치': 12621, '했으면서도': 12622, '등반': 12623, '불려왔': 12624, '일정표': 12625, '전자레인지': 12626, '자락': 12627, '마신다는': 12628, '끼친': 12629, '친국': 12630, '한다구요': 12631, '열렸으면': 12632, '철처히': 12633, '정권': 12634, '허덕여야': 12635, '젠틀': 12636, '우겼': 12637, '껀': 12638, '지역할당제': 12639, '거하': 12640, '될래': 12641, '수출입': 12642, '긴데': 12643, '짜릿': 12644, '전답': 12645, '성의': 12646, '꾸지': 12647, '곳도': 12648, '불러세워': 12649, '랄': 12650, '이어질지': 12651, '느릴까': 12652, '익지': 12653, '남세': 12654, '콩쿠르': 12655, '현지': 12656, '쏜다고': 12657, '안내서': 12658, '삐져': 12659, '푼다고': 12660, '몆달': 12661, '두려워지': 12662, '젏은': 12663, '쳣나': 12664, '목표치': 12665, '종이봉투': 12666, '탐욕': 12667, '팸플릿': 12668, '운도': 12669, '다리뼈': 12670, '절뚝이': 12671, '등기': 12672, '제출안': 12673, '동감': 12674, '닥친': 12675, '굳은살': 12676, '뇌혈관': 12677, '동맥류': 12678, '민첩': 12679, '수줍': 12680, '안타까워하': 12681, '동떨어져': 12682, '윌': 12683, '초과': 12684, '쫒기': 12685, '낙동강': 12686, '리알': 12687, '반해': 12688, '선의': 12689, '베푼': 12690, '컸으니': 12691, '고무줄': 12692, '다닐려고': 12693, '코트': 12694, '지배': 12695, '산송장': 12696, '와줄': 12697, '잏': 12698, '쎴': 12699, '으셔도': 12700, '날라가': 12701, '험': 12702, '딴다고': 12703, '일그러졌': 12704, 'ㅊ체가': 12705, '활달': 12706, '차가워졌': 12707, '장삿속': 12708, '길길이': 12709, '날뛰': 12710, '힘세': 12711, '먹잇감': 12712, '소리쳐도': 12713, '낙제': 12714, '싦': 12715, '주입식': 12716, '성질나': 12717, '백지상태': 12718, '우물': 12719, '개구리': 12720, '성범죄자': 12721, '검둥이': 12722, '혁신': 12723, '성욕': 12724, '결별': 12725, '정의': 12726, '지민': 12727, '감성': 12728, '미끄러질': 12729, '덩그러니': 12730, '일어설': 12731, '까내': 12732, '편식': 12733, '가도': 12734, '아셔도': 12735, '서두를': 12736, '당첨금': 12737, '은토': 12738, '어째야': 12739, '다오': 12740, '쬐': 12741, '위임': 12742, '벌일': 12743, '실절': 12744, '두렴': 12745, '시간제한': 12746, '항체': 12747, '방접': 12748, '쳤으면': 12749, '강남역': 12750, '되물': 12751, '만하면': 12752, '대생': 12753, '나눔': 12754, '특혜': 12755, '부원': 12756, '허허허': 12757, '폭탄': 12758, '주주': 12759, '구요': 12760, '명수': 12761, '모른다': 12762, '냈으나': 12763, '도련': 12764, '억대': 12765, '입혀서': 12766, '여길': 12767, '상한다': 12768, '제로': 12769, '엄연히': 12770, '주구장창': 12771, '받아들일지': 12772, '걸을려고': 12773, '대소사': 12774, '희성': 12775, '표면': 12776, '가창': 12777, '개인위생': 12778, '꽝': 12779, '지으실': 12780, '으셨을': 12781, '봐줄': 12782, '군중': 12783, '회산데': 12784, '체기': 12785, '써야겠어': 12786, '빨간색': 12787, '광리': 12788, '뻔질나': 12789, '장근이': 12790, '출판사': 12791, '사간': 12792, '귀해': 12793, '구만리': 12794, '내라': 12795, '망부석': 12796, '허튼': 12797, '돌아다녀도': 12798, '국회의원': 12799, '이해충돌': 12800, '뜸했': 12801, '나팔관': 12802, '게을러졌': 12803, '돈돈': 12804, '훑': 12805, '전화위복': 12806, '멸망': 12807, '느껴야': 12808, '포스': 12809, '남다르': 12810, '덩치': 12811, '놀아나': 12812, '절재': 12813, '복무': 12814, '반환': 12815, '기대치': 12816, '기필코': 12817, '급속히': 12818, '처가살이': 12819, '안단': 12820, '전향': 12821, '클라우드': 12822, '감진': 12823, '모범상': 12824, '휩쓸렸': 12825, '재해': 12826, '이를': 12827, '규': 12828, '훔쳐다가': 12829, '벼': 12830, '열차': 12831, '탈선': 12832, '표어': 12833, '맴도': 12834, '잡초': 12835, '소영': 12836, '독해서': 12837, '메슥거려': 12838, '몰아치': 12839, '안성기': 12840, '아이이': 12841, '중압감': 12842, '렸다': 12843, '필리핀': 12844, '사셔서': 12845, '거드름': 12846, '남정': 12847, '가설': 12848, '몰입': 12849, '구린': 12850, '구내염': 12851, '연년생': 12852, '으셨다고': 12853, '맞춰줄': 12854, '보물': 12855, '콩닥콩닥': 12856, '노니까': 12857, '희한': 12858, '가팔라서': 12859, '효정': 12860, '미디어': 12861, '한다지만': 12862, '챌': 12863, '공급': 12864, '골탕먹': 12865, '하여튼': 12866, '골퍼': 12867, '대야': 12868, '벅찬': 12869, '시체': 12870, '풀린': 12871, '애써도': 12872, '강해질': 12873, '꿋꿋': 12874, '견뎌낼': 12875, '밑바닥': 12876, '정신병': 12877, '보모': 12878, '당겨': 12879, '보냈었': 12880, '시커멓': 12881, '젹': 12882, '골몰': 12883, '재난': 12884, '려구': 12885, '파란불이': 12886, '켜졌': 12887, '다네요': 12888, '움츠러드': 12889, '워터': 12890, '파크': 12891, '옷값': 12892, '마셔도': 12893, '혼낸다고': 12894, '써줘': 12895, '리라': 12896, '통한다': 12897, '흐른다는': 12898, '안스러웠': 12899, '한인': 12900, '끌어들일': 12901, '차일피일': 12902, '남모르': 12903, '구리': 12904, '임의': 12905, '친한데': 12906, '롤리': 12907, '자칫': 12908, '끼쳐야': 12909, '진열': 12910, '정맥': 12911, '안들': 12912, '지렁': 12913, '더라는': 12914, '원빈': 12915, '납니다': 12916, '가져도': 12917, '러시아': 12918, '르레': 12919, '스로': 12920, '가다듬': 12921, '색깔': 12922, '두꺼워져': 12923, '숙맥': 12924, '월금': 12925, '세네': 12926, '개무': 12927, '반출': 12928, '바깥일': 12929, '백전백패': 12930, '주무관': 12931, '으신데': 12932, '존': 12933, '국민학교': 12934, '대피': 12935, '간접흡연': 12936, '무서워해': 12937, '지외': 12938, '벅찰': 12939, '처져': 12940, '조성': 12941, '진환': 12942, '겨우겨우': 12943, '미터': 12944, '속상해요': 12945, '해줄': 12946, '회포': 12947, '희박': 12948, '생활관': 12949, '파우': 12950, '구석구석이': 12951, '배워도': 12952, '몰아세웠': 12953, '부랴부랴': 12954, '청해야': 12955, '옷차림새': 12956, '문단속': 12957, '서핑': 12958, '페인트칠': 12959, '뼈저리': 12960, '믿길': 12961, '네네': 12962, '출구': 12963, '경마장': 12964, '경로석': 12965, '빈티': 12966, '해로울': 12967, '괜찮아': 12968, '외딴섬': 12969, '틴': 12970, '멈췄으면': 12971, '모른다네': 12972, '실증': 12973, '였잖': 12974, '개탄': 12975, '크론병': 12976, '봐주지': 12977, '손목시계': 12978, '여름날': 12979, '치근덕거리': 12980, '앞지르': 12981, '온댔': 12982, '부닥치': 12983, '화통': 12984, '액세서리': 12985, '삐걱대': 12986, '어떤지에': 12987, '미워졌': 12988, '푹푹': 12989, '괴로워했': 12990, '바랄게요': 12991, '단연': 12992, '입씨름': 12993, '펼쳤': 12994, '배운다고': 12995, '물난리': 12996, '잠겨': 12997, '펑': 12998, '휘말리': 12999, '병력': 13000, '쑥스러웠': 13001, '까다로워서': 13002, '피디': 13003, '으려던': 13004, '폭등': 13005, '모일수록': 13006, '벌컥': 13007, '주공': 13008, '우시': 13009, '삐뚤어진': 13010, '비흡연자': 13011, '주유소': 13012, '고픈데': 13013, '둔다고': 13014, '뿌려서': 13015, '구해도': 13016, '하루살이': 13017, '기친': 13018, '장신구': 13019, '사워': 13020, '실추': 13021, '미어져': 13022, '이포': 13023, '놓쳐버렸': 13024, '공사건': 13025, '유라': 13026, '목구멍': 13027, '양처': 13028, '중관': 13029, '아래위': 13030, '눈치봐야': 13031, '지를': 13032, '금자': 13033, '이라던가': 13034, '흐려져': 13035, '만학도': 13036, '채워줄': 13037, '어떡해': 13038, '조심조심': 13039, '뒤섞이': 13040, '어쩐담': 13041, '안락': 13042, '그럼에도': 13043, '가벼워져서': 13044, '대래': 13045, '속보': 13046, '일주일': 13047, '싱거워': 13048, '두근거려서': 13049, '개망신': 13050, '달려온': 13051, '치명상': 13052, '돈다': 13053, '벌렁거리': 13054, '추켜세우': 13055, '침구': 13056, '크나큰': 13057, '될려고': 13058, '발라': 13059, '기약': 13060, '콧방귀': 13061, '왕진': 13062, '콘돔': 13063, '콜록콜록': 13064, '펌': 13065, '발자국': 13066, '쿵쿵대': 13067, '얘긴데': 13068, '양극': 13069, '거를': 13070, '사석': 13071, '견지': 13072, '떨어진다': 13073, '호실': 13074, '끌어내': 13075, '라고는': 13076, '어찌할': 13077, '스쿨링': 13078, '지켜준': 13079, '절도': 13080, '착착': 13081, '찌들': 13082, '발칵': 13083, '뒤집혔': 13084, '묶인': 13085, 'ㅜ': 13086, '숙식': 13087, '꽂히': 13088, '필연': 13089, '유유자적': 13090, '어쩔려고': 13091, '술타령': 13092, '패키지': 13093, '첫사랑': 13094, '세방': 13095, '보아하니': 13096, '허둥대': 13097, '버텨서': 13098, '그딴': 13099, '나참': 13100, '아쉬울': 13101, '견이': 13102, '설쳐': 13103, '표해': 13104, '물어봐야지': 13105, '등바': 13106, '남아나': 13107, '쓴다': 13108, '곘': 13109, '안자': 13110, '뒤바뀐': 13111, '추행': 13112, '닫힘': 13113, '줘요': 13114, '딱해': 13115, '탱탱': 13116, '괜찬다고': 13117, '경기장': 13118, '총무부': 13119, '공시': 13120, '끝마쳐야': 13121, '버릴지': 13122, '아물': 13123, '잦아진': 13124, '너그러운': 13125, '정관': 13126, '가마솥': 13127, '동나': 13128, '나이키': 13129, '끌어내리': 13130, '발표자': 13131, '낚아챘': 13132, '힘듭니다': 13133, '잔주름': 13134, '멈춘다': 13135, '새우등': 13136, '지칭': 13137, '이적': 13138, '러브': 13139, '미웠': 13140, '추근거리': 13141, '특식': 13142, '기도원': 13143, '인건비': 13144, '노동청': 13145, '도깨비': 13146, '들떠서': 13147, '대물림': 13148, '답지': 13149, '결판': 13150, '홍콩': 13151, '뒤처졌': 13152, '셨으니': 13153, '렀던': 13154, '빌붙': 13155, 'ㄱ': 13156, '이쪽': 13157, '쭈글쭈글': 13158, '발레': 13159, '관둬야': 13160, '줄자': 13161, '반강': 13162, '바느질': 13163, '메꾸': 13164, '한탄스럽': 13165, '올릴까': 13166, '파쇄기': 13167, '흥정': 13168, '겨웠': 13169, '폐도': 13170, '자제력': 13171, '요동치': 13172, '처단': 13173, '수의사': 13174, '사친': 13175, '경지': 13176, '조부': 13177, '공적': 13178, '내려질': 13179, '지혜': 13180, '도산': 13181, '쓰레기봉투': 13182, '너머': 13183, '무너져도': 13184, '모멸감': 13185, '투기꾼': 13186, '터뜨릴': 13187, '어덯': 13188, '떠벌이': 13189, '강행': 13190, '여든여덟': 13191, '비롯': 13192, '한데요': 13193, '급했': 13194, '서적': 13195, '계장': 13196, '열린다': 13197, '쓰인다': 13198, '떠나보낼': 13199, '석식': 13200, '알아차릴': 13201, '결점': 13202, '휜': 13203, '음향': 13204, '처세': 13205, '상탠데': 13206, '란스': 13207, '라워': 13208, '바쳐서': 13209, '끌어들이': 13210, '들어갈까봐': 13211, '부득이': 13212, '혈당치': 13213, '식기세척기': 13214, '추첨': 13215, '셰': 13216, '리터': 13217, '여쭤': 13218, '볼려고': 13219, '가까왔': 13220, '콩팥': 13221, '휘트': 13222, '치우친': 13223, '뒷조사': 13224, '앞섰': 13225, '매니지먼트': 13226, '매각': 13227, '퇴짜': 13228, '겅검진결과가': 13229, '다해야': 13230, '뭄살이': 13231, '울부짖': 13232, '예선': 13233, '샤넬': 13234, '명설': 13235, '쫒지': 13236, '따로따로': 13237, '일시불': 13238, '헤아려': 13239, '구직자': 13240, '양손': 13241, '떠난다': 13242, '나미': 13243, '선남선녀': 13244, '굴러서': 13245, '들어간대': 13246, '날벼락': 13247, '훗날': 13248, '미신': 13249, '동선': 13250, '골골거리': 13251, '정이': 13252, '찾아보기': 13253, '보완': 13254, '당첨자': 13255, '그림일기': 13256, '그려져': 13257, '뜯어먹': 13258, '향할': 13259, '무뎌졌': 13260, '희소식': 13261, '속박': 13262, '건축주': 13263, '벽돌': 13264, '이끼': 13265, '뛰어들': 13266, '물심': 13267, '양면': 13268, '차면': 13269, '아오': 13270, '털렸': 13271, '등본': 13272, '세균': 13273, '번식': 13274, '품행': 13275, '서클': 13276, '진우': 13277, '야하': 13278, '지토': 13279, '기출': 13280, '족보': 13281, '트렁크': 13282, '값어치': 13283, '감안': 13284, '면제': 13285, '세침': 13286, '드론': 13287, '음감': 13288, '바위틈': 13289, '빨개': 13290, '선동': 13291, '벌여야': 13292, '정민이': 13293, '다는구먼': 13294, '준다면서': 13295, '진즉에': 13296, '기여코': 13297, '제짝': 13298, '어긴': 13299, '녜': 13300, '갔다온': 13301, '윽박지르': 13302, '나쁠까': 13303, '작은아버지': 13304, '반상회': 13305, '드러낸': 13306, '올레길': 13307, '제명': 13308, '붙혀': 13309, '뒤통수치': 13310, '어깨치기': 13311, '패밀리': 13312, '엄한': 13313, '스포츠카': 13314, '발설': 13315, '내동댕이치': 13316, '한게': 13317, '영락없': 13318, '맞춘다면': 13319, '시시': 13320, '사례': 13321, '졸지': 13322, '호응': 13323, '게나': 13324, '다닐지': 13325, '가세': 13326, '오프라인': 13327, '둘러싸여': 13328, '바라볼': 13329, '불변': 13330, '어두워졌': 13331, '그럴까요': 13332, '훈련': 13333, '관리비': 13334, '뭔갈': 13335, '을는지': 13336, '딴지': 13337, '현대인': 13338, '살아생전': 13339, '흘린': 13340, '복작거리': 13341, '달라져야': 13342, '기꺼이': 13343, '괴롭힐까봐': 13344, '해석': 13345, '낭': 13346, '추위': 13347, '누운': 13348, '터진': 13349, '쏠려': 13350, '서러웠': 13351, '기울어질': 13352, '캉': 13353, '추스르': 13354, '하더': 13355, '신참': 13356, '자재': 13357, '강해져야': 13358, '히니': 13359, '신작': 13360, '부채': 13361, '문항': 13362, '질려': 13363, '엄습': 13364, '누렇': 13365, '우두커니': 13366, '음해성': 13367, '인내심': 13368, '밑단': 13369, '몸져누웠': 13370, '역세': 13371, '급매': 13372, '으냐는': 13373, '달랠': 13374, '머뭇거리': 13375, '는다지': 13376, '렀게': 13377, '번다면': 13378, '뽑힐': 13379, '해졌었': 13380, '들고나': 13381, '한국인': 13382, '엔터': 13383, '빵빵거리': 13384, '오탈': 13385, '호떡': 13386, '지도층': 13387, '깬다': 13388, '국립': 13389, '렀': 13390, '정석': 13391, '예정자': 13392, '한다더라': 13393, '어찔': 13394, '차고': 13395, '처참히': 13396, '지겨웠': 13397, '제빵사': 13398, '보기좋': 13399, '계세': 13400, '인부': 13401, '뷴': 13402, '낄낄': 13403, '고달픈': 13404, '펀': 13405, '장난친': 13406, '우스워': 13407, '남지': 13408, '끌려서': 13409, '돌려줄': 13410, '나온다니': 13411, '이어가기': 13412, '다기에': 13413, '상손님': 13414, '모기지': 13415, '무뎌져': 13416, '달기': 13417, '움직였': 13418, '고했': 13419, '본다니': 13420, '성직': 13421, '음담패설': 13422, '거슬려서': 13423, '시시때때로': 13424, '우애': 13425, '제일가': 13426, '불운': 13427, '아이콘': 13428, '다닌지': 13429, '가다니': 13430, '사나워진': 13431, '지끈거리': 13432, '멀찍이': 13433, '순옥이': 13434, '뒤태': 13435, '서비스업': 13436, '억누르': 13437, '대포통장': 13438, '조일': 13439, '나흘': 13440, '빗길': 13441, '쫓아다녀': 13442, '요약': 13443, '차가워진': 13444, '으셨으니': 13445, '훨': 13446, '뭘까요': 13447, '초상집': 13448, '줄때': 13449, '진입': 13450, '제삼자': 13451, '피티': 13452, '미울': 13453, '출마': 13454, '울렁거렸': 13455, '속편': 13456, '유무': 13457, '날아다니': 13458, '막판': 13459, '등쳐먹': 13460, '붉힐': 13461, '가질수록': 13462, '이중인격자': 13463, '약주': 13464, '들어온다': 13465, '다져서': 13466, '배분': 13467, '샀었': 13468, '까져': 13469, '찔끔찔끔': 13470, '영수': 13471, '앞세우': 13472, '헤어진지': 13473, '관습': 13474, '야애': 13475, '경변': 13476, '섣부르': 13477, '양아치': 13478, '서재': 13479, '깎인': 13480, '선미': 13481, '수진': 13482, '앙침': 13483, '따져봐야': 13484, '청하': 13485, '치지': 13486, '타박상': 13487, '친밀감': 13488, '횟집': 13489, '조미료': 13490, '불고기': 13491, '암묵': 13492, '걸려야': 13493, '급출발': 13494, '왠만큼': 13495, 'ㅈ': 13496, '비지니스': 13497, '뉴질랜드': 13498, '스무디': 13499, '집문서': 13500, '인감도장': 13501, '헛헛': 13502, '된다더니': 13503, '이주동': 13504, '교문': 13505, '배고픔': 13506, '즐거운데': 13507, '대체로': 13508, '정교사': 13509, '약건': 13510, '식모': 13511, '복판': 13512, '갈비뼈': 13513, '꾸려서': 13514, '기프': 13515, '요추': 13516, '착': 13517, '해부': 13518, '소모임': 13519, '썻는지': 13520, '신변': 13521, '겹': 13522, '남겨둔': 13523, '몰르': 13524, '해본': 13525, '풀려났': 13526, '가연': 13527, '생사': 13528, '더없이': 13529, '플랜': 13530, '이의': 13531, '취업률': 13532, '시한': 13533, '아려와': 13534, '견적': 13535, '끙끙': 13536, '잘생기': 13537, '파릇파릇': 13538, '상항': 13539, '깔깔거렸': 13540, '취조': 13541, '풀릴지': 13542, '입버릇': 13543, '지도자': 13544, '탈법': 13545, '농지': 13546, '사들였': 13547, '지론': 13548, '밀려드': 13549, '최하': 13550, '바래다': 13551, '교과': 13552, '양옆': 13553, '비워져': 13554, '농기계': 13555, '내리막': 13556, '삐걱': 13557, '꿍꿍이': 13558, '빠져들': 13559, '현미밥': 13560, '그런가보다': 13561, '없앤': 13562, '성할': 13563, '림프종': 13564, '차곡차곡': 13565, '로라': 13566, '만해': 13567, '대리인': 13568, '의예과': 13569, '비아냥거리': 13570, '흑흑': 13571, '기밀문서': 13572, '내친': 13573, '구야': 13574, '외우': 13575, '보냈으니': 13576, '그릴': 13577, '발할': 13578, '공상': 13579, '템플스테이': 13580, '만장굴': 13581, '입구': 13582, '척수': 13583, '킬로미터': 13584, '단축': 13585, '날아다녀': 13586, '달달': 13587, '펼': 13588, '갑산': 13589, '골증': 13590, '말조심': 13591, '올라온다고': 13592, '수없이': 13593, '겁박': 13594, '조잘조잘': 13595, '적대': 13596, '악마': 13597, '맡아본': 13598, '이름표': 13599, '운동부': 13600, '득': 13601, '태가': 13602, '수요일': 13603, '동아': 13604, '겁났': 13605, '월급쟁이': 13606, '금고': 13607, '에이고': 13608, '실없': 13609, '쫙': 13610, '신날': 13611, '물류': 13612, '지끔': 13613, '진보': 13614, '장악': 13615, '제습기': 13616, '전복': 13617, '카디건': 13618, '다뤄야': 13619, '영안실': 13620, '암판': 13621, '위통': 13622, '열의': 13623, '관계없이': 13624, '신다는데': 13625, '쫓아다녀서': 13626, '시승': 13627, '중고차': 13628, '희로애락': 13629, '도망쳐': 13630, '건달': 13631, '희망차': 13632, '수천만': 13633, '사들여': 13634, '드러낼': 13635, '윙크': 13636, '영악': 13637, '로드': 13638, '퍼뜨릴까': 13639, '의상': 13640, '프라': 13641, '푸치노': 13642, '서울역': 13643, '지하도': 13644, '서성거려': 13645, '목숨걸': 13646, '괴롭혀야': 13647, '별개': 13648, '대번': 13649, '받쳤': 13650, '중기': 13651, '슬퍼해': 13652, '입수': 13653, '차기': 13654, '서툴렀': 13655, '르': 13656, '수분': 13657, '일할': 13658, '결백': 13659, '에휴': 13660, '어때요': 13661, '두아': 13662, '옛부터': 13663, '들린다고': 13664, '초혼': 13665, '이세상': 13666, '갈껄': 13667, '상하차': 13668, '체벌': 13669, '날아왔': 13670, '고장난': 13671, '홍조': 13672, '제멋': 13673, '화이트': 13674, '도와서': 13675, '무딘': 13676, '가쁜': 13677, '화기': 13678, '꽃뱀': 13679, '자대': 13680, '서진': 13681, '자린고비': 13682, '묘지': 13683, '시외': 13684, '권리금': 13685, '거슬렸': 13686, '훌': 13687, '룡': 13688, '애착': 13689, '쫀쫀': 13690, '본다니까': 13691, '슈퍼맨': 13692, '꺼버렸': 13693, '추슬러': 13694, '레슨': 13695, '우여곡절': 13696, '단편': 13697, '찾아볼까': 13698, '아십니까': 13699, '쌈': 13700, '조경': 13701, '뺀다': 13702, '꾐': 13703, '의처증': 13704, '병석': 13705, '극히': 13706, '인척': 13707, '내왔': 13708, '뭂통증이': 13709, '생긴다고': 13710, '적반하장': 13711, '건축비': 13712, '나무란': 13713, '까진가': 13714, '맹신': 13715, '라야지': 13716, '큼씩': 13717, '벌어먹': 13718, '약해질': 13719, '들려줄': 13720, '멈춰진': 13721, '간다며': 13722, '근무력증': 13723, '밀어냈': 13724, '외랑': 13725, '빠뜨려서': 13726, '준비금': 13727, '버틸까': 13728, '듭니다': 13729, '어쨌든': 13730, '덮어씌우': 13731, '쇼파': 13732, '고달파': 13733, '시궁창': 13734, '냄비': 13735, '만상': 13736, '에프': 13737, '해둬야': 13738, '빌빌거리': 13739, '알짜배기': 13740, '낙첨': 13741, '쓸려고': 13742, '면할': 13743, '해야겠네': 13744, '연희': 13745, '막둥이': 13746, '해드릴': 13747, '쌓여왔': 13748, '여비서': 13749, '즐거운지': 13750, '추잡': 13751, '금년': 13752, '터트렸': 13753, '으려다가': 13754, '든데': 13755, '요지경': 13756, '조현': 13757, '나을지도': 13758, '매기': 13759, '힘입': 13760, '을씨년': 13761, '무성의': 13762, '끝냈으면': 13763, '로리': 13764, '미비': 13765, '사강': 13766, '술래': 13767, '달려올': 13768, '할땐': 13769, '냈으니': 13770, '살라': 13771, '세가': 13772, '넋두리': 13773, '차이점': 13774, '설거지통': 13775, '부세': 13776, '떠난대': 13777, '물러서': 13778, '마크': 13779, '어설퍼서': 13780, '면연': 13781, '력': 13782, '봐뒀': 13783, '힘낼게': 13784, '즈음': 13785, '거듭': 13786, '회생': 13787, '버려진다는': 13788, '일어날지': 13789, '떨어져도': 13790, '직업윤리': 13791, '깔볼': 13792, '동이': 13793, '후순위채': 13794, '찌뿌둥': 13795, '살아와': 13796, '과라': 13797, '투고': 13798, '친숙': 13799, '들어': 13800, '굴뚝': 13801, '느껴요': 13802, '매끄럽': 13803, '히기': 13804, '헛디뎠': 13805, '밀린다는': 13806, '담요': 13807, '모서리': 13808, '스펀지': 13809, '임산': 13810, '콩나물': 13811, '코로나다': 13812, '가창력': 13813, '뺏겨서': 13814, '하등': 13815, '술대': 13816, '비틀': 13817, '시린': 13818, '내질': 13819, '라이스': 13820, '역풍': 13821, '건강보험공단': 13822, '보여요': 13823, '식성': 13824, '음악회': 13825, '일러바친': 13826, '그래왔': 13827, '가시방석': 13828, '주름지': 13829, '양성애자': 13830, '동네방네': 13831, '자전': 13832, '익스트림': 13833, '만다고': 13834, '배낭': 13835, '추미애': 13836, '장관': 13837, '숱': 13838, '유나': 13839, '상복': 13840, '추진력': 13841, '춰': 13842, '삻어': 13843, '아수라장': 13844, '주검': 13845, '기울었': 13846, '예치': 13847, '이라고': 13848, '절제술': 13849, '의임': 13850, '확연히': 13851, '삭발': 13852, '만한': 13853, '철부지': 13854, '이박': 13855, '구년': 13856, '방면': 13857, '열렬': 13858, '깅도': 13859, '외로이': 13860, '졀': 13861, '빵빵': 13862, '둘러싸여서': 13863, '늑장': 13864, '가로등': 13865, '기뻐도': 13866, '떠보': 13867, '마서': 13868, '볼라구': 13869, '권력': 13870, '비랑': 13871, '반가워서': 13872, '꼬셔': 13873, '정민': 13874, '투덕': 13875, '뀐': 13876, '라길래': 13877, '강도질': 13878, '아늑': 13879, '드려서': 13880, '예측': 13881, '답했': 13882, '충실히': 13883, '권사': 13884, '어니': 13885, '뒀으면': 13886, '이쁠': 13887, '들어선': 13888, '무인': 13889, '계산대': 13890, '시집올': 13891, '늘어진': 13892, '잖은': 13893, '구동': 13894, '쩔쩔맸': 13895, '푠데': 13896, '화이트데이': 13897, '에이티엠': 13898, '잔잔': 13899, '마그네슘': 13900, '보컬': 13901, '가이드': 13902, '지리산': 13903, '사모': 13904, '한가요': 13905, '꼬리표': 13906, '따라다녀': 13907, '찾아봐도': 13908, '대금': 13909, '조례': 13910, '거명': 13911, '탈모증': 13912, '원형': 13913, '발가벗겨진': 13914, '아파질': 13915, '흘러내렸': 13916, '판자': 13917, '광범위': 13918, '전과범': 13919, '주워도': 13920, '준지': 13921, '쏠리': 13922, '따라다녀서': 13923, '완납': 13924, '위례': 13925, '이긴': 13926, '뛸': 13927, '커준': 13928, '탄생': 13929, '난다는데': 13930, '무미건조': 13931, '호호': 13932, '연세대': 13933, '버거울': 13934, '재서': 13935, '정형': 13936, '개고기': 13937, '손빨래': 13938, '둔지': 13939, '날아간': 13940, '연녀': 13941, '녹차': 13942, '물병': 13943, '떨어뜨릴': 13944, '연주가': 13945, '나자': 13946, '들려와서': 13947, '힘겨운': 13948, '양념': 13949, '묻혔': 13950, '바비큐': 13951, '돌입': 13952, '척추관': 13953, '죽인': 13954, '마야': 13955, '순전히': 13956, '컴퍼니': 13957, '돈세탁': 13958, '소문날까봐': 13959, '찾아와야': 13960, '설전': 13961, '청원': 13962, '넓혀': 13963, '곤두박': 13964, '방문자': 13965, '박살나': 13966, '단백질': 13967, '마을버스': 13968, '버려두': 13969, '겠는데': 13970, '인계': 13971, '최저치': 13972, '치우쳐': 13973, '파묻혀': 13974, '오르막': 13975, '리어카': 13976, '일지라도': 13977, '지녀온': 13978, '민사': 13979, '형사': 13980, '작물': 13981, '수확': 13982, '다시금': 13983, '들어갈지': 13984, '잉크': 13985, '극장': 13986, '상영': 13987, '우왕좌왕': 13988, '무서우': 13989, '대했으면': 13990, '반애': 13991, '랍니다': 13992, '소모': 13993, '깨우쳤': 13994, '공갈': 13995, '갈굼': 13996, '시달려왔': 13997, '신세지': 13998, '가쁘': 13999, '다녀올까': 14000, '물으러': 14001, '상단': 14002, '메스꺼움': 14003, '쩔쩔': 14004, '체력장': 14005, '천차만별': 14006, '빠트리': 14007, '이지': 14008, '갑상': 14009, '즐거워서': 14010, '힘써야': 14011, '지져': 14012, '출판': 14013, '편집장': 14014, '생식': 14015, '힝': 14016, '인방': 14017, '현역': 14018, '쳥했어': 14019, '숙덕': 14020, '탈세': 14021, '국세청': 14022, '풀타임': 14023, '목표달성': 14024, '강의실': 14025, '비쳐서': 14026, '노래지': 14027, '들어감': 14028, '귀티': 14029, '생긴다면': 14030, '페이스북': 14031, '준다지': 14032, '바빠질': 14033, '기울인': 14034, '이쁜데': 14035, '미묘': 14036, '뭔데': 14037, '그중': 14038, '울렁거려': 14039, '평택': 14040, '치근덕거려서': 14041, '혹평': 14042, '누린다': 14043, '수현': 14044, '슬픈지': 14045, '알려도': 14046, '노처녀': 14047, '부릴': 14048, '차랑': 14049, '이끄': 14050, '저쪽': 14051, '사인데': 14052, '의하': 14053, '한스럽': 14054, '체질량': 14055, '울타리': 14056, '몸뚱어리': 14057, '독고': 14058, '했었어야': 14059, '각해': 14060, '모래': 14061, '노른자': 14062, '했을지도': 14063, '몰라요': 14064, '꺼라': 14065, '상부': 14066, '달려갔으나': 14067, '더라고요': 14068, '에어': 14069, '팟': 14070, '가했': 14071, '나도야': 14072, '는다길래': 14073, '드래프트': 14074, '꼬락서니': 14075, '솔깃': 14076, '타운': 14077, '걸린다는데': 14078, '엄': 14079, '아까운지': 14080, '기성': 14081, '불러야': 14082, '나올수록': 14083, '노동부': 14084, '강해서': 14085, '물림': 14086, '노골': 14087, '기독교도': 14088, '들어준': 14089, '썸': 14090, '범벅': 14091, '불가': 14092, '바려': 14093, '흘러버렸': 14094, '너희': 14095, '골살이': 14096, '폭우': 14097, '늘인': 14098, '내발': 14099, '데일': 14100, '바람맞': 14101, '비열': 14102, '갯': 14103, '여대': 14104, '부재': 14105, '노동일': 14106, '동명이인': 14107, '점쟁이': 14108, '펴도': 14109, '댜': 14110, '부자간': 14111, '즉석': 14112, '식사비': 14113, '복부비만': 14114, '본곳': 14115, '물러났': 14116, '스쳐도': 14117, '따가워서': 14118, '불렸': 14119, '다락방': 14120, '연약': 14121, '내년도': 14122, '수립': 14123, '삼총사': 14124, '자야': 14125, '그만둬야지': 14126, '치룰': 14127, '전송': 14128, '하품': 14129, '할머님': 14130, '오리털': 14131, '파카': 14132, '바탕': 14133, '혈액원': 14134, '간다더라': 14135, '보람차': 14136, '내덕': 14137, '염자': 14138, '번돈으로': 14139, '된대서': 14140, '노년층': 14141, '짤릴지': 14142, '고와서': 14143, '나갈까봐': 14144, '집회': 14145, '부러워했었': 14146, '들으셨나': 14147, '솔루션': 14148, '들을까봐': 14149, '가까우': 14150, '운지': 14151, '늘어난다고': 14152, '틀어질': 14153, '쌍욕': 14154, '찌뿌둥하': 14155, '뒷수습': 14156, '걸어갔': 14157, '새댁': 14158, '날라': 14159, '박히': 14160, '튀김': 14161, '덮어쓰': 14162, '내지르': 14163, '즐거우': 14164, '눈높이': 14165, '날라와': 14166, '삼기': 14167, '전월': 14168, '빠짐': 14169, '슬플까': 14170, '여잔데': 14171, '권태': 14172, '긴가': 14173, '멍울': 14174, '뒷감당': 14175, '유부': 14176, '맞물려': 14177, '첫날밤': 14178, '휩쓸려서': 14179, '짼': 14180, '별안간': 14181, '들어다보': 14182, '밓이': 14183, '박카스': 14184, '빨개지': 14185, '공연장': 14186, '광대': 14187, '흔한': 14188, '은데도': 14189, '다룬다': 14190, '박살내': 14191, '본과': 14192, '목소릴': 14193, '색': 14194, '틀렸었': 14195, '채연': 14196, '개국': 14197, '동로': 14198, '귀여워도': 14199, '될런지': 14200, '뻔하': 14201, '며늘아기': 14202, '벗어난다고': 14203, '뻐가': 14204, '드가': 14205, '연급': 14206, '이뤄진다는': 14207, '적잖이': 14208, '재활용품': 14209, '지나왔': 14210, '고만': 14211, '잡지': 14212, '청': 14213, '접창': 14214, '돌려야': 14215, '스러워했': 14216, '의해서': 14217, '날라야': 14218, '덧': 14219, '심심풀이': 14220, '냬': 14221, '청했으나': 14222, '중비': 14223, '인공호흡기': 14224, '부착': 14225, '돌아볼': 14226, '가져다준': 14227, '드나들': 14228, '나랏돈': 14229, '가릴까': 14230, '연속극': 14231, '과일즙': 14232, '피해야': 14233, '청구서': 14234, '제정': 14235, '미스': 14236, '프린세스': 14237, '적당량': 14238, '궁이': 14239, '신의': 14240, '어리광': 14241, '마이스터': 14242, '탐해서': 14243, '아미': 14244, '어렵사리': 14245, '읓': 14246, '형태': 14247, '종사': 14248, '되돌아가': 14249, '큰가': 14250, '에베레스트산': 14251, '간간히': 14252, '젓갈': 14253, '추우': 14254, '으르': 14255, '본업': 14256, '고르기': 14257, '규율': 14258, '공여': 14259, '상급자': 14260, '겅검진하러': 14261, '그쳐서': 14262, '송별회': 14263, '잡혀갔': 14264, '어리버리': 14265, '일히': 14266, '데기': 14267, '팍': 14268, '증명': 14269, '전제': 14270, '정신력': 14271, '폭음': 14272, '배터리': 14273, '쿵쾅': 14274, '취한다': 14275, '급식소': 14276, '서성거렸': 14277, '준다면': 14278, '챙겼을까': 14279, '역성': 14280, '처먹': 14281, '기려': 14282, '배냇짓': 14283, '이럴수록': 14284, '유미': 14285, '이주만': 14286, '출퇴근길': 14287, '비품': 14288, '가져간다고': 14289, '도둑놈': 14290, '사복': 14291, '해야겠지': 14292, '우연찮': 14293, '적어져': 14294, '이비인후과': 14295, '나전': 14296, '우이': 14297, '식대': 14298, '새서': 14299, '울남': 14300, '준돈': 14301, '꿔서': 14302, '인사장': 14303, '징징거리': 14304, '나무랐': 14305, '웃돈': 14306, '민원실': 14307, '군만두': 14308, '미칠지': 14309, '경야': 14310, '드러난다고': 14311, '헐떡였': 14312, '적구': 14313, '세울': 14314, '아웅다웅': 14315, '성비': 14316, '껏': 14317, '가거': 14318, '삐치': 14319, '편일': 14320, '뻥뻥': 14321, '현혹': 14322, '임시직': 14323, '벗겨진': 14324, '미니스커트': 14325, '검은색': 14326, '어질': 14327, '러서': 14328, '이끌려': 14329, '현수막': 14330, '조달': 14331, '여정': 14332, '시뮬레이션': 14333, '재협상': 14334, '합창단': 14335, '단원': 14336, '김장철': 14337, '웃어대': 14338, '미지': 14339, '피부암': 14340, '아신': 14341, '우월': 14342, '바깥양반': 14343, '살얼음': 14344, '캠페인': 14345, '차려입': 14346, '렀는데': 14347, '쏘아붙이': 14348, '화초': 14349, '들을려고': 14350, '상봉': 14351, '당했으니': 14352, '시덥': 14353, '일종': 14354, '몰릴까봐': 14355, '모터사이클': 14356, '클래식': 14357, '나다니': 14358, '가래침': 14359, '호적': 14360, '탄산': 14361, '쓰레기장': 14362, '개정': 14363, '텐데요': 14364, '바닥날': 14365, '후두염': 14366, '뽑힌': 14367, '담합': 14368, '모셔야': 14369, '말뜻': 14370, '과학고': 14371, '살려줘': 14372, '바캉스': 14373, '문재': 14374, '족하': 14375, '편가르': 14376, '영자': 14377, '홧병': 14378, '저물': 14379, '스캔들': 14380, '초인종': 14381, '까발려': 14382, '달러': 14383, '테크': 14384, '저질러': 14385, '배상': 14386, '계돈': 14387, '대대': 14388, '활성': 14389, '미워지': 14390, '열나': 14391, '으레': 14392, '쫒겨나': 14393, '전방': 14394, '위증': 14395, '뜨거워질': 14396, '국산': 14397, '외국산': 14398, '다녀봐야': 14399, '민원인': 14400, '찾아왔었': 14401, '심할': 14402, '보탤': 14403, '망가뜨리': 14404, '편찬': 14405, '맞닥뜨렸': 14406, '용건': 14407, '몰카': 14408, '카지': 14409, '일임': 14410, '회상': 14411, '해질수록': 14412, '유대감': 14413, '한우': 14414, '관공서': 14415, '옥탑방': 14416, '보험계약': 14417, '늦추': 14418, '만질': 14419, '계신지': 14420, '대한민국': 14421, '농땡이': 14422, '도져': 14423, '노상': 14424, '손쓸': 14425, '오라고': 14426, '도막': 14427, '다방': 14428, '출근자': 14429, 'ㅏ빠가': 14430, '편할까': 14431, '거론': 14432, '다다를': 14433, '포착': 14434, '체능': 14435, '된단다': 14436, '가라니': 14437, '쳐다봐도': 14438, '노망기': 14439, '삼인': 14440, '챙겨야지': 14441, '초안': 14442, '재벌가': 14443, '욱신욱신': 14444, '착해서': 14445, '배움': 14446, '편해질': 14447, '할매': 14448, '오한': 14449, '매도': 14450, '몰상식': 14451, '쪽박': 14452, '자책감': 14453, '꼬일': 14454, '온다던': 14455, '떨쳐': 14456, '사진첩': 14457, '반려자': 14458, '물으니까': 14459, '변해도': 14460, '네이버': 14461, '졌을': 14462, '트랜스': 14463, '곤두박질치': 14464, '벗겨져서': 14465, '당항': 14466, '대시': 14467, '끝날까': 14468, '붙여도': 14469, '물러날': 14470, '벼랑': 14471, '똘': 14472, '뻘': 14473, '유증': 14474, '붙인': 14475, '당차': 14476, '돈방석': 14477, '취해야': 14478, '붐': 14479, '허황': 14480, '무거워져서': 14481, '총액': 14482, '중책': 14483, '파고다': 14484, '군제': 14485, '고려장': 14486, '허드렛일': 14487, '뒤풀이': 14488, '호상': 14489, '광진구': 14490, '환장': 14491, '창현': 14492, '내편은': 14493, '온다면서': 14494, '넘쳐서': 14495, '포옹': 14496, '다줄': 14497, '달아나': 14498, '귀염': 14499, '왔을까': 14500, '여진': 14501, '웨이트': 14502, '항공편': 14503, '배설물': 14504, '일으킬': 14505, '같혀': 14506, '어려우신가요': 14507, '해서든': 14508, '걸음마': 14509, '사리': 14510, '리란': 14511, '굽실거리': 14512, '술렁': 14513, '김포공항역': 14514, '핀다고': 14515, '빡빡': 14516, '어젠가': 14517, '뭉친': 14518, '선택지': 14519, '아기집': 14520, '근질근질': 14521, '맛본': 14522, '좌우': 14523, '발간': 14524, '다물': 14525, '꿔다': 14526, '보릿자루': 14527, '연장자': 14528, '맵': 14529, '학벌주의': 14530, '치지는': 14531, '실상': 14532, '계신다': 14533, '혹여': 14534, '지으려': 14535, '그러실': 14536, '험해': 14537, '불어날': 14538, '쇼핑몰': 14539, '과중되': 14540, '객관': 14541, '대가족': 14542, '후려치': 14543, '안겨': 14544, '독신주의': 14545, '봄여름': 14546, '끼워준': 14547, '생깁니다': 14548, '악세서리': 14549, '거주': 14550, '른': 14551, '봐줘': 14552, '여유있': 14553, '졌어요': 14554, '갑지': 14555, '무선': 14556, '손사': 14557, '다녀볼': 14558, '늦춰졌': 14559, '내래': 14560, '대전': 14561, '그럴려면': 14562, '뛰어왔': 14563, '작년도': 14564, '돌파': 14565, '했었었': 14566, '잠갔': 14567, '싸운다는': 14568, '엠': 14569, '블': 14570, '번건': 14571, '안타까웠': 14572, '뻐': 14573, '메뚜기': 14574, '갈망': 14575, '끌려갔었': 14576, '손수레': 14577, '손상': 14578, '보세': 14579, '놀림감': 14580, '십상': 14581, '이이': 14582, '슬': 14583, '불량배': 14584, '정한다고': 14585, '한눈판': 14586, '미끄럼틀': 14587, '와서인지': 14588, '어음': 14589, '들이닥쳤': 14590, '간소': 14591, '에베레스트': 14592, '등정': 14593, '전철역': 14594, '오르간': 14595, '반주자': 14596, '즉': 14597, '햇': 14598, '허우대': 14599, '커야지': 14600, '꾸린': 14601, '망언': 14602, '바둑': 14603, '김영': 14604, '감리': 14605, '슬픈가': 14606, '배포': 14607, '견딘': 14608, '중독자': 14609, '실직자': 14610, '운가': 14611, '됨': 14612, '실습생': 14613, '딸래미': 14614, '자신만만': 14615, '콧노래': 14616, '수천': 14617, '눈총': 14618, '얼추': 14619, '자행': 14620, '냉큼': 14621, '모녀': 14622, '위학': 14623, '팬데': 14624, '믹': 14625, '골살': 14626, '안목': 14627, '볼땐': 14628, '게라도': 14629, '띄어쓰기': 14630, '잘생겼': 14631, '사치품': 14632, '항공기': 14633, '통행': 14634, '마작': 14635, '숨졌': 14636, '송정현': 14637, '빵셔틀': 14638, '찬찬히': 14639, '찌검': 14640, '도벽': 14641, '건진': 14642, '담소': 14643, '제과': 14644, '주어져도': 14645, '책망': 14646, '눈병': 14647, '내민': 14648, '동성연애': 14649, '아녜요': 14650, '우수사': 14651, '원상': 14652, '미어지': 14653, '다재': 14654, '능해서': 14655, '물거품': 14656, '만신창': 14657, '출품': 14658, '엑셀': 14659, '연예계': 14660, '데요': 14661, '표절': 14662, '드럼': 14663, '수줍음': 14664, '랏': 14665, '쌓여도': 14666, '만복': 14667, '냐구': 14668, '분풀이': 14669, '배끼': 14670, '넛': 14671, '놀려댔': 14672, '다림': 14673, '인사과': 14674, '아카데미': 14675, '일장일단': 14676, '사례금': 14677, '볼록': 14678, '튀어나왔': 14679, '불려야': 14680, '불려갔었': 14681, '개선책': 14682, '다구': 14683, '달갑': 14684, '아픕니다': 14685, '순식': 14686, '대안': 14687, '일반인': 14688, '농업': 14689, '와서야': 14690, '매니아': 14691, '쎈': 14692, '눌려': 14693, '칫솔질': 14694, '쩠다고': 14695, '부응': 14696, '직상': 14697, '준댔': 14698, '독후감': 14699, '밑지': 14700, '다단계': 14701, '인지도': 14702, '파오네': 14703, '죽죽': 14704, '튔': 14705, '수척': 14706, '부정취': 14707, '기다려온': 14708, '소속감': 14709, '유대': 14710, '감속': 14711, '새집': 14712, '똑부러지': 14713, '두려울': 14714, '밝힌다고': 14715, '무자식': 14716, '엘레': 14717, '이터': 14718, '떠맡겨서': 14719, '발라드': 14720, '마켓': 14721, '딜러': 14722, '보인데': 14723, '이어져': 14724, '모범생': 14725, '나아져': 14726, '비아냥거린': 14727, '휴무일': 14728, '꺼낼': 14729, '일당': 14730, '초고': 14731, '늘어져': 14732, '살쪄': 14733, '어떠셨': 14734, '씌워졌': 14735, '서류철': 14736, '불신': 14737, '사규': 14738, '퇴전': 14739, '부침개': 14740, '사용인': 14741, '관찰': 14742, '구운': 14743, '식혜': 14744, '쉬워도': 14745, '폐쇄성': 14746, '접속': 14747, '외가': 14748, '해킹': 14749, '바꿔야겠어': 14750, '확연': 14751, '뒤늦게야': 14752, '어짜피': 14753, '나란히': 14754, '기울이': 14755, '전립선염': 14756, '방전': 14757, '다이어리': 14758, '숨죽여': 14759, '거쳐서': 14760, '법칙': 14761, '역무원': 14762, '절감': 14763, '붙잡혀갔': 14764, '글귀': 14765, '새기': 14766, '조직폭력배': 14767, '내버릴': 14768, '날카로워서': 14769, '과속': 14770, '철분': 14771, '와야지': 14772, '서술형': 14773, '택견': 14774, '무예': 14775, '수백만': 14776, '두루뭉술': 14777, '런닝맨': 14778, '장가갈': 14779, '집무실': 14780, '삼킴': 14781, '성전': 14782, '학술': 14783, '입출금': 14784, '피네': 14785, '고립무원': 14786, '게을러': 14787, '연숙': 14788, '루게릭': 14789, '술수': 14790, '되돌리': 14791, '감봉': 14792, '우시군': 14793, '젋었을': 14794, '뒤집어쓴': 14795, '조명': 14796, '내것': 14797, '쓴다면': 14798, '추한': 14799, '상갓집': 14800, '지사장': 14801, '드린다면': 14802, '생이': 14803, '자책골': 14804, '져버렸': 14805, '추모': 14806, '굽혀': 14807, '뻗': 14808, '골초': 14809, '트롯': 14810, '허벅': 14811, '싫어할까': 14812, '한다거나': 14813, '부둥켜안': 14814, '치른': 14815, '들러': 14816, '치뤘': 14817, '무알코올': 14818, '장가갔': 14819, '비문증': 14820, '사레': 14821, '찾아와도': 14822, '불꽃놀이': 14823, '형국': 14824, '서투르': 14825, '차가워져': 14826, '깎인다는': 14827, '들어간다는데': 14828, '통폐합': 14829, '당최': 14830, '비울': 14831, '여쭤본': 14832, '명랑': 14833, '찌릿찌릿': 14834, '간헐': 14835, '희미': 14836, '바라볼까': 14837, '쓰일까': 14838, '떄': 14839, '귀띔': 14840, '교육열': 14841, '쫄면': 14842, '범': 14843, '상급': 14844, '싸인': 14845, '정상태': 14846, '과금': 14847, '쳐다볼': 14848, '면하': 14849, '산다는데': 14850, '휩쓸려': 14851, '와이': 14852, '이래서야': 14853, '꿈자리': 14854, '사납': 14855, '걷잡': 14856, '터진다': 14857, '개별': 14858, '싸워도': 14859, '보여도': 14860, '떡값': 14861, '주의자': 14862, '동동': 14863, '알아챈': 14864, '맞담배': 14865, '메스꺼워졌': 14866, '머릿결': 14867, '뵌': 14868, '뒤로하': 14869, '제비': 14870, '시원시원': 14871, '덕택': 14872, '지나온': 14873, '월등히': 14874, '동물학': 14875, '내출혈': 14876, '폐인': 14877, '걸린다고': 14878, '떼쓰': 14879, '투성인': 14880, '버린대': 14881, '주야': 14882, '생긴다는': 14883, '땡겨': 14884, '가른': 14885, '맞춰볼': 14886, '연탄': 14887, '꼴사납': 14888, '내정': 14889, '이해도': 14890, '술친구': 14891, '파투': 14892, '요동': 14893, '공계': 14894, '직업병': 14895, '기법': 14896, '상업': 14897, '헛발질': 14898, '합격권': 14899, '불효자': 14900, '피닝': 14901, '포지션': 14902, '고아': 14903, '받아들일까': 14904, '보관': 14905, '반격': 14906, '도망친': 14907, '찌릿': 14908, '개발자': 14909, '오싹': 14910, '등골': 14911, '딴소리': 14912, '황달': 14913, '성기': 14914, '땡땡이': 14915, '불가피': 14916, '모니': 14917, '게걸': 14918, '모우': 14919, '불려갈': 14920, '떨려와': 14921, '으로선': 14922, '걸려버렸': 14923, '별달리': 14924, '릅꿇고': 14925, '산거': 14926, '당혹감': 14927, '부처': 14928, '잔다는': 14929, '양배추': 14930, '쓰렸': 14931, '오포': 14932, '신어': 14933, '임무': 14934, '맡겨졌': 14935, '재개': 14936, '쓰레': 14937, '봐주었': 14938, '임했': 14939, '단언': 14940, '컨대': 14941, '신박': 14942, '헤어날': 14943, '로워진': 14944, '폐섬유증': 14945, '검거': 14946, '끗': 14947, '텐': 14948, '물으니': 14949, '엔지오': 14950, '펼칠': 14951, '병색': 14952, '완연': 14953, '재치': 14954, '주역': 14955, '누은': 14956, '반토': 14957, '민석': 14958, '위계질서': 14959, '알아차리': 14960, '글쓰기': 14961, '총대': 14962, '따듯': 14963, '키워야지': 14964, '거추장스러워': 14965, '여지': 14966, '내보낼': 14967, '허병이': 14968, '양평': 14969, '몸짱': 14970, '제과점': 14971, '반겨줄': 14972, '대인공포증': 14973, '뻥튀기': 14974, '세례': 14975, '알아준': 14976, '프린터': 14977, '쓰러져도': 14978, '아나': 14979, '씻겨': 14980, '공양': 14981, '시누': 14982, '뻿으려고': 14983, '모여드': 14984, '물리학': 14985, '도우려': 14986, '뛰쳐': 14987, '저급': 14988, '날카로운': 14989, '인데요': 14990, '반해서': 14991, '명확히': 14992, '끌어모아': 14993, '껄끄러울': 14994, '못마땅히': 14995, '부도난': 14996, '덕지덕지': 14997, '한답니다': 14998, '특수': 14999, '부대': 15000, '아녀': 15001, '도망다니': 15002, '비좁': 15003, '버려야': 15004, '챙겨와': 15005, '재검진': 15006, '버스비': 15007, '부끄러워지': 15008, '호불호': 15009, '나뉜다고': 15010, '투자자': 15011, '움츠려': 15012, '강경': 15013, '인감': 15014, '김포': 15015, '탑승수속': 15016, '커버렸': 15017, '아련': 15018, '소비자': 15019, '우롱': 15020, '악덕': 15021, '판매업자': 15022, '야할': 15023, '도서': 15024, '엉성': 15025, '으실까': 15026, '까다로우': 15027, '변덕': 15028, '쪠쩨': 15029, '소란': 15030, '닥': 15031, '로운지': 15032, '짰': 15033, '혈로': 15034, '최고령': 15035, '플래카드': 15036, '줄려': 15037, '놀러가': 15038, '기아': 15039, '히키코모리': 15040, '못생기': 15041, '사사': 15042, '주만': 15043, '렇게': 15044, '괴로움': 15045, '불평없이': 15046, '구겼': 15047, '시키네': 15048, '경연': 15049, '콜로라도주': 15050, '일보': 15051, '시기심': 15052, '졋': 15053, '신임': 15054, '김여사': 15055, '지급금': 15056, '살까봐': 15057, '메달': 15058, '주봉': 15059, '국영': 15060, '동동거리': 15061, '토리': 15062, '바라봤': 15063, '지킴이': 15064, '헤져서': 15065, '의류': 15066, '수검': 15067, '살린': 15068, '온도': 15069, '태어난다고': 15070, '부조금': 15071, '미소': 15072, '내야': 15073, '반찬거리': 15074, '눈치챘': 15075, '잔데': 15076, '딱딱': 15077, '천정부지': 15078, '삑': 15079, '따라올': 15080, '아까우': 15081, '실테': 15082, '때려왔': 15083, '으련': 15084, '날카로우': 15085, '할당제': 15086, '불효자식': 15087, '가문': 15088, '참마음': 15089, '모른데': 15090, '들쭉날쭉': 15091, '덜한': 15092, '블랙박스': 15093, '입증': 15094, '풀릴까': 15095, '마찬가진데': 15096, '어수룩': 15097, '미더웠': 15098, '들린다': 15099, '작자': 15100, '불안증': 15101, '감쪽같이': 15102, '이러나': 15103, '흉볼': 15104, '갈려': 15105, '거금': 15106, '떠버렸': 15107, '살균': 15108, '쥐여': 15109, '쉅네': 15110, '숨바꼭질': 15111, '페이스': 15112, '생긴다네': 15113, '사과드리': 15114, '걸어와': 15115, '깄더니': 15116, '배역': 15117, '내팽개치': 15118, '퇴': 15119, '기발': 15120, '지운': 15121, '수라': 15122, '초래': 15123, '지상주의': 15124, '고와': 15125, '유머': 15126, '으냐': 15127, '태몽': 15128, '체했': 15129, '해역': 15130, '방사능': 15131, '폐기물': 15132, '어나': 15133, '꽃단장': 15134, '범유행': 15135, '스포츠센터': 15136, '앙숙': 15137, '으이구': 15138, '영란': 15139, '서면': 15140, '망한다': 15141, '유별나': 15142, '골동품': 15143, '격정': 15144, '계신다고': 15145, '맞대': 15146, '다툰다고': 15147, '얌전': 15148, '실크': 15149, '테니': 15150, '터무니': 15151, '인신': 15152, '아녔': 15153, '악기': 15154, '든다며': 15155, '첼로': 15156, '계급': 15157, '라기': 15158, '근부': 15159, '구태여': 15160, '경시': 15161, '시민': 15162, '이목': 15163, '변고': 15164, '동순': 15165, '바꿔치기': 15166, '무서워할': 15167, '자길': 15168, '세세': 15169, '커다란': 15170, '가로막': 15171, '지침': 15172, '끼어드': 15173, '마져': 15174, '들어온대': 15175, '어항': 15176, '연구소': 15177, '이인삼각': 15178, '뿌리쳤': 15179, '한담': 15180, '돴': 15181, '소장': 15182, '정국': 15183, '실시간': 15184, '쌍방향': 15185, '역효과': 15186, '아둥바둥': 15187, '캥거루': 15188, '데릴러': 15189, '먹구름': 15190, '화창': 15191, '가져줄까': 15192, '진짜로': 15193, '뒤졌': 15194, '뛰어났': 15195, '막자': 15196, '약골': 15197, '상징': 15198, '대원': 15199, '월간지': 15200, '던지라': 15201, '부녀회': 15202, '뒤척': 15203, '불리우': 15204, '현저': 15205, '여권': 15206, '취해선': 15207, '푸석': 15208, '무기력증': 15209, '기자': 15210, '비비': 15211, '축낸다고': 15212, '스키장': 15213, '볼멘소리': 15214, '집중호우': 15215, '실린': 15216, '통나무': 15217, '눈덩이': 15218, '될라고': 15219, '곰보': 15220, '어려워요': 15221, '흐느껴': 15222, '복리': 15223, '후생': 15224, '먹지': 15225, '데이': 15226, '임신부': 15227, '해진다는': 15228, '새아버지': 15229, '댄서': 15230, '블랙': 15231, '슈': 15232, '갈비찜': 15233, '남김없이': 15234, '화끈거렸': 15235, '닙': 15236, '사오': 15237, '간식거리': 15238, '파트': 15239, '사칙': 15240, '복무규정': 15241, '장실': 15242, '무너뜨리': 15243, '프로젝터': 15244, '부러워하': 15245, '두드렸': 15246, '졸업앨범': 15247, '기니': 15248, '버린다면': 15249, '연습생': 15250, '절해고도': 15251, '실무': 15252, '두서없이': 15253, '졸려서': 15254, '독설': 15255, '아이구': 15256, '다님': 15257, '집행': 15258, '할려': 15259, '요일': 15260, '겨뤄도': 15261, '큰돈': 15262, '격한': 15263, '몰려와서': 15264, '만날지': 15265, '로워질': 15266, '준대서': 15267, '변치': 15268, '자그마치': 15269, '라이터': 15270, '킬': 15271, '김대': 15272, '울렁거리': 15273, '바른길': 15274, '공들이': 15275, '그르치': 15276, '실금': 15277, '친우': 15278, '사나워져서': 15279, '맞아떨어져': 15280, '학회': 15281, '모기업': 15282, '잉어': 15283, '건드린': 15284, '째째': 15285, '코고': 15286, '진동': 15287, '다른가': 15288, '참혹': 15289, '병진': 15290, '괴로웠으면': 15291, '허술': 15292, '받친': 15293, '거둬': 15294, '그럴듯해': 15295, '그럴만한': 15296, '일본인': 15297, '전전긍긍': 15298, '속하': 15299, '항렬': 15300, '휴식기': 15301, '살판': 15302, '공박': 15303, '군기': 15304, '시안': 15305, '는데요': 15306, '칠지': 15307, '채취': 15308, '한의사': 15309, '용하': 15310, '도와야': 15311, '사기업': 15312, '빠져버려': 15313, '영미': 15314, '지숙': 15315, '괜챦을것같다고': 15316, '스치': 15317, '순이익': 15318, '불미': 15319, '총파업': 15320, '관광지': 15321, '북적': 15322, '나나': 15323, '따갑': 15324, '능': 15325, '택했': 15326, '인긴': 15327, '식지': 15328, '수생': 15329, '과소비': 15330, '오티': 15331, '시시각각': 15332, '야위': 15333, '주렁': 15334, '몰아갔': 15335, '나뻐': 15336, '미적분': 15337, '기획사': 15338, '대단히': 15339, '쌔': 15340, '살아난': 15341, '네임': 15342, '갔으면': 15343, '화요일': 15344, '태클': 15345, '안구': 15346, '우회': 15347, '트리': 15348, '게으른': 15349, '기울일': 15350, '로스쿨': 15351, '참새': 15352, '추수': 15353, '나선다고': 15354, '줄어든다고': 15355, '믄': 15356, '말라서': 15357, '드라': 15358, '괄시': 15359, '섹시': 15360, '반도체': 15361, '처했었': 15362, '호과': 15363, '이튿날': 15364, '잡힐까': 15365, '궁해': 15366, '지자': 15367, '이어달리기': 15368, '영심이': 15369, '가물치': 15370, '상표': 15371, '튈까': 15372, '연출': 15373, '스텝': 15374, '실화': 15375, '소환': 15376, '넘어보': 15377, '신념': 15378, '배껴': 15379, '값지': 15380, '붉어지': 15381, '여장': 15382, '토해': 15383, '전염성': 15384, '늦췄': 15385, '사죄': 15386, '탁해졌': 15387, '울렸': 15388, '못했었': 15389, '그래선지': 15390, '전공과': 15391, '회차': 15392, '업신여겨': 15393, '가업': 15394, '띄엄띄엄': 15395, '성철': 15396, '으스대': 15397, '괴사': 15398, '염원': 15399, '오만원': 15400, '데릴사위': 15401, '뒤집어씌워서': 15402, '뻣': 15403, '연합': 15404, '철석': 15405, '윤정': 15406, '연대': 15407, '단돈': 15408, '유사': 15409, '로웠': 15410, '재래시장': 15411, '개업식': 15412, '쫓겨난': 15413, '무릇': 15414, '딸랑': 15415, '느냐면서': 15416, '집적거려': 15417, '꽃병': 15418, '환급금': 15419, '악영향': 15420, '번잡': 15421, '작당': 15422, '서포터': 15423, '신대요': 15424, '높여': 15425, '스케줄': 15426, '청탁': 15427, '고위': 15428, '바꿔치': 15429, '중간중간': 15430, '피운다고': 15431, '신생아': 15432, '작아진': 15433, '재고': 15434, '손들': 15435, '찔러보': 15436, '멍한': 15437, '가려운': 15438, '구석진': 15439, '대각선': 15440, '모자라서': 15441, '딸려고': 15442, '일평생': 15443, '야단쳤': 15444, '치러낼': 15445, '볕': 15446, '육상': 15447, '다달': 15448, '위절제술': 15449, '갑상선염': 15450, '회한': 15451, '먹여살렸': 15452, '날아와': 15453, '남겨뒀': 15454, '미끄러지': 15455, '다닌다며': 15456, '키로': 15457, '참기': 15458, '던진': 15459, '소아비': 15460, '뛰어갔': 15461, '헤드셋': 15462, '부른': 15463, '장려상': 15464, '잊혀진': 15465, '콜로': 15466, '달려': 15467, '들먹거리': 15468, '쫓': 15469, '일안': 15470, '판단력': 15471, '다닐수록': 15472, '무감각': 15473, '흠잡': 15474, '늘릴': 15475, '결단': 15476, '인과': 15477, '명복': 15478, '발상': 15479, '헤쳐나갈': 15480, '돼야': 15481, '인명': 15482, '재천': 15483, '순리': 15484, '아재': 15485, '개그': 15486, '박장대소': 15487, '승락': 15488, '꾀부리': 15489, '입가': 15490, '거품': 15491, '골려': 15492, '누릴': 15493, '지킨단': 15494, '드림': 15495, '카': 15496, '열풍': 15497, 'ㅇ니': 15498, '영업장': 15499, '한턱': 15500, '뒤따라갔': 15501, '적격': 15502, '몸담': 15503, '참고인': 15504, '영역': 15505, '신장병': 15506, '채영': 15507, '독려': 15508, '줬단': 15509, '경쟁력': 15510, '꿇리': 15511, '암호': 15512, '장단': 15513, '동양인': 15514, '모른다니까': 15515, '닺혀': 15516, '불안해할': 15517, '과부': 15518, '저렸': 15519, '뻐도': 15520, '영혼': 15521, '확보': 15522, '이생': 15523, '가린다': 15524, '부릅뜨': 15525, '하프': 15526, '공구': 15527, '주찬': 15528, '씁슬': 15529, '마카롱': 15530, '잡생각': 15531, '버릴래': 15532, '꾸물거렸': 15533, '우니': 15534, '해대': 15535, '웅얼거리': 15536, '깨달으니': 15537, '제값': 15538, '부머': 15539, '낮춰야': 15540, '소고기': 15541, '핏줄': 15542, '압': 15543, '어설프': 15544, '나무래': 15545, '다녔었': 15546, '종훈': 15547, '기뻐해': 15548, '딸린': 15549, '체증': 15550, '환승역': 15551, '낙천': 15552, '대노': 15553, '으리라고': 15554, '의절': 15555, '싑네': 15556, '지희': 15557, '농약': 15558, '다룰': 15559, '바꼈': 15560, '갈려다가': 15561, '긁힌': 15562, '부재중': 15563, '달릴': 15564, '다닌다면서': 15565, '직분': 15566, '어두워져서': 15567, '아하': 15568, '법안': 15569, '야야': 15570, '서무': 15571, '냐면': 15572, '자책': 15573, '미성년자': 15574, '여름옷': 15575, '곤두박질친': 15576, '담궈서': 15577, '이수': 15578, '족족': 15579, '바퀴벌레': 15580, '엥': 15581, '또박또박': 15582, '굴레': 15583, '루테인': 15584, '데려온다고': 15585, '조사지': 15586, '응답': 15587, '다져진': 15588, '단추': 15589, '여미': 15590, '질텐데': 15591, '못지': 15592, '종류별': 15593, '대관절': 15594, '따논': 15595, '전략': 15596, '숨쉬': 15597, '저걸': 15598, '화딱지': 15599, '쩨쩨': 15600, '패배자': 15601, '얼얼': 15602, '싸돌아다니': 15603, '흉하': 15604, '웅덩이': 15605, '승부': 15606, '쑥덕거리': 15607, '무서워해야': 15608, '소변보': 15609, '내세우': 15610, '확확': 15611, '달아오르': 15612, '우먼': 15613, '시범': 15614, '현우': 15615, '두근': 15616, '벌인': 15617, '바나나': 15618, '막아선': 15619, '회중': 15620, '주어졌': 15621, '값진': 15622, '부들부들': 15623, '알아본다': 15624, '지새': 15625, '동연': 15626, '봉급': 15627, '속임': 15628, '하가': 15629, '쑤신': 15630, '네일': 15631, '역겨울': 15632, '졔가': 15633, '향회': 15634, '드러날까': 15635, '쟁': 15636, '꾸려왔': 15637, '지질혈증': 15638, '대다수': 15639, '동승': 15640, '불경': 15641, '칭': 15642, '미워진다': 15643, '불러일으킨': 15644, '의부증': 15645, '스러워진다': 15646, '뒤돌아봤': 15647, '추파': 15648, '난무': 15649, '쫒겨': 15650, '오프': 15651, '쳐다본다고': 15652, '섭시다': 15653, '어겨': 15654, '아무데나': 15655, '휴관': 15656, '소명': 15657, '은데요': 15658, '복약': 15659, '외주': 15660, '판다고': 15661, '깎아내리': 15662, '틀릴': 15663, '톡톡히': 15664, '미덥': 15665, '브로마이드': 15666, '고름': 15667, '에둘러': 15668, '딴죽': 15669, '시큰거리': 15670, '개강': 15671, '풀린다': 15672, '희진': 15673, '찐하': 15674, '실의': 15675, '나빠지': 15676, '일러스트': 15677, '노점상': 15678, '피한다': 15679, '저당': 15680, '잡힌': 15681, '살펴봐도': 15682, '가까와': 15683, '우라': 15684, '한단다': 15685, '점퍼': 15686, '기부금': 15687, '여차저차': 15688, '동락': 15689, '여행사': 15690, '혁신안': 15691, '전격': 15692, '꽃가루': 15693, '기업인': 15694, '주려': 15695, '면상': 15696, '돌린다니까': 15697, '다재다능': 15698, '더웠': 15699, '지났으면': 15700, '어울려야': 15701, '빨개진': 15702, '끼니때': 15703, '그깟': 15704, '컨텐츠': 15705, '가산점': 15706, '라떼': 15707, '산악인': 15708, '계산서': 15709, '발행': 15710, '무렵': 15711, '이념': 15712, '더러웠': 15713, '호명': 15714, '인삼': 15715, '가져온다고': 15716, '헛돈': 15717, '걸렸을까': 15718, '만드셔': 15719, '다발': 15720, '누적': 15721, '쥔': 15722, '오금': 15723, '수미': 15724, '테레스': 15725, '쿠': 15726, '쿵': 15727, '놀러와': 15728, '활': 15729, '런닝': 15730, '과수원': 15731, '상승세': 15732, '바람난': 15733, '않되': 15734, '쓴지': 15735, '갈비': 15736, '찜': 15737, '남김': 15738, '부른다고': 15739, '뎌': 15740, '일수': 15741, '룰루랄라': 15742, '기해': 15743, '기우': 15744, '가계약': 15745, '끼친다는': 15746, '두골': 15747, '종료': 15748, '백지': 15749, '테슬라': 15750, '투어': 15751, '황반': 15752, '변성': 15753, '당해온': 15754, '법인': 15755, '응어리': 15756, '삿대': 15757, '접한': 15758, '시킬까봐': 15759, '여고생': 15760, '숱하': 15761, '헌금': 15762, '추방': 15763, '면은': 15764, '살펴': 15765, '살폈': 15766, '흔들려서': 15767, '우상': 15768, '뻑뻑': 15769, '조연': 15770, '앞마당': 15771, '사골': 15772, '끓여놨': 15773, '떄마다': 15774, '방석집': 15775, '뜯길': 15776, '온다니': 15777, '튀길': 15778, '기획부': 15779, '닭다리': 15780, '방탕': 15781, '험준': 15782, '느껴져요': 15783, '다그쳐': 15784, '장보': 15785, '들으라는': 15786, '엉터리': 15787, '생체': 15788, '절주': 15789, '채권자': 15790, '덤비': 15791, '건들': 15792, '인도': 15793, '놀걸': 15794, '어영부영': 15795, '으나마나': 15796, '끝날지': 15797, '단명': 15798, '기혼자': 15799, '건수': 15800, '극악': 15801, '분반': 15802, '강한가': 15803, '진담': 15804, '수렁': 15805, '팬티': 15806, '영준': 15807, '복원': 15808, '극비': 15809, '어이없이': 15810, '숙달': 15811, '공세': 15812, '통로': 15813, '투신': 15814, '줗아지는걸': 15815, '포인트': 15816, '엎드린': 15817, '흔하': 15818, '튀어나올': 15819, '나니': 15820, '된다지': 15821, '유산균': 15822, '터질까': 15823, '갈아주': 15824, '선원': 15825, '나다닐': 15826, '처박혀': 15827, '뜯어낼': 15828, '휘감': 15829, '일방통행': 15830, '가까워진다는': 15831, '혜민': 15832, '달치': 15833, '부양가족': 15834, '비워야': 15835, '이봐': 15836, '금만': 15837, '라이프': 15838, '콩가루': 15839, '돠': 15840, '참하': 15841, '얽히': 15842, '못정': 15843, '방문턱': 15844, '부딪쳤': 15845, '떼굴떼굴': 15846, '무한': 15847, '드러냈': 15848, '허름': 15849, '엎어질': 15850, '허해서': 15851, '강연': 15852, '무래': 15853, '쓱': 15854, '설렜': 15855, '더라구요': 15856, '릿': 15857, '멍해서': 15858, '더군요': 15859, '돌부리': 15860, '가져온다는': 15861, '건너가': 15862, '현정': 15863, '유모차': 15864, '따귀': 15865, '찬구': 15866, '걱정하지마': 15867, '긴커녕': 15868, '허사': 15869, '이뤄낸': 15870, '저녁상': 15871, '올린다': 15872, '급해졌': 15873, '드릴게요': 15874, '불러들이': 15875, '남녀공학': 15876, '새로웠': 15877, '어리바리': 15878, '할당량': 15879, '생각없이': 15880, '앞일': 15881, '된다던데': 15882, '결실': 15883, '돌파구': 15884, '난치병': 15885, '어려웠을': 15886, '도망쳐서': 15887, '딴짓': 15888, '기다린': 15889, '회복력': 15890, '무죄': 15891, '무전': 15892, '유죄': 15893, '되풀이': 15894, '인증': 15895, '습하': 15896, '이동기': 15897, '여쭤봐도': 15898, '달아난': 15899, '기다릴지': 15900, '시상식': 15901, '으라는데': 15902, '어쨌': 15903, '아인': 15904, '응모': 15905, '상품권': 15906, '말걸': 15907, '군무원': 15908, '빼앗긴': 15909, '붙들려': 15910, '물먹': 15911, '배지': 15912, '어려운가': 15913, '생로병사': 15914, '인간사': 15915, '매양': 15916, '옛글': 15917, '콧줄로': 15918, '둘러대': 15919, '그만둬도': 15920, '긴팔': 15921, '예뻐질': 15922, '줘야해': 15923, '속상할': 15924, '안지': 15925, '흩어져서': 15926, '인관': 15927, '귓병': 15928, '부렸었': 15929, '나선': 15930, '아랫배': 15931, '둘레': 15932, '즉시': 15933, '통한다는': 15934, '모교': 15935, '세난': 15936, '쑥대': 15937, '뿌리치': 15938, '퍼마셔': 15939, '비만도': 15940, '순응': 15941, '레인': 15942, '코너': 15943, '싱에': 15944, '드라이버': 15945, '호주머니': 15946, '전도': 15947, '성어': 15948, '쩨': 15949, '후두': 15950, '설경': 15951, '빼곡히': 15952, '시름': 15953, '종말': 15954, '쫄바지': 15955, '눈살': 15956, '해져야': 15957, '에이에스': 15958, '사막': 15959, '새하얘지': 15960, '신용카드': 15961, '체크카드': 15962, '깡통': 15963, '연애결혼': 15964, '피워야': 15965, '써볼': 15966, '그럴만도': 15967, '병비': 15968, '신신당부': 15969, '홀로코스트': 15970, '학살': 15971, '넘겨진': 15972, '참회': 15973, '항변': 15974, '바뀐다는데': 15975, '성악가': 15976, '성악': 15977, '드이': 15978, '부여받': 15979, '지그': 15980, '단칼': 15981, '바위': 15982, '부려졌': 15983, '쌌': 15984, '쾌유': 15985, '지퍼': 15986, '주상': 15987, '지도력': 15988, '윤서': 15989, '까졌': 15990, '튀어나와서': 15991, '기쁩니다': 15992, '득남': 15993, '곤히': 15994, '꺼지': 15995, '달라진다는': 15996, '역해서': 15997, '요강': 15998, '워낙에': 15999, '통닭집': 16000, '구시렁거리': 16001, '자구': 16002, '밟혀': 16003, '냈었': 16004, '섬유증': 16005, '굳건': 16006, '가족회': 16007, '이랬다저랬다': 16008, '썩였': 16009, '말끔히': 16010, '나아졌으면': 16011, '할가': 16012, '보래': 16013, '내려온': 16014, '주민회': 16015, '낸다니': 16016, '치근덕대': 16017, '화이팅': 16018, '병구완': 16019, '벌점': 16020, '빠져나갔': 16021, '허무맹랑': 16022, '시귀': 16023, '블루': 16024, '숨길': 16025, '상할까': 16026, '월경': 16027, '산삼': 16028, '등등': 16029, '샴푸': 16030, '려고요': 16031, '폄하': 16032, '띄우': 16033, '괴롭혀온': 16034, '벌어질지': 16035, '새로이': 16036, '꼐서': 16037, '살가운': 16038, '와요': 16039, '옮아왔': 16040, '적집': 16041, '국밥': 16042, '요행': 16043, '미천': 16044, '열린다고': 16045, '가벼웠': 16046, '성심껏': 16047, '야단친': 16048, '쉬운데': 16049, '태생': 16050, '떠받들': 16051, '멀리뛰기': 16052, '수동': 16053, '탈없이': 16054, '치맥': 16055, '꾸며': 16056, '얘긴': 16057, '입체': 16058, '컨트롤': 16059, '잠투정': 16060, '패싸움': 16061, '밟혀서': 16062, '오래된': 16063, '팩스': 16064, '거야': 16065, '힘써왔': 16066, '기름': 16067, '얽매여': 16068, '룐데': 16069, '자비': 16070, '웋': 16071, '비굴': 16072, '투신자살': 16073, '가질지': 16074, '듥과': 16075, '별게': 16076, '원감': 16077, '안장': 16078, '맘놓': 16079, '자산운용': 16080, '위험부담': 16081, '기껏해야': 16082, '꼽': 16083, '구차': 16084, '자잘': 16085, '째려봤': 16086, '풍년': 16087, '팩': 16088, '미룬': 16089, '쐐기': 16090, '서글퍼진다': 16091, '시켰었': 16092, '온돌': 16093, '열린다는': 16094, '혼외자': 16095, '낭패': 16096, '권토중래': 16097, '결원': 16098, '물어뜯': 16099, '그리워해': 16100, '직감': 16101, '학가': 16102, '망가져': 16103, '열쇠고리': 16104, '무색': 16105, '모난': 16106, '커밍아웃': 16107, '부디': 16108, '갓난아이': 16109, '연고자': 16110, '어련히': 16111, '손수건': 16112, '주어질': 16113, '무거워서': 16114, '부끄': 16115, '넙고': 16116, '향하': 16117, '모른다는데': 16118, '기뻐할': 16119, '천문학': 16120, '픽업': 16121, '수시중': 16122}\n"
          ]
        }
      ]
    },
    {
      "cell_type": "markdown",
      "metadata": {
        "id": "cRMpp14bqvqf"
      },
      "source": [
        "# 빈도 수가 낮은 단어 제거\n",
        "빈도 수가 낮은 단어는 학습에 별로 영향을 주지 않음\n",
        "\n",
        "처리를 통해 빈도 수가 낮은 단어들은 제거"
      ]
    },
    {
      "cell_type": "code",
      "metadata": {
        "colab": {
          "base_uri": "https://localhost:8080/"
        },
        "id": "eXP3csmGqxbo",
        "outputId": "2d17d4ac-486d-4d01-c3d7-8688a17a4e2d"
      },
      "source": [
        "threshoid = 3\n",
        "words_cnt = len(torkenizer.word_index)\n",
        "rare_cnt = 0\n",
        "words_freq = 0\n",
        "rare_freq = 0\n",
        "\n",
        "for key, value in torkenizer.word_counts.items():\n",
        "  words_freq = words_freq + value\n",
        "\n",
        "  if value < threshoid :\n",
        "    rare_cnt += 1 \n",
        "    rare_freq = rare_freq + value\n",
        "\n",
        "print(words_cnt)\n",
        "print(\"빈도가 {} 이하인 희귀단어 수 : {}\".format(threshoid-1, rare_cnt))\n",
        "print(\"희귀단어비율 : {}\".format((rare_cnt / words_cnt) * 100))\n",
        "print(\"희귀단어 등장빈도 비율 : {}\".format((rare_freq / words_freq) * 100))"
      ],
      "execution_count": 19,
      "outputs": [
        {
          "output_type": "stream",
          "name": "stdout",
          "text": [
            "16122\n",
            "빈도가 2 이하인 희귀단어 수 : 6499\n",
            "희귀단어비율 : 40.311375759831286\n",
            "희귀단어 등장빈도 비율 : 0.6962153935950934\n"
          ]
        }
      ]
    },
    {
      "cell_type": "code",
      "metadata": {
        "colab": {
          "base_uri": "https://localhost:8080/"
        },
        "id": "iMWT9SfVqy3Q",
        "outputId": "3ea8a491-4fd9-498c-ad74-680a71c89778"
      },
      "source": [
        "vocab_size = words_cnt - rare_cnt + 2\n",
        "print(vocab_size)"
      ],
      "execution_count": 20,
      "outputs": [
        {
          "output_type": "stream",
          "name": "stdout",
          "text": [
            "9625\n"
          ]
        }
      ]
    },
    {
      "cell_type": "code",
      "metadata": {
        "id": "_wWr9sGIqyr0"
      },
      "source": [
        "tokenizer = Tokenizer(vocab_size, oov_token = 'OOV')\n",
        "tokenizer.fit_on_texts(X_train)\n",
        "X_train = tokenizer.texts_to_sequences(X_train)\n",
        "X_test = tokenizer.texts_to_sequences(X_test)"
      ],
      "execution_count": 21,
      "outputs": []
    },
    {
      "cell_type": "code",
      "metadata": {
        "id": "KMMBUGw4qyly"
      },
      "source": [
        "y_train = np.array(train['label'])\n",
        "y_test = np.array(test['label'])"
      ],
      "execution_count": 22,
      "outputs": []
    },
    {
      "cell_type": "code",
      "metadata": {
        "colab": {
          "base_uri": "https://localhost:8080/"
        },
        "id": "p8GhgoiCqyhS",
        "outputId": "89ecec6d-56aa-41b9-8e59-bcf07d8ef0a3"
      },
      "source": [
        "drop_train = [index for index, sentence in enumerate(X_train) if len(sentence) < 1]\n",
        "\n",
        "X_train = np.delete(X_train, drop_train, axis = 0)\n",
        "y_train = np.delete(y_train, drop_train, axis = 0)\n",
        "\n",
        "print(len(X_train))\n",
        "print(len(y_train))"
      ],
      "execution_count": 23,
      "outputs": [
        {
          "output_type": "stream",
          "name": "stdout",
          "text": [
            "104176\n",
            "104176\n"
          ]
        },
        {
          "output_type": "stream",
          "name": "stderr",
          "text": [
            "/usr/local/lib/python3.7/dist-packages/numpy/core/_asarray.py:83: VisibleDeprecationWarning: Creating an ndarray from ragged nested sequences (which is a list-or-tuple of lists-or-tuples-or ndarrays with different lengths or shapes) is deprecated. If you meant to do this, you must specify 'dtype=object' when creating the ndarray\n",
            "  return array(a, dtype, copy=False, order=order)\n"
          ]
        }
      ]
    },
    {
      "cell_type": "markdown",
      "metadata": {
        "id": "s0xon18wq3-B"
      },
      "source": [
        "# 패딩\n",
        "전반적인 길이를 확인 모델의 입력을 위해 동일한 길이로 맞춰줌"
      ]
    },
    {
      "cell_type": "code",
      "metadata": {
        "colab": {
          "base_uri": "https://localhost:8080/"
        },
        "id": "OGdOkUleq88h",
        "outputId": "5a8c032f-5924-404f-8298-248ec75751a6"
      },
      "source": [
        "print('최대 길이 : ', max(len(l) for l in X_train))\n",
        "print('평균 길이 : ', sum(map(len, X_train)) / len(X_train))"
      ],
      "execution_count": 24,
      "outputs": [
        {
          "output_type": "stream",
          "name": "stdout",
          "text": [
            "최대 길이 :  63\n",
            "평균 길이 :  12.564640608201506\n"
          ]
        }
      ]
    },
    {
      "cell_type": "code",
      "metadata": {
        "colab": {
          "base_uri": "https://localhost:8080/",
          "height": 0
        },
        "id": "dXQeDwn2q-Ct",
        "outputId": "7cf5ff09-bb3f-44ba-b4e4-fdab19459b0b"
      },
      "source": [
        "plt.hist([len(s) for s in X_train], bins = 50)\n",
        "plt.xlabel('Length of Samples')\n",
        "plt.ylabel('Number of Samples')\n",
        "plt.show()"
      ],
      "execution_count": 25,
      "outputs": [
        {
          "output_type": "display_data",
          "data": {
            "image/png": "[encoded data removed]",
            "text/plain": [
              "<Figure size 432x288 with 1 Axes>"
            ]
          },
          "metadata": {}
        }
      ]
    },
    {
      "cell_type": "code",
      "metadata": {
        "id": "kyBSGg6yrAFB"
      },
      "source": [
        "max_len = 60"
      ],
      "execution_count": 26,
      "outputs": []
    },
    {
      "cell_type": "code",
      "metadata": {
        "id": "a-gqb8surA2B"
      },
      "source": [
        "X_train = pad_sequences(X_train, maxlen = max_len)\n",
        "X_test = pad_sequences(X_test, maxlen = max_len)"
      ],
      "execution_count": 27,
      "outputs": []
    },
    {
      "cell_type": "markdown",
      "metadata": {
        "id": "uIBqCWXZsUbT"
      },
      "source": [
        "# 모델 구축 및 학습\n",
        "감정 상태 분류 모델을 선언하고 학습 모델은 일반적인 LSTM 모델을 사용"
      ]
    },
    {
      "cell_type": "code",
      "metadata": {
        "id": "Std7KLSXsWKu"
      },
      "source": [
        "from tensorflow.keras.layers import BatchNormalization, Embedding, Dense, LSTM, GlobalAveragePooling1D, Dropout\n",
        "from tensorflow.keras.models import Sequential"
      ],
      "execution_count": 28,
      "outputs": []
    },
    {
      "cell_type": "code",
      "metadata": {
        "colab": {
          "base_uri": "https://localhost:8080/"
        },
        "id": "2IosA7TO0-Am",
        "outputId": "e5fbab58-c3ae-46b8-fbff-5e80e41babf7"
      },
      "source": [
        "model3 = Sequential()\n",
        "model3.add(Embedding(vocab_size, 128))\n",
        "model3.add(LSTM(128))\n",
        "model3.add(Dense(128, activation='relu'))\n",
        "model3.add(Dropout(0.25))\n",
        "model3.add(Dense(64, activation='relu'))\n",
        "model3.add(Dropout(0.25))\n",
        "model3.add(Dense(58, activation='softmax'))\n",
        "\n",
        "model3.compile(loss='sparse_categorical_crossentropy', \n",
        "              optimizer='adam', metrics=['accuracy'])\n",
        "\n",
        "\n",
        "model3.summary()"
      ],
      "execution_count": 35,
      "outputs": [
        {
          "output_type": "stream",
          "name": "stdout",
          "text": [
            "Model: \"sequential_1\"\n",
            "_________________________________________________________________\n",
            " Layer (type)                Output Shape              Param #   \n",
            "=================================================================\n",
            " embedding_1 (Embedding)     (None, None, 128)         1232000   \n",
            "                                                                 \n",
            " lstm (LSTM)                 (None, 128)               131584    \n",
            "                                                                 \n",
            " dense_3 (Dense)             (None, 128)               16512     \n",
            "                                                                 \n",
            " dropout_2 (Dropout)         (None, 128)               0         \n",
            "                                                                 \n",
            " dense_4 (Dense)             (None, 64)                8256      \n",
            "                                                                 \n",
            " dropout_3 (Dropout)         (None, 64)                0         \n",
            "                                                                 \n",
            " dense_5 (Dense)             (None, 58)                3770      \n",
            "                                                                 \n",
            "=================================================================\n",
            "Total params: 1,392,122\n",
            "Trainable params: 1,392,122\n",
            "Non-trainable params: 0\n",
            "_________________________________________________________________\n"
          ]
        }
      ]
    },
    {
      "cell_type": "code",
      "metadata": {
        "colab": {
          "base_uri": "https://localhost:8080/"
        },
        "id": "OmFPN3mr1DD2",
        "outputId": "36290b5b-94dc-4055-d1bb-b06290065def"
      },
      "source": [
        "history3 = model3.fit(X_train, y_train, epochs=10, batch_size = 50, validation_split = 0.2)"
      ],
      "execution_count": 36,
      "outputs": [
        {
          "output_type": "stream",
          "name": "stdout",
          "text": [
            "Epoch 1/10\n",
            "1667/1667 [==============================] - 252s 150ms/step - loss: 3.2492 - accuracy: 0.2102 - val_loss: 2.7867 - val_accuracy: 0.3219\n",
            "Epoch 2/10\n",
            "1667/1667 [==============================] - 250s 150ms/step - loss: 2.7082 - accuracy: 0.3398 - val_loss: 2.6393 - val_accuracy: 0.3562\n",
            "Epoch 3/10\n",
            "1667/1667 [==============================] - 249s 149ms/step - loss: 2.4890 - accuracy: 0.3874 - val_loss: 2.5846 - val_accuracy: 0.3682\n",
            "Epoch 4/10\n",
            "1667/1667 [==============================] - 250s 150ms/step - loss: 2.3208 - accuracy: 0.4255 - val_loss: 2.5587 - val_accuracy: 0.3848\n",
            "Epoch 5/10\n",
            "1667/1667 [==============================] - 249s 149ms/step - loss: 2.1791 - accuracy: 0.4581 - val_loss: 2.5800 - val_accuracy: 0.3952\n",
            "Epoch 6/10\n",
            "1667/1667 [==============================] - 248s 149ms/step - loss: 2.0599 - accuracy: 0.4848 - val_loss: 2.6137 - val_accuracy: 0.4024\n",
            "Epoch 7/10\n",
            "1667/1667 [==============================] - 249s 149ms/step - loss: 1.9524 - accuracy: 0.5085 - val_loss: 2.6394 - val_accuracy: 0.4100\n",
            "Epoch 8/10\n",
            "1667/1667 [==============================] - 248s 149ms/step - loss: 1.8541 - accuracy: 0.5306 - val_loss: 2.6816 - val_accuracy: 0.4215\n",
            "Epoch 9/10\n",
            "1667/1667 [==============================] - 250s 150ms/step - loss: 1.7630 - accuracy: 0.5512 - val_loss: 2.7792 - val_accuracy: 0.4232\n",
            "Epoch 10/10\n",
            "1667/1667 [==============================] - 249s 149ms/step - loss: 1.6791 - accuracy: 0.5729 - val_loss: 2.8478 - val_accuracy: 0.4294\n"
          ]
        }
      ]
    },
    {
      "cell_type": "code",
      "metadata": {
        "colab": {
          "base_uri": "https://localhost:8080/"
        },
        "id": "4lHjDtRC1GId",
        "outputId": "b22213e7-0197-4d6c-999a-eb415185e349"
      },
      "source": [
        "model3.evaluate(X_test, y_test)"
      ],
      "execution_count": 37,
      "outputs": [
        {
          "output_type": "stream",
          "name": "stdout",
          "text": [
            "3256/3256 [==============================] - 75s 23ms/step - loss: 1.6955 - accuracy: 0.5916\n"
          ]
        },
        {
          "output_type": "execute_result",
          "data": {
            "text/plain": [
              "[1.6954928636550903, 0.5915797352790833]"
            ]
          },
          "metadata": {},
          "execution_count": 37
        }
      ]
    },
    {
      "cell_type": "code",
      "metadata": {
        "colab": {
          "base_uri": "https://localhost:8080/",
          "height": 507
        },
        "id": "UjsIwHUA1IAv",
        "outputId": "889aa6a7-c25e-4680-af2b-95434bf6487e"
      },
      "source": [
        "hist_dict = history3.history\n",
        "loss = hist_dict['loss']\n",
        "val_loss = hist_dict['val_loss']\n",
        "acc = hist_dict['accuracy']\n",
        "val_acc = hist_dict['val_accuracy']\n",
        "\n",
        "plt.plot(loss, 'b--', label = 'training loss')\n",
        "plt.plot(val_loss, 'r:', label = 'validation loss')\n",
        "plt.legend()\n",
        "plt.grid()\n",
        "\n",
        "plt.figure()\n",
        "plt.plot(acc, 'b--', label = 'training accuracy')\n",
        "plt.plot(val_acc, 'r:', label = 'validation accuracy')\n",
        "plt.legend()\n",
        "plt.grid()\n",
        "\n",
        "plt.show()"
      ],
      "execution_count": 38,
      "outputs": [
        {
          "output_type": "display_data",
          "data": {
            "image/png": "[encoded data removed]",
            "text/plain": [
              "<Figure size 432x288 with 1 Axes>"
            ]
          },
          "metadata": {}
        },
        {
          "output_type": "display_data",
          "data": {
            "image/png": "[encoded data removed]",
            "text/plain": [
              "<Figure size 432x288 with 1 Axes>"
            ]
          },
          "metadata": {}
        }
      ]
    },
    {
      "cell_type": "code",
      "metadata": {
        "id": "YZFGNaIM1IoS"
      },
      "source": [
        "def sentiment_predict(new_sentence) :\n",
        "  new_token =[word for word in mecab.morphs(new_sentence) if not word in stopwords]\n",
        "  new_sequences = tokenizer.texts_to_sequences([new_token])\n",
        "  new_pad = pad_sequences(new_sequences, maxlen = max_len)\n",
        "  score = model3.predict(new_pad)\n",
        "\n",
        "  result1 = pd.DataFrame(score).T\n",
        "\n",
        "  df2['result'] = result1\n",
        "  df3 = df2.sort_values(by=\"result\", ascending=False)\n",
        "  df3 = df3.reset_index()\n",
        "  print(\"{} : {} - [{:.2f}%]\".format(new_sentence, df3['감정'][0], (df3['result'][0]) * 100))"
      ],
      "execution_count": 50,
      "outputs": []
    },
    {
      "cell_type": "code",
      "metadata": {
        "colab": {
          "base_uri": "https://localhost:8080/"
        },
        "id": "cB97f7gk1LfX",
        "outputId": "b89d57ef-22f6-45c6-bdec-17a630818f57"
      },
      "source": [
        "sentiment_predict('요즘 너무 외로워 연애하고 싶어')\n",
        "sentiment_predict('배가 너무 아파')\n",
        "sentiment_predict('너무 힘들어')\n",
        "sentiment_predict('재미있어요')"
      ],
      "execution_count": 58,
      "outputs": [
        {
          "output_type": "stream",
          "name": "stdout",
          "text": [
            "요즘 너무 외로워 연애하고 싶어 : 외로운 - [41.94%]\n",
            "배가 너무 아파 : 괴로워하는 - [7.15%]\n",
            "너무 힘들어 : 괴로워하는 - [9.74%]\n",
            "재미있어요 : 신이 난 - [31.09%]\n"
          ]
        }
      ]
    },
    {
      "cell_type": "code",
      "metadata": {
        "colab": {
          "base_uri": "https://localhost:8080/"
        },
        "id": "UQtVGe0Luxzt",
        "outputId": "b16bfa3b-826f-4771-d0f0-b553b9859151"
      },
      "source": [
        "sentiment_predict('게임에서 이겼어')\n",
        "sentiment_predict('과제가 내일까지야')\n",
        "sentiment_predict('내일 면접이야')\n",
        "sentiment_predict('뭐 하나 사고 싶은데 돈이 부족해')\n",
        "sentiment_predict('컴퓨터가 고장났어')"
      ],
      "execution_count": 55,
      "outputs": [
        {
          "output_type": "stream",
          "name": "stdout",
          "text": [
            "게임에서 이겼어 : 신이 난 - [60.52%]\n",
            "과제가 내일까지야 : 초조한 - [12.20%]\n",
            "내일 면접이야 : 걱정스러운 - [20.15%]\n",
            "뭐 하나 사고 싶은데 돈이 부족해 : 가난한, 불우한 - [34.91%]\n",
            "컴퓨터가 고장났어 : 혼란스러운 - [6.55%]\n"
          ]
        }
      ]
    },
    {
      "cell_type": "code",
      "metadata": {
        "colab": {
          "base_uri": "https://localhost:8080/"
        },
        "id": "lFfNnY-HsHOh",
        "outputId": "4605fc3e-e05d-421a-b3a5-8f0a266ce0d9"
      },
      "source": [
        "sentiment_predict('오늘 6시까지 프로젝트 제출인데 망한거 같아')\n",
        "sentiment_predict('중요한건 끝난다고 바로 취업도 안될꺼 같은데')\n",
        "sentiment_predict('뭐라는거야')\n",
        "sentiment_predict('뭔 소리인지 모름')\n",
        "sentiment_predict('안 들을래')\n",
        "sentiment_predict('출근하기 싫다')\n",
        "sentiment_predict('출근하고 싶다')\n",
        "sentiment_predict('눈감고 돈벌고 싶다')"
      ],
      "execution_count": 60,
      "outputs": [
        {
          "output_type": "stream",
          "name": "stdout",
          "text": [
            "오늘 6시까지 프로젝트 제출인데 망한거 같아 : 좌절한 - [18.39%]\n",
            "중요한건 끝난다고 바로 취업도 안될꺼 같은데 : 후회되는 - [7.48%]\n",
            "뭐라는거야 : 혼란스러운 - [3.88%]\n",
            "뭔 소리인지 모름 : 혼란스러운 - [4.14%]\n",
            "안 들을래 : 염세적인 - [66.64%]\n",
            "출근하기 싫다 : 염세적인 - [10.16%]\n",
            "출근하고 싶다 : 회의적인 - [6.76%]\n",
            "눈감고 돈벌고 싶다 : 우울한 - [20.65%]\n"
          ]
        }
      ]
    }
  ]
}