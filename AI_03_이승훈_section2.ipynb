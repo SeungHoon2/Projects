{
  "nbformat": 4,
  "nbformat_minor": 0,
  "metadata": {
    "colab": {
      "name": "AI_03_이승훈_section2.ipynb",
      "provenance": [],
      "include_colab_link": true
    },
    "kernelspec": {
      "name": "python3",
      "display_name": "Python 3"
    },
    "language_info": {
      "name": "python"
    }
  },
  "cells": [
    {
      "cell_type": "markdown",
      "metadata": {
        "id": "view-in-github",
        "colab_type": "text"
      },
      "source": [
        "<a href=\"https://colab.research.google.com/github/SeungHoon2/Projects/blob/main/AI_03_%EC%9D%B4%EC%8A%B9%ED%9B%88_section2.ipynb\" target=\"_parent\"><img src=\"https://colab.research.google.com/assets/colab-badge.svg\" alt=\"Open In Colab\"/></a>"
      ]
    },
    {
      "cell_type": "markdown",
      "metadata": {
        "id": "k6dbn5LIGWit"
      },
      "source": [
        "# 전처리\n"
      ]
    },
    {
      "cell_type": "code",
      "metadata": {
        "id": "9nNwYyTussr1"
      },
      "source": [
        "# Google Colab을 사용하는 경우 해당 셀을 실행하세요\n",
        "%%capture\n",
        "import sys\n",
        "\n",
        "if 'google.colab' in sys.modules:\n",
        "    # Install packages in Colab\n",
        "    !pip install category_encoders==2.*\n",
        "    !pip install eli5\n",
        "    !pip install pandas-profiling==2.*\n",
        "    !pip install pdpbox\n",
        "    !pip install shap"
      ],
      "execution_count": null,
      "outputs": []
    },
    {
      "cell_type": "code",
      "metadata": {
        "colab": {
          "base_uri": "https://localhost:8080/"
        },
        "id": "ERNSuEyAtnig",
        "outputId": "742f99a0-80b8-4e34-ffdd-f4710513b473"
      },
      "source": [
        "import pandas as pd\n",
        "import numpy as np\n",
        "\n",
        "# 구글드라이브로 불러오기\n",
        "from google.colab import drive\n",
        "drive.mount('/content/drive')"
      ],
      "execution_count": null,
      "outputs": [
        {
          "output_type": "stream",
          "text": [
            "Drive already mounted at /content/drive; to attempt to forcibly remount, call drive.mount(\"/content/drive\", force_remount=True).\n"
          ],
          "name": "stdout"
        }
      ]
    },
    {
      "cell_type": "code",
      "metadata": {
        "id": "ldTQZYGvuOQc"
      },
      "source": [
        "# encoding='cp949' = 한글변환오류 / index_col=n = n번째 columne을 인덱스로 설정\n",
        "\n",
        "url1 = '/content/서울특별시_부동산_실거래가_정보_2016년.csv'\n",
        "df2016 = pd.read_csv(url1, encoding='cp949')\n",
        "\n",
        "url2 = '/content/서울특별시_부동산_실거래가_정보_2017년.csv'\n",
        "df2017 = pd.read_csv(url2, encoding='cp949')\n",
        "\n",
        "url3 = '/content/서울특별시_부동산_실거래가_정보_2018년.csv'\n",
        "df2018 = pd.read_csv(url3, encoding='cp949')\n",
        "\n",
        "url4 = '/content/서울특별시_부동산_실거래가_정보_2019년.csv'\n",
        "df2019 = pd.read_csv(url4, encoding='cp949')\n",
        "\n",
        "url5 = '/content/서울특별시_부동산_실거래가_정보_2020년.csv'\n",
        "df2020 = pd.read_csv(url5, encoding='cp949')\n",
        "\n"
      ],
      "execution_count": null,
      "outputs": []
    },
    {
      "cell_type": "code",
      "metadata": {
        "colab": {
          "base_uri": "https://localhost:8080/",
          "height": 578
        },
        "id": "aX92JLtnz7Io",
        "outputId": "da4d77d8-64f7-4c28-df4b-8a5e76b9083a"
      },
      "source": [
        "df2016.head()"
      ],
      "execution_count": null,
      "outputs": [
        {
          "output_type": "execute_result",
          "data": {
            "text/html": [
              "<div>\n",
              "<style scoped>\n",
              "    .dataframe tbody tr th:only-of-type {\n",
              "        vertical-align: middle;\n",
              "    }\n",
              "\n",
              "    .dataframe tbody tr th {\n",
              "        vertical-align: top;\n",
              "    }\n",
              "\n",
              "    .dataframe thead th {\n",
              "        text-align: right;\n",
              "    }\n",
              "</style>\n",
              "<table border=\"1\" class=\"dataframe\">\n",
              "  <thead>\n",
              "    <tr style=\"text-align: right;\">\n",
              "      <th></th>\n",
              "      <th>실거래가아이디</th>\n",
              "      <th>지번코드</th>\n",
              "      <th>시군구코드</th>\n",
              "      <th>자치구명</th>\n",
              "      <th>법정동코드</th>\n",
              "      <th>법정동명</th>\n",
              "      <th>신고년도</th>\n",
              "      <th>업무구분코드</th>\n",
              "      <th>업무구분</th>\n",
              "      <th>물건번호</th>\n",
              "      <th>대지권면적</th>\n",
              "      <th>건물면적</th>\n",
              "      <th>관리구분코드</th>\n",
              "      <th>층정보</th>\n",
              "      <th>건물주용도코드</th>\n",
              "      <th>건물주용도</th>\n",
              "      <th>물건금액</th>\n",
              "      <th>건축년도</th>\n",
              "      <th>건물명</th>\n",
              "    </tr>\n",
              "  </thead>\n",
              "  <tbody>\n",
              "    <tr>\n",
              "      <th>0</th>\n",
              "      <td>11260-2016-4-0006319-1</td>\n",
              "      <td>1126010400</td>\n",
              "      <td>11260</td>\n",
              "      <td>중랑구</td>\n",
              "      <td>1126010400</td>\n",
              "      <td>묵동</td>\n",
              "      <td>2016</td>\n",
              "      <td>4</td>\n",
              "      <td>신고</td>\n",
              "      <td>1</td>\n",
              "      <td>105.8</td>\n",
              "      <td>85.78</td>\n",
              "      <td>0.0</td>\n",
              "      <td>NaN</td>\n",
              "      <td>1001</td>\n",
              "      <td>단독주택</td>\n",
              "      <td>352000000</td>\n",
              "      <td>1975.0</td>\n",
              "      <td>NaN</td>\n",
              "    </tr>\n",
              "    <tr>\n",
              "      <th>1</th>\n",
              "      <td>11560-2016-4-0009323-1</td>\n",
              "      <td>1156011300100020006</td>\n",
              "      <td>11560</td>\n",
              "      <td>영등포구</td>\n",
              "      <td>1156011300</td>\n",
              "      <td>당산동3가</td>\n",
              "      <td>2016</td>\n",
              "      <td>4</td>\n",
              "      <td>신고</td>\n",
              "      <td>1</td>\n",
              "      <td>NaN</td>\n",
              "      <td>84.93</td>\n",
              "      <td>0.0</td>\n",
              "      <td>11.0</td>\n",
              "      <td>2001</td>\n",
              "      <td>아파트</td>\n",
              "      <td>450000000</td>\n",
              "      <td>1986.0</td>\n",
              "      <td>한양</td>\n",
              "    </tr>\n",
              "    <tr>\n",
              "      <th>2</th>\n",
              "      <td>11590-2016-4-0011889-1</td>\n",
              "      <td>1159010400</td>\n",
              "      <td>11590</td>\n",
              "      <td>동작구</td>\n",
              "      <td>1159010400</td>\n",
              "      <td>본동</td>\n",
              "      <td>2016</td>\n",
              "      <td>4</td>\n",
              "      <td>신고</td>\n",
              "      <td>1</td>\n",
              "      <td>170.3</td>\n",
              "      <td>240.00</td>\n",
              "      <td>0.0</td>\n",
              "      <td>NaN</td>\n",
              "      <td>1001</td>\n",
              "      <td>단독주택</td>\n",
              "      <td>874000000</td>\n",
              "      <td>1991.0</td>\n",
              "      <td>NaN</td>\n",
              "    </tr>\n",
              "    <tr>\n",
              "      <th>3</th>\n",
              "      <td>11560-2016-4-0009321-1</td>\n",
              "      <td>1156011400100910000</td>\n",
              "      <td>11560</td>\n",
              "      <td>영등포구</td>\n",
              "      <td>1156011400</td>\n",
              "      <td>당산동4가</td>\n",
              "      <td>2016</td>\n",
              "      <td>4</td>\n",
              "      <td>신고</td>\n",
              "      <td>1</td>\n",
              "      <td>NaN</td>\n",
              "      <td>73.98</td>\n",
              "      <td>0.0</td>\n",
              "      <td>10.0</td>\n",
              "      <td>2001</td>\n",
              "      <td>아파트</td>\n",
              "      <td>500000000</td>\n",
              "      <td>1983.0</td>\n",
              "      <td>유원제일</td>\n",
              "    </tr>\n",
              "    <tr>\n",
              "      <th>4</th>\n",
              "      <td>11350-2016-4-0008855-1</td>\n",
              "      <td>1135010200104360000</td>\n",
              "      <td>11350</td>\n",
              "      <td>노원구</td>\n",
              "      <td>1135010200</td>\n",
              "      <td>월계동</td>\n",
              "      <td>2016</td>\n",
              "      <td>4</td>\n",
              "      <td>신고</td>\n",
              "      <td>1</td>\n",
              "      <td>NaN</td>\n",
              "      <td>71.83</td>\n",
              "      <td>0.0</td>\n",
              "      <td>3.0</td>\n",
              "      <td>2001</td>\n",
              "      <td>아파트</td>\n",
              "      <td>241000000</td>\n",
              "      <td>1983.0</td>\n",
              "      <td>동신</td>\n",
              "    </tr>\n",
              "  </tbody>\n",
              "</table>\n",
              "</div>"
            ],
            "text/plain": [
              "                  실거래가아이디                 지번코드  시군구코드  ...       물건금액    건축년도   건물명\n",
              "0  11260-2016-4-0006319-1           1126010400  11260  ...  352000000  1975.0   NaN\n",
              "1  11560-2016-4-0009323-1  1156011300100020006  11560  ...  450000000  1986.0    한양\n",
              "2  11590-2016-4-0011889-1           1159010400  11590  ...  874000000  1991.0   NaN\n",
              "3  11560-2016-4-0009321-1  1156011400100910000  11560  ...  500000000  1983.0  유원제일\n",
              "4  11350-2016-4-0008855-1  1135010200104360000  11350  ...  241000000  1983.0    동신\n",
              "\n",
              "[5 rows x 19 columns]"
            ]
          },
          "metadata": {
            "tags": []
          },
          "execution_count": 153
        }
      ]
    },
    {
      "cell_type": "code",
      "metadata": {
        "id": "iZPRhkCm0Be4"
      },
      "source": [
        "df2016_y = df2016['물건금액']\n",
        "df2017_y = df2017['물건금액']\n",
        "df2018_y = df2018['물건금액']\n",
        "df2019_y = df2019['물건금액']\n",
        "df2020_y = df2020['물건금액']"
      ],
      "execution_count": null,
      "outputs": []
    },
    {
      "cell_type": "code",
      "metadata": {
        "colab": {
          "base_uri": "https://localhost:8080/"
        },
        "id": "MVunkNMR00Bf",
        "outputId": "ec2abb77-feb2-40e7-9353-95f437ed3cc0"
      },
      "source": [
        "from scipy import stats\n",
        "\n",
        "t,p = stats.ttest_ind(df2019_y, df2020_y)\n",
        "p"
      ],
      "execution_count": null,
      "outputs": [
        {
          "output_type": "execute_result",
          "data": {
            "text/plain": [
              "0.01045156955405993"
            ]
          },
          "metadata": {
            "tags": []
          },
          "execution_count": 155
        }
      ]
    },
    {
      "cell_type": "code",
      "metadata": {
        "colab": {
          "base_uri": "https://localhost:8080/"
        },
        "id": "zo6L3fN61BXY",
        "outputId": "ad203734-9375-4ade-bc35-7fd95dc81c88"
      },
      "source": [
        "t,p = stats.ttest_ind(df2017_y, df2018_y)\n",
        "p"
      ],
      "execution_count": null,
      "outputs": [
        {
          "output_type": "execute_result",
          "data": {
            "text/plain": [
              "6.62728522258819e-143"
            ]
          },
          "metadata": {
            "tags": []
          },
          "execution_count": 156
        }
      ]
    },
    {
      "cell_type": "code",
      "metadata": {
        "id": "Wk62SxWpEQlY"
      },
      "source": [
        "# 데이터 병합\n",
        "df = pd.concat([df2016,df2017,df2018,df2019,df2020])"
      ],
      "execution_count": null,
      "outputs": []
    },
    {
      "cell_type": "code",
      "metadata": {
        "colab": {
          "base_uri": "https://localhost:8080/"
        },
        "id": "XKbyltPrzY66",
        "outputId": "881697c3-40c1-4698-a060-b55a077b9752"
      },
      "source": [
        "df.groupby('신고년도')['물건금액'].mean()"
      ],
      "execution_count": null,
      "outputs": [
        {
          "output_type": "execute_result",
          "data": {
            "text/plain": [
              "신고년도\n",
              "2016    4.579605e+08\n",
              "2017    5.089292e+08\n",
              "2018    5.493487e+08\n",
              "2019    6.225494e+08\n",
              "2020    6.283288e+08\n",
              "Name: 물건금액, dtype: float64"
            ]
          },
          "metadata": {
            "tags": []
          },
          "execution_count": 158
        }
      ]
    },
    {
      "cell_type": "code",
      "metadata": {
        "colab": {
          "base_uri": "https://localhost:8080/"
        },
        "id": "TPP0PcaqoW3Q",
        "outputId": "513003c0-bc47-4a36-bc08-089cce07c876"
      },
      "source": [
        "df.shape"
      ],
      "execution_count": null,
      "outputs": [
        {
          "output_type": "execute_result",
          "data": {
            "text/plain": [
              "(869209, 20)"
            ]
          },
          "metadata": {
            "tags": []
          },
          "execution_count": 159
        }
      ]
    },
    {
      "cell_type": "code",
      "metadata": {
        "colab": {
          "base_uri": "https://localhost:8080/",
          "height": 615
        },
        "id": "wk5mNBw8FRpQ",
        "outputId": "da971ce3-07cd-4765-9df2-ff76d1e6a533"
      },
      "source": [
        "df.head()"
      ],
      "execution_count": null,
      "outputs": [
        {
          "output_type": "execute_result",
          "data": {
            "text/html": [
              "<div>\n",
              "<style scoped>\n",
              "    .dataframe tbody tr th:only-of-type {\n",
              "        vertical-align: middle;\n",
              "    }\n",
              "\n",
              "    .dataframe tbody tr th {\n",
              "        vertical-align: top;\n",
              "    }\n",
              "\n",
              "    .dataframe thead th {\n",
              "        text-align: right;\n",
              "    }\n",
              "</style>\n",
              "<table border=\"1\" class=\"dataframe\">\n",
              "  <thead>\n",
              "    <tr style=\"text-align: right;\">\n",
              "      <th></th>\n",
              "      <th>실거래가아이디</th>\n",
              "      <th>지번코드</th>\n",
              "      <th>시군구코드</th>\n",
              "      <th>자치구명</th>\n",
              "      <th>법정동코드</th>\n",
              "      <th>법정동명</th>\n",
              "      <th>신고년도</th>\n",
              "      <th>업무구분코드</th>\n",
              "      <th>업무구분</th>\n",
              "      <th>물건번호</th>\n",
              "      <th>대지권면적</th>\n",
              "      <th>건물면적</th>\n",
              "      <th>관리구분코드</th>\n",
              "      <th>층정보</th>\n",
              "      <th>건물주용도코드</th>\n",
              "      <th>건물주용도</th>\n",
              "      <th>물건금액</th>\n",
              "      <th>건축년도</th>\n",
              "      <th>건물명</th>\n",
              "      <th>실거래가아이디\"</th>\n",
              "    </tr>\n",
              "  </thead>\n",
              "  <tbody>\n",
              "    <tr>\n",
              "      <th>0</th>\n",
              "      <td>11260-2016-4-0006319-1</td>\n",
              "      <td>1126010400</td>\n",
              "      <td>11260</td>\n",
              "      <td>중랑구</td>\n",
              "      <td>1126010400</td>\n",
              "      <td>묵동</td>\n",
              "      <td>2016</td>\n",
              "      <td>4</td>\n",
              "      <td>신고</td>\n",
              "      <td>1</td>\n",
              "      <td>105.8</td>\n",
              "      <td>85.78</td>\n",
              "      <td>0</td>\n",
              "      <td>NaN</td>\n",
              "      <td>1001</td>\n",
              "      <td>단독주택</td>\n",
              "      <td>352000000</td>\n",
              "      <td>1975.0</td>\n",
              "      <td>NaN</td>\n",
              "      <td>NaN</td>\n",
              "    </tr>\n",
              "    <tr>\n",
              "      <th>1</th>\n",
              "      <td>11560-2016-4-0009323-1</td>\n",
              "      <td>1156011300100020006</td>\n",
              "      <td>11560</td>\n",
              "      <td>영등포구</td>\n",
              "      <td>1156011300</td>\n",
              "      <td>당산동3가</td>\n",
              "      <td>2016</td>\n",
              "      <td>4</td>\n",
              "      <td>신고</td>\n",
              "      <td>1</td>\n",
              "      <td>NaN</td>\n",
              "      <td>84.93</td>\n",
              "      <td>0</td>\n",
              "      <td>11.0</td>\n",
              "      <td>2001</td>\n",
              "      <td>아파트</td>\n",
              "      <td>450000000</td>\n",
              "      <td>1986.0</td>\n",
              "      <td>한양</td>\n",
              "      <td>NaN</td>\n",
              "    </tr>\n",
              "    <tr>\n",
              "      <th>2</th>\n",
              "      <td>11590-2016-4-0011889-1</td>\n",
              "      <td>1159010400</td>\n",
              "      <td>11590</td>\n",
              "      <td>동작구</td>\n",
              "      <td>1159010400</td>\n",
              "      <td>본동</td>\n",
              "      <td>2016</td>\n",
              "      <td>4</td>\n",
              "      <td>신고</td>\n",
              "      <td>1</td>\n",
              "      <td>170.3</td>\n",
              "      <td>240.00</td>\n",
              "      <td>0</td>\n",
              "      <td>NaN</td>\n",
              "      <td>1001</td>\n",
              "      <td>단독주택</td>\n",
              "      <td>874000000</td>\n",
              "      <td>1991.0</td>\n",
              "      <td>NaN</td>\n",
              "      <td>NaN</td>\n",
              "    </tr>\n",
              "    <tr>\n",
              "      <th>3</th>\n",
              "      <td>11560-2016-4-0009321-1</td>\n",
              "      <td>1156011400100910000</td>\n",
              "      <td>11560</td>\n",
              "      <td>영등포구</td>\n",
              "      <td>1156011400</td>\n",
              "      <td>당산동4가</td>\n",
              "      <td>2016</td>\n",
              "      <td>4</td>\n",
              "      <td>신고</td>\n",
              "      <td>1</td>\n",
              "      <td>NaN</td>\n",
              "      <td>73.98</td>\n",
              "      <td>0</td>\n",
              "      <td>10.0</td>\n",
              "      <td>2001</td>\n",
              "      <td>아파트</td>\n",
              "      <td>500000000</td>\n",
              "      <td>1983.0</td>\n",
              "      <td>유원제일</td>\n",
              "      <td>NaN</td>\n",
              "    </tr>\n",
              "    <tr>\n",
              "      <th>4</th>\n",
              "      <td>11350-2016-4-0008855-1</td>\n",
              "      <td>1135010200104360000</td>\n",
              "      <td>11350</td>\n",
              "      <td>노원구</td>\n",
              "      <td>1135010200</td>\n",
              "      <td>월계동</td>\n",
              "      <td>2016</td>\n",
              "      <td>4</td>\n",
              "      <td>신고</td>\n",
              "      <td>1</td>\n",
              "      <td>NaN</td>\n",
              "      <td>71.83</td>\n",
              "      <td>0</td>\n",
              "      <td>3.0</td>\n",
              "      <td>2001</td>\n",
              "      <td>아파트</td>\n",
              "      <td>241000000</td>\n",
              "      <td>1983.0</td>\n",
              "      <td>동신</td>\n",
              "      <td>NaN</td>\n",
              "    </tr>\n",
              "  </tbody>\n",
              "</table>\n",
              "</div>"
            ],
            "text/plain": [
              "                  실거래가아이디                 지번코드  시군구코드  ...    건축년도   건물명 실거래가아이디\"\n",
              "0  11260-2016-4-0006319-1           1126010400  11260  ...  1975.0   NaN      NaN\n",
              "1  11560-2016-4-0009323-1  1156011300100020006  11560  ...  1986.0    한양      NaN\n",
              "2  11590-2016-4-0011889-1           1159010400  11590  ...  1991.0   NaN      NaN\n",
              "3  11560-2016-4-0009321-1  1156011400100910000  11560  ...  1983.0  유원제일      NaN\n",
              "4  11350-2016-4-0008855-1  1135010200104360000  11350  ...  1983.0    동신      NaN\n",
              "\n",
              "[5 rows x 20 columns]"
            ]
          },
          "metadata": {
            "tags": []
          },
          "execution_count": 160
        }
      ]
    },
    {
      "cell_type": "code",
      "metadata": {
        "colab": {
          "base_uri": "https://localhost:8080/"
        },
        "id": "4Vw5LqkXwzDm",
        "outputId": "f2000724-b4a5-4749-8d7c-8fc8861199be"
      },
      "source": [
        "df.info()"
      ],
      "execution_count": null,
      "outputs": [
        {
          "output_type": "stream",
          "text": [
            "<class 'pandas.core.frame.DataFrame'>\n",
            "Int64Index: 869209 entries, 0 to 176000\n",
            "Data columns (total 20 columns):\n",
            " #   Column    Non-Null Count   Dtype  \n",
            "---  ------    --------------   -----  \n",
            " 0   실거래가아이디   738937 non-null  object \n",
            " 1   지번코드      869209 non-null  object \n",
            " 2   시군구코드     869209 non-null  int64  \n",
            " 3   자치구명      869209 non-null  object \n",
            " 4   법정동코드     869209 non-null  int64  \n",
            " 5   법정동명      869209 non-null  object \n",
            " 6   신고년도      869209 non-null  int64  \n",
            " 7   업무구분코드    869209 non-null  int64  \n",
            " 8   업무구분      869209 non-null  object \n",
            " 9   물건번호      869209 non-null  int64  \n",
            " 10  대지권면적     476229 non-null  float64\n",
            " 11  건물면적      869209 non-null  float64\n",
            " 12  관리구분코드    869208 non-null  object \n",
            " 13  층정보       797450 non-null  float64\n",
            " 14  건물주용도코드   869209 non-null  int64  \n",
            " 15  건물주용도     869209 non-null  object \n",
            " 16  물건금액      869209 non-null  int64  \n",
            " 17  건축년도      867764 non-null  float64\n",
            " 18  건물명       797450 non-null  object \n",
            " 19  실거래가아이디\"  130272 non-null  object \n",
            "dtypes: float64(4), int64(7), object(9)\n",
            "memory usage: 139.3+ MB\n"
          ],
          "name": "stdout"
        }
      ]
    },
    {
      "cell_type": "code",
      "metadata": {
        "colab": {
          "base_uri": "https://localhost:8080/"
        },
        "id": "LaBWl1p-1zF_",
        "outputId": "8fe988c5-b8f3-4c57-ac11-0367d97705e0"
      },
      "source": [
        "# 데이터의 종류확인\n",
        "df['물건번호'].value_counts(dropna = False)"
      ],
      "execution_count": null,
      "outputs": [
        {
          "output_type": "execute_result",
          "data": {
            "text/plain": [
              "1      836129\n",
              "2        3058\n",
              "3        2757\n",
              "4        2644\n",
              "5        2528\n",
              "        ...  \n",
              "303         1\n",
              "304         1\n",
              "305         1\n",
              "306         1\n",
              "0           1\n",
              "Name: 물건번호, Length: 476, dtype: int64"
            ]
          },
          "metadata": {
            "tags": []
          },
          "execution_count": 162
        }
      ]
    },
    {
      "cell_type": "code",
      "metadata": {
        "colab": {
          "base_uri": "https://localhost:8080/"
        },
        "id": "_D3jtcgeUvwP",
        "outputId": "491df003-55ec-47c4-c93e-2a8570c80d1b"
      },
      "source": [
        "# 데이터의 종류확인\n",
        "df['관리구분코드'].value_counts(dropna = False)"
      ],
      "execution_count": null,
      "outputs": [
        {
          "output_type": "execute_result",
          "data": {
            "text/plain": [
              "0      644904\n",
              "0.0    199689\n",
              "1        6829\n",
              "1.0      6748\n",
              "2        5526\n",
              "2.0      3135\n",
              "B        1306\n",
              "A        1071\n",
              "NaN         1\n",
              "Name: 관리구분코드, dtype: int64"
            ]
          },
          "metadata": {
            "tags": []
          },
          "execution_count": 163
        }
      ]
    },
    {
      "cell_type": "code",
      "metadata": {
        "colab": {
          "base_uri": "https://localhost:8080/"
        },
        "id": "kQJyNG2Fw0w7",
        "outputId": "63110270-8a0c-40e9-e58d-7cbc89bfa43e"
      },
      "source": [
        "# 결측치 확인\n",
        "df.isnull().sum()"
      ],
      "execution_count": null,
      "outputs": [
        {
          "output_type": "execute_result",
          "data": {
            "text/plain": [
              "실거래가아이디     130272\n",
              "지번코드             0\n",
              "시군구코드            0\n",
              "자치구명             0\n",
              "법정동코드            0\n",
              "법정동명             0\n",
              "신고년도             0\n",
              "업무구분코드           0\n",
              "업무구분             0\n",
              "물건번호             0\n",
              "대지권면적       392980\n",
              "건물면적             0\n",
              "관리구분코드           1\n",
              "층정보          71759\n",
              "건물주용도코드          0\n",
              "건물주용도            0\n",
              "물건금액             0\n",
              "건축년도          1445\n",
              "건물명          71759\n",
              "실거래가아이디\"    738937\n",
              "dtype: int64"
            ]
          },
          "metadata": {
            "tags": []
          },
          "execution_count": 164
        }
      ]
    },
    {
      "cell_type": "code",
      "metadata": {
        "colab": {
          "base_uri": "https://localhost:8080/",
          "height": 419
        },
        "id": "3fhhgnioALlx",
        "outputId": "541bd429-bdc5-4d24-a663-87a0d9f14e13"
      },
      "source": [
        "# columns 삭제\n",
        "df = df.drop(columns=['실거래가아이디', '지번코드', '시군구코드', '법정동코드', '법정동명', '업무구분코드', '업무구분', '대지권면적','물건번호', '관리구분코드', '건물주용도코드', '건축년도', '건물명', '실거래가아이디\"'])\n",
        "df"
      ],
      "execution_count": null,
      "outputs": [
        {
          "output_type": "execute_result",
          "data": {
            "text/html": [
              "<div>\n",
              "<style scoped>\n",
              "    .dataframe tbody tr th:only-of-type {\n",
              "        vertical-align: middle;\n",
              "    }\n",
              "\n",
              "    .dataframe tbody tr th {\n",
              "        vertical-align: top;\n",
              "    }\n",
              "\n",
              "    .dataframe thead th {\n",
              "        text-align: right;\n",
              "    }\n",
              "</style>\n",
              "<table border=\"1\" class=\"dataframe\">\n",
              "  <thead>\n",
              "    <tr style=\"text-align: right;\">\n",
              "      <th></th>\n",
              "      <th>자치구명</th>\n",
              "      <th>신고년도</th>\n",
              "      <th>건물면적</th>\n",
              "      <th>층정보</th>\n",
              "      <th>건물주용도</th>\n",
              "      <th>물건금액</th>\n",
              "    </tr>\n",
              "  </thead>\n",
              "  <tbody>\n",
              "    <tr>\n",
              "      <th>0</th>\n",
              "      <td>중랑구</td>\n",
              "      <td>2016</td>\n",
              "      <td>85.78</td>\n",
              "      <td>NaN</td>\n",
              "      <td>단독주택</td>\n",
              "      <td>352000000</td>\n",
              "    </tr>\n",
              "    <tr>\n",
              "      <th>1</th>\n",
              "      <td>영등포구</td>\n",
              "      <td>2016</td>\n",
              "      <td>84.93</td>\n",
              "      <td>11.0</td>\n",
              "      <td>아파트</td>\n",
              "      <td>450000000</td>\n",
              "    </tr>\n",
              "    <tr>\n",
              "      <th>2</th>\n",
              "      <td>동작구</td>\n",
              "      <td>2016</td>\n",
              "      <td>240.00</td>\n",
              "      <td>NaN</td>\n",
              "      <td>단독주택</td>\n",
              "      <td>874000000</td>\n",
              "    </tr>\n",
              "    <tr>\n",
              "      <th>3</th>\n",
              "      <td>영등포구</td>\n",
              "      <td>2016</td>\n",
              "      <td>73.98</td>\n",
              "      <td>10.0</td>\n",
              "      <td>아파트</td>\n",
              "      <td>500000000</td>\n",
              "    </tr>\n",
              "    <tr>\n",
              "      <th>4</th>\n",
              "      <td>노원구</td>\n",
              "      <td>2016</td>\n",
              "      <td>71.83</td>\n",
              "      <td>3.0</td>\n",
              "      <td>아파트</td>\n",
              "      <td>241000000</td>\n",
              "    </tr>\n",
              "    <tr>\n",
              "      <th>...</th>\n",
              "      <td>...</td>\n",
              "      <td>...</td>\n",
              "      <td>...</td>\n",
              "      <td>...</td>\n",
              "      <td>...</td>\n",
              "      <td>...</td>\n",
              "    </tr>\n",
              "    <tr>\n",
              "      <th>175996</th>\n",
              "      <td>마포구</td>\n",
              "      <td>2020</td>\n",
              "      <td>294.03</td>\n",
              "      <td>NaN</td>\n",
              "      <td>단독주택</td>\n",
              "      <td>1450000000</td>\n",
              "    </tr>\n",
              "    <tr>\n",
              "      <th>175997</th>\n",
              "      <td>마포구</td>\n",
              "      <td>2020</td>\n",
              "      <td>147.34</td>\n",
              "      <td>NaN</td>\n",
              "      <td>단독주택</td>\n",
              "      <td>2430000000</td>\n",
              "    </tr>\n",
              "    <tr>\n",
              "      <th>175998</th>\n",
              "      <td>마포구</td>\n",
              "      <td>2020</td>\n",
              "      <td>46.77</td>\n",
              "      <td>3.0</td>\n",
              "      <td>연립주택</td>\n",
              "      <td>405000000</td>\n",
              "    </tr>\n",
              "    <tr>\n",
              "      <th>175999</th>\n",
              "      <td>마포구</td>\n",
              "      <td>2020</td>\n",
              "      <td>46.41</td>\n",
              "      <td>NaN</td>\n",
              "      <td>단독주택</td>\n",
              "      <td>899900000</td>\n",
              "    </tr>\n",
              "    <tr>\n",
              "      <th>176000</th>\n",
              "      <td>마포구</td>\n",
              "      <td>2020</td>\n",
              "      <td>25.69</td>\n",
              "      <td>NaN</td>\n",
              "      <td>단독주택</td>\n",
              "      <td>1358000000</td>\n",
              "    </tr>\n",
              "  </tbody>\n",
              "</table>\n",
              "<p>869209 rows × 6 columns</p>\n",
              "</div>"
            ],
            "text/plain": [
              "        자치구명  신고년도    건물면적   층정보 건물주용도        물건금액\n",
              "0        중랑구  2016   85.78   NaN  단독주택   352000000\n",
              "1       영등포구  2016   84.93  11.0   아파트   450000000\n",
              "2        동작구  2016  240.00   NaN  단독주택   874000000\n",
              "3       영등포구  2016   73.98  10.0   아파트   500000000\n",
              "4        노원구  2016   71.83   3.0   아파트   241000000\n",
              "...      ...   ...     ...   ...   ...         ...\n",
              "175996   마포구  2020  294.03   NaN  단독주택  1450000000\n",
              "175997   마포구  2020  147.34   NaN  단독주택  2430000000\n",
              "175998   마포구  2020   46.77   3.0  연립주택   405000000\n",
              "175999   마포구  2020   46.41   NaN  단독주택   899900000\n",
              "176000   마포구  2020   25.69   NaN  단독주택  1358000000\n",
              "\n",
              "[869209 rows x 6 columns]"
            ]
          },
          "metadata": {
            "tags": []
          },
          "execution_count": 165
        }
      ]
    },
    {
      "cell_type": "code",
      "metadata": {
        "colab": {
          "base_uri": "https://localhost:8080/"
        },
        "id": "qQxJ7r8gP2es",
        "outputId": "25d71f1b-93f3-4379-bf1e-5e7cbafa12fa"
      },
      "source": [
        "# 결측치 확인\n",
        "df.isnull().sum()"
      ],
      "execution_count": null,
      "outputs": [
        {
          "output_type": "execute_result",
          "data": {
            "text/plain": [
              "자치구명         0\n",
              "신고년도         0\n",
              "건물면적         0\n",
              "층정보      71759\n",
              "건물주용도        0\n",
              "물건금액         0\n",
              "dtype: int64"
            ]
          },
          "metadata": {
            "tags": []
          },
          "execution_count": 166
        }
      ]
    },
    {
      "cell_type": "code",
      "metadata": {
        "colab": {
          "base_uri": "https://localhost:8080/"
        },
        "id": "FUp7U1scQCSK",
        "outputId": "466206c4-3e88-4ced-a144-814a841c34c2"
      },
      "source": [
        "df[(df.isnull()['층정보'])]['건물주용도'].value_counts(normalize=True)"
      ],
      "execution_count": null,
      "outputs": [
        {
          "output_type": "execute_result",
          "data": {
            "text/plain": [
              "단독주택    1.0\n",
              "Name: 건물주용도, dtype: float64"
            ]
          },
          "metadata": {
            "tags": []
          },
          "execution_count": 167
        }
      ]
    },
    {
      "cell_type": "code",
      "metadata": {
        "colab": {
          "base_uri": "https://localhost:8080/"
        },
        "id": "3eNrUtAjaw-N",
        "outputId": "e7747d9d-d0f4-4b3e-83e2-f6cdd7e680bc"
      },
      "source": [
        "df[(df.건물주용도 == '단독주택')].물건금액.mean()"
      ],
      "execution_count": null,
      "outputs": [
        {
          "output_type": "execute_result",
          "data": {
            "text/plain": [
              "919411529.4248805"
            ]
          },
          "metadata": {
            "tags": []
          },
          "execution_count": 168
        }
      ]
    },
    {
      "cell_type": "code",
      "metadata": {
        "colab": {
          "base_uri": "https://localhost:8080/"
        },
        "id": "S1Ejhy1FdSuA",
        "outputId": "edd8c6c8-7682-4e33-fde8-a50f8383f3b4"
      },
      "source": [
        "df.물건금액.describe()"
      ],
      "execution_count": null,
      "outputs": [
        {
          "output_type": "execute_result",
          "data": {
            "text/plain": [
              "count    8.692090e+05\n",
              "mean     5.455466e+08\n",
              "std      5.137485e+08\n",
              "min      3.500000e+06\n",
              "25%      2.400000e+08\n",
              "50%      4.050000e+08\n",
              "75%      6.750000e+08\n",
              "max      2.914000e+10\n",
              "Name: 물건금액, dtype: float64"
            ]
          },
          "metadata": {
            "tags": []
          },
          "execution_count": 169
        }
      ]
    },
    {
      "cell_type": "code",
      "metadata": {
        "colab": {
          "base_uri": "https://localhost:8080/"
        },
        "id": "05a3cAF0bL7Q",
        "outputId": "5815d328-9d4a-4db0-bf6b-0cccfebb9ada"
      },
      "source": [
        "np.percentile(df.물건금액, 86.5)"
      ],
      "execution_count": null,
      "outputs": [
        {
          "output_type": "execute_result",
          "data": {
            "text/plain": [
              "913000000.0"
            ]
          },
          "metadata": {
            "tags": []
          },
          "execution_count": 170
        }
      ]
    },
    {
      "cell_type": "code",
      "metadata": {
        "colab": {
          "base_uri": "https://localhost:8080/"
        },
        "id": "elTaWdfIdmyt",
        "outputId": "51a4943d-ff99-45dd-b61b-ec2b542e7acf"
      },
      "source": [
        "df.층정보.describe()"
      ],
      "execution_count": null,
      "outputs": [
        {
          "output_type": "execute_result",
          "data": {
            "text/plain": [
              "count    797450.000000\n",
              "mean          7.076708\n",
              "std           6.015597\n",
              "min          -3.000000\n",
              "25%           3.000000\n",
              "50%           5.000000\n",
              "75%          10.000000\n",
              "max          73.000000\n",
              "Name: 층정보, dtype: float64"
            ]
          },
          "metadata": {
            "tags": []
          },
          "execution_count": 171
        }
      ]
    },
    {
      "cell_type": "code",
      "metadata": {
        "id": "fDjjfhnsq9FD"
      },
      "source": [
        "df.층정보.fillna(14 , inplace = True)"
      ],
      "execution_count": null,
      "outputs": []
    },
    {
      "cell_type": "code",
      "metadata": {
        "id": "rjCMFUHqr3h9"
      },
      "source": [
        "df = df.dropna()"
      ],
      "execution_count": null,
      "outputs": []
    },
    {
      "cell_type": "code",
      "metadata": {
        "colab": {
          "base_uri": "https://localhost:8080/"
        },
        "id": "8GBGP_Qhc-y3",
        "outputId": "64ae14c1-f9c3-4593-85fa-ecd8ce54e477"
      },
      "source": [
        "np.percentile(df.층정보, 86.5)"
      ],
      "execution_count": null,
      "outputs": [
        {
          "output_type": "execute_result",
          "data": {
            "text/plain": [
              "14.0"
            ]
          },
          "metadata": {
            "tags": []
          },
          "execution_count": 174
        }
      ]
    },
    {
      "cell_type": "markdown",
      "metadata": {
        "id": "_UC1WofOHlq5"
      },
      "source": [
        "# 데이터 분할"
      ]
    },
    {
      "cell_type": "code",
      "metadata": {
        "id": "iTBe-zqACph8"
      },
      "source": [
        "train = df"
      ],
      "execution_count": null,
      "outputs": []
    },
    {
      "cell_type": "code",
      "metadata": {
        "colab": {
          "base_uri": "https://localhost:8080/",
          "height": 173
        },
        "id": "OLx9BorIgFZi",
        "outputId": "6b3c378b-9c93-443f-98a1-c5976381c32e"
      },
      "source": [
        "train.corr()"
      ],
      "execution_count": null,
      "outputs": [
        {
          "output_type": "execute_result",
          "data": {
            "text/html": [
              "<div>\n",
              "<style scoped>\n",
              "    .dataframe tbody tr th:only-of-type {\n",
              "        vertical-align: middle;\n",
              "    }\n",
              "\n",
              "    .dataframe tbody tr th {\n",
              "        vertical-align: top;\n",
              "    }\n",
              "\n",
              "    .dataframe thead th {\n",
              "        text-align: right;\n",
              "    }\n",
              "</style>\n",
              "<table border=\"1\" class=\"dataframe\">\n",
              "  <thead>\n",
              "    <tr style=\"text-align: right;\">\n",
              "      <th></th>\n",
              "      <th>신고년도</th>\n",
              "      <th>건물면적</th>\n",
              "      <th>층정보</th>\n",
              "      <th>물건금액</th>\n",
              "    </tr>\n",
              "  </thead>\n",
              "  <tbody>\n",
              "    <tr>\n",
              "      <th>신고년도</th>\n",
              "      <td>1.000000</td>\n",
              "      <td>-0.039959</td>\n",
              "      <td>-0.031842</td>\n",
              "      <td>0.127290</td>\n",
              "    </tr>\n",
              "    <tr>\n",
              "      <th>건물면적</th>\n",
              "      <td>-0.039959</td>\n",
              "      <td>1.000000</td>\n",
              "      <td>0.289476</td>\n",
              "      <td>0.626202</td>\n",
              "    </tr>\n",
              "    <tr>\n",
              "      <th>층정보</th>\n",
              "      <td>-0.031842</td>\n",
              "      <td>0.289476</td>\n",
              "      <td>1.000000</td>\n",
              "      <td>0.318199</td>\n",
              "    </tr>\n",
              "    <tr>\n",
              "      <th>물건금액</th>\n",
              "      <td>0.127290</td>\n",
              "      <td>0.626202</td>\n",
              "      <td>0.318199</td>\n",
              "      <td>1.000000</td>\n",
              "    </tr>\n",
              "  </tbody>\n",
              "</table>\n",
              "</div>"
            ],
            "text/plain": [
              "          신고년도      건물면적       층정보      물건금액\n",
              "신고년도  1.000000 -0.039959 -0.031842  0.127290\n",
              "건물면적 -0.039959  1.000000  0.289476  0.626202\n",
              "층정보  -0.031842  0.289476  1.000000  0.318199\n",
              "물건금액  0.127290  0.626202  0.318199  1.000000"
            ]
          },
          "metadata": {
            "tags": []
          },
          "execution_count": 176
        }
      ]
    },
    {
      "cell_type": "code",
      "metadata": {
        "colab": {
          "base_uri": "https://localhost:8080/"
        },
        "id": "E17maHicrL2P",
        "outputId": "af7e93f7-c883-4bb0-e597-b1cd96aa2bcf"
      },
      "source": [
        "train.shape"
      ],
      "execution_count": null,
      "outputs": [
        {
          "output_type": "execute_result",
          "data": {
            "text/plain": [
              "(869209, 6)"
            ]
          },
          "metadata": {
            "tags": []
          },
          "execution_count": 177
        }
      ]
    },
    {
      "cell_type": "code",
      "metadata": {
        "id": "sHcvyHMW3nqn"
      },
      "source": [
        "#train.T.duplicated()"
      ],
      "execution_count": null,
      "outputs": []
    },
    {
      "cell_type": "code",
      "metadata": {
        "id": "ffpFVSpN0TFu"
      },
      "source": [
        "from sklearn.model_selection import train_test_split\n",
        "\n",
        "train, test = train_test_split(train, train_size = 0.70, test_size = 0.30, \n",
        "                               random_state=1)"
      ],
      "execution_count": null,
      "outputs": []
    },
    {
      "cell_type": "code",
      "metadata": {
        "id": "wXHPklIc3Mir"
      },
      "source": [
        "train, val = train_test_split(train, train_size = 0.70, test_size = 0.30, \n",
        "                               random_state=1)"
      ],
      "execution_count": null,
      "outputs": []
    },
    {
      "cell_type": "code",
      "metadata": {
        "colab": {
          "base_uri": "https://localhost:8080/"
        },
        "id": "RywUz1Bs3Opf",
        "outputId": "c9855d5a-f151-48e4-e169-eeaf55a4d304"
      },
      "source": [
        "train.shape, val.shape, test.shape"
      ],
      "execution_count": null,
      "outputs": [
        {
          "output_type": "execute_result",
          "data": {
            "text/plain": [
              "((425912, 6), (182534, 6), (260763, 6))"
            ]
          },
          "metadata": {
            "tags": []
          },
          "execution_count": 181
        }
      ]
    },
    {
      "cell_type": "code",
      "metadata": {
        "colab": {
          "base_uri": "https://localhost:8080/"
        },
        "id": "_1Vu7F4xIBWd",
        "outputId": "16871f77-d87e-4453-d886-47ecca815cc8"
      },
      "source": [
        "train.shape, val.shape, test.shape"
      ],
      "execution_count": null,
      "outputs": [
        {
          "output_type": "execute_result",
          "data": {
            "text/plain": [
              "((425912, 6), (182534, 6), (260763, 6))"
            ]
          },
          "metadata": {
            "tags": []
          },
          "execution_count": 182
        }
      ]
    },
    {
      "cell_type": "code",
      "metadata": {
        "id": "mKFX6mKjHW9H"
      },
      "source": [
        "target = '물건금액'\n",
        "\n",
        "features = train.drop(columns=[target]).columns\n",
        "\n",
        "X_train = train[features]\n",
        "y_train = train[target]\n",
        "X_val = val[features]\n",
        "y_val = val[target]\n",
        "X_test = test[features]\n",
        "y_test = test[target]"
      ],
      "execution_count": null,
      "outputs": []
    },
    {
      "cell_type": "markdown",
      "metadata": {
        "id": "jQd7pI-LGe4c"
      },
      "source": [
        "# pipeline"
      ]
    },
    {
      "cell_type": "code",
      "metadata": {
        "id": "Sh1LXBRIsy4X"
      },
      "source": [
        "from category_encoders import OneHotEncoder\n",
        "from sklearn.pipeline import make_pipeline\n",
        "from sklearn.preprocessing import PolynomialFeatures\n",
        "from sklearn.linear_model import LinearRegression\n",
        "from sklearn.metrics import  r2_score\n",
        "from sklearn.preprocessing import StandardScaler\n",
        "from sklearn.preprocessing import MinMaxScaler\n",
        "\n"
      ],
      "execution_count": null,
      "outputs": []
    },
    {
      "cell_type": "code",
      "metadata": {
        "colab": {
          "base_uri": "https://localhost:8080/"
        },
        "id": "RF901dXlqcR1",
        "outputId": "23e299f7-9bce-485d-d9c3-8519fed3dddc"
      },
      "source": [
        "# 선형회귀(Linear Regression).StandardScaler()\n",
        "pipe = make_pipeline(\n",
        "    OneHotEncoder(use_cat_names=True), \n",
        "    StandardScaler(),\n",
        "    PolynomialFeatures(degree=1),\n",
        "    LinearRegression()\n",
        ")\n",
        "pipe.fit(X_train, y_train)\n",
        "\n",
        "print('훈련 정확도: ', pipe.score(X_train, y_train))\n",
        "print('검증 정확도: ', pipe.score(X_val, y_val))\n",
        "\n",
        "y_pred = pipe.predict(X_test)\n",
        "print('r2_score: ',r2_score(y_test, y_pred))"
      ],
      "execution_count": null,
      "outputs": [
        {
          "output_type": "stream",
          "text": [
            "훈련 정확도:  0.6382410470397828\n",
            "검증 정확도:  0.6385370811133019\n",
            "r2_score:  0.6438966784213538\n"
          ],
          "name": "stdout"
        }
      ]
    },
    {
      "cell_type": "code",
      "metadata": {
        "colab": {
          "base_uri": "https://localhost:8080/"
        },
        "id": "I5weqgLENsi0",
        "outputId": "a69576d7-6091-40f1-bcbb-620f7e5eef41"
      },
      "source": [
        "#다항회귀(Linear Regression).StandardScaler()\n",
        "pipe = make_pipeline(\n",
        "    OneHotEncoder(use_cat_names=True), \n",
        "    StandardScaler(),\n",
        "    PolynomialFeatures(degree=2),\n",
        "    LinearRegression()\n",
        ")\n",
        "pipe.fit(X_train, y_train)\n",
        "\n",
        "print('훈련 정확도: ', pipe.score(X_train, y_train))\n",
        "print('검증 정확도: ', pipe.score(X_val, y_val))\n",
        "\n",
        "y_pred = pipe.predict(X_test)\n",
        "print('r2_score: ',r2_score(y_test, y_pred))"
      ],
      "execution_count": null,
      "outputs": [
        {
          "output_type": "stream",
          "text": [
            "훈련 정확도:  0.7396391696941449\n",
            "검증 정확도:  0.7435564382405546\n",
            "r2_score:  0.7365667168363226\n"
          ],
          "name": "stdout"
        }
      ]
    }
  ]
}